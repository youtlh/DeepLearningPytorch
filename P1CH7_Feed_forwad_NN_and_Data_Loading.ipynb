{
  "nbformat": 4,
  "nbformat_minor": 0,
  "metadata": {
    "colab": {
      "provenance": [],
      "authorship_tag": "ABX9TyPB9xAndTy069ssz4y5ezXB",
      "include_colab_link": true
    },
    "kernelspec": {
      "name": "python3",
      "display_name": "Python 3"
    },
    "language_info": {
      "name": "python"
    },
    "widgets": {
      "application/vnd.jupyter.widget-state+json": {
        "5a8dfc0043df4c0d962e37fd9eff6b18": {
          "model_module": "@jupyter-widgets/controls",
          "model_name": "HBoxModel",
          "model_module_version": "1.5.0",
          "state": {
            "_dom_classes": [],
            "_model_module": "@jupyter-widgets/controls",
            "_model_module_version": "1.5.0",
            "_model_name": "HBoxModel",
            "_view_count": null,
            "_view_module": "@jupyter-widgets/controls",
            "_view_module_version": "1.5.0",
            "_view_name": "HBoxView",
            "box_style": "",
            "children": [
              "IPY_MODEL_2e5105ce16c44c87a61d667bd4434bbd",
              "IPY_MODEL_2964dcab88db4eb1bea1c4d857a5421d",
              "IPY_MODEL_2a00ea6f473c44d5bf49bcd522956834"
            ],
            "layout": "IPY_MODEL_7c196bf926ef403dbcea28564278810d"
          }
        },
        "2e5105ce16c44c87a61d667bd4434bbd": {
          "model_module": "@jupyter-widgets/controls",
          "model_name": "HTMLModel",
          "model_module_version": "1.5.0",
          "state": {
            "_dom_classes": [],
            "_model_module": "@jupyter-widgets/controls",
            "_model_module_version": "1.5.0",
            "_model_name": "HTMLModel",
            "_view_count": null,
            "_view_module": "@jupyter-widgets/controls",
            "_view_module_version": "1.5.0",
            "_view_name": "HTMLView",
            "description": "",
            "description_tooltip": null,
            "layout": "IPY_MODEL_b0e397df7fde435a9da3b5f7e3fa472e",
            "placeholder": "​",
            "style": "IPY_MODEL_ad89f3efd5df47ba82d1859aa3121600",
            "value": "100%"
          }
        },
        "2964dcab88db4eb1bea1c4d857a5421d": {
          "model_module": "@jupyter-widgets/controls",
          "model_name": "FloatProgressModel",
          "model_module_version": "1.5.0",
          "state": {
            "_dom_classes": [],
            "_model_module": "@jupyter-widgets/controls",
            "_model_module_version": "1.5.0",
            "_model_name": "FloatProgressModel",
            "_view_count": null,
            "_view_module": "@jupyter-widgets/controls",
            "_view_module_version": "1.5.0",
            "_view_name": "ProgressView",
            "bar_style": "success",
            "description": "",
            "description_tooltip": null,
            "layout": "IPY_MODEL_2436630c9d2541a9a223ae20559beefd",
            "max": 170498071,
            "min": 0,
            "orientation": "horizontal",
            "style": "IPY_MODEL_c69dcdee94c24b70a6029020e103850e",
            "value": 170498071
          }
        },
        "2a00ea6f473c44d5bf49bcd522956834": {
          "model_module": "@jupyter-widgets/controls",
          "model_name": "HTMLModel",
          "model_module_version": "1.5.0",
          "state": {
            "_dom_classes": [],
            "_model_module": "@jupyter-widgets/controls",
            "_model_module_version": "1.5.0",
            "_model_name": "HTMLModel",
            "_view_count": null,
            "_view_module": "@jupyter-widgets/controls",
            "_view_module_version": "1.5.0",
            "_view_name": "HTMLView",
            "description": "",
            "description_tooltip": null,
            "layout": "IPY_MODEL_a7614865acbe402fa39c351c14a3ee17",
            "placeholder": "​",
            "style": "IPY_MODEL_26eee92eab6140e1942b5505413ac860",
            "value": " 170498071/170498071 [00:03&lt;00:00, 48681321.63it/s]"
          }
        },
        "7c196bf926ef403dbcea28564278810d": {
          "model_module": "@jupyter-widgets/base",
          "model_name": "LayoutModel",
          "model_module_version": "1.2.0",
          "state": {
            "_model_module": "@jupyter-widgets/base",
            "_model_module_version": "1.2.0",
            "_model_name": "LayoutModel",
            "_view_count": null,
            "_view_module": "@jupyter-widgets/base",
            "_view_module_version": "1.2.0",
            "_view_name": "LayoutView",
            "align_content": null,
            "align_items": null,
            "align_self": null,
            "border": null,
            "bottom": null,
            "display": null,
            "flex": null,
            "flex_flow": null,
            "grid_area": null,
            "grid_auto_columns": null,
            "grid_auto_flow": null,
            "grid_auto_rows": null,
            "grid_column": null,
            "grid_gap": null,
            "grid_row": null,
            "grid_template_areas": null,
            "grid_template_columns": null,
            "grid_template_rows": null,
            "height": null,
            "justify_content": null,
            "justify_items": null,
            "left": null,
            "margin": null,
            "max_height": null,
            "max_width": null,
            "min_height": null,
            "min_width": null,
            "object_fit": null,
            "object_position": null,
            "order": null,
            "overflow": null,
            "overflow_x": null,
            "overflow_y": null,
            "padding": null,
            "right": null,
            "top": null,
            "visibility": null,
            "width": null
          }
        },
        "b0e397df7fde435a9da3b5f7e3fa472e": {
          "model_module": "@jupyter-widgets/base",
          "model_name": "LayoutModel",
          "model_module_version": "1.2.0",
          "state": {
            "_model_module": "@jupyter-widgets/base",
            "_model_module_version": "1.2.0",
            "_model_name": "LayoutModel",
            "_view_count": null,
            "_view_module": "@jupyter-widgets/base",
            "_view_module_version": "1.2.0",
            "_view_name": "LayoutView",
            "align_content": null,
            "align_items": null,
            "align_self": null,
            "border": null,
            "bottom": null,
            "display": null,
            "flex": null,
            "flex_flow": null,
            "grid_area": null,
            "grid_auto_columns": null,
            "grid_auto_flow": null,
            "grid_auto_rows": null,
            "grid_column": null,
            "grid_gap": null,
            "grid_row": null,
            "grid_template_areas": null,
            "grid_template_columns": null,
            "grid_template_rows": null,
            "height": null,
            "justify_content": null,
            "justify_items": null,
            "left": null,
            "margin": null,
            "max_height": null,
            "max_width": null,
            "min_height": null,
            "min_width": null,
            "object_fit": null,
            "object_position": null,
            "order": null,
            "overflow": null,
            "overflow_x": null,
            "overflow_y": null,
            "padding": null,
            "right": null,
            "top": null,
            "visibility": null,
            "width": null
          }
        },
        "ad89f3efd5df47ba82d1859aa3121600": {
          "model_module": "@jupyter-widgets/controls",
          "model_name": "DescriptionStyleModel",
          "model_module_version": "1.5.0",
          "state": {
            "_model_module": "@jupyter-widgets/controls",
            "_model_module_version": "1.5.0",
            "_model_name": "DescriptionStyleModel",
            "_view_count": null,
            "_view_module": "@jupyter-widgets/base",
            "_view_module_version": "1.2.0",
            "_view_name": "StyleView",
            "description_width": ""
          }
        },
        "2436630c9d2541a9a223ae20559beefd": {
          "model_module": "@jupyter-widgets/base",
          "model_name": "LayoutModel",
          "model_module_version": "1.2.0",
          "state": {
            "_model_module": "@jupyter-widgets/base",
            "_model_module_version": "1.2.0",
            "_model_name": "LayoutModel",
            "_view_count": null,
            "_view_module": "@jupyter-widgets/base",
            "_view_module_version": "1.2.0",
            "_view_name": "LayoutView",
            "align_content": null,
            "align_items": null,
            "align_self": null,
            "border": null,
            "bottom": null,
            "display": null,
            "flex": null,
            "flex_flow": null,
            "grid_area": null,
            "grid_auto_columns": null,
            "grid_auto_flow": null,
            "grid_auto_rows": null,
            "grid_column": null,
            "grid_gap": null,
            "grid_row": null,
            "grid_template_areas": null,
            "grid_template_columns": null,
            "grid_template_rows": null,
            "height": null,
            "justify_content": null,
            "justify_items": null,
            "left": null,
            "margin": null,
            "max_height": null,
            "max_width": null,
            "min_height": null,
            "min_width": null,
            "object_fit": null,
            "object_position": null,
            "order": null,
            "overflow": null,
            "overflow_x": null,
            "overflow_y": null,
            "padding": null,
            "right": null,
            "top": null,
            "visibility": null,
            "width": null
          }
        },
        "c69dcdee94c24b70a6029020e103850e": {
          "model_module": "@jupyter-widgets/controls",
          "model_name": "ProgressStyleModel",
          "model_module_version": "1.5.0",
          "state": {
            "_model_module": "@jupyter-widgets/controls",
            "_model_module_version": "1.5.0",
            "_model_name": "ProgressStyleModel",
            "_view_count": null,
            "_view_module": "@jupyter-widgets/base",
            "_view_module_version": "1.2.0",
            "_view_name": "StyleView",
            "bar_color": null,
            "description_width": ""
          }
        },
        "a7614865acbe402fa39c351c14a3ee17": {
          "model_module": "@jupyter-widgets/base",
          "model_name": "LayoutModel",
          "model_module_version": "1.2.0",
          "state": {
            "_model_module": "@jupyter-widgets/base",
            "_model_module_version": "1.2.0",
            "_model_name": "LayoutModel",
            "_view_count": null,
            "_view_module": "@jupyter-widgets/base",
            "_view_module_version": "1.2.0",
            "_view_name": "LayoutView",
            "align_content": null,
            "align_items": null,
            "align_self": null,
            "border": null,
            "bottom": null,
            "display": null,
            "flex": null,
            "flex_flow": null,
            "grid_area": null,
            "grid_auto_columns": null,
            "grid_auto_flow": null,
            "grid_auto_rows": null,
            "grid_column": null,
            "grid_gap": null,
            "grid_row": null,
            "grid_template_areas": null,
            "grid_template_columns": null,
            "grid_template_rows": null,
            "height": null,
            "justify_content": null,
            "justify_items": null,
            "left": null,
            "margin": null,
            "max_height": null,
            "max_width": null,
            "min_height": null,
            "min_width": null,
            "object_fit": null,
            "object_position": null,
            "order": null,
            "overflow": null,
            "overflow_x": null,
            "overflow_y": null,
            "padding": null,
            "right": null,
            "top": null,
            "visibility": null,
            "width": null
          }
        },
        "26eee92eab6140e1942b5505413ac860": {
          "model_module": "@jupyter-widgets/controls",
          "model_name": "DescriptionStyleModel",
          "model_module_version": "1.5.0",
          "state": {
            "_model_module": "@jupyter-widgets/controls",
            "_model_module_version": "1.5.0",
            "_model_name": "DescriptionStyleModel",
            "_view_count": null,
            "_view_module": "@jupyter-widgets/base",
            "_view_module_version": "1.2.0",
            "_view_name": "StyleView",
            "description_width": ""
          }
        }
      }
    }
  },
  "cells": [
    {
      "cell_type": "markdown",
      "metadata": {
        "id": "view-in-github",
        "colab_type": "text"
      },
      "source": [
        "<a href=\"https://colab.research.google.com/github/youtlh/DeepLearningPytorch/blob/main/P1CH7_Feed_forwad_NN_and_Data_Loading.ipynb\" target=\"_parent\"><img src=\"https://colab.research.google.com/assets/colab-badge.svg\" alt=\"Open In Colab\"/></a>"
      ]
    },
    {
      "cell_type": "markdown",
      "source": [
        "# Dataset"
      ],
      "metadata": {
        "id": "N14luJFlJZ_2"
      }
    },
    {
      "cell_type": "code",
      "source": [
        "%matplotlib inline\n",
        "from matplotlib import pyplot as plt\n",
        "import numpy as np\n",
        "import torch"
      ],
      "metadata": {
        "id": "Ocy12OdvGw7l"
      },
      "execution_count": 1,
      "outputs": []
    },
    {
      "cell_type": "code",
      "execution_count": 2,
      "metadata": {
        "colab": {
          "base_uri": "https://localhost:8080/",
          "height": 149,
          "referenced_widgets": [
            "5a8dfc0043df4c0d962e37fd9eff6b18",
            "2e5105ce16c44c87a61d667bd4434bbd",
            "2964dcab88db4eb1bea1c4d857a5421d",
            "2a00ea6f473c44d5bf49bcd522956834",
            "7c196bf926ef403dbcea28564278810d",
            "b0e397df7fde435a9da3b5f7e3fa472e",
            "ad89f3efd5df47ba82d1859aa3121600",
            "2436630c9d2541a9a223ae20559beefd",
            "c69dcdee94c24b70a6029020e103850e",
            "a7614865acbe402fa39c351c14a3ee17",
            "26eee92eab6140e1942b5505413ac860"
          ]
        },
        "id": "MLo3KSDbAq3N",
        "outputId": "b0ce63e9-33b7-45f4-8690-6c097b88b8e1"
      },
      "outputs": [
        {
          "output_type": "stream",
          "name": "stdout",
          "text": [
            "Downloading https://www.cs.toronto.edu/~kriz/cifar-10-python.tar.gz to p1ch7/cifar-10-python.tar.gz\n"
          ]
        },
        {
          "output_type": "display_data",
          "data": {
            "text/plain": [
              "  0%|          | 0/170498071 [00:00<?, ?it/s]"
            ],
            "application/vnd.jupyter.widget-view+json": {
              "version_major": 2,
              "version_minor": 0,
              "model_id": "5a8dfc0043df4c0d962e37fd9eff6b18"
            }
          },
          "metadata": {}
        },
        {
          "output_type": "stream",
          "name": "stdout",
          "text": [
            "Extracting p1ch7/cifar-10-python.tar.gz to p1ch7/\n",
            "Files already downloaded and verified\n"
          ]
        }
      ],
      "source": [
        "# Download data\n",
        "from torchvision import datasets\n",
        "data_path = 'p1ch7/'\n",
        "cifar10 = datasets.CIFAR10(data_path, train=True, download=True)\n",
        "cifar10_val = datasets.CIFAR10(data_path, train=False, download=True)"
      ]
    },
    {
      "cell_type": "markdown",
      "source": [
        "cifar10 is a subset of torch.utils.data.Dataset. Pytorch Dataset is an object that is required to implement two methods: \\_\\_len__ and \\_\\_getitem__. The former returns the number of items in the dataset; the later returns individual item, consisting of a sample and its corresponding label."
      ],
      "metadata": {
        "id": "OYGyMjAGFGf-"
      }
    },
    {
      "cell_type": "markdown",
      "source": [
        "![image.png](data:image/png;base64,iVBORw0KGgoAAAANSUhEUgAAAwYAAAEdCAYAAAC2SHClAAAAAXNSR0IArs4c6QAAAARnQU1BAACxjwv8YQUAAAAJcEhZcwAADsMAAA7DAcdvqGQAAP+lSURBVHhe7J0FYBTJEoaLuOIOwd1dD3d3d3c/3N3d3d3d3d3tDnd4uCUhUq//mtlkEzYhQIDAzXc37KZ3dnamp6e7qrqqOhwryMDAwMDAwMDAwMDgP42V/mpgYGBgYGBgYGBg8B/GUAwMDAwMDAwMDAwMDAzFwMDAwMDAwMDAwMDAUAwMDAwMDAwMDAwMDBSGYmBgYGBgYGBgYGBgYCgGBgYGBgYGBgYGBgaGYhA6+N6nhdXjUdS0TWjNQ1+9MHh8P9ylw2vn0rTJ02jZ0YfkqZd/GW/yePeG3nv66H9rfLiwlIZP2UNPQvbzOr50f2E1ih8tNTVd81D9ZWBgYGBgYGBg8F/FUAxCg9f7af2uR/Tm+kLqO/H4F4T8N3RuVgPKkiAp5a/WhNp0aE11CmSi8pOvKpHfhA+9ubGXlk4eQj1a1aTS+bNS2mRuFCOKCznaO5BrlCgUydWB7CPEp0ozbqjdb9Osjk2oV8/xtPWFfggdn5e36J/HQZ3Ra9q/YSc9enOdFvabQMct7fZuG3XOX4g6rjcUBwMDAwMDAwODPxlDMfgePj6m24/e04udm+jwOxR40z9LZ9IOeW8B7zu0plUBKtBqIV18YyZm+76g3YN60II7mAV4Q5tbpqQ4qYpQ3Q59aOTMFbT9yFm6ducxvXznQd5+y9Ex+bo/ppOn/yHyukyXrnuSTZKMlDGS/jF4sZLqp09JabJUpzlybBMf6fHtR/T+xU7arJ04ef+zhGZZOHHvOyfowIn9NHvRPvUtAwMDAwMDAwODPxVDMfhmfOjmtOqUNnM1ajV7J72OlYQSOikZ/8l6mrf2qQXrujedH1mTGsy8QO8h3NtEpuT5KlHDtp2peeF4ZP1iE/XsvoKe+frS2zfv1ec2ZK02O9cYlDhdZkoaORxZRfuLmvQbRzMXLqc169bRqiWraHX/YuT79iE9eMUULlI0imF+R6OUpLbNs5PL8200d+VNdcYaPjenUo10Gala61m083UsSqKdOK2fv5aeBjrxcI6OZK9evd6+oXfGlIGBgYGBgYGBwR+LoRh8M9505+Y98nqxnVbv86LcHedS53wRiPgNbZ00lc77+wVpvNtBU2adoo9kRwlKD6ANF27RpZ3LafqooTRx6UiqHJXo+a51tOddJKqx+BG9/+hBHmr78OIhXTu1n0aVjUH86jVFKdac6lerRGVKlqZylctS1pjWRB/dyVMpG+FsbckmwB11pqztulClWD50bt8+eq4L9t53btI9rxe0Y/Ve8srdieZ0zk8RiOnN1gk0LdCJW8eMRdFs9D8MDAx+KL73F1K1BFEoTbPVFMJwJYXluCMTITnmx5u7aO6o3tShVStq37kr9Rk6gRZuu0T/s3zIUMXb4x29ee/pZ7gwMDAwMPh1GIrBN+NDT58912YGnHNT5UrZqHKNwhQxHJHXxRW09OQn2UvDh/6ZNZKW3WeKVnI8bV3Rg0okcdE/U7jmpcI5XYncX9KLD5ZGbjvKlDsbhfe5ShvWnCHzIwtWVqR+lthTKROBv+6Sn4rniUCfzuyhfa+1Ip+nz3QlwZlyVa5M2SrVpELaidOKpScCHt82DsWJYaX0nRf0IgihwsDgv807urpuFHVt1YQa1K1B1apVp3rN2lGf0bNo1Y4TdPNVYCtB0Lzev552PXpD1xf2pYknzIN+vjLuyIygj6nheWEMlc1dgpr2GEqTZk6nyeNH09C+Halh2cyUrthwOuHnQ/ieLq/sT62atafBs1bQ+k2bacf+I3Ty9Ck6e/E63Xn8Osj4Kp83N2jf0kk0pEdLqlUmH2VLl4TixYxErk625Bg+EkWN7EyODq6UoPJ0umFoCAYGBga/Djb4Rj7wypqR2cbWmp0LT+R7Pqro/W5uk9xOldlxig772F3bkdn7Mg/OYc+2UQrz+OveeqE5PvxsTTuu1G0TP8JxLPFqGVeLZsMOmfvwGS+9zMS7JVwlkjU7ZOzFpwJ/pni2qBJHdYjLTbZoZ/RhZXWOos7bxqUQT9ROnPe0Scr2qsw+ZXve53fiCq8z3DezOvfY9XmDebmBgYHg/e8IzuOonic8U5Y2e1d2y1iIa3efzntuvde/FZAPj27xw3fPeVmNGGwr37Nlt0br+a18+po3tUjKzoGPa3FT32u6Wb4V/DF1vG/z1JKR1ed2HD5OEk6TMQOnTZWQ40ZzYQd8xyEVdz3mqe3rvprrRLcJ9Hvmmw07RXXjlFnzctmmg3nDv1qH8XpTc07mYmn/zze7eI15i4d8zcDAwMDgF2DMGHwH4aT2bChpjhwUC++d81KdyilUiQ/dXDqZVpsc9t+epBNXvMkhV3WqkcxaKwuAFUWrMI5WDS2lHccSrtkoWypr8r51ha6562Um7BJR4rjW5PvmBb22YG2Lkjc/pbd5RkcPnNNmA7QTJ5ukOSiHduKUp24VSmFD5HNzCU1ebRYjEc6VnByVAvn6ET14bUwZGBgExjpmfqpSOTu5OYejcOHzU/dFy2nR7InUv1VlypsyOjnwR3p8aR8tG9WSiqZLTYXaLaAL5nH+Pjdpao00lKl6K5q18zXFSpKQnNQT+GT9fForfcjXxx19+Zg63nfo2o13xA6ZqMvWq3TxzFm6cPkW3X/2hp6dX0BdOvSkplnstH2tolHUyEF1UIDp05tH9O+5w7Rlbh+q3Xou3Vc/5fv2Nb1XvaKNtdrsXClG4nSUOWlk1Q1Fo78a96exMxbT8tXrad3KZbRq9UAqiqAmAwMDA4Nfg64gGHw1H3h5jYhsYxeFa63ytwJ63xjHhSLA+mXPabscVHspXsziUs42HLPBOv9ZhK/Gg7c1d2M7x6w84GKgaQGfJzythBPbRKzMS97pZea4r+cGsWzYpdRMfqr+/LC8GkeyteGotVey35l73+BxhV3FaueQrjMflBMH73hpNXWdDqm523HdcmhgYBCId7yyVhS2dSnFM5/rRToeTy/xzlk9uEaOuOwklnEbjpytI299ok8PeuzklolsNat5hEI87ugMLhMV+zlwln5n2MIkoMKdNzeJw7aO6bmXpWnCkB7T5zkvrxmTbXFOefvx4ZdBTVkqvG/x6Hz2bBu9EHebt5I37tzPhw7t5d3bN/LqJfN5/qJlvHjmGB7Yrw/3H7OYjzyyfObAfXMjjmtnzxl6nQzi+gwMDAwMfgXBmX8MvgD7IuI3PLlfWURz5i+mZatW0/rTTpQihZP61JuuzmxLLeecpY8RclLeTA706uAm2vXNjvq26riJydr7X7p0OZAnr1UUypwlKdl4PqWHTz+fMvB5fJPuvGHyfv6YnsHdmZmYwlF49yu0aM58WrxsFa1Zf5qckqckOfOrM6hdqzl0VnyLHShRYjey9n1Fz03RywYGBoFwpLTpkpO11zW6cDHg82kfPTUVbjSYlhy9QTePLKRuReOTx9mJ1LTzGvofHimfZ/RUf7acc1WmylkrU81CEdUT6kUXVy6hE58FFYEvxB2F9Jiq76g8bALVTGBNb48OorIl2tOqfzz0DwNhHYtSJI9K4XyjUaYqlal04byUO3d+Kli0NFWsUZfq1qpGNRt3oF59+1OfDjUpZ6ygsxbYZcpDWcP70NWNa+iMxeszMDAwMPgVGIrBN+NF7h5qRPO9RxsGtqJmTepRnZrVqFrtFjT9jB6t9/4CLZ+8hq5yKmo16m/K9GIBNa87ho5/0SXHhzw9AwcsWlGM+G7kGs6dHt59oPYwx4ZSZctMUegB3b7jpZeZ8KTTsxfQURTbO5IjYozdPZQg4Uv3Ngyg1s0bUf261ala9ZrUcsZpfa2C93Rh+URaew3nYEVxYkcnK35N9x+88XcxMjAwMMOa4rjFJnvfJ3T3TmBfPxP2FDNLDRq4/gjtGFyYeNM0WnYPT7Id2Ym3jj1lKVWKYllHojLNalBCa3gEbaRVxywJ6lYUs1w1KhzBl/7ZvpkufxbfHPJjWrlVoRlb51G9FA705swUqpUnD9Ufs4cefnZMW0qWNCFZfbhOB9ZuoDXLFtDsGVNo4oSxNGbsOJo4eQpNmjyJps6aTys2H6Qrz4KW+K1ilqNqhSOQ7z/baMvnJ29gYGBg8IswFINvxpd8LGbPCEd2EeNT0riukinI++Y+2qUEbOdsvWjVgmYU80gPKp6/Jg1ceoweWhjvPZ+dpWV/F6BE6dvSjg96oY5VnLgU08qX7t++TYGHUqfchSmX80PavHIvmX/t08UJ1HXqRbW/DSXPm5/iK8HA1/KJUzi7iBQ/aVylfKg/vG/Svl3X1PesyNnJSV2LDz1//MRQDAwMgsAucWJys/amx/fuf/Z8BsA6OqVKGIl8Pp6gPfvfSpF0xDZJKWeOWPLeOU9dqqIF/dCSyas/W19ECC7uSPE1x7RLXJ1m7N5GI2uko4hvz9LibiUpZ7GOtOj8a7Nn3priJktMEX0u0LQGFala3YbUvHVb6vh3Z+ra9W/q2KEtdejQntq2bES1KhSgDBka07r3+lc/w5WyZUtN1t636LKlkzcwMDAw+CUYisG34vOEnr7wJZtMnWjDkWN06OBhOnbyEv175xm9eHaTzi5qTEkRZ/zxGI3rt5ju+1pT7NLjaMOCJhT/9ioaUO8vSpYkPRUsU4mq1KhO1SoWoVxp4lD0eFmpzoQj9OzZI3oUaKlh6wgRKXw4X/rfjX/oWWBBIUJRqlIsCj1ZP4mmHX9EHzxe0KUNw6hW9X50CIGONqmofMUMEhj95NkL8rXJTJ3WH6Wjhw7RoWOn6eI/9+jp8+d048xiaqydOB0b15cW3/clWzs71VB86M7W4dS189/UpWs36ta+KTVsVI9qVy1NRUs3ponHXhpKg8F/Grs0mSmtiy89uPu54h6A90dp3KgN9D9fH/rkhafGl3zUSziX1JQBgjuwyUQNGvxFTsT0YuMwGnM0UGcArGNT6pTRycrjLt24G/gXv/6YVtFyU/v5x+jsrmnUrogbvT44gRrkyUoVh+zymz2wy5yV0thq7wVrZ4rhFp/iJ0pCydNlpVw5c1DWrLmoQMW2NGn1SCpjlpU5IKo/TJWColt50L2bd4OvLwMDAwODn4cea2Dwtbiv4boxbDlqnVWWA4q9r/HIvE5a8J9jbh7ul6bUi2+vasGZIgeT9s8+GhcccVILXDbD+9owzu1ozfYp2vN+C3HA3tcmc4kYlo5ry/HrrNBTobrz2nrR2C5aLV5t+cT52qg8empEe/5rxHV+NafMF1MlOhebwg+DiVs0MPjj8TrL/bLYs2PBsXwniGfh9flF3D5vTEkNbBMhH4+6pvqFD8u4aiRrtktckftPn83zFi3llatX8fKZLTm7JDKw5oiZ6/LsM4F7BB++My4/O9pG5KrLAqVB/eZjmnjHV9d058Lx7NW+9hyv9Fg+hV0993H75HbskKMn7736gF9byr4cQnzujOUCTtYcqdoy/yQIBr8Pnoe4f+VWvCpwx+/9gE8dv/nZ+BVm8H7BFzfM5ZWnX6on6OvxebGD+1WuxN3W3wv6+96e7GXhQ58n+3hM+7/Vc2cpS0ggPA9yv1JVeeL53zPph/eLi7xh7ko+FVxCg1DBmz0tVzbvG9uOO88+o3qzb8GHX/57mDcvncfzl6zgtZv38pk7b9WvfT1ez6/xoQ0LeMr4kTy4X0/uO2g0T5m9gJdtOcF3335HJ/qDMBSDb8Tn6TQu7mTDcZtuCiLTkBdfGJhVDdpqEHbKwv3PBcy98f7GZh7dshznShGdXey1gdrGzpFjZarE/TbdYoupvD8c54F/RePkrXcG0dB9+Nne/lw8kbOet1zbHFK14K3P9QfH5ylPK+HAtm6NeXMQKZK8LgzgbGrARgaTrP3PqY5wN3fJ6uJ3PNNm6xSJ46fPw+VajOCtt4zk4wb/dT7w+gYx2CFJK95jehy83/OTawd55YSuXLdIKo7mt96BK2frc0QTnl7P5bLOAZ+tzzd7ztj71GcZfNzX1uHodvace/i1gAPWNxzT49EdfhSoT/C4tY7/zh1F9ScOnKH7EdXXPeOZpZzYNnI5nmPKqvStiHHFhh1yD2PoRwY/EB93fvU6iA7/G/G5DcXOkQtNehBAQPa+NJCzO8fhKgvufpPgrSRifv3sJX8I4ss+PoE/eMVbOmXn9LXm6X8Hg+dx7p89goyPDtkH8eWADw2fnNuHB6+7Fazw93ZlDY5mp5TupM14W4BFQTTe7mzPacI7cMJai/hOoAO9XVaNo9jacOzGG4OQG/zxvjGS8zpaeLbNcb/Fu2YM5eEz1/L+U2f5wpWb/ODRI3787C17BFX5L7dyvwZdec3tYK7yW45rhueJfpw9EoyU9px98OVAfdNJntt3MK+7FfD33W/t5OnDhvOMdfv55NkLfOXmA3706DE/e+sRdDt6u4M7pHVhx0Q1eNHnlc3Voio5JU5D3mSqbM+nfGH3Kp43oR93aFKNyxXLx7mypeNUKRNzwoQJOVmqtJy7znS+6OXJl6eV43iB16exC8+pas/hKyFMpeb98ABPaV2IE0cMxhDsFI0zVBsdfEa4n4yhGHwrXld5Ro0sXHrMpc8GaxM+L4/wxBZ1uMPsU6rLCRofLw/+8PYlv3ofzINqwuMdv/uSDO71nC9snMJ9WjfiZt0m8s6b5l2QF1+dWY2zlhnNl4I+cT4yqTnX7TCbT+kn7vPqGu9fv5hnzZzLy9Zt5j3Hr/IT97DTkA0Mfj1v+VTfbOzgkJDzVi7DhXKk5DgRseBhoIHAMTYX7L2VH5oe95dIZxxoH2x2jhw1SQpOoM8uhs8zTA1Y+nd0PE9053QOthyv+daAxoSvPabnMe6e3pmTttiixKyA+NyexEUiqgE2ZnVe/tKD97VLwnZKuImSqTK37dGL+/Ttx4NGjOSRwwZx/wH9uH//vtyr69/cqW0zbtKkETfpMp8vWDJ6KiGtR3o7tovflLcZdoUfgveTAzyxeSFOEdWebVxSc9eDoWd99r48mHMowTXbwIsBx8DXa7m+mw075h3JNwIPaT5v+erGUdy6ciHOW34oH7EgHb/f1pwTOYTnigsCt0Q1/J3qzzljJ+XSww7wS70Ms/PDctuza+mZekHQeJ3ry1lMwp5rAR570/8EPQ535tTqMzu3+rzewoDt8+oe33v5ijc0dlPtH89SZK4w78lnQuvL+RU4Ij63j8+NNwa6hudLuGp0W45Wd7UoBj731vLA7tP5yLPPx9J3K6pzFPuYXH990HMvWupx/XoCbbaqDmOnzMx5S1ThFsPX83X9MJ6HOnJKB3vOO+pGkArHtxzXHy8+1y+ztkCi2lwKjmX/avbgQ11Sqc9sOW7DdWZy0QdeXj3iZ7+lbTZsHzEWp8iah4tXbc7DNlz3n416OZ8rRMI+tpygyYZAfddzXlItKttFr81rVGV/2NuNs0XHDGjg4wfaIpbnOWencomoqo90iszxUqTiNKkSc7wY4dlBKYQ2jhm4z+mghCd/vK9M5XLxHfyOaxfRjbMULc+Vq9fhBg1rc7WKJbhA1vgcUQzD9pz67wNhZpbNUAwMDAwMvhtvvja2IEcwH2ACbXaRk3CBBv156amnAQQp7yuDOacSsLJ33cwnTh3jo8dP8bmrt/nhS4gOaiDtnFJzPbKLwRXn3dO+pON9fTj/pYQZx8LjtdXXdb76mLrrkY1jEq40ei8/MJcffe7xhMJqgLNPxG32fuQnS6txbAyQZtcW7OaYlftfsDCQel/n4X+pgdqpEI83P3mDUMH98gyuktjR/z4oQbVQs+48buPVgKtfB8CH3V/e43+vPQhmHw2t7TlzuXmBpGjvmzwqr/3nCt+r4zyuYkJ9LQ9sDpygRD/e6achAy++0D+LEhztOV3PEwEVDvbkAx2Tae02YkX20xvcN3HjuPacouMBvcAy3o+P8+qu+c2eUVeutMh0lV58Xn5XlTsk5faf+ep68K6WCThCjhJcMIYzp0ibVPZ1LTCa/w0gXb/na6ubcnpd+XDK3I0PmfvJeV3g/tmVElNpodTvizll2AXHSVmFxx19bqZkePPN0XnZwakgj7sb9LPhsb0Zxzd5HAS3KSWm3JxHcnwvMSbYc/rP6tefbzmuhjc/PrGKuxYI779PhErsX83nuX82TTi3T96O9/lVswdvbxFPU7i+sNlGLcdzNL9ofn9tFTfLoAv7zhm5++EAlc0XBmRlh/AVeaH6/fcbWnKa+LE5dpxY7JY4JWcrUIDTx7Rl53Q1eNCMxbxm4xbeuXU9rz98i1/va8tJ7W04Tq3l/NSs+j3ubeVRQ1dycJMtGt58ZUh21UbsOE6+Vjxh/Ul+YFHq9+KHu/twgeg2bGc+0/yLMRQDAwMDg+/mLS+qrC0Q6DeAOUflpNkKc9UWfXjS6sN8+53lAV7cgeyjcG3LQT/sfW0k53XRjunw13C9VCOouKOvPqb3VR72l0mItOVISXNwiap1uHGzJtygWhFOHc2WbSKX4GkipLzms9PrcrqoFmZDTJudPTtFiMLxMpfmdjOOsAWDKE5CLL02Dsm4w4HQs2QbKDyOca9MuJ82HCVzQc4W09yVITynrjWJT7wKdFPeHuTBJRNrFswoVXnpFzQD71ujOZ+TM5dfEHjHD7yyVmSl8BXwF2q97/D8ynFkpilytuY8Zmx7rpgrIUdSv+WcsibPu+IvEb1cUpWjKsXTIUtfPhtAcnXnVbXVcXENDim5y1GtzfjcGccFnRy5ZOCVBQPgwfvaJhbB0zaaG7uFRz3YcfIOB5S6Adx5S9M4uguuC5eb6zcfofOCZ5fRYgZtY1TlhSfGcEHE6iglos0eM4nPfQ3XUUKef107c9a+x/3dhrBIYH57dsjal8+ra/N5sJArx9H3d03ExXus4RtyQpoF3S5GXV5n+REWvC4N5GyYtem0lg+fvcI3bt3ga1cu8dlj+3nfwUO8f+sKnj9nHq859kDVgIbPXdSXHaftfky/9s/5luMKHnu5bVIsrGjDUePHZVdcF55v00yV+2Zu4qZfb/hy7F/NXnxpkBLiHbNyp3WH+eyVG3zrxjW+cuksHz2wjw8c3s9bV8znOfNW89EHpl9057V1owZwm3bJ1oeP+1c23xqTTx0zM/dDZX/GO1XHkZWiUYkXBu6gXq7jhgnUdTjE58ozL31TDNTLnb24eME2vNZS5+f9gZ/dPMV71izgycO6cbUsEdkxY08OK2vIGoqBgYGBQSjg/fwyb5tQi1NFSsFNVt/m95aE4c/w4afTi7OjXRxuEnTQDw/Irk1JO2brpxfqWIw7+rZjvtzbk3Ni+txsoPXf7DltZ30ldx2f98/4zvV/+fbDB3z39k2+eechP3n2nF++dVdDckj4wMcH5eboKVrxrm+LDjSwiA8/mFmaI9vZcqyiw/joK09+eGorb92zj3evX8hjO5fn1JFtOWqh4VpAuY7mlqbutV1Eztp1l7+rTlC8X8KVI2gJKgLeb08+2jU129sn4Ja7NCHu/bamnEApAXbxqvFiv9khL356ch63yRWVHRNX5bnXdeHt/S5unUwpnfbxVfs1n414zjNKmZRXfxcmuMakcHTjplsDiKiB8OITPdOJlT9ihUk8t24sESgdC5gSBbzkOWX1ZCFKMU7Sdm9Agdf7Bo/IA8u0DceovZJfed/lqSUiyL4JW+7wF/y9TnHvjNp+0RIl4IiYWYuYiwefNUl87rypSWy2i1iZl+ht/u21DTysRhqOJLNw9hyvWF/edvsE98mkFIiMvdjSwuZ+IE4nuj1n6Xde6iJEuK/i2tHs2K3p5oDXaM63HBd4neCeYsGPwOUnz+U6ovQ4cIFxd7RZhZdzuIxukLCxT8xt9/mfAYwZ0YIU4i3hxad6p5d7ahs9ASeUmIbwnHvIWT+Fx31TI45jH54rmyo7AD78aG55jmJvySXMh5/v6srZoqhjOsTmgj3W8+3vENq9nl3gLTMHcseG5Tlv+ngcxVlfld60Oabgtrss+K/9IgzFwMDAwCDU8OG3T59+la+o19UZXD1baR4ddNAPvzw6kVvUa8+zT1sYPCzEHX3rMT/c2Mxj2pTjzHGddEucPbuqQTdL5WF84IuS4rfgwe++GDRl8HW85PkVXNkmQhGeaDE9lg8/OziMS8R34Uw99QB44POcj8wdwZM3Xgk2Js4Pj63cLL4SZJttCShg+rzm472yKoHNiVNXGc27n7jzvvZJ2d7WkfON/tyv3efhcq6d0I5d0zbm1XfxqTdfG51PrM0uuYb4x9V47ucOKew5YqwY4n7jVGgc31aXB3/4yI5ZeUDgAJxAPJtZkp0hpI69xU9mlZbj20avyasgM3qd5b6ZdZcUtTlkHxAwnsfnHo+HO52tK5eZ/UyK3m5qLO42tm51eI2Z5RtJR+BDn7jFJB6QL5I8RxFz9OaDMrGi+9875uGRAQIwXvOpKdU4hav2+05JknMCR/VadLKeTTAIvC/zoBwOHDFzRW7aqBZXq1yOS5csxkWKFuUSpUtzSbWVr1ydG7Xrz/OOPVV3XiH3zZYdi0wK+tjfclxBS05g45Sfx9x6wrPKIGmJUpKUMqVVcx/OpLtZmSt3wPvyIM7hFIEzVWrCDetU40rlS3OJ4kW4SLESXKpMSbWV50o1G3K7AfP4qO7fI4lS1PHskjTjSQPzKmVYHTdSdu5zSJvF0mJKgo6n8Hk6m8tEtOHo9db4K3d++PCLg4O4iBvahS1HTluNRx40v9aQ4X1tIheNZsHg4hiJ3VJm5oIVG3CPBWe/MXPSj8FQDAwMDAwMAuHJ71+/5Q+eXzsMGvxyPI9wl9RKoSsxVU8h7c4nZ7Ti+k268aLzJjXAh58ursIxoxTmCZ9HCPPrG8f41O0vqLc+D3lyUSe2c8vKZSuW4kJ5snPmtEk4XnRnf1/xCOr4t97rLh+RudYqS8f04QcLKnEsOyVAlp7Okqzm5QZunMhWrMrNtmjBBD6PZ3DJCBG49MjRXC6qOnb4gjzupidfH5FbfPG/FKfiebADJ3eMzvXWufsHITsk5Xb73Nnn7iQuEj4iF+rchnMiI5+zOra5UuVzh8cWVIqBYzYeeEmvrw/buDnOUSkL+UZd8RM8va8O4VyOmrD57up4LiyzcA6cpe9J9VT58MNJhdjRITV3OxbYBK0UtsNjuHJKZ114VMpF691BW/UFVbf1ogdwp7G4OcXhQiNPaJZ0r5PcK6M926fpwro3lgW+4biCFgfiEBMuUP5ByPbJ2/I+dx++O7kIu0YuxJ3b5pCMjVDu/Kr5/RquG8DlzfLm6FaIR5zUf9H7Kg/JZc+2Merw2ndXeXyRyHLOjln7MHbxeTiRCznZcZpuR83O0QxVF5jhccg/RpRMS3g+2MfjG2fjmGgvjnE4b9sFfD7Exn1vvjosp9SBQ/TUXLRua+45fBZvOHqVH72zpKqEDYwFzgwMDAwMAmFHzhFcycnOGCJ+P3zIxzccuaVNT1Hl9tkQ3T9My+aNpCY12tH6x1hUz4oixIhKju+P0Or1t9U3ND5enEctCyenhGmKUv89QS5brWEVnbJnT0ZWT87Qlo3baP+xU3T+2m169MpDX+wyHEUq3pBqJXSg5KmTqRblTk+fvrKwEKYVxSlZjDLaMr3aNZ6mn/pEFKkkdWr9F7n43qEFXfvT3tdEXhdO0yXvtJS3bH1qUCYmWbkfplnTj9LNuw/J1zoiRY4UfFu1ihSZIliFp4gRw5FNyiKUP6G1qqo7tHruJjq9cgUdpVxUrUNbqpzdnujTCdqw9pZfvYBw2KKkpYyJsQCowqkwtWuZk5zoIx0Z24+W3FfnrbBOVIDyJrGidw8f0ttkzWlsl1zkTF50bnxrGnrCgyInSECR+SHdvKXt748VRcvVgZbtXEIt0jmrv33p4aljdMv8JD7DkTJlSk02VtEoU9ma1LB1dxo4djJNnjKDZi9cRevWrKaVqzbRgYuXadffWdU9UNgkooRxbcj32SOSpmCRbziuYEWRI0cgq/ARKWI4G0pZJD9p1bya5mw6TStWHCHKWY06tKlCOVDNJ9fTGtMFOmamTKlsyCpaJipbsyG16TaIxk6aQlOnzaFFK9fR2lUrafXGg3Tp4i7qnEX/RetEVCBvErJ694gevE1Gzcd0pVyq6rzOjaM2Q4+TR+QElDAy08NbtylwbQs2ySllUkfyvXGJLlvcQfWEcfJR25nH6dqJJdSlsBOdm9qA8uSqSuOPW2rLgbGmmDGjk41NLhp45Dxtnz+RBnVpRGVypKBYLno7CovoCoKBgYGBgYHB747PbR6T34ndmm7ycxPyubuIq8VHsLgNR8rZk/e/9OY7Ewuxi60tJ2q9S7dKe/CuVgnE2u+YsDYvexy8BR64b2rIceys2d41MsdOmIKz5C/NNdoM4rnrhnO5aDbsUnYOv1D7ed8Yx4UiqN8uNS1A9iwT3teGShC9jW1Err5CP2v3Y9w7K/z+7Tl5i418eEBWdkramveqk/U80UMy/9jGrcQtqsRh+7iN/HPVB4GsC+CanDsdgu3Yg/e0SaTNbDjH44Rxbdkh5xC+4u3Dd6cU5fCq3C5RU95qiqv2vsZDJVDemSNHi86x48XnJMkSc/xY4cUaDEu2XbK2rLnMv+WVtaKybYSiPBnB1x7neHBuLTGBc5YefPj2TC4dwZ4z9T0bhP++p+Z6hdmSrZ+nbA2Mx87mnMAhOtdeHVJnFA/e3Toh2zkV5SnB3OOvPy7w5huj8rBLyo4s8cYeu7lNEs2f3ilBAo5jb885h15hb5+7PLkY6sSWEzbfomfA8uCdLeKzfcxa/DU/qa0r4cpFp2DdDA8+NySX3D8bl0zc88htnlnGlR0y9wkUyG7Ci8/0zcgOCJQPalXKALzmk5OrccoIqu3FLM6Trn7Z6o9A7uzObtzsN8rJbJiDDAwMDAwM/hSsYlOO7Anof6sHUu91t+gjiuLVoplL+1DeKOHo3anhVD5vMao1+iB5hAtPGbOlJVv5oj3l7zmXJg6bRbuOzqNqMb8sHtilTkNJbWwp9+CzdP/WVTq5dyMtmdCT6pepToXS25L347v0wJvIOnETGtQxC9HuwdR+zlXy0L8vvDtPM3pMoZNqP3JIRelT6dZgh+zUeUg9SmTtTTfntaCaM84Tx01ECdTJ2mVuTq0LRyB6uo7mbHxGFCESfWHCgMjbh3wYdn9gT3ka16MMuPBPD+n+s6hUqnktSm5tRXGrNqGyMcOR74NVNGPNE90qrL6L8/PxoLevX9Czxw/ozu079PD5B0Ix8H1+nS4/hvXbiTJkSEHWH0/S7v2v1E+lp45jO1ImRyLP82Oo8aCnFCcB0e1r1wLWgx9MHh4exLapKUfOiHpZ0NgmT0mJrV7S5hFdae6uw3T02DE6df4yXb5wlk6ePE7Hjx+m/Xt20tYNq2nNmo104iFT+IiuZOX7kO7dM53953z9cbVjefv4kH8156XGdTNI+/r08D49i1qamtdMTtZWcala47IUM5wvPVg1k9Y8QS3bUvKUScjq5WYa3m0u7TpylI4eP0XnL1+mC2dP0okTx+nYkf20Z9cW2rBG/eamE4SfdMqQkVJYf6RTu/fTK3Vf03cYSx21yqYxjQfQU62y6ZrFyrai2LGiUzhfdT/vfl4XHw4Nokp1J9NFv48iUJaWS2j3jGoU69VuGjF6C73TPwkKm5QtaNToFpTfLQzPEARGVxAMDAwMDAwM/gC8Lg7k7Prq9TEzleNW/cfzrEVLeV6/0hxfLPP6Zh+DMxQuzsWLFuRGs2/p3/4K3i/nalFsOEq52Xo8gwkP3tM6IdtHrc4rTbkeve/wiqZpOYKdA0dNnJZzFi7KhXKm5yTRtexYsB4narKeX5gfx+cOTy+t+Y1jtsN8xeD3e9twcmRRUp8he8/J4GOPJTd/PActxkDwecAzykRS3w/PGVut4wd+v+vJJ3tp2W6csvXlU7B8ex7kTqnsOU6RDjxy7CgeNXocT5o5j5dtPsxXLk7nchJHoM6/2SZZZAvW9vj2dpys/T7dt92dz47Iz1Ek85ATu7hYs30q3ar+Ge68tl40totVj9d/YRZEMLPKf3nDYoibtPz+dtG5RL9FvHTpcl61agnPmTaFJ40byn17DePVVz58w3G34mR4ews3tpcYA+30fB7M4NJR1D4RM3Cr9WarZHtqsQ42to6ctd8pqSePPa05cUjWT8Bmr1vhPXZwiwS2AdZFcD87nAvoGdacXZ3YxiGFPlP0OQhej6juSamZWlC5P158tl8mVU9RuGD//fzEfHLAYxe3VnVjG4KZqt8RQzEwMDAwMDD4o3jN+/vm0gVRy5uDo71fcKltlHw8wtIidF/C+xIPzA4Xm/hcdcEts8wvPvwAQbafZQt6yxcWtudiKSP7ueDIZh+JU1cfx8defu7O8X5bM04owiLcb874u98opWFmWS2PvUOm3sGn9VS4r63N0ezsOfvgy37n6X5xBY+ff4yfB/pZn3uzuCwyydhF4wpzlTD7Yg6XDW+WdjMAb3lLM80Fy8a1ME+866OvFWDDsRpt8M924/OIN7VOp+X2x/ZZZiId7ys8OKe97tqklwWLDz8/MoLLJTalWw1is3flhHkb8MSjz/hMnwwB6z/Q5pBjEF/y/trjIjWTvraAYzYedNmvlvniivE8/7j5Am7Ah+/NKitrVtjGqMBzoZn5POfDI8txIlNK0yA2uwgJOG+jiXwE7cXnLo8r6MC2sRvwRv/K5kebWnF6Wa8CW9CZibR2Ycdpun4eoPx8USX9GbLj6BlKcYP2Pbj/0CHcv3Mtzh7TRimkPb+okPrznu+d3MBzRvXiTp0m8YEve4n9MgzF4HfC5x4vqObGUdI05tX+5o0v4MXub1/zOw/LPYzPvQVcNX5kTt10lZnFxMDAwMDg9+YD39w+gf+uWYizpIjDkZxs2cE1CifIWIjrD9vGdz2wyNI5PrJ/P5+1vCxrCPDkg52Sy2rEkaovC5Cm1+tUT07vko57WZTY3/H1jeO5b7cu3HfMIt7371sLAreO10UeXywG20cpyGP8hE0Nr5uLuVHmpFx09LnPhLrAeO5vx8kczGMqgsOdD3dPz05KIMSKyh8uIi2mI5eYEdiqrPF+YwOJtfBb5dv7Gs+smpJz9wu0urD3TZ5TOa6etSkCV11mod5hAU9oxxGrLNF970OI+yO+cvIIHzt1lk+dOsHHT53h8xcu8uVrN/nuo+f82t2/7jwujOOiMQPPBthzhPipOW/FVjzxwGN/Iforjov2oMVHJOTWu0PgU+9+mLtndFSKZXLuaDZ94v7oCp84eoxPnj3FJ08e55NnzvOFi5f52s27/Oj5aw7wk+pMr82swqly9+UTASubb86pxG76DETEagHbpwnv69O5jFtCbrzRgqT+4SSPKBzdP8uW+WYXk6ssfBh0uzXH/QgPyBNdV8aUwlhuJt8M2JTDFOHwj+5VZPBDeEdX102neTuv07N37+mjJ5NDxBgUP1laSpc2HWXMmokSR7LR9/0CLxdR5WT1af1bG0rRcS+dGpaT7OUDH3pz4wBt2X6ULl65RBcu/0t3Hz2hZy9e0dv3HuQtdzgcWTnGptIjd9PqpknkW+DlosqUtOE6emuTgjrtOU3DkCrAwMDAwMAgBPjeW0J1CnakN12P04Ym8cnP1d/nGk1tNIkij5hA1aJ/Zzjjpxd0/4U9ucVy0Qu+gU+XaFq9tnSp2kqaVD6KXhgMnx7TyZ3nySFXUUrreIbG1utDr1utpf55LYyRPrdpw+BRdMStIXVrkJmCiwzwfbGL+lRtSSvD1aSZa/tRXlf9AxM+12lM0YK0rugW2tM1PXJK/RA+3j9Fh04oucTbhaLHjElxk6WhFLGc/e/fN/Lp0jSq2+4iVV8xmUJWzSdp5wUHylUk7ZfjRL4W3xe0u08VarkqHNWcuY765glc2Rre79+Tj4uLLk8FwvMe7Zs3kaYu3kD7Lz2hT7YuFDFqHEpdsitNGFZJsi59kf8toIopGtLGd1YUKXsXWr5mABWIFtoXG3oYisEPxufGSCqQrjsdDSrGx8qJYqXKRvmKV6WGTWpRgYRIUxaIj4/p9mtXCn+wMaWpu4qeqztmFasurbo0h8q4vqHNLbNStVm3yFPfPWisKFaDdXRvekl1yNv02jU8HWyamuqsek6Mz9SxL88qS5YfHQMDAwMDg8/x/fSJfO3sfpgQ+5/jkyd9srM3SwNq8HvjS69unKJr76NTqnQJKELY1QkEQzH40bw/SRNbtqexG0/QA+t81G1KC0rt+YxuntlPu/ccoBPXnpGH6Q7Yx6W8DQfQ2EF1KZ2fdO5DN8cUpPQjXah02mO0/p9o5Pb6Bt12j0BlZ16hlXXtaHmt1NRk7UvJjmDtGIXcEsYlqwdn6KZ1bmrUqjJlSxyLorjak+9HX4r9VynKGu0OjS6Ujka6lKG0x9fRP9Hc6PWN2+QeoRzNurSS6sYI463WwMDAwMDAwMAg1DEUg5/Ce1pVOwHVXJ+DptzZRI3Nptc8n12mgxuX0JxZC2j96cf0icJR+IxtafGGkVRcBHRP2t0qBZWceV/pnE6Ub9R2qra7NLXc+oZsM/Siw0f6UcbPzDQetKVpEiq/KCp1PXiKBmYOtIPnLmqVqiTNuO9L5JSfRm2rRrvLtKCtb2wpQ88jdLRvRsPyY2BgYGBgYGDwH8MwDf8UHCltuuRk7XWNLlwM6PBjHz01FW40mJYcvUE3jyykbkXjk8fZidS08xr6nyRQ9qGnz55ruZSdc1PlStmoco3CFDEckdfFFbT0pKXl+uwoU+5sFN7nKm1Yc+bzFf98ntHT51p2Zudclaly1spUs1BEpZJ40cWVS+hEECsAGhgYGBgYGBgY/LkYisFPwZriuMUme98ndPeOu14WGHuKmaUGDVx/hHYMLky8aRotu6ctFW5np3ka2mcpRaViWVOkMs2ohqwzfpM2rjxqYZEUK4pZrhoVjuBL/2zfTJc/i2+wU8fEqz1lKVWKYllHojLNamhLl9/cSKuOWV52xcDAwMDAwMDA4M/FUAx+EnaJE5ObtTc9vnffb6VEi1hHp1QJI5HPxxO0Z/9bKQond8mGkubIQbHw3jkv1amcQpX40M2lk2n1U836HwDXbJQtlTV537pC1yzoItohk1LOHLHkvXOeulQlhY0oG0smryZLhzQwMDAwMDAwMPhzMRSDn4RdmsyU1sWXHty9Hbxi8P4ojRu1gf7n60OfvDTp3MdHvYZzodQZUuq+/zaUqUFDyu1ExC820PAxR2TZ+wBYx6bUKaOTlcdduvHZUt++pB0yNWWAMgBsMlGDBn+REzG92DiMxhz97IgGBgYGBgYGBgZ/MIZi8LOwS0rJE1jR6zu3grTGv7mwmDqUqkjDz7gTOWWlgnm0bMjsy0qKD0/uVxbRnPmLadmq1bT+tBOlSKE0A6VmXJ3ZllrOORtIObBVnycma+9/6dLlwIlMmbRDetDlxXNo/uJltGrNOjrtlJxSyiGv0ox2LWjOWUM5MDAwMDAwMDD4r2BkJfppfKQNDRNRtYOVaculSVQAK2n4fKCnN87SwR2baOPGjbT10HV6JcZ9J8rUfTvt7Z9TvXtD88rHoiZbgo8ItknbnQ4dH0jmCYg81tWl+NVWUNKB52l/l+Tktw7Hm3lULk5jCv6QNpS222E6MSCzPkthYGBgYGBgYPB9QOz08PAgW1tbsrExJIywhjFj8NPwoTjx4hM92EL9apelwjlTUdyokSlu2vxUo9MoWrJPVwpsYlDebitobR8oBcCXfLQY5ECEI7uI8SlpXFf1jsj75j7adS2gy5BVnLgU08qX7t8O5L7k66POxgLh7Chi/KQU11WOSDf37aJAhzQwMDAwMDAw+Gae/+9/lCFjBhowcICSbyxKIwa/EEMx+Cn40PVx5anQkNPk7XOPjqzfQvtP/0NPP/g/EFauCSlP7T608OBZ2j6gOMU2mfd9ntDTF75kk6kTbThyjA4dPEzHTl6if+88oxfPbtLZRY0pKfb9eIzG9VtMWJrAhHWEiBQ+nC/978Y/9Mys3OfJU3rpa0OZO26gI0cP08FDx+nUhRt098lL+t+/52hRo6Qyu/Dx+Fjqu/i+9iUDAwMDAwMDg+/E19eXPD0/0ZgxY2jz5s16qUFYwVAMfgof6dThk/RB/wuEs4tECTMWoIqNe9K4ZQfo+t3rtGdOH6qeOXpA1x2va3T9li+5JMtGBbJkoezZs1Pm9CkoQexI5KA+ts/emBpkg18S0/MtM2npDTPtm1mVqofwwW26bWb597p+jW76ulDSbAUpa+bslCNbZkqfIgHFjiRHpByNGlJ2OeRz2jJrqXzHwMDAwMDgv879Bw9o7dq19OjRI73E4GuJHiMGjVVKgbW1NXXv0Y2uX7+uf2IQFjAUg5+CK1Wfdow2ja5OyVySUoNlN+jV2//RP8d30vIp/alVxVyUwMXyrfB9+4yevWNycITQbgHrxFSsSGqyxftwnuTh7h8yYu1WgIpnjkwJCpeiTNpSCApfevvsf/SOHSjoQxajwqnliBTuU1DrLhgYGBgYGPwYJkyYQBkzZaTDhw/rJb+effv3Ua5cOalO3TqULXtWWrZ8uVi/Db6OcOHCUZkyZahhw4Z069Ytat26Fb18+VL/1OBXY91Pob83+IFYOUWjJNnLU90G1ahkljjkDDf+EBDO3oXcrx6lN+nrU82c0S1oclYULW0aivjak5I1HkRdS8SVmQTBNg7lrdWC6hdNQS5+0xDhyN7Zna4ce0vp69WknNEtKCRW0Shdmkj02jMpNR7YjTLGCkKDMDAwMDAw+AG0bNmCrly9QsmTJVfCeC699Ndx9epVKl26FL189VqCZz98/EBvX7+mChUq+C1CGpr4KIXjlRKWHR0dRZD+Gu7evUePHz+iaNGi6SU/n48fP9KSJUvoxo0blCpVKr3UHysrK8qbJy+dPn2K9u8/QI4OjpQ3b179U4NfiZGVyMDAwOA34pOXF/laCNhDRw7xAV36mTNnAlgynz17Rk+ePlGDsbXs48vqM3T9InBoQocl4cPJyZHc4sYlW1s7+dzJyYnixXMjFxdXfQ/te/hNZBf5kzOMfPr0SeoU7g8QavBqAtd//Z/rNGzYMOrSpQulSvm5IGTwdWC2AML49m3bKV++fHrpr+Hdu3dUomQJOnX6NIV3daWxY8fRyZMnqEL5CiLMfq3gHhJmzZ5No0eNpLVr1lKKlCn10pCRv0B+unfvLm1TdZcsaTK99OcyZ84catO2DTm7ONOmDZsoW7Zs+icBOXfuLFWsWJE81fO1etVqypEjh/6Jwa/CUAwMDAwMfhHIyPHgwQP68EGLQHrz5o1YIoG7uzvt2L6d3uufQZCHcHpHDfjeXmZBQ7pMgq48HCshXf1369ZNJcTqXbv6/JOnEmqhDGiqgxSHFDtbW7JSQnA49Z+9vR1FjRqVHBwcKZyV9sPyu0owsrWxpTixY5NDIAuns7MzxY8fn1KmSEmOStHAOTjY25OrErCQrjAwpu/iFYK46W/8DgRyOXt92Arp8IXjvH331q/e/L6njo2jQ6FB3eJ+oP6QSvHSpUvi+4zvvn71ip7975mqQyZrpVxZq/MwKVl26lqgQF1Q+z98cJ/+7tSZBg8eLIc3+HYyZ85El69cpo4dOtGQIUP00p+Pt7c39R/Qn0YqIR2tZdKkyVS/Xr0AiuGPoHuP7lpw7qbNVLhwYb30y7x4+ZLSpU1LL1+/pP179wcpkP9ohg4dquqtH0WOEoWOHD5KCVQfEBTjx4+nHj17UMGCBWn5suVigDD4dRiKgYGBwX8WCINv374VYdMkynp5eYkwgK4RAiKshV+bUg/fv6aEyv89e6otUKiQVADq/3fv34vA4/XJSx3Xm+7dv0cfPyKWh+W38Jva/vo/phPT0f70L9T2k3/VeyWky6v2ubUI71oJrPxRokSWv/0Ed3xPf4uycOE010IRwNVnOD/swkqpeP36Nb1//0EJynpdaD8p++Gt9qoVauK2vNFedAFcQykRdrbk7OSsFAPMMOAT/WDme6m3+G1/NAXEhPaZ+ffUr5vtL3vqu2P1eChcuC9+X5E32g5QDLy8MCPgfw3ANOuiHUu7hs++rl8/FIakSZPQpImTKU+ePNjD4Dto1bIlzZ47m+rVrU/Tp0/XS38+Z86cpsJFi4hrTI3qNWjmjJk/ZWasd5/eNHLkCFq5YpX444eUCxcuUP4C+ZTiYkMnTpykhAkS6J/8XJo2bUoLFs6n2LFj0z/X/w22ztC3VKhYgU6fPk3z5s6TGQSDX4ehGBgYGIRp0EU9fPiQIkeOTPfu3aN///1XLM8o9/LSBHiT4Gba3yTA4T2EWgCh8n/P/kdHjx3VBH8lBD5/8VwswdhF+3o4pSx4kjfcddR33d0/0qtXr0VA1tB+Qzu6PyYZEaivyW+KkKn/tjkBvxlOCeHqm/hOoE80tCsxHdu0v5MSqiG8S4k68Xjx4pGDvQPZ2duJtRBEiBiRcubI6Tcghw8fXnyONQUA5yjFfmjl2i+Fw7HVDiaFCALyixcvlGLwXiszOwAUq/Pnz8lsB1yWHjx4qAvUuH6m/z1/Lp+ZygDuG5QyTTHQDoXrgmICS6x+GmaYF5ifOMr9/zYJ9lbqOKZjQCnwUcoMZk3M7wd+0/RtXDfOxd7eXs4BuLi4UPTo0clW6k/73NHRiWLFiiUWTXwHv4XZA/xGUSU8ZsqUmWLEiCGfGXwfXbt2ofETxlO9ekoxmPZrFAPM5NWsVZO279hBkdTzdOb0Gbn/P4OFixZS48aNqH27DjR8+HC99MtoikF+aaPHjh6juHHj6p/8XKpWr0obNmygFMmTq3o769dfBQX2rVmrBmXLmp22bNlCDg5GbOOvwlAMDAwMwjTwM65VuxYVK1qUdqgB+vLVK0pMU4LXt8heqreDS432VXUUEUa1v6zUK9xDgJTgH1PvqN6bd5TaN/wR4VJ76/ceFjsIly6u/v74AYHAr30rQoTwSgiNKe+10wkn2U8SJEgoB8N+pq7aWQ34UaJE8XNlwICbMmVKCVIMa0AZePToMf1PKV/ipqNfg6dSvtw/ukvQpgjYqhzXgWsK7F4UEiHbdFz8Ht6b6gbfNc0AQcgLMPMjX1H3QBdYUH9wezIJMJEiRRKFy5K705fw8HAXZQHHM/g2woJisGfPHipTtowYCQYPHEQdOnQIUXsMDbZt20YVKpanRg0b0fjxE/za9JcIK4pBNaUYrFfCfrEiRWn9+g16adDAeFCxUkUJRl6+bAUVK1ZM/8TgZ2MoBgYGBmGaGTNnUtu2ralWrdqULFkyWrFihRqcIbyh68IgHbAL03o002fmaPuZBvb06dMrwVubZofwlyRxkgCCnElg1d7Lv/L+8981/x1TGYkffsyYMYO1MJrOBULptwigYQUI5F+yCAYF6hjfD6ng87Pw9PQU95GIESP63aeQACWkfYd2Mjs1ceIkmXUw+Hp+tWIAl776DerTuvXrKZZ6ji9dvPRTFT0otLHjxqbECRNJEDHaYWDw7MANB+0UM4KI27l48SLly59PDAhHdcUALopol1B2fxYmxaBI4SK0ccNGvTR4ZsycQW3btaU6teuIy5bBLwKKgYGBgUFYpXTpUuzk7MRbt23VSwzCEjdu3OA2bVrz7t27WQn4emnI2bVrFzdv3pwPHzmsl/x6cB0dO3bgzJkz8fXr1/XSkIH6iBU7FkeKFJEvX76klxp8LV26dmF7Bztu2qypXvJzwX2MFiMaOzg6cN++ffXSn4dSDDha9KicLXtWfvXqlV4aEGmnnTpyhAjhuUCB/NyjR3eeP38+R4wckaNGi8qd/u7EvXr14vzqs5y5cvLNmzf1b/54qlavqu6fPZcuU1ov+TL//vsvx4kbh5MlS8pK2dFLDX4232biMTAwMPhJfHR3J2R9iRlDc7UxCFssWrKYps+cQQMHDpR4g69BjUHUt19fCTIdO2asXvrrgYV1wcKFdOnyJdq8ebNeGjJg2XV0cCBrGxuCO9nvAO4DLNSYuQkz6LN1v4qtW7dKe8YsQeXKlfXSn0dIZqmwT9UqVcnG1paqVa9BO3bupDZtW8tsF+KBJkwYTyNGjpC4qn///YeePn2qfzN0gYseZi08PTylLQnfcP8wg5s3Tx5JrXzw4EG91OBnYygGBgYGYR4MNn4DjkGY4uOHD+IG9PLVS/JQAsnX4O3tQ+/evhM3JPhxhxXgRoKzgeAVJ04crTCEIP4jStQo9OHDewmaDys8f/5chDdLrFm7hooULSJpViVzkwU+KEET1xOmlIcfBJSkw0ePyPv48eJTmjRp5P3PJiRPRIYMGahE8eK0Vt3DkydO0rat28jezp4iRIhA/fr2p4YNG1Hf3n1p6ZJllDNnTkmDPHfuXJo2bVqorTa8Zs1qihkrBmXKkommTp0q8QImTC6SaDcrV66UmLGgQKKELFmySqIAKOUGvwZDMTAwMAjbGPpAmEYW81JC/a2bN+mtmUAQEj598lCCqJe8/wo3/p+KX3rWr8AUVA7/77DApUsXKVnyZJQkaWIJqDUHsyPjxo2j48eP05BhQ6hZ82b0+PFj/VMNCMoVKlWkpMmTUokSJWjf3r36Jz+SX9cgYFm/cP6cJCSoXCX42QLUTVAK1/cAZTl2rNiShQ3WfxMdO3aU7GItWragR48eSSatKVOm0q1btyQuAxnL8CxByK5Tpw5NmTyZunXr5rcWQqe/O6p73JTatW9H6dKlpZMnT0r59xApUmR1vtayynHHTh0oQcIEtH37DknucPbsGapTtw4lVGV4bdq0iV9KZksUKlSIrGys1fe36yUGPxtDMTAwMPgNCKNSowGlSZNagqe9fLxp3759emnIkCxQCFpWyt/XBPiGFpcvXaImTRqJYGxuKTedC3RS85kqWFs3bdpE8+fPp+fP/6eXfo6zi4vfjENY4M3bdzKD8er1G8l006NHd8nSBJAWMk3q1JKtC8/ZkiVLKHuO7DTNbO0AWJYvX74sdbH/4AEqW64sValaha5du6bv8SMI3iIAizLcZAYNHkQtW7Wk8RMm0P/+F/Q9+Rpg8UbaXbTP5MlT6KWfM3PWTEqbLg0lSpJIApUDK1TfA9oOUqRivRNTG/Tx9aVPSpH+6P6R5s2bS3nz5aG9+/ZK9rN1a9fT2nVracGCBarmtHaHY5g2E/XrNaAWLVoqpSAdvXj5gsqVL0e3b9/WP9VAO1+ydAkNGz5c6nj4iOE0Z+4cvzZjAvtBgIf7HBYmgzthxoyZxLUI6Yjxu0+ePKUVK1dI2uIYMaJTly5dJRtZUOBYri6udO/uXb3E4KejGpyBgYFBmMTXx5fz58/PUaJG4TNnzuilBmGJj+7u7BYvLts52HHfvn300pDx4eNHTpUmFds72nOlypX00p8DghsrVKggwaXOrs48ddo0/RPmZ8+ecZRoUeW8Vq9exVeuXOFJkyZxpswZ2TW8q/qOPdeuU1vf+3Pat2/HDk4OvGjRYr3k16KENB44cAA7OTuq83JkR/VavHgxvqquC7x48YJ79uzJkSNHkvrAPti3aNEifPHiJVaCHq9YvoJTpEwhAaX4HFtcdd8nTBjP7u6hHygaVPAxgnKV8CuBuegXsDm7OMm+6dKn5bPnzsp+6C8aNmzAy5Ytk7+/hvnq+Lh/bvHc+P79B3ppQO7fv89JkyWR/dAeUB+5c+fmh48e6Xt8PUo55XPnzrFSTOTvPPnysLOzM9+7d0/+BnjeTpw8wQULFpBrjhU7Jh89elQCkY8dO8aRo6h7qM4FQbw4R0vgfj5//pyLqPtrZ2/Hf//9t5SZ6N6ju9Qpnml8jg0JIFauWCGf47eWLFnMiZMkZhf17ERSvzl33lwpf/funQQ5F1PtC20lfYb0rJQLuR9KwZR9ggPXXrBQQXV/o/Gd27f1UoOfiTFjYPCfBdYPWMKwYfEmbKb38MdVz4e+57cDyxNWzly5aiUNHDSQRo8ZLenkDEIGrGPvPrw35gvCMA729pQ4cRJ5rwQCeQ0pSkrQ3wUEll8Ef06fMf2H+enDmimzBKpxYc2BIUMGq+d0Fe3cuVPcK+ATjbS4vfv0oaLFitDfXf6mK1evkTdWg1bfv33rlnYgC8RGXILqP27c+Fcv+bXAz7tbt+60YMEiihYlilzb3v37qUKlCmJlFn/0fv1o48aN4sqBc8eC3fsPHqRixYuINR6W5b1794lbSrSoUdUuvqqffEHde/ak6tWri8tLaKJZueGUFfDpP3z4EClBlqpUqULnz52XbfeuPeKbjhmMCeMnyH2dMHEiLV6yhNq1b0tHjmjxAiHl3du30v+j3rDGiCXgquPs7EJxYseR9Jr29nZ05uwZ6te3j77H16GEesqZKyeVKFmcsmXLSkOGDhFXpsAgsD2rutZly5ZLKtcXL1+pe9JV6it79uw0Zsw4dW7Bp/6FmxJiYXr16q3eh6PlK5aL9d/E4cOHyVc9E6VKlKKGDRpSg/oNqGWLlpQ7Tx5pO5hN6Na9GzVp3ES1l8ISZ3RItRWcA2YvEiVKRBEiRpBjxXOLR53/7kwZM2aUdKnafQ0azD4ixS9+xz0YlyODH4ioBwYGfxiwSrx//55PnTrFe/bs4cWLF/OIEcO5fIXyXLp0abGUZMiYnlOmTsWp1JYydUp909+nSikp3lq2asnLly/jw0eOiBURx8UWFEi3tn3HDh4woD+XKFmC06ZLKxYdWF8cnRxli+sWl2fMnKF/4/cA6fLU4MpqwODbt29LHfzzzz984cIF9vDw0PcKfTSrXFJJvWfMGIRd8ufPJ9bLmjVrBrA8Asz6mEC7QfuBFf727VuslHO/GYOyZcvyrt27uEGDBpwyZQp2jQDLvAOXK1dW/3bos2LlCnYN78KOzk5i+XVSz6kSaDh8hPBiVdfKtecW7/GK/fBc71b9SlAMHz5MrglW77AG+sSChQvKdeFaokSNzB07duTnL17I52/fvuUZM2ZwggTx5XPs5+zqwg0bNZJ+APf3wvnzXKtWTbEWm/ZJnDgRT5w4Ufrd0EAJu9qMQVP/GQNYnPPlz8v16tdnJcjqpRqzZ89mBwd7mQXy9PTk8ePH632uA8+cOVP2wWzDqlWruGSpUpwrV06eNWuWzKYEplnzZvLbSPEZXH+P/gnWfJxL//79pb1GjxGdT58+re8RMl68eM558ubhbt278qVLl7hL584cKXJEaYeBZwxQ/7gP2A+pfqPHjK72jeSXVvfixYvy3eBmDEy8UfcaM0MuLs5i6TdRuEhhSYGqFGS9xJ8nT55wvHhurJRIXrFiBSdPmVzqeenSpfoeGlWrVZFn4GvSlQLcj2rVq0m7VIqeXmrwMzEUA4PfDgiIe9WgrG17ZVu0aBF3Vp1p27ZtZPo4nxJUsmbLyjFjxZDOVabH1YapTZkeVRs6LW1Q0z4LvGFgwCs6PUxXp0ufTnXefykBpgy3bt2KW7dqJfnb8b56jeqcN18eTpwkkZ9AY/o+lILYcWJx9hzZZaBxi+/GdevV1a9Gmz4OPMiFFTAIYfCEC0XUaNq0ffIUyblQoYKcKFFCpeTE4Rw5c3DZcuXUILFSBo3QBFPSCRMlkEEOA6HBtwPXmdWrV8szsnHjhlBV6OrWrSNtPU3aNPzw4UNpzwMHDRRhB1uVKlV4txL60dbxHMD1Am4fEC6SJNPcMZAzPrISBuzl2bGX5y527Fg8XQmp4MXLF3zo0CF+/Pix/B0YCH2vX7/m90rACaycmIPrPq8E2169e3HlKpXF/QNKgCgASviHywQ2UQTUZuofoqj2DxeHSZMnfVHgGj5iuPQvbdu21UvCFnAjQf57CJC4PnEtKlGc7969K5+j/iCUFYC7iroOUYhUHUBIhzIH8DpjxnRR3PEZ6g/1hjqFEeV76dKls/ShzcxciXDf4qg+58yZszx+wgQeOXKk6iNuiDCMPh/7t1T9Ms7/pFKAIkeJLNeH+wBloV+/fuIKBoUGBhq4Tl27dlU/uj9Vq1aVMQL3O6Sg3cNtBr83dNgwvTRkQFlJoQRsc+F88uTJUp/OSmiHYgCFCy4+ufPk5oyZMkrfi2tA3UMxgNEGSsydO3dEOXFRCi+eF3Nwz8aOHcvNWzTnqVOnSn9tSTGoW7euPIOd1T3Ac2XOgoULRNn6K89f0n5Qn7179/5sDBPFQB2jZMmSeknIgGJQQ42nuKazZzW3MIOfyzevfIyvqYdPNrxXDVKm1oILKjH4HEx5qgdKprNNU6aYotVe5UXq13xDXfuVq/fYzVSOV0zFWVtZ+Zfr+wHTPtrmS2/fvtNS86m/TSAg6e6du37pA5F14crly/T0mZYDGcFBtupex4gRk1SnJO+RCcHK2lqmCePFc6Po0aLLiouRIyNbQeh5rCGjRu3atSTbh2lKUjtLXI/8q/2l/pBJaLUPNpyzg4M9xYwZiyJGiCjnhPNMmDChBJhhH9QNXvHdl6oOzp09R3fu3RW3onfv36k6VMdWP6kdW4Hfx8/5lak36n+kiosbNw4lTpSEsmXLRrly5ZKpUayAi+Mj44Vr+PAUN04c+c2u3bqK+9KUyVMkEDAsgentIsWK+E09YzVXcaVQ12sVzorUoCXBce4e7mRrbUPJkienpk2aimsB6vx7uXXrJhUuUliyXmzetFlWEjb4Nvbu3SuZZTzUvXKwd6AG9etTv379xY3ke5k9dw61btWSYseOLW4dcKHDfXv3DusaqGdK/Rve1YUGDhhIc+fMpQuXLsqzIM+bHEF7htQ/FC1aVMqWPQfVqFadkqv2ZEoViSwsS5YsplKlStOsmbNUn+Mk5eDqtWs0oH9/uqueV7h/uDq7UMlSpahZs2YBVlRGdpfefXqTEsTof3rwMFxBkGnn4MED9PDhI8kBD3x8MbYRpU2dmoqrz7FPmtRpZHXZLzFixHDq06+vehaa0YTx4/XSsAWCQ9evX089enan+w8eouuiMqXL0MKFCyXTDXih+r4JkybR1KlTVB/4nmysrWjduvVUqGAh+RzANRJuWJu3bvFbC6GkqquFCxaJW8m3MmTYUHVP+0mwLFJrgvHjx9HcefNoy5atlCJFMvJS42fcOHGlTcOtCW4/mzZupixZstD169epWPFiMm5VrlBJ3HTQ19qrtj9yxAhyVO2nUaOGNGb0WGkn5lSrVo3Wb1hHf+XOQ7t27dJLP+eff/6hV69eUTjVP8ZW/fugQYNo3vy54nozdap2ziGhS9eu9OTxYwkcNgHZIHOWTHTj3xu0f/8BeaaqV69GlatUoURq3MLzcvPmLbp79w7duHGTlBBOfXr3IaXUUKrUKenW7dvqmWxNo0eN1o+opaXt0qULpVZtes+e3ZQ1azY6fuI4OTs6qb/3qjpNIXIcXOmqVK2snpcPNE1dR4WKFUWmwL1VyomkO8V4GiN6DOrQoaOs84DzhQsgxn08c9XUua7fsJ6SJ0suYyme9ZCA4zRq3FC1s3W0SfX5ef7Ko39i8LMIVjGA0H///n3pQE+phnLt+j9KOPIRvy/knvbw9PDrCHAzIdRgYLBTHbONjS2VLVuWIinBEJH1aCwQLkLaOP40UJdK6xeB9s2b17R16zb6+PEDvVJ/P3z0SNWL2gl3AgOlqk/gd2vUCzJG+CrBFGVIn4dPRClQG1QDCK24D9hc1ABso4RdUQjUjlAAtO9qn2vHUO/V3y9UZ4pUa/hMfk394/nJUz4XQVdHOxfZQ85RwJ/6W/N94bNop4RjdAhJkiShFi1aiHAcGgxUHe/gIYNk8LdXSqjpnPGbEFwjQBhVf0eLGo2ix4gumRdSq8EcPrFYJAvCuaurZZ9RS+CeQZCHsgSlBAI86gKxCFAYTLcNfp/Id54yVSrKmSOn+FjiWfiSUoR2ETtObLmeK5evyLL2YQkIUDVr1aD6aqCDX++Y0aPpzdu34st79dpVSqHucYuWLens2bO0Y8cOycqBZzx37ty0ZPESSav3PUAxKFS4sPhsb1GDRGgIsf9VkEO8bv26VFoJ1leuXKE7d24rIaIaTZww8bsEODB3/jxqqZ7z2LFjiWIAg0D/fv3oiXp20qZNQwsWLhBBBWNDxw6daM/ePXT58iW/9QLQvUCRrF2rlhIE64uAYi7Qg9RpUtNtdc6ODo504fyFAOsLtG7ThmbOmqGeN+076M9s1Ri0e9duUc5NTFEC7tChQ6hL5640Y+YMunHzhii4EydOolIlS6g6uSuGGigQdevVVe+R/WU+VVP19DWMGKkUg759qXHDxjRJCdZhmfPnzytBrBFdvnKZoqj7tmvnbql/c4YPHy797qdPXtSmTVsRrM2BMrVmzRoaO24sXbx0SeSE4cNGqH3bfLEPDArEO1SrXpXq1K5L0/UMSYMGDaRdu3cpxWAbdVUCLuIjxLCmgDHm706dKbk694Tx44vgX6pMaTqhBF/0qzgPLFg2ZNAQateunShGiRInovLly9Mkdf/Nqa4Ug3VKMcjzV16JObEEsvEg5aeH+n0cN4ES1hFzcPLUCYkB2LhhY4iNI0jjmSf3X9TUTEHBs5Evfz46d/4ctWnVhnL/9Rf17tVTZAc3NzfZB/LX7NmzqVuPbnIebVq3UfdqhGSdmjhposQQdO/WXfYFdevWVcpAVmratCkNGDCAJkzUlNZIESOJMoiMQY0bN5Y+HH1/q9atpN4WLlxEhQsVkvGqtSpzc4sn9QaDV1Q1tuL6u3TtQgf275eMXVA4GjRoQEuXL1WKd2y6fu0fUThCAmQPKGrL1HdXrlhFxYsX1z8x+GkoIccir9+8lqnWBAnji9+lNp1qL9OK/i4YJt9LbUOZ6XPTPvDXhHtFtRrVuHv37qy0QPExha+gamT6r/154NqU9ixTnFhOvVqN6hw/QXxZqjxgPWnTuNpmmr7W/g44pe2/j/k0t2kLqsz8GOb7mH+G+4tja/c04Cb313SP9Vfsb9rgJmPaMHWJaUVMfeI30D5wjfAXNk1RfwuYWlyzdq28ImMD4gNGjxnNBw8d4oMHD8qGadR79+/zJy8viz6jwYF79fjJE3GzGDFiBM+bP098OFUHJdOrShmQqXd3fYl27I8pWMQTYDO5NmAqFfc88JRqcCiFmmPEjCFTwqZMFGEJTI8XLlyIN27aKPXxWp0j6hcuPoVUOabus2TNzBdUO0dd9Onbh5WiI9Pb5cqV4wcPHsh0thpE5Zn/WuAmkCBhAvmtr6lXg8+BC16u3Ll59+7d4jucLHlSecYHDhyo7xEy4Frwv+f/E7cdtAkwZ95cuecJEyWU/j0waBvFShSX/gBZUxCvcuDAAYk1iK/GGLgcVP5CViLE/aD/cVZ9S+D+pEnTJjI+mfo37BcjZnRppybgQ494oh49e8h5169fX84H/dSQoUP0vTTwHJuyEiH7ytdiijFAjFJYBde4Zu0arlqtKkcSlxu4TEbmffv363uovtfTU9w0kXUKbQWZgI4ePaJ/GhA833DtMdV/mTKlv8tdbeOmTWp8cgwQYzBg4ABxGQLohxHjhHaEbdOmzVyyZAkZixo0bCD9KeLEZOxSG84fmXLQfk24qX63ZevP71G1qlWlbytUqJBeEhD8do4cObhLly7i7oL4BrhU4Z7j+l1cXaRNmsCzgjEEbj5ok0+fPZW+3wQyXC1dskT/SwMuaxifcd771fWhD40QMTzXqFmDp06dInFqcLMKr8rw7CnF2e+5wL3dsmXLZ2MKYoBMWZrQjy9Rv5kzVy6pH1xvr169/J5pMHr0aInBQf+L/XHO+E2lqOl7aL9Vs1ZNOQZc/0yxYMiChec6Xnw3fvkq5H0/6hZ1Bzli69ateqnBzyRIxQCdAW6q6aGSTXUc6DzMN5Ow+Fm53/e0jhqNG8dDA0YgYa7cubhNmzbSMJEKDo0LPoA/CjQ2PJzmD+OP4uXLF2pgGM6ZM2cS4RnXba4AaHWkBG8MSvqGjiRipIgyaMIvEr622NBRy9+mMv0V5X6fmd6btkD7fPaZ2sw/wxYrTiwZeFOnTi1bqlSpxL+0VetW3K59O79t5qyZIqRjWxtog7/w5s2bea1S/nB/o0ePxtFjROPUaVNLoOq3An9VdPaXv8LHHJ0YBqWnT58qIf+l+FaeO3eWu/fowW3bteVOf3fiA0qhgLCJc8e1o2OU2AO1YfBZtGghlyhZnLNmy8KZs2SWgCgE3U2YMEE6YWcnpRype4n3O3fulDiDjBkzyKCEthYSMFhEiBRBvhdaQXuhBQaIGzducPsO7UV46NOnj7qP1+VZAlCO4IOLOoN/MuoS3zmrlLfUSgDDoJY9u+ZPjjpt0KB+AD/WkGAoBqGLt7e/MQbBsxj0kWowpLEh6D8nT5ksMSf58uXlrl27SjDrtBnTpW+HggslwBIQimBoQl+ImAP09xDSEMgrikGVyvqelsmt+hT0m/Bvvno1oF84FA3EKJjGHAgVU6ZM0T/VQP8EZQHjDfqHMmXKiCCHYy5YsFDfSwP9BhQDtN2lSwMKbCFh2LChcuwWLVvoJWEHBBejbjKp8QnjN+4H6gBGKzzjJsEZfdjfnTppY5XaD0a+KUogDTyG4m/4/mO8QF8gx1JjGYRlU1/xLeB+QTFAzJhJWB03fpwEuyJexgR+f8P69RJPJoK5+v3GTRrLdRYoVEDOHdcZSZ3Tgf0H9G9pxI0bx6JigBgDUQxUv2MJtOVEiRMFaOtoV1A8TDIQhFuc944dOyQ4H/IAxkTUI+JrRo0a5XcdtWsrxUAP3sV3NmzYIEY2nDf60XtK4Mf1NGzUUP62tbOVusaGOkIcD/rqL9G1W1cuoJSlkaNGcvv27Tn3X7nYzt5W4scQcA05DPUJJQ/9LQw7efLkkTqHgQxtA+ljEWcHg9jy5cs5ixofUe+Q66B0mO7V2HFj5bkOr64DSkpIwbMJRQNySuDn3ODnEKRisG79Ouno8ZCj4aFDjR8/HmfIkF46gCJFC4vlFnmO5bVYUbEsFlblBdXDCC0RDcWk8ZoeFlPHjffSKasNwZqJEieUxgDr1YIF8/nW7VvSMUGgQ0MzNbZvZd26tZw9RzY+cMDfGhIa4LyglZsCsjDYtWjRQjqVAEqTqks86DFjx+Rs2bNxqdKlJLhozpw5smEmBdlzDilhFYMc8hJ/th0L9F7/G7mLA3xm/rna8Pmx42ofs8/lb/XZcb08JJ1KSHmnOjAI04MGDRRryq1bt/RPvo1FixdLZ4/Zly+BgWjfvn0S3FtFCRqxYsfiDEroRoYgCEG4L2hzyMscUQnkEPZhBcO9yZEzOxcqUkiCa0WJRbtV9w1CBjpOfA9tGkocynAvY8aKKfua2jnuNzraufPm6WcUPKdOnZROHsFx3zOI/giQNUaz5mKwV9elXpFhCYqRyRIIRQEDJK5/4sQJUgYWLFjANrbWXKduXQl2y5U7p9QfBBIIpAsXLvxMwLCEBB8rxaCgoRiEOhiAYY1Fe0U2mZD0sejroPTHjx9fKbMZ5Z5ipjBL1izS3+E5ghXXEjj+bNXX4dlD8CcUfiiKyAKGZ+hL6xiMGj1Knkfsi0QD5s8Ljg0rpvYcaoYXBIJC8TYxZMhgSRCAMhgDoBDhecXzf0T1geZoikEUGaMCZ1sJCZgxQN0gk09YAoIWMs5oY7s2NuFeZMqUSWYPAOry3r27MsbLGK3qEgYejFHmzyzeY4zGLCv6RTmm2pIlSyp9cEjaU3AguxsSRyDI1WT5hkU8QaIEYqhA5h8YZNq1ayfXgHNFMDGyGZk8Enr26KFfgyPXb1BfjmGOKAatWn52rpgxQH+HBBaYhQ4M2keSpIllfEMbRj3MnTtXZsxwzjgmylFHpcuU0gR4zKyr88T4gXpCnn6TdR0JAXB+uM5NmzaJsQ77YSyCQnNfz0oEOWOZEsZbtGguSgvkCMgPyC4UEqBcQGnNlw+KSmbOmzcvd+/eTZR7Ux2cOn1KnueKlSrK2In7j5kXyDbYp1///jImIDgYbRxjMxQdWPfN6xGz+5jdwz7z58/XS78MlA/MoMBIelkpWwY/nyAVA1gvkcIM0e/ISgLt8GsEFww6N5VAiHRWgwYPUgpEUVEWoATgQTUJzSZFQdu06SxTZ4T9s+XIzn936cwTlNCBYz169FCEEpO1ybQFBRrq06dPOLsS+vAwmtKWhRbI3IBFPurUrSPnhAcPD5FJSIR1IKt6yIYOHcrbtm3zU3T+ZKAIYOGXDRvW6yXfx7jx40XggPXiSyB7A6aH0QGjk0bnjUEN9wIKLqwQ06ZN46Gqc4SQi7YGAQGLF5lApx9PKcG4h3A7wIB448a/3K59eynDojez58yWThyWI1jeMPDgN3L/lVsEl0ZKIAiuXZpAhwxBqXWb1mFKMUA7hVUI11JPKVlRlfBkmtXCQLBx4ya/dozsFqjHtGnTsLuuMECIL1GiuFi+sN8NJeBjQEfWGvQpUMp27top+waHv2JQ0FAMvhO0L7RtWPlgKEHbO3fuvPTFEF5Coqi9UQIQFAMI5mDNmtUy22YSNPGMYcYI4PfQV2MztW2MK3CHgKA0Zcpk+TuVrhh8acYA7iJQQvA7MWJE/2xmAu2jU6eO8oxiPEGbrFCxovTLuDZk0oIyA8uoaREonHfpUqWkjcJ9cNy4caI4iGIQVTMGfItiMMxPMWiol/xacH0wrMAlSMZfXYHCM4tUzh8+aJZr7Hfu/HkRSFE3uC8ZMmTg02cCpt+Ei2HXrl1EgNTGa00pxKwy6jE0wFiaLXt2cZ3BPTSBcTRp0qTS1qDU2trZSDpVGH+OHz+u76UBBWGSamdQfC3N4saJE5tLlir52WwtlEhcF9x/nz17qpcGBN/DWJBC1RX2w+wxZpYDW8cvX74sGZRWrlrF69ev502bN6vxZqIYT0wzBucvnBeXa8yOQsmBwWnR4kUyk4d+EvLUzwJ1VqFiBTkfKB/Dhg8PMPZibMCMQ4+ePWUGHkK/+QyOCSgraA+FChfmf4KYRbTE02fPRCGJGTNGgDStBj+PIBWDbwUDAKz9l9TDcPPGDT/hAaDjhraaJUsWpWGml84HLiIQjDSrpNahY4N27acsqAcUAwk2aKBIrQWhT2YrihTm4iWKiW8jpubgEwf/c9Mrprrh6oGOCw8xpvtCk9Vr1sg1QBkwdTxY5Q+WK5xjSKzcfxrIrYzBHxaf0GD8hPGqLhPofwUPZj6QfxkWJUyLov0hbSI621JKAMBgjbSJALEEGPggzJsDgR7CK9rlATN/W8QxID1b9Ro19BKN7Tu2yyCKWAFY0/Eb6FhDIsiaFINWYUwxgDKEZ/IvVTe9+/SWwRduBMeOHpPZk6pVq7CXt6b4oPPG4AjFAX7BAPWOuoAAZvJ7hVsa7gN8VLFvGvVcmuIzgsJQDEIHCOc9e/WU+se9xIZ2CsFI+lNVxyFRZCFAYXYYrmMmYPnHjA7aMazvEIQAVsTFzBrcJ2BVBt6qjeO7aFsog0AB18WQKAagfIVy0pdjTICrRuBzhpW2tO4iZDI0od1CkMG5mJQBEYzVa6JEiST/u0kRlmexVSt+9OiRn2IAReprgeFBFIOGYUMxgGKUN1/eAGMs3i8J5CYFZSspYk+gFKjzh/ALQdEc1FXp0qWkblHH2FIo5RD9Y2gDgdiSwooyjK3Tpk/jiaqfwSzVt/SfGBugoAYWvBcroRx1AEUULk2WQH+EmU8oHdj27N0TIuU6KFCviP+BcmOaIfkvgvuKfirwuGzw87CoGKCzRkCnJS0wKLAvpnrhY4qbapo2ixYtmuQgL16ihCxcA2sjOhQIBpgOgyAHtyVo6NVrVBPrk5OTNv2E/bRO3HxmwfRe26SjV5tJcQi8yXHUhuNgAZbr/2iLgIQWmJLG9cK9yqQYQCiCJTkkFu4/ESgGCEL62kVeggLWN1hkQgIsWQgCgyUJLi64F6PHjJG/0Z5ix43Nl69oggssO2gfObJnl79N4DsIoMR1mAseaONQKmBNNAf3OY46LiypELJwzMaNQzpjcFKEkbA0Y4BBCbEDeEa3bd8mOa+hIGDgQt3A4or7a1pQB2Vwn8Pz1qRJY78yCBR4nhHQBkzKBiyN9erXk/eIOwgOU4yB4Ur0fcASjr4XsUQdOnTgOvXqcvLkmmEG7bVIkSJ+il5w4L4iRztcNszjEqCEDxo0iBMmSCAzdCtXrZTFBCFcw2UCsxKtW7cWwamaUtrxm4ULF5Y+M126dNJHV6wUvCsROHnyhObCoI6HY5uUEHPwfKZJqxmDMEZgtgvnYFIK0E7xe1hTBAIlrglWWfG1V1u3bt340WOlGOjug6Zgza8BBjB8F2NeWAB9UZKk2noRJqUoWfJknwVxt1H3CEoa9kPMFPok1I85u5TwGj6C5v+OY8FYAjfY3xFcW+DrA1gzBQYmXGPffv30UoOfAWYjMSaaz+Ib/Fw+yyOmOhDq3r2bLMuNpc9DihK4qW/fvvT8xQvy9vGRvLgRwocnpXpIise9e3fTkmVLicJZkZW1jeSIRoo75MQtWLCQ+s0etGD+Qjp18pSkSD148DCNHDFKUl0ip3CihIkoUoQIFN7FFcqM+sVwkidSPdWyaXkzkTQznKTXQqo7pMeKFSs21alVh+LHj0ePHj+mfXv34XRDDeTuN52LCaT6ih8/foB0ev817OztQ2VNC9Vp+6XADAlIRzp/3jxJlTd27Dj5XutWrWjSxMl0UrWt61evU4rkWiq+ePHiUULVrrKapTME+E6CBAmoUKFCAVKsYX0ItFWkaANKgJbc8MeOH6d27TrIsvh29g5UrGhxGjBgYIjSs7189Vr9i6ck7HD1yhU6evQIZciQgYoULkLjVD3u3LlLrh91kztXbnqtrl0JVbI/ypC6zko9B0pokPS3KMPy97FixpQ82UqpkJTFESJEVH3FP9S/X39Kliy55NVGmtOgMSXCDUs19HuBPOvzF8wnBwdHmjt7Lo0aNYrmzJpNZ86cobt379Od23cltWbHjh1JKcT6tzT+/fdfSbfZq3cv6ZdxXxs2aEBKiKZBAwfqfTFJykKlwNHzly9kbRSks8V9y5snDy1ZskTSK86cPZNKlSpJL16+VMexooOHDpIS7Mk1vKu6vdraIe/evZPjBUXmzFmoRInicuwPHz9Imly0t549e5AS4GUfpMidMnkq2eh9M9qeo4OT2uwpY8aMalwZSWfPnKM9u/dQ2rRpJTXp6NHI9c6SXhtpeb8XU72ElVaL8RDrR6RMkYJcnJ0llfjaNWv90l6awPUDR9WPNW3aTMZS3HNz4qt+E/nr0Tf7+HjTX3/9FSAl7O8Eri3w9QH0W6lSp5b3C9SzAxnG4Mdz4+ZNWrV6pYyxZcqU0UsNfjrQDsyBlQ/BPrAYpE2XRi8NHkxTw28bVgjMFCCgE0uqI00hppkR2AVfNG2FRFN8AaYytdSXw4JZJRAWC1g7YFmC7ycswocOH5JpSwTp4Luw8OD4SAs6ePBgyai0d98+mZJCJD1WqUyfIZ34+4eWe4sJWJXhdw3Xky+5RXwJXCN8smGh8tuWL5PYCljGfpfpRdQJLPyh4Ubl4+MrFs6Qzhh8DWhb8If9Wks0grUx2wVLNtqUuCiotg+LLNo1znXggAFiYf8SQ4cMldmMsDRjgFUscU6Tg7DYHD9xQiyw5un4Hj96LGlpMXtmPvWOfeB3i3R1V65cltU64YqCa4WLBvoD81WgA2MEH38/CAJEPA1ceCzNYmHmB8klYEmvU6eOzHwhEBKZ1dCWcY9gRcZMEcC9Gz1qlLR3zBKgT0b/hJXBYYlPkSqFxOTgWMjuAossZmrRR2rWaLgCOYgrKPo0+CBjvEmcNHGAJAgIZsyZM6f4k5cuU1rcQuEPD7cVzATgt5DZDtZdtKty5cvp39RcTZB5DPtgX7gMYdarWTPtGsyB+5s2JjnKuAXQl5tmDDAr/LX0799fvouUqGEJ1DdmdzBmWwKuWPCDR5sIqj/C/USbUgoUjxg+4rvHvbAIrhGWa2k/qm2YXOEMfixwN8VMcoeOHfQSg1/BZ4oBBCXNF9FR0siFBKQcReS8ydUH09MQluBeAcEAfos+6kGDgN65898Sca9N86r91Svynn/J7QQ+gOcvXJAsBMg3j1RoEEBD4u6EgQtR81rAo+ZfHlrcvnNbAlUhKFma1g4JUF4wCKdRihgEKzwYpg2DC4KsYseJJbESf3fuFOaXCQ9dxcCH27Rr+82KAQYtDPajR4+Szh1xJxAEoLB+LXAvaq6EI9xrDBjY0I7h2hA3Xlxpy6ZpeDwHCIazlNPdnCFDhoQ5xaBR40bS5tas0bKUBAYBxlC0c+bOKW0X4Pls0qQJ29vbiXJuAsGgCFB89fqVv2JQvKgIbvfv3eckSuhDoDoEEksYMQbfzznVXyCQD2l0zYHwc+bsGcm8gjaLGJkUSrmTvln9DWVXew93TQfV92gBx0AE+kIFZb+EiROKix7aPGKLVqxcKcdGxiMoAzDo4G/0w0jLK32+2t8U74UAR/wWMtOZAorRr1eoUF6MSRCy4auPIH9kxtPiz+AWZM9ly5WVZAcZMqaXfW/fuSPfBzgWxiJtTHKW8QxtzTzTCQTcFCm1QFvEBXnobUxiDKAYqOtDeuOvbXt16taW/hsucwa/Jxi/ZI0A1V6Rge7a9WtSjsxOU6dNDfV4xf8yeN4hR6IPQtbG/6obdljB4owBcuKi8w6pYoB0WSLEYhBRnbAISLCgqvcQnuDbuH//fhkcIEBAsIcFS9tfC4JKp34Llp/AIOsPFvpAXvk4SqjAwIOBAceFtbZs2bJfbESwkGRXjQ3CDmYTQhNkPEL0Ps4FuZy/Fiw0VKAAci0jnamLzNbACva3UqA6duoksy9FixeTHM0YvHDdiONAcFtQwtT3gMEbvvfwkW3RsgWvXLlC0qd+zcBoUgyw6NX3grzrbdq2+WrFAEL2oUMHpQ2jbSJjBja0TbymTZ+Oc+fOLZZIWEeRIeL+fcsZENBpIRWdln1Fa3dYvAt5mpHVA2l6oQAgkBiZvOBjjfuJe4V0cibh2RIQopGutLW652FBMcA51KpTS54zxBl5KQEeGZZy5colllM8wxDqc+TILsH1JkEOYAEetFHkyTYBhQfPHmbD4M8NBRcpjdEPIJAV9RNDte2g1rkwFIPvB20TQjNSz6Iv3bt3r8SOIBgZCi2UWQjqmJlE6kK0ca3vRhvWFk4aP378ZykRIfCjj8Cxo0aNIgkCEHBsyiCDfgOB6lWqVhXrf7/+fSUDGNI5Ll22zK+9I3EEnhf85qrVq6QMs21oG8hOgoBlgNiBlUrpkNSYav+ECRNK/wn6D9BSKCJuwGSgwfEx620ah+qp5xwzI1BUp8+YIYIIFufD95C+0TxmAu+hGOC7GJtCus6DCcxO4LjIp2/wY0BfhP4B4wMyowUOIP5e0O/XrFVD2g7aG+SYHj16cOLEieW5QHr1oGZeDL4OyHkYSyF7foscZRC6fKYYQNjEugQY4JFaMCRgJgDuAA0bNxL3F0Tq429kAULHCgXAPKc0OmxMCUPA0gQoTYhCCkgTECIwnQThAwMVOlksYINzgvAMgQ6uHLBYwTUhOPB71atXlwFw8BB/a2ZogBmWJGpgxGCHNG9fA2ZJ8DCgrosXLy6CVWAhElP/GCRhncCgjoEPwi0sYZ2U4mASlnDftm7dIqtVY5EapBAbM3aMWOOwQNWOnTuCnV2BsIe0tKhfKFA4J9wbbJjhwRR84OwUQYFZmdBSDND5Dxw88KsUA9xvuGSJ8qmuo3HTxpLqEMIJytAmtXbpf40iAGRIJyuxmnPx0kWuXLmypNmFqwUyJWDWylSXWM0bLhHmQLFCWkDcJ/x+9x7dpX4t4a8YhI0ZA7Q3BB1idg3uerjnjmgL6hmEkmpKPQl3E1hh4VZl4vat2xwlSmSxTr/V3d6QzxvP7clTJ+WZRhYcZPD66P7RT/jDLBkCky0B1xI854UMxeCbwTOE7C3IGKQpyS7Sb2KmCgHmyDxz7vw52Q99OWZ+cufJLUYXpFkOLmUgvgPFA9ZV3CtzVyW0lb59+0hmF/S9+G0ohjAkmbd1PE9wx8Q+SEIB8F2kgEbbqFevHvft11eyBcE4hLaYSI0LeKZNx0G/ifaJY0BhGDBggCgm1Wtqgh02uLsikQEUdwlAVhv6Oix0hus2B+0eQcvoG+CC9bVGmGzZssrx4QZp8GOAIlClahXpY4Ob4fwe4FKFxT61ccJ/3EA7w/oJoa2M/FdBvwHjEGbqDH49nykGPr4+srgEOs6QKgbAW91Y81zD6LCRdsu08BOsLibFAGCQh3sH8jwjS0Wt2jXFvQNWoa7duskAgo4VAwOmuocOHSKLgWB2ANZHCFqwfEG5gNCGWYHggCUXx8PiLqEJrhNKD67zxIkTeumXwUCDrBwY5OqqgS+kuZ9xnVAIMMUJ9y3MxEA4w+CFujJl3EAHhnOSQVGVIYtE69atLA5wqM8OnTr43StsGKiRwQSCA/6GkIvVSkOiHGClR7hXhYZiALCGxdcoBhAYYAGF8oSFhkxCOSyT2jVqLg/iLgHhXTp8Va4GGChBJj/jpcuWitInA4H6LGeuHJ9Ztp8+eWKx7c1fMF9XfB2lLoJyq/J3JWoVQFj6VUDQg1IfUZ37kSNH5ZlGBhq0I6yUiXN8q9pQ2vRppRyzJCYgnMHPHIKgyTUQwh3aJBQobcYgtij2aIdQDKDg454ElRLSXzEwYgy+h09en3jfvr3cs2cPsbAiZSxis2CMCJzDHbx589piPMLXgnu2ectm9bs9ZYbC0nOAfZA1CYLWQ7PZ35OqbSFzEvovbHZKGEM/lCtXTpkpQFs1B+NLG6VgI0uO9HnqGTf1X8hgZFJc0GbhUojrRzyMpb4Xx+7YsYOsgwIjS+Df+hKaYmAv9W3wY0C7SZ0mlfTduN+hvUaRCViw4d4iLmyqLWFcgTIdWJk0MPhT+EwxAFjyGoM5lsH+1sEBDy0sTc2bN+f0SlhYq7R5LFgSHLA8wSKODhXCPlZexGqM5oIXjoEHEmnW0GHDaokAry8Fei5fsUIGiOzZswdpvf1WJFhbCY6YLQkpmBJHB5Mvf95gXU0sgWvNoYRULKiCpdSxGAoUDEzpI0Vgjpw5/CzcyOmdPUd26TwhgCF1ZGCrXstWrWRfCLGYpkcAEJSus+fOiusV3HFwfRiU4afsHszMA4AFMDQVA6xjEFLFAP7GSH8IxQj5983BQj0QcGHthvIChQN1BSFXEyA0NzhYy9FuYVlF+0LdwfcRrjUhBXWsueRpSgWslZaAYoAZg1ZhRDEATZs1kbYJKz7OSbOyRvdb6OnwkSNifcY6BOaDI64Z7QOD9Aw1SCOuKFXqVNLuoDSj/hCPASEflraHDx9wylQpRAndvWe3fpSAmFyJDMXgvweEcdx/KNlIawuXtrXr1gYbHwRFdtfuXRLfgxnA1Gm1BfWwoNTXWnex/81bN79pDIRigD4Zv2vwY4AREesamca2y5c/d0UOLfBbUKLXqPaHGeGvHbMNDH4nLCoG8BuFAAWr69dqxehM9yihEstpJ0mSWITK5CmSScYSrIQKQQh+yZaE817IhqKECgiB8Hc1dcgQXo+fOC4WHLg5QQBOlDiRElaiiVUW+bGxbkBwVh3kWYawAz/b0M6iADcH1Ne0aVP1ki8Ddw0MHNNnTNdLQg5ybIvvrBJiNSt3FPGxNQW6YnCESxFmWhC3gYG0krof2BdKhLmV9566vyYrOgJD0fkFvjewmEAIhGIFYRmLvwRHaCsGWPkYbeJLVju0l3Zt20obKlSokLQbczp36SKCqnnWHAib6OSxIF6kKHpQvNqgnGJfBD06qPeYxbLUZnFOQQmscA/TZiUceGIQGX7ComIA32tcP2byAK4RFlrT9SO/NNpu6dKlA8wSmisG06ZPF6EOLnYSfPzqlSgWOG7NmjVl/wMHD4gVDsGrQRkNTOsYGIqBwdeANosAacwiBOdC+aOAhRnPPbLKGYQ+uL9jx46TvkYMN7FiqHHO8grFBgYGX8dn6xgA5CsHXp+8JFd7SFEClqxlUL58Wdq8eTM9efqU7t67S48fP6Hbd+7Qnn17qf/A/lS4SCGaM3cOKSVC/6aGrY2NrEmAtQuqVKkieeBVByA5posWK0qTp0yR3Nf3HzyQNQnevntPnuoYyI+dv0B+OnrkCBQd/WgBiRkzplyXr48vKYFRLw0dbGxsJWG1l5e3XhI8OEelcJG1tQ3lyplLL/UH1/zy5UvyDOI8kY8c+eCVmKxeI9CokaOoT+8+knsfYP2AgQMGypoNqVOnlrzeQ4cOo7hx4tCr169oydIlfvWEOlfCmqoXH2rTui0VLVpUcl6bky5dOho8eDDZ29mTl7c3DRw0mP73v//pn36OEnDlGkILpJlGjnO0o+BQgiitWr2KnNR9xhoc9vb2+icaI4YPV23kKCmBVi9BXTpQ5MiRqV27dtS/bz/cHO0H1f9VqlRVx7xBDup4DerXD1AvuEbUwdZtW6lWnVo0YeIE+vjxQ4D29/TZU7885g9Vmw2OcGTxUfwl5M2bV/JI79i5U9YqQJ7vLFmyyPXjulesXCHXmSlTpgBrVaDNnjhxgqxVm4rv5kanT59Wz5q7rP2AdnpK/Y0HBe1JKRm0cP4CeU2XNh25urpqBwmElZW15FJXwh0pxUAvNTAIHrTZ8OHDU5QoUfzGs5+OevjZ178/MAg9njx5QtOmT5N1hCAzFCxQUMZEAwOD78eiNJIxQ0ayCmclg7+5oBMcT5US0KBhAxo9ZpQa7H2oWNFitGjhIlq9cjWtWL6Cxo8bT4XUwwsB4OnTZ9ShYwcaP36cCBomWrVqpcomULWq1fQSouvXryuFYDJ5en4SAcHZ2ZlixohB6ZUwgcVanFWnjyWQ0FF06dZV7eepfzMgtra2MkC8VoIxhJ3QJHny5PJ6/fo1ef0SEHIePX5EUaNGIScnJ71UAwL1ipUrKWfOHFS3Xj11XY8/uwcPlFLx+NFjEYCHDR1K9ZXQagnzYydNmpQKFCgg748ePSoCGcDCRKNHjRZhuWLFilJmieLFS1DVqlXlXO7evUNr1qzRP/nxoE68vLyU4vlcL7HMTiXIPlf7pEqVmgoXLqyXBgTCAtoIlEPzeoXQ26hRI8qXL5+UQyBduXI5Xbx8iTJnzkyxY8fW99S4cPECpcuQTupky+Yt1LVrV6pUqRI9fPhQPv/w4YPcZxPhrJSmYQH/cwg7AgQWiUNdfPjwnnr37iV1b2Lnzh106dIlcnFxles1Z/v27XRDKVLx48WnAgUL0qNHj+T60ijlFAtR7d+3j2yUMpz7r9y0c9cuWq4UDAcspNSkqX6Ez0EbhoL36tUrevP2rV5qYPB78O4LC7YZfB3oTzDW16lbm+7euyNlsOM0atgoVBbUNDAwCEIxiB1HCUHqYYPQjlUhvwQEhwEDBijBYJt6OO2pQ4cOtH79eipXrpwIaMWKFaOmTZvSZiVA7d29VwQtH6U8DB8xXIRUE7DutGjews/yDSAQfPrkqYRDHypSpAidOnGKrl29RseOHaPTp07TgQMHqHLlyiL0nz93ntw9LFsVsQpx2nTpRWmB0BaawOIJwQ4zJCFBrOlKDnRziyerw5oDYap9+3Z0/+EDWr9xPdWsWSOA8gRhs9PfnejBw/vUpUsXpRQ0kHJ0mNgP9wLH9xc4/XFSSpVJ/sRsA8CsTAN1jNWrVlOSJEmkzBLodDv/3VlWs0bbmDV7lsXfMAEx2LIo/PWkVoI+VkoNPJMRmJu3bsprksSJ5DUwOF8oD6XLlKLiJYrTyZMn9E80IITmyJ6dWLU1cP/+A7FSx1CKKGYWzHnw4CG9ef1G6jEcVgdVgv+evXtpu76K74H9++mxUv5w3lCy/8r9l5T/DkABb9WylazejVmD3r17S7s6d+4cNVHPMZ6fUiVKUgqlmJvA5zt37ZB73rpVa2kvmDHBPcMzWaBgfrp89bJSKFzo7u07FFU968nV95s1ayb9Q1Bg5iJK5Mj0/Pn/6LXqCwwMfgfQ12B7/OSxXmLwvaCPWbN2rXgHHD5yRGaFMNbVqFGT8ufPr+9lYGDwvVhUDEzyHqyqcM/4EidPnqRFixfJtF7LFi1p0MBB+iefkyZNGlq2dJkS3pLQeyVgDB4c9L4gV65cNG7seOrQvgPNnjVblAZYEGHxhnU2QvgINGL4CNq7Zy/NmzuXwrsqwTUo9At79y50LY9+1uCg5eQAyBLs6n8oO4GFa1wb3J7g2gOh8vSZswEUmV27dill6ghlz5admjVtppcSXblyRQm8pSl6jOhUvXo1iwqdLVyeFMxQTEJ4smYkTJiQChcqItPjt27fon/++Uf/JCDa9YULNRs43FisVB0Hp4gAzFoBKH+W2L9vP1WtVpUOHT5Mx48fo6HDhmtKmhmm38Al2NpqFigoXIF/OzxcX9Q+KMd9xP3Kli2rGqSqy+dTpk6VgUztopTS2AGEaHNQV/itEDeenwRmkgYPGiz1M27COEqTNo0I98+fP6cECRPQ4CFDAljoHiqFFkpExIgR/WaeLl++rJQtZ4oUMbJWoQpY/dt1aK+Oy3Ti2HF5dr+k8MHYgOr/0v03MAgrmFyI4Lpq8H2g/4VBp1SpUlS7dk1xT8bYiDqGwWXihIlf7EMMDAxCjkXFwMXZWQk0EMR8g3TNMWf2nNlqPw9Kniw59erVUy8Nmrhx41LtOrXFNxCCA4CgD4vruHHjaMDAgdR/QH/Zxo4fR1mzZqWhQ4aKsAKuXbtG2bJno1RpUlFKtSVPkZyqVatGN27dpLt378o+gYHA7RbXTYS4o0eP6aWhA5QTuJ48fPxQZji+BIRBWGWvXL4i06Lm4Bp37thJU6dMo3Rp01JatcGqb2L5ihVipe7bt5/fbAOUgM5dOtPeffvI85Mnrd+4QXy9A3P5ymUlfjLFjh0ngFAXUnAeadKmlmN4uLvT+fPn9U8CgmvDLM+nELSdkGAS3iFMBof3J83lxZL86KMG6N59e4uyi0EFdRg3dmy5FyYQP/Ho0WO/sihRIovrC9zQcE3moE2OUIpFlcqVxQVu5MjRtGP7TnJ0cKSevXqptrxbhGEf1d7Kl6sgSlVwhEWRt2LFSjRl8mQRzO/cvSN1FztWLHEPxAycOQvmzxeLfu5cf4mV/+DBA7R//z5Rjs6cOU3NmzYne9XmULcf3T/S4yeP9G+GAP9bZGDwW4B2j6c6uFissACe6W3bttHIUSNp1OhRdOTIEf2TX8+///5LkyZPkrG+fIVydPDwQdUXWIlsgk6+apUq4oUQ2B3XwMDg+7CoGMClB778IQHa/LOnz+R9tmzZyDU4i70ZDRs0pKZNmlGyZEnFpahQoUJUrnw56tq9q8wiDB02lIYNH0Y9enSngoUL0tq1a/VvEh0+clj8nNE5wAoOYePO3dvUt18/yp4jO/Xo2eMzdyEIdhEjacFJVtYWL/ubgauJk5Mjvfjfc3r9+rVeGjToyBImSEjuSpk6ceK4XqqBa0GwMOIGMAuyYP6CAB3fFSXcJ1JCpimuAcDdBS5IqA8IxbCkBL7+DRs2iPsVLCsVylfwE36/ljx/5RHXGB8lrCPY1BI4toeHZ4jc0EIChHj8HgLPgwOWbAjYn7wCBrUD1BsUI5ybj1IAypQuQ3369g1QDwj2vnb9qrgGQRlJnz49OTk70alTJz+7VtyTVq1a05zZc2jk8JHUpnVrcWdD0P1kNZhBh8G9iB8vHjVv3vzL9a2+ENYs4mgrDdRzevH8BRo3dhx169ZDZvk6d/6b3pi181WrVtH4CePJVSnImNLHc1y6bBmlHHrJdY9Tyj0U99at24pyifa5Y8eOEF+vCAIGBr8RMsuovw+LwOA3c+ZMypw5E1WpWpn69OkjLoNVqlYRD4CfDfqC27dv0ybVfw4fMUI8BXLmzikGrytXr0pfalIIkiZJQvPnzVfnP0uMDQYGBqGLRQkZAgGspGpU/6LFAwGKr5SQAGEqa9ZseumXgUV7w8b1SmgYL5mMTpw6IcJY6ZKlqXmzZlS0SFGysbKWzgBCWceOHfxcV4oXK06dOnairVu2idX98qXLNHjQELGwv3//TmYd2rZt85lwbJrW9RZrTuiBTg0dl/b65eEAwlK1atXldeXKleo8/YNUzdm4cQPlyZtH/LpNGZzwnRTJU0qAqIlIkSOLq1WN6jUof9681Fd18sWLF9c/JTp77ix17dZV4hNy58xFJUqU0D/RBjD4jn8p448Jsdqb5DR1LkHhy770NpRctpA5Ce0xqCxNJlKmTCXtBQrQVTWYmBNPCeiZM2UWV5cmjZvI9DMUMHMePHigz4KEk9msAvkLUGmlQNxSAxaEe1iwzMG9gKALpRNtd8+ePdSwYQPJlIWqsbOzpf79BgSImQkKDqOyL64NsQaI/UHMxNu3byTIfu26dbRgwQLVNptQy1Yt6KNSTlFniDVCgDJm55B8oFu37qqNeUu99urZU4K70X4OHTzk5/plYPAngX7W85PWV4Vkxv1nc+/ePapWvaokAIFLKGY3bGzRj6neUz2b6NdCG8xMIGshXJP37t2rxraNtHjxIurZq6d4D2TImIFy58ktMXX9+vWls+fhQvtRnYuWBAXjSfJkyWjsmDG0f/8ByVpoBBsbGPwg1EP3GciH7+YWV/K5V65SSS+1DFYiRk595GyePWe2XqqBlSaxAFeevHllGXzVAUk51kbIlDmT5P7HQlTI+Rwvvpvk2ceaAEAJ9bxi5UpZcMu0DPnkyZPls6BAPnosJIVFlJAfPfCCYyNGjpC8x6lTp9ZLQges5oml+rEIFnL+hwTUQdKkSWRhrYULFuil/uD6M2RIL3n1I0eJLDm5gepAuUKFCp8tuqMEU8kzH3hl41WrVnHiJInlujNnySzrGpizYeNGdd7RZV2IwUMGW8zVbw5WWpb7oe7d1KmW123YtWuXLLCGBbJCA6zMmjZtGh4zdqxeYhksepc8RXJpR8WKF/tsISTk0se6DWqw1kv8ef/uPdeoUV0WI8P1uYZ3lbaNXPxJkyeV/Pvx48eT9TnQxlatXi3rIWC9jbnz5sjaH1hPAu0U3w+vvj9q9OgvLqo0ePBgWfm4ZauWX6z7Xw0WH5TrU20Sa1+Ynku8ytoPqk0kS55MVpjGgkBgypQpbGtnwxMnags9jRkzWu4P9g/puh9YkwJ1i5XPDQzCOlhvI1ky1Weo56FR48Z6adgA6/1g7MW4gj4Niz5iXL3+z3XevHmzPGM+Pj6yGv65c+f48OHDfOjQId69e7csCrlhwwbZ1qxZw6tVH4g1TxYuWiiLjc6dN09tc3nEiOHcoEEDWdW8aLGinPuv3NJ/ox/FejSRo0SScQ99gKwbI/2H1o9o/QpWobeXvgVjauWqlXnhwoUWV5g3MDAIfSwqBhCosmTNLA9mmTJl9FLLQIAtXKSwdDLde/gv/47OMYsSRCFoQRDIpN6/ePlSPhs1aqR0ArFixRSBAQ/8mbNnRajLly+v7GOieYtmWiemOopu3brqpcEjwpYShGvUqBFA2Dp9+rR0QImVEByafPz4kdNnTC+dGjrSkDJ23Fh2Ce/C0aJH4759+/LFSxdFaIUSMFx1rqbOsVLlSlJH+J2ChQoqZSmKdMrBCZJXr17ltm3bSieMe1O8RHG+fPmy/qkGvt+ocSO/38E9Waw6eigZQYFBAh037sf0aZYXZwttxQBtLF36dF9UDDCgjR8/zk/wxIC0d98+P6XKEhgAd6lBr0zZMvIdGZRUXTRp0sRvwbF9+/aK8ot6xLGlrtS+Moip92ifpjK8YiXfCePHh2il1d9JMYAQgAUG8xXIJ/dDBnS9vjCAd+7cWVY7N2f9+vVSR53+7iR/Hzt2jKMrRRT9QoGC+eXefglNMYhsKAYGvwUwQCRKkkj6i7CkGMBolL9Afq2fU1vjpk3ECAgDyKZNm7iHGr+rVqvKuXPn5nQZ0nOcuHFkrImiNiwkisUK0eeZjAIizOvH0vq+gIYCvJf+UvpMVabKTYK/tpn20fpV/I1V5zMrxaVevXqibGAcgyxhYGDw87DoSoTFiBImTCT+fJjCCw74WmN/tTNt27bVz30HrhXXrl2X6Ukco0TxElqqSwWCjOHC0qxZcwncRMBt+nTpaNvWbbR06TLZx4SdnhkGIMA3JMR1iyvToS9evZQpTBNwd1LXjHdaQSgB33JMa8KVQjt+yIBLS7269dQ5ukucRcmSJaiE2ooVL06DBg9SNRqOIkeKRBkzZqRy5cpS9RrVJec7AqlbtGxBrdu0pn379olblmlTigkphYBKlipB02dOl5gP+I/CrSNVqlT6L2vATaRI4cKSkx5xJfD9HqHOI6jYAFzbvv371L31kfzzGTNl1D+xTGhOSeO3EcwcXP3ieho2bCTpaxH0iwW2KlQor+qzmKqPklSqdCnJbGH+WrxEMfGr3blrJ05Y2i3cYPr37y/HA/ny5ac1q9fKvYoePZq6K8i4hGxEvggN0M5Jf02WJCnNnDFT3Z+WmjteCPkR0/ehjVK0VT2soQ3rNkgyAJnKV9ecNUtWyTQ2dOhQcnNz0/fWUEIGRYkchfbu3SNuiWjL2bNml8+UoE87dmyX98EB10a40rm7W3a5MzAIS8A1B+NbKA8z3wX6prFjx9LRY0dlPG7Tug1NHD9BYtPKqz4S2drGjB1DGzZuoNNnT4vbLhJpwEXw40d3+qSuCckZ0PuaemCMT+gHtRLtL1wyfgtxYep/wW8fvcDB3o5iqH4ULpa5c+WmMqXLUscOHWnxoiW0Z/deidOaM2cO1a1bV7K5BU4VbWBg8INRD/FnwE1FCaGiycMy+CVmzJghFgLX8C48e7bmToRjtGrdSqzhsFbfvXdXylVHw9lzZBcLwe7du6QMvH37ls+ePcsv9VkFEwULFvSzKsCKHhLgwlS2bFmeMWuGXqJx+swZOVZozxgAuSYHe96zZ49eEjLgJjNl6hROmy6tuK/AEo+6cXJ25DRp0/CcObM5TtzYUoZZkHnz5vGmzZs4S9YsUucurs5iycEWQW3OLs5iqUqYKCG3adNG3JxMlm9L4D5hJmXp0qXqe3ZyTMxcWOLUqVOaW5I6F1ieArszmTDNGGDKOTSAVRlT0eXLlwv2Wkw8efKEGzZsKO5kYqlSm2a10q1XasM1yGyWKvOzXqm/kyRNwgcOHNCPpIEZFGy43itXrsj1jRg5klu2bCEb3IhatGjOc+fOEesb9g0pphmDVr/BjIE5mL1CW5w+Y7rUd3BUrlJZ6nbLli3yN1z8nFW7RRlmICy5dpnTvUd32XfFiuV6iYFB2OXhwwfsFt9N+nK41IQF4EIEqz+eI7j3YLwFvXv3kvFCm/kz9ZOw5MO67yjjCmad4dKLsTx6jOgc1y2O6icTc8ZMGWVW9q+8f3GevHk4bz615c/HBQoW4DJlSnPjJo1Vv9aKu3XrxkuXLZWxEa6omDW8du2auH4aswEGBmGPIBWDGjVrqE7CnuPEiaOXBs3Dhw+lk4CQhQ7R5E4Dge748eN+nRCA73EaJQTDx9AkgEEw6Nq1q/hl/5XnLx44cKAISfeVkBUvfjwl2EFQduI9e/fK/t/KmXNn5RwTJQp9xaB06VIiWI8cNVIv+TogUG7fvp3nzZ8nG2IDUI+YVsU5Q4hNkTK5nzsF6hwCVt26dbmEUrxKlSopG+IPIORfv379qwRUDBwiSKt7Dl/7EydOSBzEM3W/cM9wLnKP1Xlgejk4BehHxBikSZeGixQpHCLFAGDAQQwEFDaJOdGnraEkyFS32XQ2thixYogyjKlrEx6qXWJAq169mrilQckKbfwUgzatQnxtvxvLly8XRQDuWnBngKtFPiVA4H7AdeBLCiR8oNHuFi1aqJcYGIRdIPDGjRdX+tKwoBhgHBg6dKjqZ+yUoO8qBjgTBw8d0uP77DllypRcoWIF7tWzp8QN4Lncq8bcg4cO8tGjR/mYGstPnDwhcXT//vsPv3jxXMbuT0pegMyAMRt92NeMOwYGBmEPi4oBHu6GjRqJoBs7diy9NHiWqcEfwiAE2NRpUvMh1ZmYLKAIYho2bLjMBkCgTZk6lfjWmxQDWKwjR40sAho6KAQoocMZMnSIn+CGsn/+/Vf2/1ZOn0GMgeMPUQwaNmwgFv127drpJd+Ou4cHL1+xXK5ZlAIHewmmRWf8o8A9r1atmroGe7F0QZA2WYUyZEzPUaNGkfIISpCDtTw4RDFQSl6oKQYf3st5FC1a5KuFZ1i2MbjNnzdPYlS6du0isx6aVcyBE6trnDt3Lp88eTLAsaFY9FADJGZgsB+E9wbqHoc2v1OMwbcCw0CatKnlmd+xc6eUrVq1WqyRuA+YFQxu1mDChAmiGCxevEgvMTAIu9y+c4fjummKQf369fXSX4eHGk9MijhmkmGtR9wV+jj0ecePH5PEHDAOGRgYGFiMMYBvdfRoUcUzEP/4+n559cZyZctSg3oNCIsA37x1k8qVLy8pRgcNGiS+8b379qLVq1dT5MiRKbyLK3l7ectCR0AJkvTxwwcoKZQhQ0aaNXMmnTl7RnwiTb9fpHARShA/vuz/PWj+jqEP4hcAfNu/FtU5y/oHSIc5b/58SXnZsGFDevrsqfie58qZkyZPmkxJkiTVvxH64J6PHz+eypQqRY7i0xmOHjx8SNeuX1PbdfLw9KR4bvFo5IhR9HfHTtqXvoC12cJs3wMWDcP6Cd8C4j+QW79uvXo0dOgwUoqb+Kzb2dpSqRKlxFcea0Zoqytr9xDtcO68uTRm9Cjxb0VKUtPaBgZfj6urK1WqVFnSBE8YP05iWEqVKiFxR6qy6eSpE7RK9Q1BAsdltQW1onVYwktdI+J+gloV3ODPh/V+4seMNN8G+jyMJU+ePqWcuXJKXAHShPbq1Yt27NgpsXjbt28npcTr3zAwMPivYlExAAhIxXjs8cmDbt26pRUGAwSowYMHU32lHKADgtA/Y+YMGjh4EN25e1dWB86UKZPshxV7EQC1eNEiWfEYghvKo0eLTqtWrqKoUaNRIyUYv3v/To6N4MUOHdp/VTCnZXBFPwYEBOPoPl8hvEDQvPHvDerevbsszJY+Q3pq3rwZrVm7Rn3mQ3Fix5H1GbC6Y+LEifVv/TiwUNuqVatp/boNNHXqNOrZoyd179ad+vXpJ/fq5ImT1KRxYyUkB1+PuP+IpX2MRddCAQjsWH8AAvv3ckJdw8OHDySobdq0aVSlchX9E3+gqE2fPk2aS/Xq1dWLdr2xYvqvHWHwdWChtNhx4tDuPXto3fp16nlxkAWVkHgAQY19+vQOctVwFxcXufeHw9CqrEExd+5cKl2mNNWsXStA4gOD/w5YEyAsJRNAkoCe3XuQs5OzKC0enh507Pgx2rJ1C40eO0aN0QNpkBq727ZrSx07ddS/ZWBg8F8lSMUA2YQgGXl6fqIbN29qhV8AAlUUNdCbBClYWU2Wivcf3svMAAb41q1biSC9es0a6YiQEWf7th20Rgml69ato0KFC9KtO7fle6wUiIEDB1KqVKnlmN/Dj+ys06ZJK6+PHj2UVxMQ/lEv2MwFW7yH4pT7r1w0fuJ4WXQGHXeBAgWoTq06NHvWHFm8rUP79mL1/pnkzZuX6tapQ7169qLevXpT165dqWzZcnr2qS+j3Teia9eu6SVhh/89/x95eXlT4kSJRSi1BBSRjBkzKWUkMq1RbdTbx5us1DUVK1ZM38Pga8EK0DWq15QZNWTcunPnDqVOnZr+/vtvyYb18OFDWezIElglHCucY4GksM5t1W+hvfz7z3WZOTDQ+jr0g+b9358MDFwurq5h5nrRHxcsVIhOnTwlMwRFChWm8C7hZSbWxdlZni0MjZhNf2YsOmhg8J8nSMXA5BoDfLy99XdB8+zZMypTtgyNGDlcUpX5QhBWg4GvGiS1zZcuX7ks1sHixUtQ/Xr11QDqI8JxuvTpJFVn/oIFqOPfHcVtxSqc5rrRrVsPqlWzlv4rYResDosO+P2HD3LeAKlbGzRsQNFjRKd48ePR6NGjZIYEqd+QUrRjx46iMFWuWIm2btki6Ry3btkqS9UjNeTvurIjZnasra3o9ZvXeknYAfUPYsSMKa+WgGIwd85cGj9unKz0C5+AjBkyUrp06fQ9Qg+TsopZGNP7P5UGDRpQ3Lhx6c7tO9SzZw9yd3dXCmhdypAhg7hdzJs3l44fP67tbAZcudCeVIeil4RdokSKLK/oA9HXGRDt2LFDVnCHG9+7d9os8J8MjF7Ojk66eSzsgDEKs8Dr12+gJ0+e0IvnL2S7cP68pCBGutBp06brexsYGPxXCVIxiB49hpJWNGsPcogHB1wA4MN98uRJJVRZU6GCBWnWzNmSk3jWrNk0bNgIsToPGTyEbGWQt6ZBAwdRl86dyd7OnnyU4vBBCQmwJkIog/AG15E5s+ZQj+7dpaMNDfwtOD/IkqMOCxcp0+9s37Gdlq9YLrmgX6o66t23j+T+z5kjO82aM1ss1jNnzKIFCxZS/vwF5Dt/AlAMIMzB3zo0CQ3B2RRHED9ewHz7gYF1umu3rqpNYq0CX6pZq7a4wP0wfCURgP7Hn0mihAmpW5eu4mqxdt066tuvr7gJjR41WinBtvJUIh4Js2fmmOrld6gdcSPR35t8zf9EcE8OHNhPEyZOkNikbdu3+Snd5sBg1KNHd4kZmzlrhnqOauqf/NlA0Ud7/R3abKJEialo0aJUuVIlih07tl5qYGDwXyVIxUCCMZUgBuv3l6bwp06dIoMEBsVOHTpKnEDt2rUpZ86cVFsJVO3btaP+/fpTnDhx/IS78OHDU98+fen4sWPUVQkLJYoVpzx//UUVy1ekvr370vnzF8Rq/v1xBeboAoYa1EJbCIP7FK5NXIf0AOSLFy7KK8q1zUrcsq5ev4aToM5/dxYfdihKfxIm63dYFHRNde3k5CyvloDbF1zcHj95LH+nSpmKqlSuLNcU2vjV0X9gxgDXV6dOXalLXPfkKZOpe48eEnvUp3cfeXYeP3kii/d5enrq3/LHNBMX1pE7qv4Ji+0/NIDC339AfypTtix16dqFunbvStWrVaN169fre/iDwPOkyZKLuxhmoeFOioXwfpd7+d38oW3AwMDgzyVIxQCWPBOv4U4RBHfv3qXFS5aIVbVsmbISUGhppUJLQg+syilSpKR+SmlYoo6B1WURvNdDCQtRo0T5YYLSjzius4sz2avr/t+zZ/T08RMpsyQYaL+t/f67t2/9LNh/EqbrhjAQ1oCLGu7B8RPHRQEIDKyeEFxWrlwp98baylqE1mjRoul7fB2YcbAk5P5XQd/Qu1cfiS+AcDh12hQJeqxVqxZVrFBR9tmzZzc1b9FcXI0AjAPYnj59amRN+cXg+Zg9ezaNHj1aXCIxQ4wN7p+PH2uKtDmIjxoxfDilUfcb/QKevdFjRkmMyZ+Mfy9vYGBg8HsRpFSK2QLVi0vvFlymnduqg0cnHyF8eGrZouU3uf1gsIDA4Ozs/IP96rWuGgIhgqpDE1jGnNQgCB9ak/AS1y2uvFoC1jNM3/6JSNtRhHZq2OAssJcuXaJVq1YFmdnGBARSBFFj6f8tW7bopRqI8ejevRsNHzlca/eqnXTp3IVKlSqlK3RfB5Tm6tWqUtZsWalGzRp0/vx5/RN/cNz/mlExUaJENGPGTHKL6ybKweIli6lZs2bUo3sPypwpEypFXPDatGktz1LSpEkprtoXWcoQtxOWsbbWXInQVi0pnr87+/fvpx69ekh8GNqujbU1JUmcSOLLqlb5PMMXiBcvHk2aNEkbG9R3EIeFNNah7WoYpviG/sLAwMAgLBCsuTqcLkgjM1BQwBUIA2C8ePEpc+bMemnYBAMZrghBgR8/hq6AAaXAzt5OrMPueprCggUK+rlCBR4nkI500+bN+l/fzoGDB6hPnz60d99eveTXI/Wsbz+DM2fOULXq1ahuvTqS1So4MmXKSPnz5aN3b99JAPjkyZNp7969tHDRIipVuhRNmjJF2jP8w5s2aSoB4t/iznbzxg2aOHECbdqyWdanWLtuLTVs3FDW+DAnOGXnTyZTxoy0aOEiihsnrsws7dy5k5o0bUJjx4ylDOnSS9nipUuoXv169PTpM3JAZq7foKr8+8o/776+fPmS+vfvJzM5eLTxjIwaNYq2bd0u8WBIdxwUmTJllkBz9HuYYVi5aqVFRdnAwMDA4NcSpGIAEdpad3N5+CBgCk5zXrzU4g/gFhT2s+hoNmxYtCXLSWhiQQiG+0nWLFlF+LMk/8E14nt49OgRtW/fnkaOGkE1a9YQa15YANZEEa5/gtCLheG6de9GN2/epMSJk8j6BADCy9WrV+W9OTY2ttS9ew9yc4tLT54+pr+7/C3WzmbNmtLFSxflnB3sHZSy1ZeGDxsewKUupEybPk2UjAULF4o7EjLx4PXy5StKsOpv0ZL8c1SosAOUxqxZs0rgvQQ8qr8hKCKLF+5Pvrx5ZZ+t27ZSzVo16C5cT+Q5CtsCtxbDos0C/WkzBjt37aRTZ06r+2Ilihvix5o0biL3DzOmwYGxATFVkSJElL9hnJk8dcoXE1v89vzXHmwDA4PfniClY1i/I0aKJIPz2bNn9NLPMQ1+Xl6fwrwvtUmosLO1owj6ABVawJfWwcFRcuSbpsgxWCKw2kHVJX47sO6A9HHfAyx4UC7CWVmLgBxW/HaxQq2PT+gGF8pcj6pAc8EQ7+HrfPDQQcqRIzutW7tOAt7hB43yYsWLSbBjYJAec9rU6ZQ9e3bJ5Q2hHbMCUAIKFShAy5Yuk4XdnJyc9G98HTOmz6C79++J6wtckdauWSMBzLj/SN2IGQ4TplkVXFZYF3pDG1x7DnUPFi5cRLGxeJz6+9btW9S0eVNZAR0rUyPH+vXr1+mVat/3H9y3qOyFJRBTou6kXBuMJX8KcJGcN3+e1kbVhhXssb6Mqf2GBCSfaKwUCYwZeOY2rFtPD+4/0D/9Q/lvPdIGBgZ/AEEqBhjUXMNrVqC3weSeRm53ZKG5ceMGrV6zOkxbyfwGsa8YzEJKrFixZCrd3f1jAD/3QoUK0ZjRY5TSYO8n+OEVSgN8178VKGEzZs7Uf4uVYuJECRIk0D78xWBxPG2BvNADcz2nT58OIDyfO3eO5sybS+FVXSKg1bQ6NFIkTp8xTYSZmEGsV4D7snHDJlqvhJO1a9bS2rVraeP6jbRO/f29sR/h1FOFtgarKgSfJEmSUsOGDaXszZs3NH/BfH1PjR/QHH8bUCc5c+Sg1atXU5zYsUUBRFzB+Anj6dSpk9IPJVH3Fa56UOajRYuufzNsgmB1dVWqnfpaTN/5uwLXuKNHjqj7ZSXPINpzUM9WUEAZaNGihaSmxRP9/uMHcSkyMDAwMAg7BKkYYMBGBhdgLowFJlfOXOQWNy55fvpE7Tu0l5zVx44do3/+/Ucyu2A106tXrwR7jJ+KOo8fIYhBgMGaDLjKd+/8M6egvF69etSmdVu/FH34fSgLKVKmlL+/FtTl5s2baeFCJWCqg+FvpHyEtTws4PXJS2ZOxMofSkAx8ArkdjB12lR6/vx/VKtWbVkxGmh1s0kCiXPnyk1p0qSRcktAOcuTJ48oCYgHyaEE1G+JJwhM9arV5TysrK0liBYuGCVLlKB4bm6QGSXnO5SXgISR5+MXgL4GszhQ0BCoiucExoan6h66e7hTw0aNKVWqVOTi4kyRI4XuTF9oY4oxwDX9SWmId+3ZLX082qmTkyNVKF9B++ArgfEEzyWA8eD48WN+2af+KNTz/999og0MDH5nglQMIHBicAbewWSPQMaQ7t16iEUPGUPGT5xABQsVFEG1bv264tJRq06dsLHiJSTyH4gpJiOwEoRgOyhPKMcpRIoYiYoWKSqLvX0LcEXp9Hcn8vD8JMeMGCECDeg/MMzEeMAyiA3CUWjhFsctQL3CjWrfvn0yW9CoYSP5PQCFYNq0aaKQNWzYQMp+NljsL0H8+HK+cCtbuHChZNUpr4QplL188YIuX76s721gIm3atLR923aqWKGSLHCI5yNRgoTiboS1QdC/BDd7GSbQ2zzu858yYwBF7eTxE37PHwLG0b9/C3hOCxYsqCl/4azo/IUL4gb5x6G3g9DsAw0MDAx+BkHPGKjNlHbymRK2ggsSa9CgAc2bO59SJEsuPsGwlfiqQQQdP6ymN/79lzz0TD2/Ek8Pzx9qxYnr5ib19vx5wAXhMKCaD35RIkf+Zsv0lStXJFPLk6faWgmwunXs0Ily5bI8WwAXme49uovbzc8CmUdgOTUt9BYaBE79evDgQXr0+BFlzpKFEiZMKGWo5xUrVtClK5eVwpqMypX7Nqvm9wKraNu27dQ79QwoQejwkcP0zz//UPHixUVQwLMQOOe7YV3UQNzNksWL6cSxE+JedOTIEXFXhJAt/YmuAIZVTLNkuM9Y8PFPALNb/966odW9aqi5cmsW/28B9ZIyRQq/2einqh/z+ENnDLQX48k2MDD4vQhylEXWHgRmYiD45PWJ3r9/r39imTJlytDx4ydoy+Yt1K5Ne1Wid4iqY8RAgODckICO1HwLTS6cV8KxOiQEjB9BqlQp5aqPHT+mFZgBxUpEBrUDlKVvsSTdvn2bqlavKikv8X0I4FWrVJO0m4g5CFxft27dotZtWtGECePp2rVreumPx9dXu3efQnGtiMBKBtYIwExWksRJ/YKEnzx5QrNmzxQXjjat24R+5qkQgmuPGSOmnyvJx48fRRkwBaWL0Bh4tkjVmYE/yORUuFBhihgxkl6CWKe3Yd66jGcSoA1YirdCOWIoniphG++xhXVevnpJT9WzBbUHZM+WXV6/lezZcyilSYszQF/x4uVL7YM/iW/o3/8z+LynR1eO0vZlk2lAq8pUps0Kuhd2QxMNDP5zBCk5OTu7iJuQaeAy+cd/CQhs8xfMVd/T/oZA16NHzy+mszNx+fIlqlq1CjVoUF9SUIYmt28jaw9TlKhRtIIfhPvHzy1gJjcj8C1jBnLhV6hYgW7cgFKgBQAiFWrxYsUoS9bMlDBhArGumjNm7GgZdLH/t079fw+hOWPg16B0ELcCXJz9MwedOHFCMtjEjxePKlWqpJd+PahbCHVwf9u1a6dYrrF4Gl7hvhSccIr71KpVS6qv2i+EHoAgZBwTijOAUhA+Qnh5b+KTt7fsY/A5UKTwH6zMYX3GAAucCTjnQA86Zvty5spJbvHiUoIE8SlpsiQywxXW+fD+gwTNA1zTt2brMoHZUlNyAswsnr/wB65noJ5lucL/qn7geYs2TxhMI8eOpTETxtOIPq2pTqXiVCBHKooXLSrFz5CHStdtRwNnrqNts4fT3Et/TqC+gcHvTpCjLDpv+ML7L9gTNFgaf+PGjVSiRHFq2rwZvX7zVgYQWM+aNGpMJUuW1PcMHqxeW6x4cdq4eTMtW7GcWrdpHaornfqqa4HohZVvfwSxYmlZVd6//9wPGnUEYQG/D0Hxa4A/eomSJej6P/9oA6q6jkQJE0mu/d69e4mygHSO48aN1b9BYpVcu3ad+kkrWVE6NIJqQ4rp6kzuAqFCICELLjooQ8AwgFC9cuUKea1Vs/YX7zHa1alTp5SwfpwOHjxAM2fOpD69e1OevHkoefJkFDNWDIqfMD6Vr1Ce6tStQ3Xr1ZXX0mVKKYEuKRUqXFDV9zhas2aNpCBdvny5xH1ky5aV5s6bR17e2uwAzid2rFgUNWpUenj/PgrI3t6BokeLJp+beKfuV0iV7/8qsdXzheDksAzy8+MJQD+gZSjSePzokWo7peX+I4NWzRo1ZeG2lq1a0NatW/W9wiZow+p/AbPIsu7Ed2CKXdOAwvfnSs9oB/89PtGx/uWo8t99qUfXztRV9Ys9h02jZRt30aEz/9Dj9wGVgHDh41LcCP/FejIwCJsEK7lpFi/tgQ1KaEEefVj4a9WuSUeOHVUlWoAtlIIK5crTyJGjQiSUQlDr3PlvsXDDKoiAXQjEcMMILTz1OIcoUX7MjIGbm5ss+w83AfOUpahHCIYmi/C7D+9DFJiI/Tdt2qSE0EKymBmOg7KYStCcP38BbVEK1L0H9zUhWYF1J0wMHz5cncNLEUQKFiigBvNY+ic/Af06vX1C2woUzs8dB/WAQTeWLqRgUbXXb96oOrKS2Sm4PsC16MGDB5Idq0fPHlS9RnVKliwZJU2aRNy+ihYrQsVLFJMFztq2b0sjRo+kU6dP04NHD+mD7v6DWBlp0PqGWYD3qq0eOXqMuvfoJgpD5aqVZVXjKVOmkAdcxuR+qH3VOSHoHPne0TY+un/UlSZ/FxLTKyyyhmJgGdQR/hPFXq+vsApWAwZac9H6TpwzkjDgmV+2TCmQnTrRxIkTZUYW7ezKFS0QHbNUYX3BL0dnRy271vcgj5RWN+BPa/dw68RaLv9VPD99oLu37tNnvb+VHblEikax4iakpCnSUuY8JalmmxG0eu8iapTgz8ngZWDwuxOsYmAagtFxw0XCEmPGjqFt27eLYGby3Q/vGp5GDh9Js2fPCVFsAQbDIUOH0P4D+/1cBfCb+fPnp/DhA7pcfCs43kslrGNAgsX2R2AuCAT2L8Y6B6YKReDplxYjwwwAZgNgpX7z9o0maagDwPd64fyFFDdOHFnYC7+JhbngPoOsN+DI4cM0afIktXc4WaiuWbPmP+yaLWGqh29ZNTgoMHv1ycuTdu/erZdomJROuGpFjx5d3WcfGjhoIGXPlYNy5MxBuf/KLW49Y8aMobXr1tLd+3dFmXr67KlSOt3J3d2DPMziM/RT9wMWUmTcsrWxVrUJINT7ynsor1AccK/xdSgEuHa0NTt1Xp06dqI9u/dQhQoVpUyUXvU5nhX8tj9aaktTvRkEBPWC7f79+6HuXhjamM+wmm4nFMw58+dS61atZcbD1EbQiEz3/OLFi1SgYAHKmi2rpNsNi+BMoYyH+87YncBrnEhd/EE8fPhQTw6BsSZsZIr7mdy7+5TSpU9FcKqzil2FJh84Q5duPKbX7z/Sq6eP6d6tf+nKhbN0bPcGmj+6I5VJGTI3YwMDg59DsD28dN/qHwg+QSkGEcKbXDawN5OriystXrSY2rRpEyJfVBx7zdo1NHnyZHUI/wEDaSixaiws8KEBlA9Y8TEQ/6ipa6zsie21+h1Yq80pVqwYubhCUEbAnS8NHzHcopsUyuDLXqxYUVG6ILRC4cIp47yHDh4q6xU8f/5cMnqA5MmS0Z49e6lQwYKSM79m7VoSMA4hpVWLVpT7O7KIfAsmhRJZoEILxEhASDdltxIrstoOHTwkf0Oh7NO7DzVp3ITSp09PSRIloSSJk1CypMkoW9asVLtmbVUXLaml2tq3bU9t1damTVsR1lDeumVrGjhgIG3bso127dwlAv3+vfvo+LHjdOL4CTp18jQdO3qMZs2aTU2bNJX1D5BXX1q9up8iEKrzsbezpdIlS9HKFSupf//+osjh3Pbu3atlhlL3Evc/sGUY9zOwMmmgIUobFC/V/k2CdFgF56ermPpGtG//fsm8U7lyZT/DB+73u7fv5Lpg/Jg+YzodP3Fc3AW7dusm+4Q15LqkH/o+xQDHMSni+Cus39OvBVcm44y619+7WOLvSPz4iSjuX7kosbVS+p7do1eRU1PyeNHI+c9I0mVg8OejOugg6fT332znYM/2jvY8c+ZMvTQgjx8/5goVy8s+js5OanPkIkWL8LNnT/U9gkYJwTxhwgSOHiMaOzg5+n3f0cmBp0ydyt7e3vqe38/r12+4QMECcuyGDRvqpaGLUgg4Z84c7BrehXfs2KGXaihhkFu0aM4Ojg7adarrLV+hPG/YsIEPHjrEBw8e5MlTJnP+Avnk++b74ZylXtRWtFhRVgoOX7lymePFd5OyOHHj8JAhQ7hSpUocNXpUqUsH9Z38BfLz//73P/0Mfh67d+9mpQSpdlFBL/l+PD09OUKE8Lxq1Sr5e9LkSXKNpcqUknZkAm3mzZs3/FZt8vr2rbr3r1kJ3foeoQOOe/XqVd6zZw/Pnj2bZ86YwQsWLOAzZ8+wu7u7vpfG+/fvuVDhgn73NLy6jm3btslngwcPZjt7O06YKKEc0+BzUH9Zs2Xl1GlS8YMHD/TSsMmYMaOlL3RxdeZ169bJcz9y1CjVx0VnpdTKPu/eveNu3bqxk4sTR4sejU+cPMFt27Zle9XX4tmNETMGv3z5kj9+/MgnT56U/uHIkSN+3//ZHD9+nJ2kb3aSc7tw4YL+ybehlCIOHzG89F14hhcvWaJ/8mdw6/Ztjh0ntlzfVv05/8/xbj03dLNhG7sYXH99wP7QwMAgbBOs6SdePC0vP0wgal8pCwyWxZ8yeaos2GVK1Xfo0EGqVbu25G639D34YB49epQaNWpEPXv3pLfv3utWIyZfH19q1rQ5NW3SxC/dY2jw4sVzSfdpsuL9CKxsrMnaxkauOfB14/p69uotrgTih6z+3r59m/i9lypVkkqVLklKEaNjx46Tt6oDzU+dZaGnKpWr6pbGcPRcX1MCLjRYAArHhYsU3Gc2b9lM799/kONnypCR5s6ZK7ENv4rQtoCLJU57S6VLl5YgyAP7D9CWLVv0UmSFsRYLrKva5NXVVQKRTZba0ALHTZEihay4rBRNaqzaa506dSijqncHB3+3LbQDLHB28uQpuae4N2nTpKWsWbPK5yZrqTFbEDSmZ0ncWPT6CqsEPD+tH3j8+JG0VWSzatWqlSQSmDJ1stzz8uXLU7q06SgS4oPUV/F1xNHAPRP7lUTfUKqEvJ8+Y4Z+3J8Lnh1TX/z27ZvvXhMFfZj0gQrUV5rUqeT97wBm+xArglTQyDKFDWuqYCX6LVu3yLZv316/WKiZM2dQy5YtqWmzptS6dSvq3KWz9NVIXLB69SrZf/uO7ZJRDu5kmJn/8OH9Z+PHb4dLISpbKAqF49d07fJtMno3A4Pfh2ClpRjRo8tg9SWgHIwdM1bSZ6LjxOgG/3e4w7Ro2YJmqAFtyZIlNH78OOrbp48EK5evUI7WbVgnQVoymKqOEAN/rVq1aMDAgaGqFAC4oGBQw/WYFJjQxtnJWVa4RWaS27dv6aX+xFHCwfx58ylJkiTqcpEhSXM7wP5epnpQm2lQQF02bdpUhAcQ+FZgL9P4gRSYUBYQGNi5c2c16KyhBAkSaB/+AnApcCWS9hCKmASv+PHiU5NGTSTAuWu3rjI4h7XBFNeOBeb69+8nWalwfnA1g1AQOXJk2ccmlNv5nwgE04ACd9hGzlSdrynmCgHryEwFY8j8BfPo1KmT8swXLFCQ+vXtJ+6SuDztCsORh6eHKBBwLXqvhERHR2eoGLRp48ZfsoI84pkSJ06kdzbhaO/ePdoH38ix48e1LG3qWHAPjBAhovZBGAIrqz94cF+E9Z07d1K/fv3o77//poqVKlL5iuWpWPFiVKRoEbUVplJlSkkCgkqVK8nWSikAuG+4Pgj+c+fNpYWLFtLsOXNo0qRJEk/Xo1cPqlOvrqRVRhrqYsWLyrEwZpYrV04dpyI1b96Mhg8fRnv27BEFBLEL7r/NYnDOlCtfDvWvN106fIheYBjwvEdHVs2gcSOH0fCRo2jCjMW0bs9puvvOUBsMDMISwSoG/jm5/8/eVQBUsTXhEekSDLCwBezu7u7ujmc+u7u7O7G7u7uwu7u7EQHPf77ZXbggLQi8fz9d7r1n+8TUmTODP8ELXalTp6bZs2ZR+vTpWSACU0TG5MVui6nzv52pRcsW1LtPbxo7fiztkYT2y1fMEijx+GE9ihPHln3EZ86YSTYRuGhVA2Ypfv5UrDiRFTECAoy5uRlX1dOnz9RS/0B4za1btlKb1m0opRTcsZbCytKS3xl1kDJ5Cg4viirHliljRiU6jqwjCAewRkMJAI9W5GBBiRIlpDVr1tL6detpz+497CsPZS3KwEKRIuB4RmCUFdTHoyePlR8Sbdq0oYIFCnLEJizSXr16VbRhnIimNW/+PGr7T1v6+Pkzl9nIdkXb5MyZk38DCaTyDaEQydpivJUwkoC1QUiwqC3ujhHg8am0p6Bf9Oz5M16XMmL4CPr33y40ftwEWuK2hBIkSKDmxVCMBHg9nPfD00N+N+LIVjAOYJbpxs3r9P6d/6zqfwPoo5kyZZbPBaMP0d79+3jMhQd4t1u3b8lv/KKURvKN0Oa4CQ9gucdY9PDQNgQcULZvsk9hQTtmkpEDZdWqVTRq9Cieya5UpRKVKlWKM8pXqVqFxowdTdNnTqfdu3dzAAS0J/rl+w8f5T2QlVuhedw7fYex8sW3y+JTbsox6qyyutNH0vfPUul7+fo1HZcK5M6du2jxEjcaNGQwh7ktWLAAKyK169Shdu3+oeXLl9OlS5dYWQB/iI60I26hgpTZRLbBw9t05fR4quiajorUb0c9+vWn/v16U7cOTahW2TyUxjERZW8winbc/vtKrw4dOn5HsIqBQsCULTR0J0OGjLR65WoqU6o0xZYED8SKrX2+W2wl66/8juuB0cAdppAkIBs3bKJevXpF2GLjgAAj06zXAaNiRCTM1eg/wQmosORPnjSZjh09Sju376DNmzbTtq3baJdkBghPmsjRUVa5YLeknDlzcUhDLffBk6dP6OChgxzlCFZzlGN2JXu2bMzIkidPzsdFJbTa5SeOYIaFLKwa4H4xb958nqlClKFWUoBq3Lgx1yHC6GrZoCNjCwo+Pt5089ZN+SytOCwlLIcQ+RDZCIuR69Wrpx6pIHWa1CwcINTqm7dv1VIdhoDbhiKIRvy4hdCIKGEhZXYH4PrzTgrmjx4/omvXr3MyPfz2PysWyDPK7vLy5SuO0tW58780auQoavfPPywQDx06lOo3qMcWaj5UHqsoP6Cfvyhnjpz0b+fOlCJ5CmXBMlui/y5AX2rWrMW0G8+Fd8asV3iAuoLbDGgwws9mzpw5xJwj4YESGnYVNWveTI65ulRXjjts+K5tterU4qhliARVslQJaiqPHTp0CC1fuZzOn79Aj6TSgKhjGO1Q0hRepuSnAN+CEQjhiDFLi0/Q4zKly7BrGE7CcUUKFaFyZctR+XJy48/yVFZ+lihRkrJlzU6pU6Xic5EpnY0+4I+y+dEHsMibZ53kb4RBfvjoIe3bv5cWLlpELVu3pEKFC1LhIoWpYcOG1Lt3b07CiASjaB/NlSm8gMI0cODAQANkhBaxnXJTjmSxyefZNurSqD/tfhZEMArv93Rl7QCqmrcgtVlz//cwpzp06PiriCWFnCClHFigGzRqwN/Hjh1LHTt0VJlW8ABR2rx5My1YMJ8ZKEJvQmBiCicpJoiftbWNFOhyUrNmzamcJJpBKQR4PEzBb9m6lZpIoS9dunTqnrBh1erV1LxFM/5er249WjB/AX+PaKxbv54aNWrIPuTwfw8rHj9+TNmyZyWPHz/I1MSUkyAtW7aU/VOhUEE4qVurDrktWSLrrhmtXL2SGdLxY8ejdD2BIeBjW6VaVcqUKRPt3rmbZ0D+FFhX4eDoIAWrzjRk8BC1VMHr16+pb98+XPewnqGPwlUHVjZHh4RSE5T9DtZO5vD4D1EdFj6F6XOh7Gdg+tpo4H7OszR8gvwtC6USht0QEBCNC7khMKuGYyHwQBm8cvUKbd22lT5++MjthQs6SkVv9OjRVLdOXb62Ic6fP0/5C+ZnIQJtmDVrVnWPDg3Hjh2jylUqs5ve7l27lNC/IQDjRBP2McNmCPQlWIkPHDxIhw4eYNcWRO4CTdDGEM6/c+c2C/Rw34HAhQSMR44cZmuxksiMKGWKlKzklyxZkvsB1pO0adualfrlS5fzWpgBUsCaM2c2PXr4yHcsQHAdMWIEjRs/jkxMjKl48RK8RgghcBmy30BgPnzoEDk7u7Agu2nzJnJ3P0cZM2TgQ6D4IpEh1iEFzBUDgQ79EffTQkaDlkK5ePrsGaVKmZKfF2Xoz+i/+I33BlBnOBf7AFjH4SZz8tRJjBwyMzWjw4cP8xjnsRJKfPr0mZySJeGQvbjnhHHjqX37DureiAOs+pUqV8SQ5VDG6rA2gFYin9130MsNX7kIfMpY1p2lHOu2FMcuDhUuXJgFeCenpLLO7ble0W+0OoISAYVh/PjxNHDQQKn0p5H0b1ewCeFQB9jQXpevXKFPkle+efOGnr98TqdPnmJ+gDYDP0B7ggJxfavPiT94ViiRaBdTU1MeH/nz5acMsp8ULlyI0qZ1kc9qHmqjG+7TuEkj2rp1G1UoX4HzsyAUdFjameHtTv1zFaIx1zBWjClBtgpUuXh2ShPfRD6+D328d56OY/zd++S3BsG2Is29uoGaJQzWZqlDh47IhCQqQWLd2nVKtCFLC9GlW9dwRXZBBI4yZcso0XWsLIWdfRwxd+5c8eL5c/WI4HHp0iWRJEliYWpmIqrXqB7uSEWSuHEEDDxHixaRE5UI2L17tzCXdZY7d261JGy4d++esFQjEKVImYLL7t+/LzJlzsRRTFxcnMWpU6e4fNq0adw+zq7OHOkjukAKDLKd7UTefHk5MlBEAFGJcM0BgwYKyUjVUv9ApJ/SpUtx9CLUC/qMmbkpt4e2odxwMywzPC6wzfA4U3ldbcM9fDcLc44sg76GdqxQsYK4efOm+oS/4+xZd74m+iX6uo7fgYhd9nHtRMZMGcXzUNKN1atXC6dkTiJ58mQiZ66ccsshcuVWPuPGtedIX2gvJeKXJX/fvGWzerYQc+bM4f6GcYj24XaWn4jOo0ToUcYoIk1VrlrFN2IQ2tDG1kZY21pzxDFg9epVwtjEWMyW15RCF2/Dhg0TUtjka7Zu05rPs5PvqPQdC47ac+jQIT4fqFO3Nvepa9eu8W+Mgf79+4s4kp727deXoxchetDJkyeFVEKZ/uD5WrduzdGNgDdvXquR2SxE0qRJROo0qbmOnCVNkcKuSCnpDZ7JXr43ypYvX+6P5u/YuUNYW1spzyjfO2v2rOLu3btBjsfAsHr1Go7ChTpH5LLbt2+peyIWixct4jbFc6KOtU0Zr8p409oS7ZUwUUKRKHEiUUW2ZfPmzcT8BQtkf9giHjx8yLQnLNDaqprkV2E9NzCAhp4/f15IpVMMHjxYlCxVUkjhn6Ob4f1AjxT+6rfh/sr7m4nE8r2qVavK/cJd0hv0B/DRoNrt1evX3C/QzkrEtBRMW8PSzgq+ibOTyotklsbCvuREcT3QqvgmHuweK+plthMmJrGFsUV2MfiCl7pPhw4dUYFgFQOEyNNCZTaVxDI8igHQoVMHJlRgBvhcEYbwdGBsTPzkeeXLlw+3YtCjZw++DggoGHFk4ciRI8JS3iNL1iy+DDksuH37tm+dZ82WVS1VQruiPfCpAYwCx7mkc+HwhtEFV65cEU7JnUSevLk5tGpEAAwWAv+AgQNCZFCoQwh248aOFS1atuBQlxAOtU9tw29sOXJmFzlz5gh8w7HyM2PmjBxa0srGigV+Tcjwt0kmig3CRpmypcWOHdvFz58/1acKHOfOnWPmjW3FiuVqqQ5DaIoBxsPLVy/V0uCRJ09uphlQprGB9mib4W+0FdoMY+jxkyfq2UKUr1ie29jwPE3gwvEscEoB00Qqn917dPeljbdu3WJBDMf+2+VfLsOYTZI0MZ+TTCoq6EeKQGcuOnbsID5//sTnr1mzRhQoWECUK1dWHDt2jM/VUKRoERb05qpho3F84yaN+RmZtkIwlJvyXIpAiGdrKfu/JpzeuXNHpEqdio9RlJvANk2wtJCCckIOyasBfXnq1CnCCsoB7iO3FCmTc5jekPo54OXlJZo0bcLn4l558uaJMMNBQOB5QCt69eolJoyfICZOnCgmTZwkJk2aJKZPny42btwgDh0+JA4ePCDOyjEYkajfoD63SeUqlSM1xCwMDsuWLeP3zJc/Pyuyvv0TfV/WsdbX0Z6aooRQqnjGVVJhDYxHQTFIKhVF9OOqVatK2obwu9Zi586d6hFhg9f7R+LphxBkh4/7RMd0psLYsoSY+jh8coYOHToiBsEqBq9evWKrBAhMsz9QDMDwNEYEwpQ+Q3rx6NEjdW/QOHv2rGSialx+yeh69Oih7gk7WrRooTB6ea22bduopREPWPRAeLFdlgJyWAHmrTFnQ8XAELA4jp8wQWUEFvJeicTFixfVvVGP15KxZM6SiYXuiFJYNMVg4KCBaknIgAKBDf02ojYophBmDuzfL5nyUuHm5iYWL17su0HpRfto9w4JimKgCIluS9zUUh2GgLKNvp49R/ZQ5+XoP2AAK9iKhfj3DXTAPp4951yZPHmyePfunb/2mjN3DlvPtbFoa2vDdAs0aIlUyDFrt337DrF161Zubw3oI7169+J7NGzYkMtwXdAyKCvxE8TjGdBsObIxXTS8J777yC2wfgPrPt6lZq2afA/gzp3bomjRoiptVZ4T7+WULKlUODryjIWhxRrX3bdvn6hcuZJwcXXmLUPGDMI1navIlCmjSJM2DefbKFAwP9N9KMwBZ2hwDfRZ5FNhRUTWMRQkd/cz6hFBA7PH8eLFlc+pzNAMGjgo0HeNKODakXn9oOBfMYj8GP54R/QJKENomxkzZoiWrVryDBCUOM6PoSpjhv0EPNXF1YUNKNpMFPDw4UNWKDDzgWvmlHQcSmD+/Pk4J0xk4MOJQaJQPGNhlqGHOP7nkyw6dOj4AwSrGEDAg+sPCMqfKAawFOXMnZOJkWa9yJsvDzPLoACBK2HChHwszoH16uIfuFrg+TXFAInGIgvXr19npQCCDBJ9hRW3JbMHUwHxTisZtSFjRwK1BQsXiNxSwNCEARwLxv7gwQP1qKgHhLfMWTJHuWIQE2A4YzB/wXy1VIchjhw5LIV0W1GiRIlQWaYB0By49Q0fPlwMGjxIDBk6VAwaNEgMHTZUjB4zRhw/cZz7JvpVYMIjFMAnT5+wwHTr9m12w4F1FTQwJGETisL1Gzf8KQwArMdI1oYZBE15DC2QEA2zkJs3b/Z3Hq75UI59uCJhw4wFrh8Urca5qEO8CzY8h+En6gPXfP7iOSfcC+wZUYbj4GZz6fIlceXqFX90KihgJg9uO6Bb8eLHYyPIfxFwRwKvad6iebh55p8A7YP+i37w+PEjsXDhQtGqdWtWAqEo+CrL8hk1pQH8ytklrXz2ysybwSfBgw8cPCiyZc/GfDiuVOrCnGDQ5504MrqayNtqtfiNE3i+Fdf2uYmRHSqJDFIpMDaNK8rOvCsiLq2pDh06woNgFx9jEZSzizN5/vSkBvXq05w5c30XWoUVCPNWr349XkSlLHr7xYu6kBitWPHiZG1lzYuwnj57SmtWr6ar16/J38pCKyxc7tu7L/Xv3z/c+Q2QcG39hnUc6QGJqObMnqPuiVjcuHGDSpYqSe/evyO3RUuoTp3a6p7QAeHncufOTR8+fYDSRsmckpGlhSUvOvv0CQvT3nJoO6wDQ32lSZ2G5s2dR/ny5VOvEPVAVIwSJUvwQjhEWtJi9v8JpDBDCRwScOjboYOHqqUxH1IxoIKFCnBbjx07jjp17KTu0aHh6NEjVKlyJSpUsBAviPx/BPq/FNg5slF4aXBUY8GCBZzXxtraiubPW8D5WWLquwSHVKlS0rMXz6ln9540bNgwtTRqIRUFXuCM6G2HDx6im7ducZlUBunS5Yv0+fMX/o3AITY21vTi+QtK6+xMt27d5MXIWBTfpUsXDikelsiB3leGUoE8Q+m8tyU55SpK+dI7koXnJ3r99A5dvnidnn3Vlh3HItsCo+jw7u6U0VQt0qFDR5Qg1FT57LmzvhErwgNE7egqCQuiZ0AIQhg2xG1et2E9J4Rp2qwph5YbMGAAXbl2VT1GiZJRu1Yt6tSpU7iVAiaKX79w1AYgGF3oj4FnBrPDve7du6OWhh6IYNOyZSuOX45rITzpzdu36Nbt25Kov1bC50mlylwS5+ZNm9OWzVuilVJgCCguEVbXsukQEQRJ4iITeGYNeHb8Rh+MrD6jJdvD1cGAdfwOKMIwEiCSDQSX/0dAyUYm75gsSNesWZMmjB9PJ46fpGrVqv0nlQJAoyGRyWfCCkSZQpQr57TOHNZ5woQJNGXKFJo9ezbt3rWHjh45ykkix44ZIxUDW/r+w4OTuyEhY8tWrWnPrt1hVgqAWGaWZM7N/J2euO+gNW6LyG3VBtp57IqBUmBEcbK0oFkL/9WVAh06ogGCnTFAGEjXdK6cqApZfZ8/e/5bWLywABavhQsX0IiRI+nd+/eSMUBQV4R1WMANnwTCr4mxiVQWmlO/vv3IIUECdU/YcffuXWrWohmdPXuWBfaWLVvS1ClT1b0RC8yywLp56dJFjle9ccNGdU/ogZj2EyeMp3nz5tGnz5+5LrSqsbG2oeLFi1OH9h14ZiGy8j78CWCFKla8GIdSxIxBRORWQDd9+vQpxY8fj0MIBgUIjui3mHn6/OkzfZUK4b379zkMIJKt4Zk8ZT/8KPdhBsaHrWTe3PkQVx1CqK/AgkqX5fgHRRZ9FJYzhHFMlDgRv1fWLFk5XCSYrr29nXy+BCzAQakzxCfZpkuWLKH9B/ZTMqek1Ldvf05C5+7uToWLFGKFb8igwdS7dx/1DB0alixdQm3btuXEcOhPlpZBt78OHVGNFCmS04tXL6lb1240csRItTT6w22JG/Xo2YO+fP7C4baHDxtOadOmZWNVuJW4Xx/o0JAa1GTaSXr9zYu8NUZmZEkOqdNRxhxFqXLtRlSvXEaKqyeB16EjWiBYxQBxwCtUqEDu59yZMNy+eTvYmMyhAawpENBnzJxBBw8epDdv37AQZfgYSJMPwtSxYycqU7r0HykjSI5Up24dunHzBt8bigGyKzdp0kQ9ImKB90A6+507d3Iym/XrN6h7wgY8KxIo3bhxnW7fuc3PbW1jw5l+XV1do6VCoAF1ULJECTp34Rzt2L6T8ufPr+6JHKCuYN3asnWL7FOHpGLwkhU0KCg8y2XQv7RuFkBu94PWDbX9+B3MsbgOYtZDWYDShnjniRwTUoqUKcnF2YWFfxupKGzZspkWL16suIHJUzvLvj1q9Gg6deoUK1G4GLIi9+jRky+tww/Tpk+jnj17UmlJC5AMUIeO6AwksHwpadD8OfOoYaNGamn0Bugk+OT27dv5d+3atcltsRt/jyj4fH1Fj5++onceZuSULg05muuagA4d0RHBKgaw8NetX4/27tkjCYe3FKhnU/PmSpKwPwV8Zu/du0d37t6lO7dvsyUXmR9Tp05NqVKlYuEX/rTBAQIhMobCVQiETXPj0YDvnp6eNGHiRFq3bi27ahQtWpTmzpnLSWOwHgC/YfGNKCiKQQ3asWM7lS1TljYFEGSwH76eIb1bdAPq7uNHpP/34nrHhnfRLOPaJ5Q4JMNp0LAB7dq1kxWDQoUK8b7IgIfHdxozdiz7L6NNIXVztlAJPFLQvVuB8tR+UA43PCngEQrU12Vo90ARzy+oBey6xscpe9QfEsrakWxZs9Gt2zfZ3xeuY7169qbBgwf71qUOBdNnTJcKUw8qU6YMbdq4SS3VoSP64eHDh5Q7bx76+uUznT17ntKHMyFnVADGLCSK/On1k4YNHU7Vq1dX9+jQoeP/CSEqBhDwQDB8fvnQkIFDeD3AoYMH2b2odOkykZLOHoDiAJeP9x8+sFAKVwxYzt+/e0fXr9+QwvVXud+Tnjx7ysdCOcDC4tgmsVkGw2vFNo7NGTrt7e05cylcRjJnzsSW3OUrltPz58+odq06LFQGzI76JxgxYjiNGj2KWrdqQxOlUmII/N6xcwdNGD+BsmTJopZGDVBHmBX6+dNTWdQshdOHDx9wPXt895DfH9EXqbDByv3l6xd6+fKl7BMe8jipFEA5kOdrMiy72shPU3MzSp0qNd28cZNevnpJ27dtp4IFCyoHRQKQLbZ+/fqSmXmpAjUEc+wx7NYQ0RUlhjepMJpKBcbExJRMTU3U2ZdY3F/Qh9RT1EtoQrrgMfBT9rkvss6gkOD91V2cNdnv2JAB9zBAUR6Uxfjly5an5cuXs4Ksww+aYoDMszu27wj3WiMdOiIb+/bto+o1qjM/cnc/SxnSp1f3xAyAxsOYFhHunzp06IiZCFYxgLCyefMW9juEJXj9uvU8rb/YzY2FSrj5wP8fFn74VYfF5QcWZxAgCPwgoh8+fqCvX77Q6dNnpMD+nB5IARVp+GGBwb6f8lgsPoQQBqssAKGKhUH+D9EP+P11+BWV//jFf1kAlOcZG8Wm16/fRKgw9vnLZzpx/AT7RMePH18tVZAufTp+N+e0aWnihEmUv0ABsrSwUPdGDlC/X2TdQqB9//4dPXn8hE6dPsUWdrhaQfjHzI0XFCxZx2gbw3rEN4i8iuCNTfluFNuIZ2X4O29G5OXtJRUNZYFo2bJleTo6spRHYODAATRuwnj5DEbczqYmxpQ0iRPZ2dtRunSuFDduPEqYMBFP75tJJQDHQbCEnzoUAnxqszdQDrX3AbT3BnBtKE5wT4KbEiIvXb12lS5euCjr8B69fP2KPn74qCoLypnqZeS5/Fe5Fhcq+5RyBZiRa9WyFU2eNDlCldT/AqZNm0a9evek3Hny8iJILMTVoSM64sCBA1S1elWmuefcz0kaFHNmDHTo0KEDCFYxALD71atXLNAkkEJushTJpHD5gYUnWI1hcXVxcZWbi9yfgKysLKVwpVj0zKSw7e31k4UtWOthVfWQgtX3b985BOobKZhek8KV4qbyiS2y4hc7Y0B0CpUVVhOwAgpaflAKtX04jj/lPyw2xaLqp0+e/jUrrZtUqrp170pfv33j2YxSpUpRo4aNqIBUEKBc/YnQg7aCSxZmUCDA7tmzh549f8YuW/cf3Kf79+7zfX2k8K4I/2oEJVkn+DSVz2Nja8PKkp29PdnFsWMrOhaggcFBgIZQjWOxMNxEPiss7yjDBoEW9712/RqdPHGS+vTpw2tFIhPbtm2j5i2bs+JjLJ9hQP8B1LbtP1yXfwtQGG7cvEk3rl+nEydP0AWpLLyVygPcrjBOUL/2ceOSvZ0dnTt/ntsIfVubnTCRykzmTJlp7tx55OzszGU6/GA4Y4AZKF1x0hFdcWD/fqpaoxorBmelYhCTXIl06NChAwhRMTAEBKDsOXPQ7du3pLDj58sP4RuXMbxUQEE8IBSrLIQm/wcY/vS7nP/raodAsIeAD0BYhQWYBV0pdGnl+DAzMeV9EGTZ6uvxnX54/OB9Pbp1p+7de/xV94TdUmDv2rULzxxAQMezYpFqvnx5KZ1rehbEEyVKROnTpw9WUcCMy+XLl+ntu7d0+9Zt+vDhPR05epTevH7NZQjxiH+oE7RNbLWOLKUyZGNjQxkzZKC0zi7kKpU6/I6fIAFlyZyZ7xmT3FnWr19Pa9auoUIFCnIUKywEjg5AXwO4T6od+9KlS1JxuMBtZyrbwsrSkhInTkT58xfg43T8junTpWLQswcHQli3dp1aqkNH9IOvK5GPN50/e57XyunQoUNHTEKYFAPg2LFjHLHg/UeEG5WCDM4OQvpHsaGCENidcCaE14DAbASgWFyNOG4/XJXg+5jUyYmTZmHxJoRYIynUQ+CFP6eFhQVHicGzQRDGOVhcbBjiEIt/nzx5wgKkk7xWVADhWpcuWULzFy6gB/fvsxCJOtL81mFNhmU0dmwIi6qaw/UMBQw/4Nryi63SqD/eD6C+5D+8P+osZcqUsr6SUqGChTkmNSz/qMOIXHCtQ0dkAq5EPXv1pPLly7M7ow4d0RWsGNSsTsZGxhx9D262OnTo0BGTEGbFAMBCXiRGWbFyBb1+81q1esuLSWH0txkA+U8RXJVPDbjtLynYArDwww0EQrxTsmTk6OBIJUqU4Iy/iFIEH3X46/9XF2UiZOWRI0fo4MEDdO36dXr/4b3q6iMVBakwBKpQyXqGjz9gIevFQdYZZhry5MlDqVKmYoUAeQ50K7SOmA5NMdBnDHREd+yXikE1qRgkSpiIDh06xJ86dOjQEZMQLsUAwGlYN3Dx0kU6636Go9q8ePmCIwVpCgCs4IYuOoa+6LDWY0EofPydXZwpY4aMrBhgBkCZJVC2/xegPllZkgoB1lzALejDh4+cy+CHpyfPDMCfH+sweC2AtTWlkkqTo6MD1+H/W7153j9Ht+Jko8zxokrx+UUfbp6n147ZycU+lM/w5RW9ipWAHK11ZS0s0PIY6IqBjugObcYgoaMjHT50hF1CdejQoSMmIdyKQUBoQm1Il9OEVnzq1mwFUKBQF/8PAn3E4Ccd6ZKF2saaQxcnFiZlFcYX2ti+Bh0qtYgmVU1C6Fnfjw2kSkNi04jtgyhvMGu6v7lPp3b/TqZTKQbRgaWNKInaLT0fn6XLPhkpV8pAZqo891H7dBVoTaYZdHZjS0ru25V/0btDE6j3ci+qO6I3lXBQd/x6SDPKZaH+RqPp0vZ/KJne9UMNfcZAR0yBNmOQ0DGhVAwO64qBDh06YhwiTDyBUKvNBgS3abMGulLgB9SHrhSEBb/o46cP9OzJU/JWSwCTnzdp3sh5dJULf9Llbevp9Bcj0gz0v15toA75clPzZQ9JWRYM/KDD80fTSveHdH/3Rtr/TnHhoh9HqX/5QlS8yTS66Xcw4/v79/Tp/B46/MKHPu6dTvMvGD6FN13fuoCWug2lDiMO0Ve1lIwSUeaMicjrwxv6pN5CR+igjw0dOnTo0KHj7yD80rnnfTp3+Z0U0aIKcOU4S7c+hOUJvtCrV1+j8Jn/Pry/vad3XzzVX/8dYEG6XVw78nNUs6IsWZwp1oNbdJtf15uePX1JFD8RJVajWxolKEhlMn2gNbNX0V0W9n3o4e5ptOjYG8X57as7HTur5GDwvrGPDtz3oh/ndtO+lwY9xvssjSqVhYp3WkOfM2SmRL+u06qF+/0UAJ9n9NHTmkzk/e8u7kMTzv5Qd5hRxvRpyOjrV/qqKwZhgu/apIiZ3NSh4y9A76s6dOiImQi3YvDzzFRqVG84HfupFkh82diOSnfeSM9UwQeuHCVKDaFTBscEBrhyNCmQhlwaLPU9F4Arh/sDTbAKAM8D1L98ASrYdCE9CiBo/Xp3kMa1bkEj9782UAJ+0cOZNcglXU2a8ziaSGbfX9KNc8fp8IF9dOjkZXr4MYSKCgs8b9Oq9vkoWQIHSuiYlPL0O+gnvMZ4xCILMzPy5ohMGowoQbKkZPv9Ll2/p1jwvb19/LNnIwcq17o2pblxhA69ln3A5xGtHzWANt1LRDmzJyKjX2/o4tnbPAvh/fQJvYDyII+5e1dRFhg/H9L9xy/o8jU7ajJtHNVIGYserZlD6zXl4esRWrDkInGv9ThHE7tMpstqs1rEsyeLpzfo+iflt45QQpexdMQQcFflP/oslw4dOmImwq0Y/PrwkT48e0JP/flyeNKt+SNoPvtyRJUrB6y9W2nhUjca1nE4Hfbz5aBEmTNSIq/39CY6+HL43KDx5Z0pc74iVLJsWSpVJDuldbSjBM65qUyDjjRi2Ql6Fqih35Oen1lD47u1ot6r7hnUowF+PaO1bcpRs3nu9DFBAWpQNhFdXeRGB76r+2M8YlMCx7j09elTMpwwMk6WnBLTY7p87hl9l+1tE8ea6OM7emNQScaZylAxh9O0d7+UzmM7UKIEZmQUrwh17V+Zkhp5063z5why+5eXL+gTGPyvJ3TuzCODev5FSE8Q27k8VcpRhJrUzUzGnw/Sum2vFCXUOh8VzGYqx0IeqlTWkTxOj6HOky+xomCcxplS+DymB4/891cdwSOClkHp0BHp0NUBHTp0xHSE35UIi4ft7MneIC+YVZaslDbWA7rFvhxR5Mohr/nsgydZm8hD7y6iPhPcFeuthFmGDJTa6Ct9+xYNFIPYialww7qUO74xpW22kHbvWEtzh7ah0il96PbOuTS4eRHKmL06Dd/3jC3YDO+HtL5DAcpUqD71mbaIJrSpSA1mKYKsITxPTqRBqx+TbdGhtP/sAZo/sjNVz2BPxv8Z+cqYkqVKQcY3NtLoUYOpX7cO1LpJbarQfA5d93pHW/oPon3fTShVymQU69M7em+oPZnlpKL5zOnciTPyhzk5u6Ygs7RZKEee3JTJQuqjl07RuR8/6MKFmxQnb2HKYOJNlw4dJEwwaIAbU4LcBSizqTFlatSA8pl9oQPz59EVNFTsNFSnTkF5ZQsqOngC1U78jY4Nb0Vjz/8kIwcHikvv6NVrXTEICxRXIl050BH9ofdSHTp0xHSEWzGIZWFOZt5e5GVACY0SJCMn2+909/o9xR0jKlw5pIpwZKEbXVR8OejcpC402deXIy7FtXhK169FB1+OOJS75QTqVNhKPnE8yl+yGjXrNYmW7z5H9x5do+1Tu1AJy+M0oloZ6r7ngzzem65OaUqt592iFK3X0skDi2lIg2R0oV9ZqjToEGkTLUTfaf+SNXTfugQNmt2L8iWITcauLWjp3klUPnokBI4Q2ObJQ+nfHaKZQ4bT2GmzadHKDXTg6ltZS0aUuFIdWXexycklNdm8fUmv/OmBscncLDa9uXdPfjciR4cEZGwfjxLELULFcpjRr2dbaenajbR2108q02UqNclrTj9ObaLNT7SL/CKfX8bknCG97K/yaikaUdsqjuR1YToNkG3zTV4zUZHClN7oBT3/WZXGDKtCDp4XaEqXCXTJLDklj/eBHj36YODipiMkIAeK8kW3x+qIGdC7qg4dOmIqwq0YxE7gSHG/PqMn/nw5pOCTmOjxlXP07HsUuXKQNeUrmJ1MyYTyVCpHjh6naGznSXSJfTnSUtoUPvTkwUM/K3yUwoxSpExEH27fUpQgFUY2aah027G07tRZ2tQ1IW0ds4juepyghfNP0o8sXWj2uGqUs2BD6jtzN106NpTsFtWh2mNO0xec/PMyHT35hhJU/ocapTKYzvmPIXaKvJQzmTHFy1iaqtZrSd0GT6WVB4/TqKKm5PHjBy9KtsiRmzL8fE5P3hj00a9HaeuBV+TzU5lHMjU1plixES3LiSpWykMW4hWt6/QPrfpWgEoVSUd16xUj6y8HaNr0k8SeXT6e5On1k470SEtW5qZkYZ2EGq5+RUK8p53dWtLMez5knEY+m8N92rPjGjk2mEAjKsWnLydHUfspxpQ9uzk9uHGTDFRdHSFBE7J0lyId0RxGUiOAUqB3VR06dMRUhFsxME6WmpIbX6eNo0fSkH5dqWObRlS7YlOac92L3m3pS4P3eUWNK4cUCdPUrkMFzOXViw6m8bUT07fjw6j12HP008iBHOISvXv9OpooBqaUyjk1mb54TI8N60iDFFbzZEtKXueP0LFX9+juE0FJ8henzAZh9c3Tt6EZwwrRjWF1qMO6F0Te9+nOw1jkkj0nKRMEn+jqxok0oPdAmrj2gsHMQgyHcWpK7WRMcYr0ouVus2l033ZUs0AOKpI7NXk8ecz9xShJCSrmfJ42b9IUyy90fHQfcnsQi1wLFZG/BX39+p1+SUH/p+w3Keu3pvLxYpH391iUtXNPqh43NiWq1ZZqOgm6u2Yu7cDEzc+fsu8Yk61jYkqcKCElTu5M2YpWpTKZ41As76u0e/s98jFJTxnSxKJbRw/TY5GMGo0bQRUcPMh9dGua98iYXty4Rm//K+3wF/Dxw0f+/K9mPtfx38EvqRFAJ/i/nDHweU9Xty6mdefDNyP66/1eGlKrJvXZ8iSU5/+kY0MqUJ0Zl+W3v4lf9PHqRpoyuCd17z2SFh995OuurCMo+ND7q1to8bpz/tYFRhh8HtDiBukpTb7OtMW/i0Cw8H53i45vXUqzpo6nkUP60+ARE2nWwqW0eqc7Pf4SmFD2fwIkOAsXvG+JMQXNhLFJ7N820xStxM6vQnzd0FAkTNhIbPRQz2H8ELvaOgmr0jPkdx/xeGoJYV91sfjs/UBMLmEpjE0Ti4ZLVoiWKROLphuuiInFrYRJ3LJi1kMf5fRvK0UtOwtRfPJ94Ykin7diTcPEwsQ0gag086aQtxXC66oYlsdSZOh1Qng8XSJqJjEWJvEKiZHnP/re+7l6uaiGl3tfkSVuNeH2US0wwNfrbqJxOgthkqiJ2PzhiOjiaiYcGq1T3tEQHxeLKtaxhXmuQUJ4rBUN4luLGsu+yR2e4vSgHMLGt23MRLIyI8TR98ppMRs/xM42TsLcqYZYfN9bLRPi/eIqwi657H8/8MtbPJhXWSROXkg0+beLaFUxnYhrKushTgEx6rKX3O8pDv+bVlhm6SvO4KfwEKfHNxCNxxwUL337h5e4NDyPsDKxFLkHnxXfLgwSOeJVF0s+q7tVfN37j0htJvt+sqZi80dPcbxnOmHh3Ekc4ufwES+2tReZbZV2MHGoL9b/1og6gkLLVi2FuYW5GDlqpFqiQ0f0xL69e4WNrY1I65xWPH/+XC2NJvDxEB8++mPGEQfP02JInjjCRNI38zzDxTU/kizxUbgvGihGbLovKXLQ+Ly2nkgg6bNp2jZiVwD6Gii874pxhc2EeYHR4mZwF/Z6J67vdxOje3UQ7Vo3ENXKlhRlqtYRTdt2Er0GDhUjJ60SZwPhv4HDQ1xf3ECks9F4qtys84rhzE/84HF/r5gzeoyYu+mwcL9wWVy/91T2hxfi9ecfkhsEAc9X4vL+dWLx1MGiS6s6okqZIiJ/7swifbrUImXKlMI5fSZRoNEcccX/rfwjLO8ahvuF6318IeWQIbmFHXivRW4x3H/nEB/PLhKDRm4UBmw8RHhemikalKwqeq6/Kzm0xI9dom1yE2Gapr3YH4ou7v3siJjZoYRIbWfs144BN8sEImudCeL4+2giLP5FhF8xUIUq84RZRLlaDUXbXsPFjLVHxanxJYW1o6IM+DyaKkrELSGmPjao2C97RXtnU2FedIL84SNezi4j4tZYJr5JknF3cjEWYs3t4ghrh1pi+Ttv8XxeRWFvYirSdz8mRUGJz4tFZSut8UykwGAmTLWGtCgoxt5F7/oh9rVLISyy9xdnvXzEo0XVRSLZKW3zDRb75lYV8dJ2EAf5YtEAn1eK2o7ZxaALymj3+vxIuG+dLQa1KC5SQ5A0tReFR5+Xb+Ql3AdlF9ZO9cTqV/47qtelwSKXBRSytvLHeTEwRxxRds4LWbvfxOHRDUWzXmPF7DmjRccKrsLezEw4t9slSXXMx9sl1UVcqezkGXHNl+F4Xxsu8savJVZCLwJ8nopNXfKJRLJ+uI/I+iw29qIk74CXuDAomzCPV0es0Y4PDG/XiyaS6FgUHC0urW8kHBM2DKDsSngeEV3TmUpiUkCMueUtPu7uInIXGyLUZpXwEvcW1xTJpPJgbJ5B9DrlqZbrCAmly5Tmcb5w0SK1RIeO6AlWDOLYCGeX6KMYeL88Iqa1LSFc45tJIVbSnqMRT3u8Lg4SOTUaa1NMTLrnJ+X9ON5DZAB/coLRRC00gM+Hx+Lx+w9iS0snhZebxhXVFr9UBE6fx2LT8N5izsnXvwugX9aIevFNRKJmmySnCwofxabmSfxkhEA3e1EvWAagwUe82tJSuKjvaetaUXTrXUOkNjcTBcfeMlB6vonVde0C3EPbjIWZXSLhmquQKFu7rRi95RY/+7eDvUVuh8ANrf42u6pi8TvlLr8j9O8atvuF/X38weuiGJxLu5eVKD75nl9d/TgmemaU+8ySiGaBdY5A4SmOdHURZrKf5O+/X7xDx/BYLxo5GAvz3ENEAB3tN3hfnyWqJDf3fQdTOyeRs3RVUbNuI9GseUNRp3o5USxXcmEHXi3liwzdjwTTv/6b+APFwEc8nV5CWLt0FocM6AxbwG2LicmPZGt5XxPD89qLElM1S8FncaxfTmEtKzvrgLPyt1QGxhcSdpUXig/yl8/rlaJOQqnBmdqJgiPcFeHt4zbRKpXUBJM1Fhtg6X47V5S3MhNxkzqJZMmcRCrXTCJPqRqiQo64wsTETpSYggHqI57NLCUsrYqICSBQ3vfFgmqJ5H4zkSpXVuFoXUJMe/obmYkSfLuxWNRJbS2SZc8nsrs4CGvujMpmYptaVBi63896/fW0GFEkvkhUuIOYsnyT2Hdwj9i8ZKSon8VWHm8iUrbeKg/yEhdH5BVxHAuK3tseySFkiI/iULeMwiJ+dbHktVoUk/HtjBhbvaoYfd7gLb0fiNVjFvxGHL7ePyyWTxsnpq89L14bNL33vVWiV5+V4oEfVQ8UX++fEifvfBE+z7eJob2XiBu/He8jnh+cJcYvP899OVD4vBdHxtYXFVvPE1d1vSDUKFWqFCsGy5YtVUt06Iie2L59u7C2tY42MwYe1+aKWqktfHmKsVlyUaJNHzF56w3JjYOGj8d78fjOTfE0FJZ77xenxfpeRUUc7R4mNqLGMu1EL3FpSE5hjnLztOLfwwEJn2LEi5O3nCjuaCVcM6XlY22KTRB3QGPfLRSVYJ23dRG1ppwQb/3R7vGiiIW5KD7l0e9KgwafV2JT+6wiSZJUIkuBkqJKrcIilbmxiJ++sChdrpwoV6aYKFimp9jB0mUI8DorBuWAgGsu0jVdIq7hFb/sEd2yxBd5hl6Sb6rhh9j9T7IQBHRlM4lfRSx87iO+bmknMiZPLBInSSScUqcTuYsVE1kSmgirzPXE8LnLxYatO8TenZvF5uP3VaNWIAjDu4btfmF/H194vxCn1/cUxez8jrGtucy372lGTWMTU+H876EA8koQkPLchCJmUiZsKbZrEjt7ksQW5kUmhDDz4C2uj8wj+5ipSFKkvZi62V08DVTq9xLP9g8UxaSygVmIA9HFkPyX8AeKgez+O1uJZBZJRI3FBlOE7xeLKvZOojX7ckSVK4e88okeIr1lGtFZ8eUQPi+2ig5ZrJXOaRpfNIgOvhw+L8WCynF8BwxvFvGES6EaouOYleLU89+Hic/702JW82winoECAa3dPns7sVFTdn5cEdMrJpYatY1IXbKlGDJ3pdi6/5g4cXy/WDukjEgcp6yYHV18qXToCAElSpRgVyJdMdAR3TFr9ixWYqOFYvDjlOifHUqBsYiXo7jIDaObL8+wFRkaTBdnPgTkA5/F0ZHlRBp7E3mMvai9MiTN4Ic41Ck1C40mCZyEE7tLmgqXLkdUIc9D7GidhF2MjE2sRZVFAf1Y34kFlSz5mUwca4ulZyaK4nHksVKJ6HhASmw+T8XSWjDq4XwrkbpcH7HxrnLlb6vrCHuzBKLJpiBF5d/hsUk0TWQmsg+6YCDIhw7fpIyRSvJdy5x9xQlD8cHbS3j5q0YvcXV4LtkPcolum46LC9fvivt3b4rrVy+Ik0cOiSPHD4uda9zEwsXrxcmnQUmcX8TqunGloF1DLDW0ZIUFYXrX4O4X/vf5caijSANZxTSeSJZMkb/MXP8VR1TRxmNHS5EUMqEst6m6SITKy/nHDtEqmamIV3uFnxHOY4No7GgsLMvPFW/VoqDwfm9/UbZ4R7ExsHr1/iZe3zsrDmxYImaM7i3q5LQTFtn6idOh0lj+O/gjxUC8XSKqx5NamqFPIc8SxBW1NF+OKHLlEB93ia55ioohfr4cwuveYlFTXgeEK2Ovk6HTTiMVnuLervGiWW5HkbXlHLH12FXx4ltoiICP+Hx3j5jeq6Vo8U9PMWH1KfEsIH35cVes715EJNXq3XczFglrLRXPwklrdOj421AUAzOxdOkStUSHjuiJ6TOmRxPFwEc8nVdRxDU1EYlKjxYnP3iKZ2d3ip0HDon9m5eKST2qigxxTUT8EmPEWUPe63la9M0i+SiMTbl7iv0hSmpe4ky/zGzlt6s2XSxqrAjxFsUmCWVZ4HuxsLIi+GNWO02ng1KVMID3XTG2EKzwxsKx4VrxwfuRmFUOxjITkbLdHkVO+HxTbB1TR2SKqyg25slLi8G7HogzA7PKus4iBpwLg4jvdUb0y2om4jVYG0b3EE9xvIerMJMCbnU3uOkGD4+NjUQCixxi8KWwqh8afMTzRVVFPDMDt6qwIkzvGvz9wvs+7EECGcS+qpi+qKFIDCXAsqiYpK4Zfb+wkrDivoG1JR3VNXnBw+fRZFHcUio8A8/7KTw/DoiOaU2kLNpOLNl5SQTwtg4SXq8vix3zhomuzauKwlmSiXhWkA+V5+HNwlV02vdfcLwOG/5MMZDd7cy4aqLqmPMGQra3eLB6tFgQwJcjWrhyyGPeHx0jGlRqKeZFJ18Ojy/iSyQ9jsfTM2LLgrGif+eWommTJqJNr2niwNMQKluHjmgETTHQZwx0RHdoioGzi7N4/iIqFYP3wq2ajTCOU0pM0wJ3+IOPeH10tCiX3Fpk73fCQHD0EW9PLhJjZ24R10MpD72eV14Kd+ai2KT74uX8irxOEAEW1n2RO70uqO43iqBlnmeo/8WzPo/FlJLw97YRlRYo/q2ft7UUyc3kNZwaKe7DKj6emyHqpLNSrmWVSrimlNe1KiVmhGX2mw2XZsK8yHhhsAwiZGjBVuLXEiuCFjB8wWvdLOOI7DVaieaN6ogaVSuKcmVLiVJlyokKlcrLraqoUb+56Dx0sTgZhBTr82qBqGRnLByabFANqWFEGN81uPuF+31ezxPlraEoThT3X84XFXndZHzRQOkcimFY7RvGFrnE0GBXVivwPNlDpDc3E4XG3fX1VPl8ZaaollQR6q1zDRCnQqFgeN+cJkonCGTxsYW9cEqXQxSv3kz0XXJB4En/3/CHioEOHTp0RC40V6KlS/QZAx3RG8NGDGfFwDWdi3jx4oVaGgXwPCF6ZjATNuVmqbPDHsJ9bnvRtFVvseySpgb4iFfLa4mE8UqKqRy0wz98Pt4Vp849CNHa7Hm0i3CxcGCXHt9FyOZpRedDHsLn0XRRytZOlOjRUeSzlOVWxcVkQ0XF56GYVFwqBha5xbCr6jN82yXapoKQZyOKjL/u56Ys4fP6mJhYy0VYq0Jc2P2/34sFlSyEOQcmUYtCA89ToncmU2GWubefW4nnU3FoentRtXhhUaJaSzF8/TW/dRtfN4jG/ly3At8snEqIse5BWAW93MWAbFKwLzpRPAiD7uOHML5rcPcL7/vAk8PVTDg23Sg8fBchmwrnzgeFh88jMb20tbAv2V10ygfl0EIUn/JQ9srgwW7i5lIRHXVcnNo6W/RrkFckRd+S9zdNWVcsfxCal/UWN0bnY6XE3CGDKN24g+g3Zr7YcvKGeP4lFFrUfxzhzmOgQ4cOHX8Dv4QSl9ootk6udERvnDp5Uv6NRcmSJSMrq6hMNe9DPr9ikVOmLBSfh40x0ZPjtGrxOGpVrzNtfoExZURxHOOTxdcTtH7zA78kot+v0OJ2Jcg1VXoqM+QAfQ0hLLyRfVyKY2RLdnaxyDhdKSqaMra8/UNav2gbnVu7hk5SfqrTpRPVzGNG9PMMbdl43yBhqZK/MFa8TJQttZqQ07IkdW6XjyzpO52YNJhWPPHLUmCUoAB1WbmfVrTNzHl6fj07SyfvhyXevCUld3KkX/du0M2wJB8wsiQLy1gUyzoO2fJjfqFd/xahsl1m07ajx+nwtkU0uG5uyl1/Hl35Lndb5KDs6Y3l82anyvWbU8few2nS9Jk0a/ZCWrZ2E21ct5bWbz1KV6/sox45TXHB32HsQunSWtCvu1fpWrgSNYTxXYO7X3jfxygu2ccxIts4dhTLOB2VLJKSYsvWf7hhIW07v4bWyuGSr05X6lgrL5nRT3LfvIFCak4jU1MyieVFRwcWpoLV29OYNe700seK4tjK53NIT5mTyr4eImJTwoQOZGycn4aduES73abR8J4tqFJeV0pk/d9NDBta6JxWhw4d0RZCCPrp+XfTF+nQEV68fv2a+2zKFKnI2tpaLY0CGCelJI5G9OXjezWZpzFlb9mdqiSOTV53FlOzGgPpyAcfennjNr355UVPHjzyTfrpeXI2DV14mB78SCSFwPKqYhE0Ypmbk7lRbClkSRHfNCeVL5FUCha/6OW6blRn8knyzlCQCjqkopq1CkpR1YOOTRtHezlNv4T4QR6egsTbVdQ4mSMlSZ6C0rq4UNkJFzlpmXi9nlqW7EGHOe28ithJqEzNwuQY24hSNBlE7dKFRZAzphSpnMjI8zZdvxGGNKfGiSlZIjOKhczW+O3zjC7f/EqJspWlBi1bU+NKOSmx+Q+6u64zNR15kr4bOVIGF0eK9cuZGkyfSxOH9qYOrVtTy+aNqU6VilSxcjWqXCYfpYrDVw8CFuSaLiUZvX9Ad8OQtMsPYX3XYO4X3veJJfuGmRHFNjaW9WZKOcuXpKSyP/16uY6615lEJ70zUsECDpSqRi0qYEnkcXwqjfftHIHDOLVUyDLbS9FeIrYdpa/cg+YflspsDQf6desSXfLgw0KEdc6clMHoId29Gz3S3UYn6IqBDh06oi0+fPhAnz5/4kyyxsYmaqkOHdETQp3dYgEyKtMfGyWmvHlS0Jv1w2jApvsEI7ZRsgY0b+VAKhwvFn05O4aqFi5DDSYcpR+xbClb7kykjS6zov1p0bQxNG/faVpUJ2HIQoK3D/kI7V3NqFDLJpQVF/v5jJ68jk8V2jYgFynEJ63diionjEW/nq6juRteqtmN5bmQy3x+0OeP7+j1i6f08MFDevb2m6+i8uvtLbr2wr8ZWXh40A9hQunz5Cc7tSx0iE1J0rlQfPFQCsvBC6D+YU8lyuYn0wsLaNiKW+QZ25V6HnhJ909vo8UzZ9KC9afo2rFJVNbBi67MnUDrX8cml3RppJC9ncb0XkT7Tpykk6fP0qVr1+jyBXc6c+Y0nTpxmA7s20FbNqynDdvO0LPf5FMjSpzIQQrjsk4ehUd4Deu7Bnc/k3C+jzf5+AhFmZIwK9SKGiudg549eU3xK/xDDVxik1HSOtSqckK+97p5G+hlcHqQXSkafeIh3Tm5jw5dekAX1o2iJnkSk0N8O4rl+ZKeBegrQcE43T80fsI/VNRJnyH4DexQpEOHDh3REA8ePBCp06QSllaWYu/evWqpDh3REzlz5hBmFmaibdu2aknUwevKMJGHfa/NRcLsVUT7IVPE/GUrxeLBFUVyw2h1Zo4ia8myomzp4qLFgvvq2aHHj91tRDJzZY0Bw+epmFvJXl7bVmRrv0n4pQzyFO79s7Bft2XuQeIsXNE9j4pu6c1EklJdxLhJ48X4CZPF9HmLxartx8X1K3NElfjwazcRqdps8xdUBFFyHORzN90c9mW5eN7kZmYie69D4sUXD/H1w3vxXm5vX7wSH4NzT/9yTPTLbS2MzROJwu2ni333AoY89xZ3JhYR1maJRcttHuLHgQ4cQt23noPbzJxEm12/L5ZASFY7E0tRYV74Eg+F9V2Du1+43oczEpsqawz4Kmq0LHlMnOztxGaDfFKeZ/uJrOiXVjnF4HNhjcai5q4ydxFdIyGB3/8bdMVAhw4d0Rb37t0TKVOlEPZx7cSZM2fUUh06oidSpkwRbRQDJLQ8PCi/iKfGiQ9sw0JpJUdAbGESr4gYG1La2EDgsbGhSGDqPwO9x5U1YorbKX8JyQCfx/NFZUSCMU0gqi16KnzeLRSVbc1FscmBLTr9LHa0SaEk1rIpKaYhaSoDSaryymfPK0ZeD+VCUZ+XYq9UiDKncBTx7CyCSNZlLBI0Wq+eEDg8b7qJRunVfEiWCUWW0nVEi/bdxKDhQ8Wgvu1FrdwJ5XPlESMQv93nrTg+ropIZR3wPv430zgpROEW08SJ97/XgFK3YQyv/gfvGuz9wvM+HhuUjMSGIe09rog1U93Eqd87h5hfJZ7sj8bCofoiA4UydPA6P0Bkt7AQ+UZc8QtjGip8FY/dt4iF4/uLbt2miyOhiDr1X4euGOjQIeHp6SnOnj0runXvJjr/21ncvn1b3RN6eHl5ie/fv/P26dMn8ebNG/H69WvOhurm5iaePHmiHqkjtLgl2yF5iuQiQYL44vz582qpDh3RDz9+/BDx4sUVZuZmomPHDmppVOObuLd7quhev4TI6ZpE2FuaCHObeCJFthKi6ehd4tEPJHS6KE4cPiwuBJ4CNkR4Hu4snM1NRKoO+/znKAgUHuJ4nyzC0sRUuHY9Ir5dGSpyS2Gu3NzALeJftzYTSaDYWOQSQ3yVlh9i7z/JhZl9TbEipPxrGt4uEJU4+VpQm6mIk6qEGLD3lXpC0PB5d0JMaZBJSdb623WMhWO1hcJXh5HweH5dnDl5SrhfOCvc3U8L9/OXxOUr18TNe4/E87cfhUcwuo33rTmiklNK0XJrGKTVP3jX0NwvTO/jeUj862IqTFO3F/tDET3K40RvkdUqtjBL18U3CVqo4XVRDMtjJYyts4tB7qFUDTxOiKGFHNSQqcYiUZV5YQtj+x9FLPxRvYp06Pi/Arq+VAjowoXzNHv2HNq4aSN5/vQk8UvQkMFDqHfv3kH6CePct2/f0p69e+nB/fsUy8iInj59Qg8fPOBznj17Ro8eP+bjfv78yZF1ypcrT+vXrScjeayO0OHK5ctUvkJ5bqfdu/dQtmzZ1D06dEQvfP36lZKlSEbfv32nQQMHUp8+fdU9/3H8vEqzm3Siq3XW0vSq8dTCYPDzBbnvvUTm+UtTJovzNKnJQPrYfiMNKWymHmAAnwe0ZcR4OuHUnHo3y6GuJ/ChW5NKUYmNpWn7gd6UJTRBaOgH3d4+n9Zf/kamluZkEtuELG3jUty49hQvfnxycHIm5yQ2yoLWUOLL7QO0dfcROnPxGt15/Jq+eJmSQ7ri1KxnT6qAyEwRBG/Zr3ysrSmQ2gkCf/auYb9fcPhJV+c0ps5X6tCa6dUo5N7xk16c3UOXzQpQqUz2YV4E+/P+LnI7ak2VGhWkhKE5+c0Squ7anLZ+MSL7PD1p9YahVCyBzp91xUAHA90gpK4Q5Qvq/hDa+3l7e9PJkyfpyJEjtH7Derp9+xb9ksqAAkHx4sWndWvXUd68edWy33H92jWqUr0aPYHwL/8BRrGMWEHQgJpS9ih/7e3safu27ZQ1a1b+rSNk7D+wn2rWrEEmxia6YqAjWuPLly+UPEVy+v79O02bOpVatWqt7tER8fhJnj9NySyISJ86dIQOv+jD3bN086sDpc+cguLoOgFDVwzCgXfv39PFCxfI2MSYhc1vX77S46dP6YeHB4lfv1g4NDMzIxtbW7KwMCcLcwuysLSQgmMssrK2ocyZMsv9/inavXv36N27d5QuXTqysbFRS/8Ofsln3rJlC40dN1YKzV6yRAnJ9ku+myLcCjI2NqZSJUqTnd3v8dVixTaS75SJj4Hi8FuH0rqYgVKhfdOO1YRoPItDAgfKkCEDl/8JcK3Tp0/Tz5+edPXadfr08SPt2r2Lbty4Lpn4V34vWO9xnJWFJVWsWJHq129AJUqUIBOToCPgXLlyhQ4ePEi9+/SSDx6Qkgjy8VGiIuCdFGVKHiN/oK906tiJxowew/t1hAz0y3r165K1HDd7pGKQJUsWdY8OHdEL3759I6dkTqwYzJg+g1q0aKHu0aEjYgGeBWOWsbEeUUdHxENXDALBi+cv6Ou3r3T23FlJ7L/T2bPu9PXLFzp16hQT/Z9eXuThgQBwUtpTBT4MVIasTQicEK1jGSkCNgRizdIOQRSKgnFsDGilDGd4/PjBQrmZqTkrBjVr1aSCBQqykBrZ8bBv3rxJuXPnIu9fv4f5MpTpofT4dpYAvSY2J5+SB/m9kv/vgPYbCHC+IaBwWUpBPSgYXga/lPrWbqnsRRkrbbIdoeCwsC4PYMWFX0rwPfLmzUeVKlWialWrUgIHB26HFs2bSwXOiubNnSffyz/hxbmVKlciR0dHevzoER0/cZxnGFKkSM778T1blqx8HzNzc551MLewoH87d6KLly9RgvgJaOeOnRGi+Pw/YPPmzVIxqMcK847tO7jedeiIjvgCV6LkUAw8aNaMGdS8ua4Y6IgcKDIHeNwvNsjp0BGRiHLFAG4df6tje0mBHhLuzRs36MmTJ+z7DaEYGVUvXrxIt+R3HPPmzRvykUIwC5VwMZGyJgucmvQJqN85K6tapgn/vgjwE+DqDlDl+IXrQ5Hg33I/hHAIpZkyZqIJEyZSrly5eBYiorF3zx5q2rwZx4vH8/toyoHyUL6P6u9V1HLMgBi6zignAThavYBvmSEMrxbIOQHqR9sFYV+BKv4bXMb3OdVjoajheK1ezWXd2dnZU4b0GShz5syUNVtWKlqkKNna2pK5FOABnDNy1CgaPnworkSrVq2mqlWq8D4N6B/lK1agjOnT05AhQ+nT589kKxU5bYYBbWZqasp1efToUf6dJ08eWrd+HbVu05r7XP58+XmtgZ1d2CJw/z9CUQzqUv4CBWj71u2RMgZ06IgI6IrB/w80Q2BUrReD21rPnj3J/aw7LVu6jFxdXdU9OnT8OaJUMVi2bBmNGDmCkidPTvPnzqekTknVPWHHjx8/6Nr1axTbKDZ9/PiRXr96JUtjsdX/zt3b5PXTm+7euysHtA99lsLcd3b7EX6CcAAowrmsGiloQsjDP0tLSyYIrq4u7O4ChcZFDkjcEwSiZMmSirBnILBqwPnfPb7T6VOnpOLxlq+vAd+TJU9G+fLl4993bt+m8+cv8L1mzpohhU5TSpQwIW2SQlLKFCn5mIgAhNSWrVrS2rVrKGOGjOzKVLxECUqcKLF6hAK8P54Rnxrw+8nTJ/T+/XsWxPFH22/4bgyUcxkqk/9rp/j+UA5RzvN3H7nht7EUvE1NjOmHpyf98oEyBmuJckTA58MMQYIECfg9rKysqIIU5DHrYm1lzb8tLCz83UMDFg/i2DPuZ1iRuH3rDl/HEJpiYGZqQo0bNlFL8RSCnj9/RoePHOHZk48fP0ll84LsIya0b98+cnF2oXbt2tGyFct4LULjxo1polT40Kf+FA8ePOA+D2XW0tKC0qROw8rJfwGbNm3iGYOCBQvS1i1bfZU4HTqiG8BXkqfEGgNdMYhu0HjL/fv3mTYmTZo0UB4QEiBnwL0RM74pUqRgQ0VUWOwvX7pEBQoV5JnwRQsXUZ06ddQ9OnT8OaJMMXjw4D6VLVeOHj95wrJh3Tp1qUaNGmx51QYsC4X4VB8RgvLVq1eVTKjy9/Pnz9nfGz7ciCbz4sVztmD/lMIjiDPD39jnqylf5YdmgUYpBHuj2LHJKakTu/k4u7iQrY0tpU6dmtKmTcM+znBnwLNA+NeESxCG8BCY0AD3On7iBMWxtaXKVSpTh/YdqFu3burePwcivTRp2oQ2b95EAwcOpkYNG7KrRnD+9YaAkAz3JyhQb96+5XqAoGslN7WWGSjHu3At+f7hBvBrEvUYwH99Kgdx+8gNhFA7Tn5RT5XHo0w9D/tB/MNKsBFlKEvWLPTh4wdyTutMZ93P/nYNXLtqtSpS2N8v+wnWmPziMn4m+R8zSPxMONhIPrfsm8eOHaOsWbLyOpLqNarR7Tt3eLalaNFi1LtnbypUuBCODjPOnj1Lw4YPo8uXL5PHD9nf5TPgeZMkSUq1a9empk2aUrx4oYgSEo2xccNGqtegLlWoUInWrV0boG/o0BF9wIoBFh97QDGYKRWD5uoeHVENjWcMGjSIjhw9Qh07dKRq1aqF2eI/eMggmjRpMjVt2pQmTZzE9CgqaBLWOBYoWIBMJJ9bu2YtlSpVSt2jQ8efI8oUg9u3b0vFoCy9ePlCDiwMTuHrmqINM34y3x/K4PaBtViW8ViUvw0fXnkVDFTltwYrSytfF4RkyZKx8AuC4CKFf0Q7SZI0CeXJnYfdPhDSC/vgKx6drK4lS5XkaDZjx4wNMzELChCye/XuRdNnTKcqlavQ6lWr1T2hx9OnT6l7j26soKHiYZEvV7YcNWvajGeCIoNoYhoV/QdAi5tKRQZt+aduJq9evaI0aVKTjxTuGzZoSLNnzQ60rh8+fMhCAN7Nd/honxKw3O/evZuGDBvCD9iieQsaP348W7sPHjpIDRo0YOUD+6Bg1qheg8aMGSP7Xlz1CsEDCvLs2bNp6LCh9PHTJ6mgGLGb1Pfv33iNBK6LcZQ7Zy6aNWsWK7QxFcuXL6cWLZtTw4aNaf68eWqpDh3RD1++fKZkkuZ5SMVgZgycMYCBR3Nn/a9i3PhxNGDgAIov+futW7fZiBUWwIgDgwxmfGdK5S/gGrS/henTplGPXj3J1MyU1qxeS2VKl1b36NDx54gSxQAuLP0H9KfFixdTooSJuHM/f/aMvn3Hgl4/sNgP4V9uUAggpIFwQYGAAoB9iAIBYRSCUNrUaeUxscjGxpZKlS7la+11cHAkSymAAVAK7O3tWaiLCk0/vBg5ciS7Ra1YviJC3SlGjxlNgwYPYiHy6NFjamnIQJvAAl6vXl26fee2/KzP7jcXLl6k8+fOUZIkSShX7tyUUNZ3u3btKWXKP3OBQp+BZXz2nNl07do1ui/vrXRcwcpdoUKF2Rr0J0IwKwZppWIgBe82rduwq094+8jLly95UfPV61dZYZk8aQo1kcwEQj385jt26kjveV2HoqCNGDaCZ4NCuh9mabC2YcrUSeQNJVm+P1zZypUrx65KW7dupRUrltOnz194HxTezZs2U5w4v0eTigkAIwetaNO6LU2dMkUt1aEj+uHz50+UIlVKzmMAoTGmzRj4ePuQl483G1oiyvgU3bBu3Tpq2KiBpLNGdOXyFUqTJo26J3QoWKggnZN8uEnTpjRz+swoq6c+ffrQpMkTWZbZvWsPr5sLCrdu3WI3Ycxwx40Xl+Ui8G/wGvDp0HoIaAC/x0xumTJl/FynwYxV1gUFE+V4Nh0xFFAM/jaePn0qMmRML8wtzcW0aVPF27dvxcWLF8WxY8d+244ePSqOHDkidu7cKQ4fPsy/ed/x4/yJbLIfPnwQHz9+FFLoUu/w38PwEcNF9RrVhYeHh1oSMdi9Zw+3g729nVoSMlDPktiIDBnSiwSOCcQSNzchBXfO9ov2WLVqlahUqaJwcXUWKVOmEIcOHVLPDDuk0Mz3qlO3jrCNYytsbK1FgYL5xeAhg8X48ePFuHFjRaXKlYS1jZXIlTuXkMqDembYIYV5YW1tJSysLDj78Z/2p127dwnHhI6yfi1EkqRJxIEDB7gc73Ty5EnfMYD75S+QX9y8eZP3BQWpFMjxMk1YWJjzNSWRF0WKFBHJkjlxttWNmzYKb29vsWr1at6H61paWQqpgKtXiHmQDFC+m6no3LmzWvL/iS9fvgipEDOt0xE98enTR2Efz57H4oIFC9TSmAXQGGSBD44OxWQ8fPhQWEkabyppyty5c9XS0KNAwQLC3MJMtG7bRnhHYR317duX6WJ6yYNDQrlyZeUzm4s4kn+mSpVSpHVOI9KmTSOcXZzFpk2b1KNCB8gflSpXFGayDhwTOghnyePB57VPbGmd04rKkic/e/ZMPUtHTEOUmQU0i/3Xr9/YDxrxyQsUKPDbhkWHhQoVorJly1LhwoX5N+/Ln58/sYgI2iksoiFZW6MDYDGGNRlRkeCGg8VMoUFkvZuriwt/4rkQhzs0uHv3LlWrXo1evnpFc2fP5bUi3bp3oypVq1DDRg1p584dNGLESNq7Zx/t2rkr2ERhwQGWdClMU7ny5Wj79m1UvHhx2rhhE23dso1atWrFFvLu3XvQyhUraNDAQWzJkAI9W0eiA8qULkMD+g9gV5937x6sCm0AAL+/SURBVN/xLIG7uztbmVAn69auJ0cHBzi/0fkL56l8xfJ06/Yt9WwFcozy2gf0lzNnzpBUiJS1C3IbNnQY7d+/n2bOnMWJvzA9jqlthF4tkL8AcXhZef7+/fvUq8U8wAr7/w6sBUJfL1S4IHXs2IEjiIUHiACHvrBy1Sp2d9ERwWCXWMV4qsxqxzzAmgwX2v/qjAGSTGpt498ROWwAPwZtxSwz6DIs+GvXrWOe9Tfg9+whv4Pnz5+UPn16WuK2hJo1b0H58uXnKG9w+Q1rwkj0D7g0g898/vyFE3wiw/9j7VPyqSdSroG7FepGR8xElIx+DCr8w8DCNNd/HWDIcH/p37+/HJjNqGTJElLBKUBFihSm+g3q06LFi0Nk9qiryFAO4OMe196eF28fP35cLQ0a8K+H+9Cb169plhRIM2XKxJF8lq9Yzt9z5sxJ+6Tw0Vy+J6YosYg7PL7/eF/kCEB9QTAaMXwElShegpYtX0aNGjeiYsWK8j6sNbC0tKLOnf+lju070KlTJ2nYsGHhJ9ARXMVYpFa7dh3u73fv3eNnRxhTKGLOzs60aeNmmjtnLudUePbsGSsSkyZPoilTptDESROpgxQEoRhBKER0nq9SecNUbc3qNaht27ZMoOFGdPDAQVaaATB2cws/dzNELIqp+On1U/kSM+WsCMEFqTRu27ZVCvM/aM/evWxYCA/gite4SWNq3boVzZkzRy3VEWFA6GoV4Rc5dUQmoPDYx40rlQMjunfvPtPhoIC1bHB3fi15HWgoNhO4J0s+/OD+ferWrSuv/StVuqSk1RNo9OiR9OlT5NHaPXv30Pjx41iWkAxSKQzQ0aDwg48YvhdIJ9x6ypUvT/379SO3xW60eNFimjx5Mq+5DAugGPTr258WLljIa+cK5C9IeXPn5S2P3NK5wpVXsDE3Y8aMykk6Yh6kAPbXgSmmjJkyshtF0WLF1NKQgenNz58/i3fv3inb+/f8+e3bt2g79fnx00ee9rOxteHpS1MzE2FlbSns7OOIOHZxeFoS03K5c+cSJ06eCPI94EqUI2cOdruKSMA1wcXVhaclV6xcqZYGjlevXglJBIV9XDuxfPlybou8+fKKePHjioMHD/o+++Ytm/mYP5lOx3MVLVpExE8Qj11kSpcuzfVnbWMt0qRJLRwTOXLdZcqcSUjlwPecMmVKc91qbjthQUS7Eml48+aNqFGzhrCQ/R19PoFDAjFv3lx2v0KdtW7dWu6zkPe1lH3BnF0RfDf5jnAbwn64BVlbW3MduLu7q1cPHDVq1OBr4bzatWurpTEPbdq04r7Zpcu/asn/HzC24tjZcv9wcHQQ169fV/eEDWvWruG+jT7YsFFDtfT/C3C1g8vje8k7MP4iEp8+f5J0T3ElWrhwoVqqIzrhx48fokLFCjwOWrZqxf0hKDx//lzkyJFdpEyVQuTKnZM3O3s7PhdtDD4OV9EsWbKIVq1bim3btqlnRg7gTps+fXp2A0qRIjm7B7m6uvrKQ0ePHWN34ziS/23cuFE9S4gSJYqL4iWLs4tYqOF9Xyyqn06kzttJbH4ZetkKfBeuWv/801Yt0RETEeXzhQj3KIUj9VfgkM/JbjdDhgyhfPnzkbOLM28u6ieiG/WTmjBiFOPY6AJYGGAxHj9hHC8adU7jTOPGjqclbkvZxWbn9h00ftwESpUqFV2+cpmqVKnCMZKDegdY60Pr7hNaILxo1mzZOPb/wwf31dLfgTaaOHEiW7s7tO9INWvWpB49e9KlSxdp/bqNVKRIEd/p57JlylK2bNlp6dIlhEzR4QGi/jx69Ihq1KhJe3bvocNHDlE6V1cOzXbz5i06deIUlS1bjt2H/u3yL9c1XMpGjBzFYWfHjRsXrDUoJETk7Ez8+PFp/rz51LhRE545QCIkPLNU9jjvgduSxXwcxgJui4R72JRniMXhc7FAP458Pyy+jxc3Ls/MKOcIOiKvgUW6sAjjN9zTEKFIewPk7oi5UN7i/9kCq9ED7g3yT3j7ppGRXwQVWEz/34BxMXrMGMqVOxe5uDrz+AuK1iI/y/nz55luhxryWtr1MJb/i0DOlClTp9LyFSvYoh4T4ePtzZ+Gwwjthjw24FdaGyZKlEjy462c/yZF8pTUvGkLSpgwIc/YYnZ2/boNdOrkKU6OOnfOPKpQoQKfF1lAIs3WbdrQ9h07KWPGTFz25NkTSp8xA6VLn47KlClF27dv5zDrv2WID4GA/rw8ixqWqka9Ntwjrh3v23T6+F168taHrOOEnlZgRgFywJ/wXh1RjyjhDug02BAZAL5p2ILD7t272JVizNgxTJgQJxpTZhjEiN+OaD1wv8iTNw8dOnxYPStqgefr3r0b7dy5k2LLwdKjew8O6dmpUyeqXr065cmTVyo5+al9+/Z07MgxFoAhDLdv346uXr2iXsU/IBBEpMAKwO2EpxMlMYTQGhQQZnPW7FmS+FWkwYMH08GDB2nRogXUtUs3Kly4kL/nwjV79uhJxYoXZ0IRHjg4OFCbtv9QbElklixxYyK9edMWXmsC9xkkl5k9axZllgQSftPz5s/n87JmyUKNGjaio8eO0P4D+7ksTFBfI6LrGUrLVMlQp0yeIhmNFXl7+7DyUqtWTb5Xt67daNGCRdRRKl3Nmzajls1bcpSiMaNG0U7JCNxPn6HZM2eStxRU0mfIoF6V6PqN61RTXgORe5q3aM5Zu9+9fUtPnz3zDT2YM2cu/oyJQGI7AP3g/xW+TDZiu+T/FcAr6jesT8OGD5X85hF9+vSJaXNgwu2njx+pZKkSVFDyHKydCvU6MKl4aWPuv6h4vXv3jmrWrEE9e/WQtKYZtWnTOkauVUHUOfA6Q96EfEGu6VwpZ64ctGbNGrWUKHHixDRmzFg6cfIE1albh+JzXhhBadOmlX2kFPMhQ0C5AG+MjHqpWKkS7d61k5I5JaXMmTNxzpxkTsno8MFDzFcWL3KjxYvd6NzZc77JUjUEH4b2J512m0LrjhyhYxce0WeQG/GNvnkIMorrQAnCwMKhSMN1OqL5p46/iyihXlhsjNwBilUleFUWSkGDRg15oSsYo5kUOgvky88LZ8pJITFXjpwsNKAjwv+6U6eOTPSjGmvWrqGly5axkDxzxiye7QgKiF8/dcpUyinf5d2H93ze34RJbGNJOIxo157dPKgDArMU46UQi+zBAwcMZEY5ddpUSTST0IABAwIlAqVLl2Z/ebx/WHDn9h1OIOaY0JEGDxpI8xbMJx/VgnPv7j1faw7g6JiQpk2bTjY2NrRo8UJeoAulAUoJQroi1nOYoV4+KEvinwB10bJlSzpy+AhlzJSR+/O3b1+pWtXqrGxBecBi+rRpnTmxXvy48emXj6BTp07RYjc32rFjF2fqLlXSL5mNmakZvzMEETAD1MXT589VZTuWvKdJmBeYRSdoAhb65/8rtPEVCV3y/wY9evSQCvYOHt/58xegMaPH8qJ9jJeAuHb9Bt24eZPrG9n5oWyHBtxKahtBaPuv4dixY3T77h2mNwiR7H72LPuzxyTg2ZEZHsr23r17fZW+gwcO0Nt3b+n+gwes9CBHgKY0IuhFrly5aOSIEWoIzliymX8fjDgeCUPLlitDufPkYiNmcMBMOPg+8ips2LBBLfXDzJkzqXiJYrwmcYfsu8jV8+btG/aM+KXeHrQB5XXr1qVatWpR3Tp1fsvWz/j9cf3g84zczz0kkbA69etTnOKC1P76ST9+ypMsrMn6d/YeJOBZwDPUumIQoxEl3BYLXm1t4nBn9fLyDtLdBAT53y5dlP2SSsMSfPnyFZ4uW7VqldxW0549e+muFBizZ8/OfRGDEQtpoxoQ/vA8SFXeuFEjX+YeFKAcIGkK6mTTxk2/WbJCOv9PkCVLZmZqWAAdmECMqAtYCFyjenVeYHznzm06fOgQL/gNuLAY+QY0i0FYn/nSpUtUsXIFTg6GhUuYjYASiKu8ef2GKletRLMksTR0PQPBLlumHOc1wHkAplGRoOzAwYN08+YNLgs11EeODMUAQJ24urrS2NFjeEq7YIFCNH/+fFq9ZjXVrlubekqG1Ku3svXu15v69O8jGUd/duOCyxFm2TB+NCAON/raieMnOBMn9s2fP48XbEPxTprUiaN3xVRofSgy+390B4SQiOiNhn36/6k2Dx8+TMtXLpd1GEsq1SVp1cpV9O+//1LOHDkC7Vfx4trLI0G/iGekkSk3NIDib29vJ7+JaBvV5/KVKzR06FAONBEYjYPAHJRrL4wVmO3kzigrB/xi7dq10SYKXGiAWQJY+aG4wbqvzcZhIfGoEaMoaZIk5COlbhiVGjZswBHh0K7du3WnFStX8EJkRiADEkrGyxcv2GXvjpRJMIMb2MwB7tmzZw+qXqs6de/ZjUaPHk0DBg3wdRPGfiSvnDFzOuXOlYcuXrpIXeXzwaUpoWMi2iblH9l4ETeGvW/SzQeCbPIWp/xavjcjM7Iwi0VGVjZkG+YcbrF4JkNHzEWUUy8QFS2LbUAsWLCAHj56yIOwcqXKnHAKFlUMVAxwbPjukMCBp/WU8IzBW2pADDViEBZA4N20cSOVLl2KChcpTEWKFuEIM3jG69ev/0Zk8VwoQ+K20DIJrORHsrZPXz79FuqLrx9J3NxbMgI8vSJM+n8P/HZb4sYKQN169ZiRLlm6jKxtbKi+/K0BdQAlKFOWTAT/3bx581Dbf9rS3n37Ap2FCAyTJk2kR48es8IBa8qIkSNopWTiSKayYsVKsrW1pT79+tDePXt8nxN1Cys8LOcrJeHGvWAVatmylTzmlxS41/Jx0Qmow7x589HSJUtZGcQzP3z4iLx+einrC9glQZkF0wQXvC+iPOF9ES7WEJjWxqwAxsOmTZtow8YNzLiVumnFfSqmQmtnzS/4vwz0g3Pnz/GaEfi3Q1FGEkEIBEgeKGuD6wNJ7ObOm0vjJ4zniFVFixWlqlWrcASV0ML/KP9vo2/fPuT5w1MKK040deq0wC2qBkgjxxOUdw2YNQiNPz1ofoL4yrVfPA9f5KjIBtx/Ro4eyW4xV65cVksVINpVmbJlKEPGDCysQig2RIYMGahMmbLohfz7u8d3GjZiGBUoWICmT5/OrrARDawzg4DesmULnrGICGAMgaoa0ldEtoOyuHPnLipRvDgrDnv27aX2HdqzvIDZWFjlL8oxCQSmqmMt2bx58znJJq566vQpXvsVEFAgwBdBr5s3b8l1PWnCJF7vB0B5w4w8XINGjRpFtWvVJo/v31lha9W6NbvAYeY4LMD7aLQ0IH69uk333sai5LLPW6tlFMuO4tjGol/vLtKOXZfpdRhEptiSh6Gv6IjBkJ0lSlC9Rg1eVY+oKYYr6DX89PLiaDmIAGBrZyvOnj2r7vkdcuCKsWPHcMQfRO+QWr26R8H9+/dF7969ROYsmXlVf7r06UTGjBlFl65dOPJASJBMQTRr1owjC+GZtaRU/Cm3hIkTitmzZ/uLKHTr9m2O/CGZiloSMqTAx1EOEH0GScIMgahE8RPEF48fP1ZLIg6IcKNFvfn85bNaqgDJ6JBEpXDRwpzcBHWLejSMaoJkc8lTJOdIDYjqg02LqIPIS1JhCFWyE0kMRfHixbgeAgJtvH37do7Ig4ReSHqmAVGpSpQswfWDxGFaWXFZljFjBv4dGnBUIhslKlGXrl0jLCpRYJDMQTRr3owjW1SsVFEsl/0EfSlV6lSidt3aon6D+qKRrGP0u1YtWwrJtMTatWu4fydOkijQfnD+wnlOOod+iQ3JeJBcDgkCYyra/fMPRyVClKj/OpavWCEcHBNwZBt8ghYgMR7GlpXaLzW6o21KNCulzFL2pYkTJ6pX+x3r1q/3PbZFyxZCCjmiZ6+eIoscz7NmzYq2kd3+BDt27pB0TYkiM3PWzFC/4yx5LNcvIoFJmoPEmqFBvnx5+V5t2rRRS6IXikn6CrqMiGWI6LZ582bfaDXrZf9QoqAp/UoqCGLRokXi67evvB9A5Df0HdBJrX4QNQ2RaPLkzSP27turHhkxaNWqFT8r+C7o+/Dhw8X379/VvSHj69evUjYYK4pI/pUte1bm+e3ateMId4kk3wZvD4g3b94IqYhwO9rEsREr1Wh9T5485rGJ927zT9AJzsBPET0M9YIIdC9evlD3KABvyiqfBXLN/v371FIFaAvw1n/VqHjv3r5lfpssuZOQShI/W8FCBUWuXDm5rUKT4IyjEsktqKhEnid7iPTyXQuNuyu0GE2fr8wU1ZKaCGOT2MI61wBx6oe6IwTs3rVbWMk+8SdJTXVEPaJMMQADU4TRwBUDCHgQgjAIS5UqxSHmggOEurZSiFi1chVnbwS8vL1YMEdWPhbo5UCC8IsBi+uaysFQpEhhsW/fPvHixYtABUEQoX/a/cNCG5gqBjxCaIIgahuuheyCCN9pCA5H+Sv0zBYDP0XKFPycAcPdjRg5ItIUAxBHG8n88H4fP35USxVsk8I4hNdhw4fx70uXLwtbSSyXLFnCv/HMyZIn43rt0qWLuHLlCgvtc+fNFYVl3WqKVMVKFeS1g29DDyksI4xgcBg9ZrQwl+0Gwg3hWsPo0aOZUM6eM5t/oy0nTprIQuWTJ0+5LCTg3lAaUQ8VK1YMNpTdnwIKFpgGxkDZcmWEm5sbPysEChBw9B30YwgyWr/E+7Zs1ZKPQ+ha9Fv0e2SbBlNPLxk56hrXdEqWVOzevVtUq1aVBcvI6Dd/A63/j8KVtm3bVpiamfqjLeiLfptGbyT9ggBnsLFAJ8fa1ClT1Kv5AX0I4xRZTnEdnJ9cjtmkTknUc81lf3GK8PCdUQ28d7Xq1bhewANevnqp7gkZ796/4zGEsYS6bdSoUajCPY4aPYoNVGjL6AgY2MBjFAVAyZ5eVdKIw4cPs9DZs2dPkTpNaqVfSVrCAn++PBx6WjOiQbBds2aNyJc/Hx+D63C/kvUM3jh02FBfHvynQHZiGAgTJ03MzwQFuWu3bv5of3BAWOh06V2ZPwwcNJAFaWTPxzMnSpwoUMUAePbsqcidJzePjQIF8qulghUM1F3rNq2D5A8o79WrFx+HbYxUTAxlCx/5vUOHDqycIASp4bhDePOUqVKK+Qvmi3v37ony5cvxezds2IDrHRgt+xh4Muo+LIpBUHXmeQKKgbkoOuKoOLV1tujXIK9IahmblQLTlHXF8gehb0tk2Udm/kMHD6olOmIiokwxWLlihcrkzMWQIUPUUj/AuqMNLBCasAKEadz4cYqGLzsq8iZ0695NuKRzkddUhCe2RMhPKCAZMmXg/Tdu3FCvoGD1qlVsNcCzwiIXL358VmYgCENABmEFUQTBKlO2jDh9+rR65u+AxX3P3r3izp07aol/QDAtVKggEwJYagwR2YoB4uOjLR4FuH737t2ZOWhW58mTJ7Ml887du1zHNWvVZAI3ePDg3wQLMJp+/fpxPaHu8A4BgRwEFy5cEKdOnRKXpdIRkjUIFiBYS5De/aQ8RwNmLdBOdevWVUuEuHL1KtdlaFPf49qYsUB7RraghNj0qG/0T+SmmDptmjAxNRZ9+vRRjwgcUAIKFS7EwrKtrIOMmTOJdOlcfZVo9Gen5E5i586dzKD69O3DdQCGHxOB+OB41/+HGYOz585JJbEsK6cJ5RiD4qhtGIOKcmAhBbW8LFjA+tm1W1fRv38/HqejRo3yzfOC/gVa8e3bV9GufTsWrqBMKteQCgaEObmhzzjI62Nc/9dmDGDkQEx38BAIaoG/n7e4v6iuSJ8mj+i8+aUwPGLwkMFKPck6S+CYQJxxP6PuCRrTpk3l/ppXCtNoh+gIzH7klDQUtAIb+CBoevce3cRrSbNh2OncuTOXsWEH/FLWAWYQZsyY7msAQ16bGTNm8IyTdgyuhzqbMHFChPQnKGNQamGFLyPHBtoSMzihoekPHz5kXgGFGIBwDr6VPXs2fk7kJMCMOIC2Ah+C4gQaCwwYMIDbEoI6eAPQsWNHWWYm8hfI95sRzRCY9bazi8N1UqVqld+UCMgJjgkdROIkicXFixfVUiEuX7nCYxLPBgUNvLVkqRKsJGiAB4Szi2LsDLViUDJoxcDrbD+RxUJRBHw3M1sRL55UDvMMFVfCoOMNkWMG/EZXDGI2okwxWArXCVUxaNGyuVrqh0kTJ3EHw8A6JxlmYIDgtkBq1hUrVuDEGoZa+bp161joAhFpLxnjVTngqlStzEJ90WJFxeQpkzmxFKZEwXiRFAuDEANu//79fA1YDbJmy+pL7DAQkzolFc1bNBe7du3iwY1nW7J0iShStIjvQAWBCQwrV63k9wXRDYxogjhhmhDvvXCB/xmDyHQlgiUiVeqU/P5z581TSxUULlxYpHVOy8QIRLpevXoimySseH4oC3hnPPPnICwvEPTbtG3DBB0WOBB5ABbzTp06MdEFgURCtCRJE4ty5cuFOA0J6zgEpebNm/sK7yDwGTNn5IQ0UMAAfLpKgahBwwahsmCB+BctWpT7HKypkaUYoJ8OHKgwHY2w95XCHRSDRYtCToyEd4VFEkop+hMYu6bk4rNU6VK+jOz+gwc8Y2Anx8LhI4e5LCbBVzGQY+b/ARiLEGigJENg0DZYedEvsW3dtlU92g8YjxCe6tWrK/LkySMsZV/IXyA/0yIkQ9KUAFYK1A3GECgUhoLJfwlIwgiahvc+eeKEUuh5ScxsWEJU7blO3GWS8EPs/sdJmJqlEh32K3RDA4xECRM5cp2DfoVGucbMH45P65xGPHsesvtkVAE0BEaD1GlSMQ3XeFytWrXYUARBFn2nheR1mBHGfhwHA0/z5i38zeBDkB44cCDzUe06EHhDmuUPK8A7MAsNGufi4iIVlOCvDz5eoECB34xNR6RihHfBc546fYppZaXKlUTSpEnYIwDup917dBd9+/Xj4xI4xGeFAoBcAnoEmgrFCACfQV1BHsCGsXv8+HGROXMm7gvx4sf7bbYJvKVs2TLcr6YYzPJNmjSJFYG6deuIatWrS+Wkv+99NGCs43khJ0SEYiA+7BG98sQXZlAIzOOJzDV6i8WnHomtreW4sKshlvl3hAgWoNOsGOiuRDEaUaYYLFm61JdZQUAPCAj7CiOzYN/pwLB7z272+8fgwkyA1vFBCJBJGOXw1Qahw0AcNXo0+45qmj4EtA0bNrAf6rbt29iSgHNc07lKQnBHTJqsKCcgdlAwMO2HQR8YINQjwywYEaavAxIj3GvMGGUdRKPGgU9Lg8BCCAcxmj17jlqqANZ2EBhNsI5I4FlgqQTBmzVbccUBMHuALIuYzgSjgGUbmY7BLEAM4T6F9wlpHQVmBZJKpQB1u2jxIp4ZKVmqJN8PlisI41j7wW5e8t1BdDt16ihmzpwhbt68qV7FD2hn+LOCiGtrDUAsa8v2gXKhzfrgmaGUBDdlbIi/pRjgPuUrlJf931z8888/XIasmvgd3FqagIC73bhx40QPycR69eopmjZtKp/dUljbWot58xUFD/UyZ84crvuMUhAMyVUruuH/TTEICrD2s9Al23fTpt9dL0FvSpcpxe3MyqK5mShQMD/TOgi0GBdx42N2UzHGlC5TOlgjAxR9jD34jKNPRtZYiCyg32Nc4F1hkNCEVM+jXYSrubGIl7+fOPAOxhkPsaFxfGFikVMMufy78aBO3do8LsGr8uXLJ96GMAtw4MB+niF1cXVm99ToDtDP9h3as1CPd4ShLKAb69WrV0XvPr1FilSKcgqee+aM/9kTGF7guog1UrgONpz3JwBfwkwyMvKvXbeWee/OXbvYKAQaF1Km4Xnz5okqVSr/Zq1HX3ZySsq85vCRI+ySiRk6uMdOmzaNhW1NccCYg4Kt9X8/xSCZr8AO+pooUUI2coFHoy7jxrNX6kHWF5QkQ36PsQp+NH7CeL5W7Tp+meknTJwounXvqv5SAGPB+PHj2DiIfoz3wbq0MCkGwbgSMXy+isdnD4pjtz6rs2Ze4nTfTJKeFBBjboXepRYGK1YM9BmDGI0oi0qERCFa0iItMoAhPnz8yOWIY25l+XtUFSlckdSuycvbi0yMTTi6kRxwvA+h2G7dvs05Dzq078Dx9xHRpXevXtS27T8UJ04cPg7Xr1atGudEqFC+As2aNZvi2MbhDMM3btzk1f/yILK0sOA8BEvclnC4zsCAcKOILpAyRUpOBnbixHF1jx8QTQZZeS9evMDPHxCyPUgqEPz92fOn/GkISSDoxcsX6q+IhY+3EuXASL4vngN4++YNff7ymcO7IdLPG/n79u1bVLhIEXr79h0dO36MHBwcOWNzcEBm5+lTp1H9evWpeLHiNHrMaDp27Ch1796D9u/bTyNHjiTbOLZ8XyRiQUi4ufPncYi2EqVKcmQHvLsGREhq07oNfZHPJpkDn4cIPGlSpebwcFo0DTxz5kyZOT61ZOhcFhK0d1c/IgV4vjPuZ/hembNk5mhQiJ8d1z6ukmwulMibN6+sw+40duw42ffG0IgRwyl9+nScZGb48OGyD57gekHko+pVq9PtO3dICtgcYUtHzAJyXDBkn3n/4aPy3QDGkgYiaaKdpG1OSZ2oSuUqnI0VtA7hKXds30nDhgyTRyodO3GiROTk5MTfA0IKtNSieXOSwgRVqy7pY/myHEc9JgFjAJGdEHY0e7bsalhlH3rmfo4eioRUvV9fKqYEbCfPHz9lrVhKPvE7H6pWrTrTEfCB6zeukVSW1D2Bw8dHif4C+ghaFN3h7OxM48eNp6pVq3KkHUSo27d/n7pXASLMgIYkSZyEu4+1tRVnYjcE6gjHZc2chXkYIu5ofDa8WLBwAVWoWEHS+lYcAbBU6VKyH27nfiuF4xDbwsTUhOLFj6+0nwq0DWQFnI9IPadPneJoUrFjKxEO0d/nzJ5DWbNm5WMtLS1o0MBBLD8AuBZGkNzli127d5GRcWzq1bMnTZ40mZrLsZM8eQruMwCug9CuwPPnz6llq5a0desWyp0rN9/38aNHzAMAnPFLS1IgATlhwID+NGjwYBo1elSQyU9Dg8DkLF8YWZFTjqJUwNlGDVVpREmTJqTY4i29eh36CEjgNzpiPqKsFZFRUGrUPBA+SiUgSMgDAutsBw4c4PjUUBz+/bcLbVi3wZd5IhssBhpCmwbF/AIDwtkhJCao38QJEyRjOceMBVlpu3bpyoQjOKRMmZKKSqEZocUCC6127fo1/kQo0iePHzOR0LbTp09LAW+sHIRKIjcoKIYAccH2Qh4bGQARBSG7deuWr3ICAR2ESUuv/lhNmgUGcfDgAa5jhHAzDIeJZwTB1sK6ASCmVapUpYULFnJIO8SIbtmiFQ0ZPITr+/79e6hy6ikJa6eOnfkcczNz2Z72koi/pYEDB1L//v18nwuoVKkSC0AQWL6ooQRLlChBPzx+0PNnfnVUXJYBYCihgYmJMb9DMCT0j4EwgV/lM4PZuLq4spIApTZ37jyBJlwKLZBwbsigIbLv2HIf69ChPYf7Q7I3KK1I7IN8CfMXLAgyVnl0A9qCP5kd///CxloJJIh6ePLk90zx6LeDBw1mBeDokaOc5yV9+vS8D0Jx5syZyUEdx4AwED4MgX6IMMM3b91ggTGP7JOfP3/hMKoaQBc0xVNrn+gG9O/rN25wWMccOXKqtNubbt28T8ImHxXzC9hO5hZmFEsKRjaBBGwvWqSoQv/ke3pKhfqkfOfggIztpqZm9O37N87QH90BARnhjRHmGIIj/mXK6N/4tW/fXqooBXT3s+5swJk8eQplzJBR3auM0StSYIUQv33ndknTbSS97s88PrxA4jTwQyioyFcEvoAwmPPmzaVHjx/xs8IAFxwdS58uvRSkrzINBMA/EBq9cuXKnEgURjwYBhGKtFDhQiywFypUkOo3qEeXLl1kPpzQwZHDj2qoWKkiZcuSlapWqaLKCkSlSpWmL5Kvde3WjYYMGUz79+3jZKsMOTw+yHtdvCivJ3Hs6FFOrJYyZSrOOYMQpT8kH0U7AJB1zp07x2GKkT+oQcMGNGv2LH52hGzPlCkz82kgTCNPnhK2sWpEDnnzkmusx3TyyG05ckIHIy3DcnBKiI5ojyhTDNBJuZ/KDnT9miIwG8IYmrk8AAMCgtOPHz98BUPEWx4zZrTU+AUL45gJQA4ATSNGoishflE61/S+Qq0GXAPW58AGyU8vL2YkiCEPRvjtuwfZSkGtZMmS6hEho2y5cvxOgVllS0sCgvt+kcJ2oSKFKF36dGzhTZfOlYoVL0bz5s+TBMKHY2GXLVtWPcs/kOAqogEBtUD+ApwH4us3v5kMxKmGBSlRIoXAK/kmBCsCILh4l6ySSBpaIo4dO06ly5SSgn9ztjwaAnW/avVqJn7I9KtZcho0aEgnT55kwaZDhw5UuHBhjim9YvkKFnJRn3PmzuVjNCBmdKnSpensubNMRAFk1Maxhu+QWD47lIz3794H2uaGAKHOmi0bP+fHT58iJYM2ngFJ+dB3raysKWeuXHTm9Bnyln0vY6ZMLMT/CSpUqEC9evVhJgrBCDMKsJ5iJgKWMHNzM7m/h3wGv1wQOiIeqFskBezduzfHIsesVcD6xm/QogcPH/J4+vzps6+AEBBmst0Y8hJoz8CAcYVEj6B5hmNSg7+yQPYDEyZOoLNSAMRsQ+3atZUxKg+NE0cxuuB5mzVrxvHrK0khSRt70RGakIL35nf/9Ypu3X1LsZK7kqtfwHaykzQm1q+3dGnHTrocIGA76tLZ2UVWu6x4+R/JzoIbN1DANCUOs6/RGehHM2fM4FnEL1+/8HtlyZKF2xfA731SyK1br64U1J+zQLxx/UaOq29ohYfBqH79emxUghC9a+duzj7/J9bjFy+e84xDhw4dqXz58jRm9GhO/Iksv9wU8tnYoCSxfv16VlRhKIRQfVQK35jdxrFQ1OrJZ0N2YRieSpYqSdeuX6XcuXPTli1bOEEkZjdmz5pNo0aOYn6BrM7IjVSpQkVas2atP+Mi5I2DBw/RpEmTfWk1lJcZ02dSmtSp6eWrV3T12lVZJ48kH/HhPlijRk3OngzkkcI2vCXwTMtXLGdDEO6PmQMAeSKQQDRLtixUrFhRno0Af27SuAk/I45HX4byiXpQ/4SIoPoseJ0mVwWEcaYaVC2zEbmPakLDz4ZONQhubOiIOYgyxUBDUP2oYsVK/In9bdq2oeo1qlP3Ht1puiRkbdu2pfMXL8gBFZut+QETOGEGApe1ktq4NgUIsGC6ahUnKDsrCUhAwErx9QuEylhK0i+pXDg5JWNirwHXwBQxiGpgg+DDe2XK8OVL/wnKMJgrVa5EFpKY4DQoAHCD+qlumNbE9Gy+PHk5oVfABCGRqYnj2UCcfkcsdtOCsAGAEGO2IEeOHFwPOAfZMA2BbI2vJVG+KpU9WDoMgTq7e/cOOSZMqAjxKmD10Sw/yDy5a+cunr4tWrQotWrVmtsB27Lly/wRsfLlyst69GIBDLCPG5etVLt27eLfgI2NtXzmxHRB9peQXGjAyCzMlazCUBBB5CMa79+/Z8sb7gWmBDc1KDdgtKkk04kIdGjfnrOEo1137trBShjqDRmQwdB++fySY6o1XZNtFO0Jufp4LNjFIEAwadasKU2aPJEGDxlEpUqV8p3ZAlDvmFWEhRKZx3PlzkUZMqanoUOHBKocGCoDwfVjXJetje7u/sYKgDGkIbDafPP2Lc2Q9LV9u/bspoYEa1BYLKRinUcKUgCU5ZOnTrAgA6s4Zg2CQ1T2L04UKD/h5snwfkbPX8k6sLQhW60CvtyhG8885L7zNKf9AFr/8Helq0iRItz/0AWfPn3KbRsaROeRBVfdjh07Uu++fXhW2FTyyXp169G6tetYGUK7oW1r16nNyiAMVTuk4gTruiGwr1fvXnRX9jnwrC2bt/ryiz8BZi4cHBL4Ct/gufv276d79+/zs0FwX+K2lA2GzVtIRXX4ME72B95epmxptv6DP82fN5/SS2Vl+7btdPDQAf6+dMkyOnr4KDmndeZrA4oS0oENWw8ePOSEk1AKAkvUBQOSodKD2aiGDWHcOsVZtceMGUtjRo2R22i+17Kly3zlkOTJk9Pq1Wu4Ty5YMJ9djMqULsMGG8DV1YVn/UYMG0GDhw6VCtFY2rplGyeQ02YooHCmTZuG6yG040t7XtARzPR/+vyJDh06xApTr1496Z3kS7/BOAv1XLGOZk6fQm2zByYf/I4/UQZ1RCPIjhUlwCp+RNnB4p5MGTOqpX7A4tYqVarwIjos4MGGhWRalAmUG4amNAQSO2FRT+NGjdQSBVgchUXE2JDYJSCmz5gusNAMMYIRfhT3qV69urpXAeL6Y1ERFuFi5b1kvuoeBe3aISGTGYcTDAxY6ISF1TgfkQVatW4lJGEVCxct5HCFQQELj7CwcNNmJfRaRAOhDrGQGIu1JeHgsvUbNnBdaQtikagsa5Ys/L1H9x4cFScgdu7cIdKkTc0LsJBzwBBYOJVFno+wd4bo2KmjaNCgAUc+CgjkuNAWcZUuXYoXFWqQDJoXnSOSBoBIG4hZXb9+ff4NoH0QHaJ8hXK+0YqCA6IFoY/hfgh3GtHAYj8ktsHitgkTJvBCskSJE/H9AkvsFl5gkaQSwcOMF+utXr1a3SM43wTuj8WUqMPoDCXRkKn4N4blMUCUNCzCQ2hZBCMwNjX2zf0BXLlymSOcYVExkoshoRFHmZLtgiAHAYGwwKCV2I+wykFBKnucVBAL+ffs3aOWKli7bp0vHZVKi1rqB+QewYJ+RAzDYsuaNWvwWECUK+QYAZCokMMPy+ujXRD5JzAgkAIWUo4dNy5K+hjGGSLogHYgtwrD87jomUGO7WIjxfHTW8TsfvVEPidzNTxjclFv+QMRWOyyLVu38BjC9RDGGHUcHJAjAm2/a9cOtST6AckTtYXqoMkBgx4gP4qLizPXH/ocwh8HhqlTp/J1EO3PkMb8KbAwPnXq1LIP1hQjR470DVYB3lq5SmXfIBzgB+jLqG/swzHgY7Xr1OJFu9EVUkBnfvglQELR0AKLv0E7EFkqJGDxMQKqNGnShJOlIQwq0wHZrojwhPoaL8dpRADRJhERTY9KFLMRDdQ7QT7i129WMlgKNmzYQCNGjKBEjgkpllSMNQsYXF7y5MlNEyaM598BId9L/eQPX8An0cvrJ8U2jk3x4sVXSxVg0djSpUvZyoN7W1ta83WwWFgDfrufOcPW7QsXL9K06dN+s969evWaP7X05gEBP/jNm7fQ8WPHeWoU7h2YwmzWtBnlCMHSAiNXZFlOMSsCF6oD+/ezFcYPSiXC9xjWwhQpU/BvRoD6BTAVeuvmbXrx/AVPJxsCbfz69Svy+unfKnfz5g1at2Ed1atXl33jDYEF25hNAbR21QB3orRpnXlBtJ/bUiySQon6XUHtOnVkfZ/wXZweWkSGKwCssD89PXm2CzMGsO7CagSXKbxPRCFe3Li0cOEiSu6UjGe/WrdpzT6rgFRIqETxEuwu16FjR7b6RVuoTRDQ+h3dgXZGf8Vi4Hb//MOvgb6sYeLESZKOeHNAA8yA4nef3n24r8MVEpZ6Q2h9ES4tAcePIbDmBi6AmGGMF9dvVk6B3/gJuDAUs6xw18AMHJ67X7++tG37drK1tqH+/fqROS/eVWf31EAFcGuUQga7pbVs1YKkcMnleM9SJUtSnz69aMCAfuy//reBsa6to/Cl0UamZGoSi7yODaAiBatRh7FryP2lD1nFsSVjIwdKlzkpBWYXRfALZe2RMmOCxavBIVXq1OwqePjIUbUk+gEWcdQP+EmnTp14FlgD2n/qtKn08NFDHn9Yewf3zsBw9JjyjjhHm/WNCGB9YJ8+fejAwf0844aAImmdXWj+/Pk8o64FaYCFev78BXTp4mWaN2++/L5Qjp+9tGjh4iB5cHQAZjMwA2Atx1d4kDNnTnZBHTF8hFoSDGQb339wn9atW0v3Jb959fKlbFbFvQ5kxcLCkooULaoeHHqARmFROtzRNm3aSFu3bqWbN27wPm1dh46YiShTDKysLH395V69esnrCAICg77Lv13oypWrshNeo4WSACyUA3/zps20e9ceXmwZGECkwBI8figuPxr+aduOMmTIyIQuY0b/U4SrVq2g69cV14pcOXJT3HhxmZnjtwY8a9myZShhwoRS4HKiVi1b+VuQfPHSRTp5+iRH1oEvYlDAe2mbMjgVph8S8ChBLRr8U2CKU3sm/1CeDes6IIAnSJCAfzMCeWy8C64B15jA3gsuOt5SIDJExQqK21jiJEk4gpQhDKftf382omJFitCjx4/ZDQztgggkr974Vy7AsIxiK3UdFkRGTWP6Fu0Yx86Op+Xhn4s+hvUGgb3fnwCuSQsWLOTIGlg4Wa16VRbaUA+LFi3iKf/NmzdJIbBftFUOtDaL6LqJbGhCEgSAggULsYHh2rWrPI0PQRVKWaFChcnV1ZWPw3ti0SY+IZyjP/uDQdf1CmIdAvqRh1TqoURA8Ec0sMAAocAygPvlmtVr6Km8p5mZOQtkM2fN4jHTt29ffn4Nnz59pF/qyECbQDioU7c2LV+xggMEYLx27dqVHkihEuut0Mc0V7+/CeYAap35jmPjNFSkTGayZ1tPbLJLX4V6zDtClxfVIIdft6QyF/hiYQipCIQAgJ/89AzeJRF0CLdGYIzoiiVLltCA/gNow9r11KRJE7VUAfoRjDiIjgN/e0Trg/tMYAB/hkELrr9aoIeIAMZB06ZNpSD7gA4dPEwP7j+gM6dOU4P6DX6jBfiN6EqNGjakhg0acACQ6KwURARQP3hvjT4GB0RK2rJ5C68Tef78Bb148ZL69unL+7BuZPv27f4Uw9AAfaSfHO9r162hbj26U8NGDale/bo0YdIE8pL8HRELdcRcRBnlSprUiVKlVhgXOllQ1gZ0fgxyCNpYpNpADnxYpTXfw8CQO1cuPu/I0cMctlSDk1NS2rd3H+3ZvdefxezBgwc0YMAAyXB9OMRp5387k10cO2YomGEwBEICXjh/gU5Lbb106dK+AxOROrp06ULv3r3nxcNYDB2RUIiAQhAiFb9dXmGrYBQcGtbETxH6KesmoIXfEFjcBd9PLeoU1oIUkkIGLOaGQLjTAf0G0Lix4/2tF4EABWEF74w+kixZcnWPH7JJRUDupPv377MyAl/OgHWE6Czfv3+jU6dOqSVBgy0p6ndcNyKBujp95rSiOKZIyUoWZqDg+w0hMSjmG16gHqB8TJk8lYXF9+8/UN16dTgKFu49Y/oMSiKVsXnz59LAQQOjpXKg9TcEI4hJgK8zBuwVKTgjKtDihYtpwoSJbEhAeML379+Rg6QTS5a6cRQTzIiAdmC44Z0DRnSBgIZujb75I5hoN15sHYexITChwe+3x3e/a2BsvXn3lndjrGJRJE4dNGAQL/4E7dFgaxuHr4KRgQ0hhUEbGjdqLJWd8+wLzb7ccsxNk/0uX778gQaXiGw4OjiyYI53++DrP21HJUefoge3T9G+Q1fo/vn1NLJJXkrsmIDsYnnSKyk0BcaFMFYsrSBoho4eRDqNjgAgBDUiB0F5M1xIDKC9MXs1ZvQY9s0vVqxYkO+UJ08eNtK5LXaTde6glkYM8Fzg06BhWPcA+hgT6ja6IWPGjLyOAXUJYyyMb926daPr16/T7t17OPBIeOq1Vs1aZCLpGdoFMx9YE1i1ajXq2L4jtWjRUj1KR0xElCkGEI78OqM/ceyPgfBhWDT76fNnmjhhvG88adzP3t6eLToa4IKCkGAvXr1kF6XatetwB8eiVQCRcLBgWQOugYVDCI2qPT+se42bNGKhD4yocuUq/kKcRQQgOEBODehyFVGwkMoX2gBT5Y8whRwAKIfLC+qGIdsPAv7q1av5nQ2BBbajRo2kFi2b05gxY1j4BUDoETIRi5O3bd3KZQBmK2C1Tq0qihpg3T5wYL+sZ9lN5S0CY1CIOmFlbcWhZQMDjjdWIz7AWhsSfF3HIriuUUezZs3iULp4AyxGheJzQvYvPGMKWQcBGXREANesX68eDRwwkN1UsCi8U+dO7C4Ga+7iRYt5PMyZO0cqccMDza8RlbC2UsahYRCBmAAs0odxAa5ziKePsL7o52hrJTyhDx04eJA6d/6X2nVoR8uWL+cIJKCL9nb2vjMJvpCdBsMMIw1uKkEBNIw/5THIxxJaF6y8UsBDv4Q7GyK2LF7kxoaOgPVu2D9wPCzoWIiMQADAzFkzWfmZMH4CJZPvywacAGP2bwBCEIJPQOlGpBo/GJGVU04qkt+ZbFTuZ5QkKTnGFvT25atAFQND4E2U+eigEZBGxUSAv6H94UIU3PtAiYCgGdFGDR2RC4zLFMlTsKIQHqBPIGrZ6ZOn2VB67uw5WrN6LblJfjJ+PMIcK8EKdMRMRJliYAgQ74j0IYYff/78+fn7+g0bqP+A/r9NzYNxYhq8evVqHLEGQEQAWEowaEqXKSuZQCwOLdq1WxdOsoVwbPDXBlPHDAcsr3PnzqXy5cvR4SNHeOo1g1QIukmCamhlizBI+oyoGJEBp6RJWWnCWovvHoZrDBSgvrBpMzXVq1VjS+josaPJzc2NTp46RadOn5bfF1O5cuVo+Ijh9P27B8de1qJUwK2iWtVqsm5i0dBhQ32TvgQGuCQMGNifo2egfyAKA5LwBGRScD9COFWEfAwKWt8KDb9OnyED3wPnwE88ogB/3VWrV8l3USzCSG4DoQoJayBmwHIfWQIFlANE3GjRvCW34bbt26hHzx6sHBQsWJDmz1vAUT5mzJhGPXp0p3fvQ5cM7m/A3ELpb3C9ikmA/3CWzFlYGd26bZtaqgBtgJZGeGR8wZqYdu3+4UhCoDmIZhRQIEe/8YW/H/6hJPJSos5UqVaFjki65Ae/8wxdINHvQM/Q5xHlDW4H1atX930GRK+C68nlK1dUVz+ln+JqeBQoMcmSOcnjjaXi8IX7GSJgAQj1jIR+AUMXRzbwTqZqXWihOIOCkUM+yucaix6fPEK3A7EFGI5LKAVBX0mBdq+fP0M2ROjQEVMBGgIDKAwe4F/w7EBZZPExHX8PUacYMFdRvsIvFklLIgoQXocPG86hL2GVRdjMsuXKcgizlStXsmUO8cWRkOXiZUX4c0qSlBcsaX658FeEryKE0g8fP9HAQYM4HFrxEsV8t9JlSlOXrl3o9t27zCBTp0pJU6dNo5RB+Pb+MeRNHkbSoh5FkVEWowU2rLF+wjAjY65cuWjQwMH0TSpOHTq2p4oVy/P2jxRwLl2+KOs+KScwmz17Nmef1MDTjVWq0qUrl3lBLJQzQzcyCCcQkBo3aczh8eACgxCio0eNCdQqZS8FRiSD04RZ0CRYTQ2vCR9hCMfnzysKYHDAojbMUID9v3z1Ui39c7x7+051uxI8LY5wkFgg+ebtG677iJ5hCgi4aI0eNYry5snLwieyig4bNowFV8zELFywkON1uy1xY5c9JKjDAjIoR8gw3r59e3Y92LhxI7vN/S0o8b1hRY9ZigEEaCRSAqAsG/bHtGnTch9IkiQx1aheg/36EfMcISMrVawoFevyrBz07deX82kABQsU5PGPtvv8+VOQs1k+rAQrSvzLF1gX5OdKqQF9W1MgNGDBMs7BjIA2G4qZPySZqlS5IoeM/rdzZ7YwZpTKM8YpNjwz1iRkzZqNOnXqTD269+TfmuKRKFEiFpAvX77Mv0MDuAWeOn0qQBCEsAFGCGSvRchSzPoGey3jTFS9WhYyOjuSmg53/y2ZE8Zn4FQxcMBNEIEc7j14wPxHhw4dOmIUJDOIEiB0JEKQcQg+S3MO1xnR2LFjh3BxdfENy4ZPhCPFhjBdSsguM5EufToOnyoZnXqmAoS8q1ipIocvRWgvDt0mz/W3yXIbWxsOoXbx4kX1zIjHqNGjOBTbP//8o5ZELKSgwWEz8U7uaui6uXPnCisrSw5l16FjB+Ho6OAvrJ0UdmQdbxfVa1QX5cqVE1Jx4s/Ro0eLe3fvcshDKRBwOMbp06eJxYsXiwvnL4h79+6JLFmz8PskT5GcwzMidCfesUbNGsIpuRO3DzaEtJ0zZ456x8DRpk0bkS17Ng6z2KlzJ5EkaWLx8OFDda/ybnHjxxVdu3RRS4LG6dOnuZ0RpjFguNXwAv0K4XFt49hy/aZMmYJDq65bt5brAP1LCmTq0ZELhJvMnSe3fA4L2W+thVTcuJ2Ac+fOilJlSvH7J0uRjEPcJUyUUBk/si20MYAwpwiX9zcweMhgDkM4fPgwtSTmAG0cP0E8rr+dO3eppQpat24l4tjZivXr14tjx4+LtWvXiOPy88aNG7J+8/I56IMYg8C2bduETRwbSbMsOfwurh0YEB7U1AzhdkGzzMTRI0fUPQhXutY3XGnAkKe4Pvpivfr1OGzyhg3rRbFiRTkMpRYmFfuAmzdvckjg8hXKi9Vr1vD4CgpSuWAaii0gwAOkwK7+EjwGpGIqXNO7irjx7MXevXvVPX7AMR8/fuRQj48fPxLnz58XL1+9Uvf6AWNu+LDh3Hfs7OJw+M1g4XlP7Jq3WBx94RcOWQPulyFTBq478I7tkuYFh6VLl3J9VZI8ITQhknXo0KEjOiHKFAPE8UUcfwh/YGALFy5Q90QsLl++JJlYPZE4iRIr3legl8wuYSJH0ahRI3Hnzh316N8BpjB//nyOBZwqVUqOzw9mj8+cuXKKsmXLSKa+Vnz+HL54xKHF7DmzhZlk+G3btlVLIhZg7vkL5GfhYMLECVwGIR0xiaEMdOrUUaSQQjyE+tAAMaQHDBgghfQkShur9Q4mXbt2bXH16lVRoUIFVqogAOG+YOL8XRVAc8n63bJli3rFoAGFAu2B54RSAqECAr4hEkgFo1vXoOO/a2DFQPaTiFIMIBihPpNxbHNzzgtRq3Yt7i+bNm1iARACGMbD3wJigKeTQj8rXg7xxZ49e3yV4pu3bopUqVOpY8WCnxffEcc9Xbp03C54D1f5HW0I5RBx6u9IRfCcFNKOHD0ijp84LoXdY76fULoRS/7qtWt8Dr7j2JMnT4ojUnBFzP9du3eLDRs3iiVLl4hBgwaJjp06iRYtmrMQjDoaNix8igHeCxueU/seGND/P3z44C9PBo7VlCZDoE3PnnUXK1eu5LwXl69cDvS6EHpr16nN/Rp0xlCAPnbsmHBwTCDr0YVzm2Bcnb9wnvsG3hd1jvO02PDIC5BS0h/UP/IfXL9+ncsDgvuU7LtQDNB2OE/DGkmnNBqIfCuG+P79u0iTJjXfGwosFAJ8x7Fx7ONIWlBdvHjxQj06bHghhXLEpTcE6qtuvbqiatWqHKce8djLly8nrKWyCn6QM2cOpss4zt3dXbRr3078I5+5VJnSnJ+jaNGiIn2G9JyzAQpKYIL/qVOn+PnxHlCwgmr7kGCoGOB6O3cFHtNfAysG8jhdMdChQ0dMRJQpBgASkzDzkYLGgoURP2OgAUIXrPlr1q4R8+bN43sh2ZCh9TskgKnflYwKwgwse/hEIrDwMpuwAomEwPAjSzHAe3Tt1pUFYgj0QI0a1VlAAGNG4rPkKZKFKgkXrjV+/HgWJtG2SJqU1jktJ1axRuI42ea79+xm5WHr1q2iZcuWokjRIlIIzCxy5c4lypUrK2bMnBGylU8FhEYIWefOnROL3RZzAqb9+/epexVAmevatav6K2hoigHq+k8UAwhasCwWK16MrYxQgCAIbd++Qzx48FBMmjyJBTHca8OGDepZfw+HDx/mmRUoB6nTpBJn3M+wENyzV08ekxAs8cxjx47lesuYKSO3fYOGDTjRE44pVaoU98fceXOLhIkTKjNr8l2xaTNz2NCH0BcgqFrLTysrK35vlCNRFr4bbugfuD7TBigi8hrTpk9jIRdCNJ7DUIAPChDgR4wYzkI5nrtxk8aiWfPm3M+hQIIGuLm5ifUb1otu3bqJIlLghCKK/ou+OWbMWG6z/v37S8Fyjpgs26y7PK5goYK+sz94RigvT574F3w1QEhEX8LsgKFlG8+P60IQRn+FsG8f115eT6k/lHXs2MGfwtiiZXOusyxZMweaDBDAO8dDojR5jVy5c7Kyo2HHzp3cBtiHWaOAuHTpEivr6TKkk+M1jXBxdZVKfC2xfdu2CJ/RQh3nyZuH+wfqRzEOmDF9QGLLBw8e8HFfvnwR2bJl5X1Kf/DrV/iODQnFoHAGBGg2kimCBiEZ1KtAZhZCA9Sh34yBRaAzGYbwUwwq6YqBDh06YhyiVDFAxlsIASDyCxcvUkt1BAYlA7B5pCoGaI/fFAPJCKEEwe0rRcoUwc6uaID1M03aNMyQc+XKJY4ePcpW5efPn0vlbDVnywzMEgsLa3gs5+MnjBeOCR3YrQCCHlxkYAU3BBQDuCwZui4EBigXEAAgrCAbdHgAIaVOndqqYmQmnF2cxaJFi1jYhBtGWan4QMjBfeD2MSaCXJbCikVyzMWLrwiRsL6uXrOaZ9GSJk3CGV4xIwZAiIXVFHj67KlInjK5UkeyffH8NlLYVKzfriKDvA42XA+bqxQunZ2d2TUpsVREoEDAPQnthXOwoW0wywN3LzwPtgQO8Xm2CWW4FxQWuPyhT6EfQjkPCVOmTBHmUqBEG2gbKxwQMrlcU2IU6zj6PjJw432R4VxTgJRj1fPkJ46H4sSCotwcHBIEacGHQA0XPVx7zJgxPM40oD/AlSu9fC/M3NjZ20nlwE6kz5iehcuAePf+nVi7Zg3PggYFXB9uSciuDou5IeB+lCt3bn6XMmXLqKW/A7NZr1+/Eu/evVNLIgdQYmbMmMFKCvpKtmzZxMxZM/3NvoJOQGnjPiL7AvoShP0Mso4KFy7MWbw3btoUKN1AXWDcae3bXCqFcDE0nLkJDfCcaBNub9lfQlIMli1bxn0L4/xvuQj+vwH1um37tkAVQh06dPwZolQx6Ny5MxNsENHRY8eopToCA3zUYS1s07aNWhKxABOFf36gisGJk6JEqRJSIEseKsXAzW0xM9Cs2bIG6QsdkYA7CoQqrHfAjEFgioFjQkf5PFmYyQcHuDzA8o1+2aNnj1BZpg3x7dtXxSVDCpF2ce1Fp06d2K8fggv8pyFws0CqbrZ2tmypjSqMGzeOZwYgPKEO0W6zpHA2cuQIsWLFCvUoP7yWCh4rffJ4bFh7snXLVsmgrwUqcKH+MHuCetVciKB8YY0CFM6TJ05w+vxdu3Zxm0HowqwAlEmsT4ELi2YZxv3Yd15+b9SooXqHoAG3GgjlUEagZEDhSSj7AYRvWKZ5xkK2NWYt4L+fNWsWfiYA91dmBRThX9u098a58aSwipmwyVMm8+xhYECd/NvlX+5PsFrD+ox7GFqS8R19ALM4UHg+fYo8t0SsYYDyHNSMQ3QE+hDqB7NaISn2gaFp06bcXmgDuJSekH0uLAioGOwJQTFAG0K5xYxcaOiljrAB46VL1y7Mq+DeGp4+oUOHjqARtYrBv52lcKRY4KpWq6qW6ggMmmLQunVrf1bHiIKmGMBS7qsYqGsM4F5Tumxp9ocOjZ9xrVq1WDCGRfpv4IgU4qAMYDFvUDMGqVOn4gXPISkGsFbGjx+PhQAsKA9K4AsK8N+3g+ApnwE+8wDu2bVbN55BgJUdQikWTMOlZfv24Bcy/g0MHDSQxyDeGQK04SJ69IuA/S1vvrwsnON9IORiP4Q3KD9QAlD3WDA+dOhQnoUqW64MW/vZXUYqHxC4ca4mbIe8wTqvbCyYyzrs3bu3+jTBA0qZYRvCNQWKCQITQPFZs2YNb1BGDI/Dd1ibYclmRUK2J3ztEyVKKFq0bMGufXBpClg3gQHjB+MB71KzVk1WTgwXx+uIfCxavJhdFAsWLMhjNCxA32ClWfY/rGWCa2VwwIwplALMhiGAhY6IA8bb/AULeDyBBiF4xc9wzDLr0KEjaERtHgOpmDBiEX35/Fn5riNIIIQgkrZJAUwtiVggxB/u8er1a3/3ePz4MaekT+iYiBOKhYRnz5+RmZkpZcyQUS2JXJibm3H4RYRqlKquWuofZmr+hZCA9zcxVbInI4GbHCPqntABMd9//vxJ1atWo4oVKtCFCxeoZMkSNH3GNM6B4RA/Pi1dspTDuCIJVPnySmKoqATCyvbt25fDvOK9tSRvz1+8oBkzZ3LyM8mQuQz94qtBkqvjx49xQpt69epS1mxZZf9IQJWqVKKOnTvSiJEjaN68eZzjA6FP371/Tz9k3Xh5e6vthBCQsfieht8NfyubBsFhPfPnz0+dOnVUy4IHMggbxuxHGFHk1UCujXr16pFUYnlD7hPD4/C9adOmdO3qNXr69Dndu3OPHtx7IL8/o/nz5lP9+vUpderU6rMGj5w5c1KqVCn5+5atW2jAgIEc+1vH30PTJk04/PHRo0c5JHFY8PTZU87yDlhbW3GOiuCAng2yEZYQpzpCB4RP7tevD4eDRZ6NdWvXkYnkWzp06Ig4RHGCs1i+RPRXGAWw/1d4SQYVVmE1tEBCJuDWrZsc3x7CIITtW7dv07dvXyl2bCM130EIkI+H2OyGglZkIlXKVFLQSkFnz55lZhyYsGYXJ45vVtjQgBl7KIS+gHjx8gX9kgoAMgwXKlyIihQtQtdv3ODnypc3Dx04cJCqVKmqHh19UKxIUX5fVxcXSubkxMnnSpcpRd26d6Xu3brRu3dKnggkq/r+7RsfizE7YOAATkS3ddtWuv/gPvmIX9xHkH8ACgYYuDbO0TEEJzP0IR9OEujNm7dUFH7JT2w+8jt+a/u4M6nnpUmdhsaMHkNbt2zlpHZ/C5YWFqwQIwFgqPp/AKCu6tapx/0ifrz4VKNGDXWPjpiAK5cvS9oh+6CkH1AGU6ZUlLyQEJSRQkf4cOfOHc5v8/HTZ6Yo3bp0ZaVbhw4dEYsoVQwMs3uGRwiLCCD5zoEDB2jfvn28Xbp0MdIs8n8C1A+2jx8//lHin6BgWP+c0Ef+hgKCf58/f1YTTYUOOAfZjUMSotzd3TnbNJLPIftreKE954P7931/B4SNrQ1eUv0VEpTjwqOAeXpCcSO6fv0aXbp8iby8vcjS0oJ69+pNGzdsojRp0vir6+iCz1+/siKYNKkTxZFKFMZmlkyZqXChwtSyVWtfJW/48GH0XCo/qCO8BgT/2LDYxVL6DPDL55eihMmKMDczlcJwPHJOm5ZKlyxNDRs2og7t2lPnjp2pV49e1LdPXxo0YBD17zeA+mHr258GyM/ePXtRz+49KUWyFHzNaVOm0qmTp6hTx06cYTMmwcPDg2cKUFdQsHbu3KHu0RETcPToMaYF6N+VK1Xxx7cCA0YBjv0FZSIcNETH79i1axdVrVaFbkvlABymbNmy1Lt3H2WnjjABfRIzL9OmT5N0aataqkOHAWQniTIgfjVHC7G04FjufxOICNKnTx/OTYBY2FgEig0JtQoULBDmBWqRDYRRhJ8zYniH5CcfXiB8I9qjePFiHPVhwMABvOagV69evGgWuRxCg549e7LPemCRVQxRrHhx9heHv+igQQPVUv+AT6n7WXfRpEkTDjWJ6EYBgegpOXPl4NCKiKyDUI9YzGqIMmVKh2qNAXzQEyVOyP7EiCoS1oVtBw8e5ChE8EOHL36tWjXFAVkG//vojAULFvBiviZNGqslSshV9APDBdgIJ6ssyMUCbSVcJy+itrXh6DpYsN6vX1/uS1irgDUpaLMPHz/wokHUA9o0tEAfwYLPsIQWjk7A4mNEzsG6EiRbRF3VrFmD61ZHzMCwYUM57PDQoUNCFWUIC7uxVgd85dq1a2qpjvAA9BeL+8GXsaYAtAB5cJDMUkfYANp79NhRDtuM9S/gu+CVWsAFHTo0ROmMQZYsWWBaUX5on38B8AHv1q0rTZ4yiZ6/fMn+o15e3rx9+/6Nzp51pwkTxke7dPaoISmkRboVSrt61qzZ+BNrD8IC+GtbmJvT4KGDac2aNeyWglkOKXTz7ANmZqpWq0qnTp/il4IFLms25V4BAX/2rl260Oo1q2j58qV8vYCws7NjN5MPHz9SqlSp2FKHtRgBEdZ6C089Fy5cmA4fOkwzps+gHdt30JIlS6lY0aJhrsO/DazRMFJsnUqBhIWFBVlZWfnO/GD9BNabKBBUonhx6vpvF1q2dBmdP3+BDh48RMuWLaPhw0dQo0aNeHwnTJiQ4sePT3Zx7Mhc9gltHUtogfUjaIXI7fGRh8NHDtPceXOpY8dO1LZNW1ki6MjRo/TkiVaPOqI7evXuQ5s3baa+ffvxeAgN0McxaxqWvq7DPx48eEBNmjZmd8Wv375R7NixqUmTJrRgwQJKkCCBepSO4ACX4NOnT9OMmTOoVOlSVK1aNVqzdg3zR3RN8EvMYuvQYYgoVQwSxE9gIIb8HUDY27BxIy1dtlRSb/jM4wkMnwIEPTbdu3+fBdroBvhfR5pioDKxgG1y8eIFeV8v+iaJc2iUpaJSEG7StCm9fPGC2rRpzX72BQsVZJ/7gnKrWasm7dq9i91NUiRPQZMmTqLy5QJfhAvhNF369PKb0k6BuSehDP7sr9+8ptiy7YCIWMyuLbgNC/AsEIYhaMMnHcJwTICzszNZWFrSufPn6NmzZ2qpHzAW2ndoLxnKJ/lLUL48ecltsRuNHDmKfebhew0/fHNzC+WECIKtja3a8jEPz58/p86dO/NC4549enL/N5f9+dOnT7zWREfMABa32tjYsGAaWig0Oib22qgHeMySJUuoQsXytHnzFvL66cVrxLC+CAEbEEAgvICBatfu3bRx0ybavGULywIbN23kz02bN3MZ3Guw4Tu2TfJYuL1evHhR2S5dYlcc399cFmCTZXyM/H7t2lVemxWZ6yjR36BIXZD33b1nD61es5qaNWtGxYsXo8pVKlPPnj3o1KmT9OXrF4pja0sVKlSkRQsX0/ZtO9hwo0OHIWLJDhVlxriz7mepcNFCUsyIRVmzZKGTJ06qeyIP79+/p5KlStKNmzeDtOaIXz5UokRJ2rRxU7Sx9G7bto3qN6hH6dNnkIN5O8WLF0/dE3EAMW7dtjXlyJaddu7cxdFk6tSpRUmSJGWBENE49u3ZRylSKH7fwQGWfkSzWblyBd2//0ASd6lQyOpGb4sbNy5bKipK4lSzZk2OEhLUeoS3795RpYoV6OLlS2Qc25iuXrkaaESXf9r9QydOnqBFCxZR8RLFaNiw4dSxg1/kmrJly9CLly/p0MFDLLAHBTy3azpXei8F4RzZstGePXtZOfmvAzM5devVpQMHD1CRwkVo7JixlDRpUmY4b968oX79+tLOXbtkG8YiKytLWrNqjWQ6xdWzIw8VK1WUQvR+OnrkGOXIkUMtjf6AcNO9e3dasHA+R04pJxVfzPZly56Nbt+5TaVLlaaVK1aG2gKtI+YAAhqUQNCSE8dPSJoNw4aO0AB1N3TYUNqwYYMSCUryC4z74cOGUaFChcOknAWGGTNmUM9ePaWQHrjRJyhVTlEMVVlAHoTjWHLiL+qnIWQZxAvsMpbPHC9efOZ7yqysRMDjfy8IHPKmMC5gbR7Wdt25c5c+ffzIuzAL+UX2OczMe/t484J5AM9hZWVNmTNnYrmmQvkKlC5dOjYAzZ49i8qULUfFixWTx4XyGXT89wHFIKqAJEeI7Q2f5ZSpUwWaDTeigXsiHwB8pJHcCJ8BN/jZN2jYQD0jegBrDBCfHz7egfnZRwSwrsLKxorjzMM3HH7dnKHWwUHEsbOVbZSSY7eHBa9fvRKnZZ0fO3aMk0Zhg9+tYXbToID+gBj7pubIOGsumrdoHmTCsbVr13ISs1WrVgk7+zjsl2oIrDGQxFS8fftWLQkcWGOQLJkTJ73CmgSsRfl/AdrIySkp1zUSg+XOm1vkypOb15fwWgI5TpG4adbsWX9lrAJSwGLfYvcYtsYAidqwrqBR40ZqiYIhQ4dyPSZxSsLx7nX89yCFW87ZgcSBEZGZF77hWJOC7ONYI4U1VeABoNFPnjzh+4EuI6v67du3OYkejsf6lpgC8APkvdHW4WBDNvR///03VLlzQgLoFbKMY/0Xr1WQ9B10Dt+1z4CbUm6YT0XZtDLtE7yCEyWqyRL9ZAn1HHmcdj1lTZaSg4E/1Q3lvvsCKVO++52j7cM6AcMN14V8g3VySDBauXJlMXr0aHHq9CnmbRrwvWzZMvIcU+ZzMamv6Ih8RIsZA6i0cCu6fu16pFvQFsyfT+07dWDLQ+BvLljDX7p0OVWpXFkti3ps3bqVGjSszy4fO3fsihQfS8+fnuwGA8vm7Vu3OQISLO1fv30lczML+fmFVq9aQ2XKlFHPiDzAjQchMJs3b07fPTworr09nThxkpIHEYNcKk7UoFEDGj9uAvXu3YuGDBnCEWw04D3u3L1Lp06d4r4WFOAuJQklSWZESZMkYd/5/xerLkgB1n906dKFQ48i0pMv5NcUKZLT0KHDqFrVan9tJq1wkSLkfvYMzxjkjCEzBnC7ql69Ot24dYP279lHGTL65fPYsWMH1atfl356eXE+i5o1aqp7dPxXoM0YfPv6lY7/4YzB2XPnaNKkCfT+/Qfy+PGDQ96CNvr88mEXG/iQY3YKG6LpYeYV4VQRuSuufVx2ZcudO7d6tegH8JrrN65T//79aO/efQrFkXQIM+Mjhg/nWcmICHsN63ievHl4JjiR5HE/JE/JJevFStYTXHw0W7mhTAC33QcPH/Az8gHYJz8RehptEMsoFnl7edOrV69UC70s4wMUl1dEd4PbUyxEbDNS6KtilVcvpt6Ly+W1WBTT7qEepxzpV658xfPyQfKcX2RmYkbJJW0Gn6patSqZyfpydExISZMmkXJC4HmHbty4Qbnz5OLcOgXy5eeZ8aBm7XX8H0J2xijDmdNnOMoAtOqkyZL602gjCxcuXBBW/rR6P+0eFgBo282aNfsrzxIWaDMG2XNki7SIDF+/fuXsrtY21uLFc8VKkz9/fraCJEuejC0UnTt34vLIxuXLl0Wq1CnZAoIsuXPmzFb3BI5NmzexhW72nDmcpXTK1CnqHgWlS5cSqdOkEq/fBF93mCFAHeOdkeU2NDMb/zUgK++sWTNFnTp1RNFiRTkiy6xZs9gy+bdRoWIF7gOYdYopOHBgv7CwMBd9+vZRS/wAa26KlCk4AlTHjh3VUh3/JdzlzMdJRPwE8cTNmzfU0vChQYMGbNX1tT7/tvnxMD9rtbIPFuRcuXJFy4homPkFPenRo4dwSOigWMMl/0Vm6R49e0Q4j8PMCma/48aLyzPjyH4e1OyzITDz8u3bV99PzNq8fPlSvJF8BLwCMzi43sFDh8T+/fvl2D/A3zEzfvfOHZYjcK7f9k29lvz08OBP/q7u1+7lu8ljtPJv8lzeDM7BZ3hmb93c3JQZBsnTZ86cqZbq0KEgSlXEgBZJ+Tzqj8gDfNsRA9nUxIQVcOPYRvK7MScxypUzJw0ZMpQmT578RwucIgOa/x8n2onEelJsFH6AnzkSTWGGBQtqN23ZzNl8hw0fRnv37lWPiljcv3+fWrRqwZl3AVhVW7duw9+DQty48diK8+XLZzKR7Rkw1wOqDJabkACriZ2dsgYBMyh/o09GN2ANR9u2/9CqVavo4IGDdGD/Afm7bajWlkQ0HDAzFsPaALMCyJ4d2BoMRNBKmzYtGcnxfPPWTc5xoOO/B9ANP+tw+FFM9qE4cezkN+U6RgiYITfQY6bV8j6wVGND4kDlu8IjYIX+7vGdz4suwHMhlwdi6GOt39RpU+nz5y/yfYwoR/ZstGXzFho9anSEz4iDgoCMgEcgQAKyn4fGQo71ZZaWVhxE4sWLl9SxU0eqUbMGNWzUiMaMGcOz6piRKVqkCI/3YsWK8feCBQtS6jRpWI7ANfw2S/Wa8lNeE5/8Xd2Pe2nfcU8sfAcv8/CQ23cPbnPDc/AZUl6NwIDZJa4TuVnb2HCZDh0aolQxMFzsgu+GvyMLWEC7cuUq2rhhIy2Yv4BWLF9JG9ZtoL179rIQ1L1b9xBT3kcFMJ3K9fMX6gh30JQ2RBNCYiYwnIwZMtJLSRybNG1CI0eOpBmSuIcWYAggRiEB0/DNmjejy5evMBF0TutCo0ePVvcGDURaAKH8/ElJxvbo4SN1j4KPnz4yEcUC5uAAhovpV7y9j0/YoxLpiFhw35N9B4kHYwoQWtFKCgTJnAJ3e4NigFF25coVdtnS8d+CJ1x+pJAOAf5PeVqL5s1p1MhR8ptgHjBu3HhatHARjRs7jnr16k1Tp07j0MgzZ8ykaVOn09TJUzmsaoH8BahE8RI0a9asaBFAA2MY0bjmzZ9HRYsVlc/ek549fy6F81jk6JCARo0YJfnvIcqbN2+kuLTA8Acj148fHnTG/bRaGjrg2Y8dO8aJOLds3swuRnA1nThpArvj9OjRQ7bDVE5iCMXjTwE+eef2bV6E3bJ1K6l45KJMmTPyVrt2Ldq9e7fi3vQHYFcoiBPy+9+Qu3TELESpYmAY0xyCKAbg3wA0bGj2devWpYoVK1LxEiUoW7bsLBSGFRhgsHD/6UANCQgpZmpqxveLzHpCO3hJwnf58mX+nS9vPha6X71+RbVq1mJ/2Tt3bvNxRQNYRPFsgRFGPC+iTEChePf+vVrqHzgGod2qVK0iCfcZJloJHRPSmtWred1DSAAzwaZEmxDsQ2kIuzhS2QtFvaE/mpmbyW/yDQN5Fx1/F1oEKa0/xgQkTZKUvn75ynQhMCCbNIBIX1C0dfy3gDUm8PmHtdjUDLTkz6CFPAZtypkjJ9nGiUNdu3al0aNH0Zw5s/leiO7WokULaiUFyQH9+9O+vfto29ZtVKhgIT43qgC6jrC9k6dMZh//Tp070d179+SeWGQr66d3rz50/twF6tSpU7gs36EFogq5urjKb7E4MmFogeffs2cPVa9RjT7Kdt2xYxdHT7xw/oJUErZSfqmALVy0kHr07E79+vXjCG7hBe5169YtatS4EWXJlpVGjhwh23EvlSpViurUrkPZs+egw0ePSLmlDs2W7Y7jwwucqZ2uqwU6AiLKZwyQMyAmY+asWZQxUwa2GEQmXFxcyMrairy8fgYqfEcEzCQDSiSFcQjXj5884bJs2bJRzpy55D0FLVniRosWLqQ2rduyktCgfgM+BoAVpXLlSlS7Th0Ol2YILM4aOGggL6A+c/p3a82Tp084iU3JkiXozl2kvI9FiRMlpu3bt/N7A3ARWijvDUtNYLCRykvceHFZAQHB8wgwhf7t2/dQKVXok5HJoHSEDQULFJS9IWaxrtJlyrD73br169QS/0iVOpUUVKy5L544GfkhmnX8XSD0LxZ1pkmbluJHQFhpYxPF4o9RAIOJrRRyMXsAeoakg53/7UypUqXkkM0QYgO6UUYVkFirR4/uHCazd5/ekqc8ZonUwtyMOnfqTJcuXaaBAwdyGM/IBoyQKVKmkGPuFwegCC1Qn3Xr1WE3WiRwTJo0MfXt25cX+botWUytW7fmcNxnTrvTrp27yNHRUT0z7ADvypsvD23cuEHywpKseGDme+bMWTRp0mRW9A7s3c8Li/v260urVq9Szww7/IxeskOhU+nQYYAoVQxA3JDZFIC85h0KV5Pohm3btvJswf37sIJEHtinVA7gVy9f/SZ4RxQQjQkCNsgEfKAB3LdNmzbsM33j1k1as3YtjR8/nhYvWuzPDxQJXM5fuEB79+6hR4/9u/HY2dtRhgwZWHmANcQ1nQulT5+O8wW4uDhzFKAJEyZw9CH4xyKnxc4dOznWMoCp1c6d/6V2HdqxX+qjhw+53BCYJnaWjBjHoj1wL0Pg2opfbsjQ3j0EHULHXwD6PBrt/r37oXJFiw5I5+pKxYoW4xwesOwGBBRPnp2UHezxo9/7so6YDdBn8DLwt4hw40E+BAjUCj2Kxe42iBrXrVt3XrOC8fH1+zcpqLpRterVpEKShqO5rVy58q9m2Iaie/36dZo4aSLlyp2LSpQqQdNnzmDaC+XeXj4rFIKLFy/RqFGjQjUTHFHAbLKVhSVbykM7Y3D48GFq1rypVOJtadPGzRwBKn/+/DRz1gy6dfsWr72qVauWFOQ3cpb3JEmSqGeGDag3ZHNu3KQRtycUgJrVa3IeocFDhrDRDNHioAjmyJmTDQ4J4sengQMG0v0HD9SrhA1MVxl/z1NDR8xBlCoGGKya+w4s4S9fveLvEQX4NEami8/r168lIbzGgwwJRCIT8JvHfWANCij0Rga0dgGKFilKefPk5e+zZ82iI5JgGe4HkPUW7lmenj9o8ODB/pQXczNzGjJ4COXOlZtDnz6Ugj18qx9KoeiRZFzfv33j4+CTjcXfIIwIy6oBzNVBtcTcvXuHNm7ezN8NATKH9QMe379LZcOVishnNgSseAxfghg0UM8xzUr9XwVcMYyNTXgheGS760UU4EIyecoUSp06Dc2eM4uFh8eP/QQ0LG6HewjYcWTN/umIOnh5eykhMI0kFQkFvQkJNtY2TODQV27cUPgN6O2woUPp4oWLNHH8RFZEEVADY+Td+3dsTUYABwiSSKrXtVtXVhSQwTciZxSePn1Ku3btorHjxrIygDCt/fr3p6vXrkk+pYzXbNmy0mipCMBlCGvTQOcjYx1BSEDo49jyvjek8hIS4Irarn07dt9dt249hwKtVKkixZGC+57deznUOhQcZR3HTJ4VDy+gTPXp25uckiWjESNG8mxAm3/a0MSJE2jc+HE0btw4qlmrJrm5ubEQnyF9Bho6dDg9f/GcMxqHF1rX1DldzMa5c+eoVeuWNG/+/Igb27KjRRnu3LkjnJIl5RBrceLYclKgiIAUnEWfPn1EylQpRNVqVYUctOqeiMX06dM5LBzCKe7ds0ctjRx4eXmJ1KlTcUg6JAiLLJQqXYrD43Xt2lUtUYAwbAkc4ouEiRKK06dPq6X+gVCwiRMn4pCv/fr3E7KTqnsUINTb7t27Rbdu3USHDh04+VPTpk1Fp06dxI4dOzhpj2Rs6tEK0JYI1YrQf0gUY2VtKY4ePaLu9Y+GDRtyYi4ksUMoN0M4OCQQlatUFlIJUUsCB+7Xuk1rblcbG2shlUt1j46owK1btzhULhKdxaTQsVKIE0+fPhGly5QSpmYmInmK5GLY8OFi69atYsWKFf9r7ywAqlqaOP6nQxARCwUUsTARu1tU7O5u37Pz+ezWZ3d3i93xxMZ4drd+diAmIbDfztxzERAUFcTYnx7uuXvintydmZ2dCUsaRwmcFL8Wixcv5jCQtevUjpVQod7ee3UhSGX9Z2ubSOzavVtb8oE3sl6TAqYYKp+xcuXKcX3JiSG1pFf6xFdUnjFTBlHOw0MMGDCAE0Lulvs7ffo0hw+l6a6WNO3O3bvcRp85c0Z479vHz66Xl5cYMWK4aNGihXBzc+PnOGGihPws029wEi/5m9QOUP2+Vx471aH0PsQ3FIaZrqGNjQ23NdFBIUgpISYlcySZhNqtAgXyCwfHVJxILvy5bNmyhRNqbt+xXSv5cii0KSV0mzBhgihQMD+3vyVLlhSrVq0Se/fuFVLp4jCrlPBtw4b1vA21b02aNhHWNtZi67atXPYlzJ49W3fP5LRkyRKtVPGzQfVL4cKF+fmhcO2r5TMTG8SrYkCZPymmNykGlHF33XrdQ/+t+Pj4iKRJk3BcZKoIZs2apS2JPSj7JFWw9BukgNy+c0dbEnfkzOkmLOXvxaViMPafsSzItGvXTivRQbGST50+JQ4dPvTJ+M+LFi8SiRIn4gprwMABnBshOuihfi8F8egajcdPHsvGqz9X0HSdqeEhZYyE96j4668+wlb+9v79ERWH4yeOcy6E7t27fbaBCq8YWFlZcdx5RfxBdQS9X9Qox0YW2e8NPT+UU4My4VKDT4o9VeIsPKVKGa2Srfh5IcWA7nWLli20km+DhHRSLEmQI+FwnxTSPwXFzieFetr06SycZ8maRVgltNIEdxIGdYoCtY2kLFDeF3oWKbO9c1pnkTadi+7TJa1I7ZyalyWWdTDlt9HlStC1q7QP3pecqA2nd7Ruvbpi3rx54o5sDyMbhuIbyo1A50LHvW179IL8iBEj5PmZi4EDB+qy7/fvz7mPNm3e/FH7QUpPrdq1ZJvz6XvyKUhh+aPjn6J9+/ac36R8+XJSGfmgTFGbNHHiBBb8crrn5JwMBCmCdM09ynvw9y+BFANSHJVi8HND71juPLnD3kUyoJFi+638AIOPtUMQ4KyOsQG5sVBmUX03bkgMu+uvXbuGrt26oV27thwSjKJLRAeFEiP3APn2okqlKkiVMqW2JO5IYW+vzcUdJma6gbeRe8DJL9othxsKFij4yW7genXrYcyo0dytPXbcWL6WspHQlkaEXIRoXEPk7naK7e7l5cURo0aPGYO37/y5C3jo4KE83iGyG5MeBwdHWFlZf7Q/GpdRvHhxNG7c5KNlUfHh/MR3cdtSRA8NTCQf34AAXYbXnw3yGf7zjz+xz3sfunXphurVqnHm6MaNG3PIZIqnrvgFke2ZhbmF9uXbcHR0xOJFi9Cje0/s3r2HY+R/CnJlI1fMdm3bcmjTnTt2cubwieMncsCIXLlycaQ5yh1A7uUBgQHw9X2Ohw8e4OHDB3hw/x5/3n9wH48ePWLXpHdv33FdKGUGDsNKrnDOaZzhUdZD1vHt4LV6Dbz37sOihYvQrFkzODk58YDdHwlqwxLZ2PB8dK3A1atXMWfubOTLl4+zRpOrFIVYrVWrNip6en7UflBo85kzZsr1da62X8KhQ4fQsmUL1Klbh4NyrFy9ktuezFmyyutM4UR1v0XtXetWrVG2bFl2XaaxJATdY7qfhw8fxt69e7ksxmj7Vu6MPzf0jtWuXVsXGlk+O+RWtHjJYm3pN6DTD+KHmzdvslWCewysEog1a9ZoS76NO3fvCJd0LmFWEXJFWL58uZACp7bGx1A3qatrJrao0ERWlAIFC4hJkyaxZk5a2As5kXZPXbBkaSErtpOTo7h06duyW8YUT09PzqhKLjtxBVk3qcegUaNGX5VRkaCegFmzZ7HrEVkksmXLKqZNnyZkpfvJfZJ1ddu2raJy5crCJpFNmBZMGSvnzJn9WWs/dadfkPcqqt/41L0PD/WGdOrSiX+b7vHVa9e0JYr4oljxYsIuiZ04efKkVqJQ/Lhwj4GZKWf1/RGhtuzcuXPC29tbzJ03V3Tt2kXUq1dPVK9RXVSrXk3UqFkj7JPcoeo3qC9atGguho8YLtefx+41J2UbRL0CgYGB2l5/fKh9obaIrPLTZ0zXSiNCbq7UM7J+/XpubwYPGSxsE9vy9YpNaP9k7SfX2Fy53dn9yzqhrkeG2p4KFSqIhw8famvrOOJzRNinTCGy58gu7t+/z2XUpiZLnkzev7r8PabMnTs3TNZZtGiRVqr4GaGesNx58+jkJSmTuqRLKy5fvqwt/Tp+ScWAGDd+PO9T54Ki6y6tV78e+1M+fPSQhUdyY7n7v7uywhvBvvOsSMhjIaFUP3aAPsmPsmChAnIqKFwzu+q6Y+UyElZI4fiUa01sUrGiJ//20mVLtZLYZ7YUwKkbNUPGDB9VTF8CdX9ulspWtuxZtetlIdKmdRaVq1QRXbt1FVu2bhHbt2/nicYdUBr8osWKcneprqtb112dL18+ufzr/Te/FLqXnWVDqb/35JamiF9KlirJ7+Tx48e1EoXix4UUA1OpGJCQqYg7SHCnNjymUJvUpk0bNnyRu1Bknjx+LHK4ZWeDoN/Ll+LZs2fspkGGqvCcPXtW/PHnn6K5VJaaN28munTpInbt3sXuxTGB3D/y5c8n7OwSi7Fjx/LvkuFq/vz5YvGSJaJMmdKsvNSoUSOCKy4Z3EgBoHZxjZdOVqKytm3bsCyidzGKCXPmzNG1y0ox+CUg2ZlkXJZb5T2tW7dOjI2hURHvrkQfeuaoUyv2aNmihZY0RRcuLjAoiMOKUaKSCp4VuPuOJo9yHhg8ZBBHMCJq1qiBPHnycJepgYEhLC0sOYX7qVOn5XQKtzhUpgEcUqbC7FmzObHM94qwwF2z8rju37uvlcQ+Lmld2MWHzv9boO5Pz4oVORZz+7btYJfYFg8ePoQU8jF12lSOslBN3guaqlavyqnxjx07xhE9KBumQ6pUnNmTch+ULeuh7TXuoWeSUtXT+ZObWFyFhlXEHLonsgH8acKVKhREdC6Pim/n3bt3mDFjBmrXqcWJxWISjYXuByU6o5aN1o/cxvkcPYrr166jfLny7GpFbkWUcKxuvbraGmA3jbIeZTB79kysWLEcS5cvw7Tp0zivQY2aNeDt7f3ZtpOWm5iaonKVqiyjJE2WjF2zmjZtioYNGmDJkqWcmG7Tlk2YOnVqWDQ2apcbNWrMLmArVqxgFyAqo+Rnb9++xbbt23i9mBJ2mB+EMMVPCrld16xRk8O9k0vRlm1bsWr1Km3plxOvigELX+Heoc+9UF8CVQD9+w/AqJGjkMQusS6hBwkYwSG4fPkyv0Rbt2zh0JmsoEhhtFaNWpgyeQr7uDMiFP3+7oeFCxaitxRSK5Qvj+pVq2Hk8OHYtWs3qlWrxi/m9yKNszNfr7j0e/9wD2InvnGaNGnwzz9jsW3rdg5FmtMtJ5IlTcZ+sNZyIj9c+qSKOEWK5JzQavToMdi5fQcG9O8fIVfC98LYUN5T7dzVGIP4x4wyfst3USlpip8BvcErNtszxQdIKRg0eBC6duvC+W7+GfsP/t37r7b00yS0Scj3Z8fO7R+FP16/YT2MjI3g4eHB927rtm3cLpGQTt937NzBIUwpn0GH9h2wauVqTJ00BUWLFOE8P0d8jqB+g/qf9fcnJWDGtOkYOGBAlPIDhaKdO2cuktolwYiRIyJk8c+dOzcn/bx8+VJYluWc7u5wlu0shY39KtRz+tNDRmNSkF1cXPh2ktwycMDAaMd3fo54VQziGnN5sdq1bYctm7eibu26nIKdhH3WqlgZoNM34O+tW7bGzJkzOfsv9S7wcvkvk3wJKWGR7wtflC9fQWrzS9C5cxcWeL83btnd5N/YEdijhVo0ed73HzyQ5xz94OsvgXpUsmXLhp49evBAqQP7D2DHth3YLqcN6zfw547tO7F/337s2rmLK13ntGm1rb8vdN9NzUx5nq4zNQKK+CWlNrCf3kGF4keH62f5Xw3qjH1I4Jk8eTImTpwoK2tDbq6SJEmC1E6ptTU+jWsmV9m66TLhh4eUjVOnTiKjbOtdXNJyj8LZs2eQVrZDDg4OnAenU6eObGCcPn0GG688PT3RomVLbJXKyfSp0zkACSVPo0zU9+9H7NWnZ4G8Evz8/HhydnbmQeXRkTp1aowYMZLzAo0cRZ+6dsjOzg6urplx+/YdnD9/nsvICEq96pSQLbKy8yn0/QTU5il+fkgm7ftXXw7UQjx89BADBw74qnooXhWD8A8kibpxJe5mz54d8xfMZ01+mnyBBw0ahMyuWeQSErJDUbRoUU68YmFhwS8+q1wSQyMjqdGbcFchJTHp3qMbzpw9y8viA+rVIOJUMdCIq9+ge06VXs6cOXmiCBv06ebmJitKJ22t+IPOm11WtGczJET1GMQ3wdo9UIKWQvH7Qu//zFkz2fWXjHoJLC3wz5h/cODAQWTOnFlb69OEhIawnBHZ/ZeSjJGLLiUPs7NLggcPHrCi4OlZkYVtstzfvHmLI9uRy0Z4NzGy+tetWxczZ8yCjY0Nrl+/jslTJnFbQhO5Iv/111/ImzcP3HO5c8I5z4o6I+OneqQbNGjAx7N+/TqcO3eOy+i4q1SpwtvR8enLihUrhlevX+HwoUNc9jlSp0nNbTEd35u3b+OsvVd8XypXrswKK70rJC96rVuLf/+NWW9aeOK9x+B7KquZ5UtGfnxdOndBjhzZuIxeCMrIS0qBHv1LQi+OoZEhh0qkiigwMAgXL1zgZfGJrG60udhHr6yRgnT92jWe/90wkcqgfAh43tBQ+QnHN/rGM7whQaH4FshCvGjRIvy7d2+cCUXk/qaIHegerVq1Cn3+6iOvK7kXmmLx4iVo374D0jo7x7huoOz4BIUhDR/+mEKP+730Yw8B4n//+x/evHnDPd1Pnj7BzJkz2F2DMvhHN3akdOnSaNiwId/3BQsX8m+QKwdlgx43YRy7/lBvwRP56XP0GFq3aY3u3bvLeR9eN/JzSAJ/n959uHzuvHlhhpHUqdPAUipFj8JlW86bNy8fn8+xYzF6nrNmzirbOWM2fl67elUrVfzsUIbuoUOHIXmyZCQoctvZpVuXL67j4l8x4H8a37Ei1adrJ8JXKfTy6V9AU1MTHoiqh15U6raLL/RXKjQk7q6T/lrQY+Tj46P78hvBVhQ++/BXQvEjwL15CkUs0LtXL7Rq3RKVKnmid5/en7Tcfi1xsc/flbNnz6Jn754Ifh8s22EDdO/WjQcJfyllypSBqYkp3vm/i6AYUA8BGYTKlCnL36kHgQRtcmNcvmw5K5IUL57clj4FjUX0rOCJmtVrIoldEjRo2AC3b9/C+HHj8fjxE8yfPx/2KVLIdka2MPI8Zs6ageLFiyGTa0a0aNkC9+/f0/ako3KVKnB2TovNmzex8kA4Ojiw61T43gFyMaLeBQru8SXuRMR79Zz+UqRPl46N3zo51oDzc02cNPGLlIN4VwzCkAcdXliPU+RbGV7rD3+59EoBFVJUogBZeVBXIEGDhjJmyMDz8YImq4YdYxxgamrKlRahG4Pxe0EvT1DQh+g3X6ppK2Ifjjii7oMiFnn85AkbAUJDBfust23bJkaRbWKM3PcT+RtKOfh29H77T5485fqYXHn69PlLW/rl6IyResOPjt27d7NLkH4w8LFjR5FCCvCZMmVipYSMglUrV+Fl4aEEcGHBSiSkOKxauQoTJkzAvHlz8d+JE1i1YjXat2vPCdbGjB7Nik3dOnWRIjkpCAYwluWUhHXZ8mUoVbo0bty4oe1N56bU8c+OePrsKY4cOcxlNDg5laMDB2PQyya0Xo7s2XH16pUvfuaMNBdlxa9DkyZNkS9/Pvm+6BLljRo9Ci9f6SJvxoQfQvKjJv97tvuG8kIlTGgD3SBkQ5w6fTKsUSDBmF6yUHlAdEGp6+/ylctcMVD598g+HB26ysyAB0LFFXSeNNG5U8Sm3y1EJDU8AUEB8vx132OaNVsRd+iV+N9RUVXEDeTC0axpc5QrV44trEuXL0e79m1jJdgAZes2MzNli3RcGnF+Fyi8NYWypjaJxqcNGTwkWneezyLlDBKWqFeYXIX0GBoZII1zGha6SbB+KdvYlPapOAzo6dOnkCCBFQvtdAx6pkyZgly53TFt2jSthPRBKehLOYG2o4zJ+fLn5/Do+u1ooPKJ4/9h1sxZaNO6DZInT46li5eiCikd8tju3L2DDh06RLD6lyxZEnbymVq3bj0/U7SvDOky4NnzZ3jwQDfIma5HtmzZWRl9EGng8+cIId+sbyTkiQ9WL9uHu+F0ktA3L/EmwuMfgtt7N+KY78/5TgQ/OY9DZx7iW1X9IL+neBFlEv8g3D+yGquPPMa3XiHKuN+rZ29+puh5efHiBaZOmRrj+uiHaWmpW4006u8BCb7u7u5cOdBFO3zkCL/IBB1D/379UaRQIbRo0QJJktiFRRiwTWwbr65EZFkgpcY/4IOFIrYZPHhwWFSmN29ef3G35K9AEAkH8vwZZamOd96/l1WxvB+q90YRW1CuGhLs5s2dh4YNGyFU1nMrVq5E5y6dv1mYd3V1hZWVNVuaHz58qJUqvgYKLU7uN/TmU5XculVrODl9fZAKYxNjpEuXDiHBIRHCe5KBUF+93JPt/cWLF2Bvn4IVRYrQlz59OlhaWupW0Jg2fSqe+/qy4kI5D8JD1vzbd+6wwE/yhp6ECRPyRMpD586dcdTnGA8WHTpkKFKmtGfj3+Ejh9kop4dCUNJYh+MnjrPLE7XNdB70nOq9LKgsfYYMfA6vNVkmppBM8U2EPsTcZmVRv2kVtJp1S4r/kpfb0SlfauTpshth6lfwBSzsVRe1e2/FR7br0LtY2a0phux+GEkofoNjk5qgRrc1uPOlosi7G9g9oxdqFcyFKuNP4JtU/pArmFinAIoXKIL2G59HL7gHXMGmyaMwa98D3XWIRMjVGajmmgpp8vXEvki3KeTyeNQtUw/NR26Bn/we+mAj/qrRGNMufLkqQs9D8WLFUaZ0GTaA0zNIA/fJ0B0T4lUxoINnI7jG97Ku0O9STgIeZCp5J1+k1WtW8zwtoxfVy2stBg8ajE0bN3LSLaqZ0qVNpzvmeMLK2oorhPDjHmKb+5oFgvgtLbTy/nJ0Kn0rEY/3W6Hj/fsgnYKmFANFLEJWVltbW4weNUo3aFS2PwsXLkSfPn2+ye+acrRQfhYKTxmr7km/IcuWL8ejx4/knOBQoxSp51uge26vhT/WG73okwYb62v6YE6mGIxM8vdo2dt3b5HIJpG29AMZ0meAiZExKw+Re5rIr5vKHBwdtBKwUNZFKp47duzgnngaw0A9FKQkUM+Bi4tOvgiW8saJ4ye0rXQySZ3adfH48WPc1NyM8uXNJ5WPN7h58yZ/J3K555R/BXbt3Kkr+ASUr8EmkQ3LNS9evvjQ3n0NhklRoEAmGEsh/ojXetySlzXE9wauPHyDG+uWYa9eAA7+H+49fI9HB/bgTGSL+fsbOLRxGYY0aIN5tz+I1KFPV2PYgKXYvGYHLkSW7F9fx0Hvs3gapcIQgguTGqFqx7FYf+IMdsxbjZORfjPUdy8GV8qL0n13IXJgdqoL6B7pr0vos4PwPu0vz+E2lo2ciYtRVg9B8BlcE7W79UWH6s0w42YUB/b+OXxfhuLd1ZM4G6HnJBQP/t2DU0HGyJovP2wQjP+m9cP4Ld44cy/KE/wsNEC9a9euco7OgVwbH3MkrJjc6x9K8guvWcc1FFasdKlS8iKF8sh8GpxB2jhBLyJp9dRTsH79ej4u6l0oVboUL48v9BWXrW1ibS72IYVJP8jzlWzYYqNr/WeCGoVbN2/xM0AoK3X8o3MbkPdDKWmKOIAGbo4Z8w/q1a3HroOTpkziwclf60ZJSRmpd5kEyrtS4FR8HdQer16zStbBujaZevBJgP5W9D74+jqe3HMo1Ke+fiEBnsY10PgCPVG1A3PmzJVC/k5OshZ+XYIES9od9UTooZCjCxYu4AHJa9as0Uo/hrZ99ChiTxP1QpHB6uChg/yd8isY0r7DHZepqZmUaxJxb8XnjKyklFB+BsLniM83tnPGyFy3IQpZAf4n92Dvk1AYpa6NpmWknPLkAPac0MsQQQgkG49UloMi/5yZO4oXtJNayh6s260bN0EE37qKW1K3Ns6aB7nDd9iEXMeEau4oUbYwKg0/IfccidAnOLDvbFgvQciN7dhyNrw0H4SjYzpixI6T2Dd5KOZeiSh807NBcl/I0+u48igAT7ZvwREt9UXgqUWYe8g/imtsiAR6o+3rfzFiwFo8j7SKUaZaqJaboh5K5TM43EUI/R82bvRBoGEq5CngAqPgS9i26wqCLXIgT46v96TJly8fcufOw/fXwNAIy1csj+BCFx3xrhjoX87v3eSTyxCFLtXf3Fu3bmHEiBFhF40qC0pHfvd/d/k7Welzuefi+fiCrFh0vIFBcSesf0gsZsCRGSi02q8CNfQUXYIGi9EnTXS/6RyfPXvG/pl03+/c0WXDJlQknPhH30NGXaIKRVyQ2NYWY0aPgUfZsvycUe6a4cOHfbVykDJlKt4PWXkVX8f+/fvxv7u69jedSzqdH/43QsIeKYJUv9+4eZ3bUyrj8XuacExtAEU/YkPrJ6CBxgULFuQ8SZHdoKMStLNkzYIkUmmkNkd/XnpIWXknFUkdBjA21SXZ1EO5fihC0unTp8NZskWEMXDUU0XHdObsmc8+t3TO5uYWLHjp3ai/BaN0jdGmvLyubw9iyw4p2BsmReXGlWGPu9i+4agmoJOwLRelSg3HjxI+WyFTRicYIRh3b9wME/RD793Fg1ADJEppj4RaGWOUFk36tUUOi3c4vXQJfCJoBm9x+9Q2+FwLVxh8FUeOhHNTCrmBvfuu6cYLBPyH/YcjOjfR82FkFIiN3QvCrWQr9Fu8G68TOsPZTp5AyE14LdqBV3QyEQiAVabscOThL/LdXzsIIw5EytZv5IRsrvI6yWN8/erDM/L2wERMO+APm0Lt0aaIGYKOLcQKqciY5y0Hj2RfL6ZTwJymTZrKuiiEz4ncG8+f1+XE+BTxqhjQgYbXqL83FSp4Io+mTVG8+rnz5qJ+/Xocvq5tu7aYv2Aeu9NQBZ8rV24UKFBA2zJ+ID9YOlaquOKK9OnSw4QrJcEWryc/eMNG14OEeopDTf6op06dxu49ezBo8GBW9MaPH4dOnTrhz44dUaNGDVSqUllOlXiqLOdpqljJU04VeWrbvh0PPNdjHi6/hSJ+IHcPwsj4o9ZEoYg1yNI/d85clCXlQNYBo8eM5sRWX1PfFilSWP4V2PsVyYUUOrzWemmCr2D33lSpUukWfAMkwOfIkUPuUeDFCz++zzQxmjHo4KFDSJjQ+oMbkFyuNxRFBfWqnzt/Htdv3IiwL2pHbty4rvsuSWybGH/+2RH169XnjMnhIbez69fl9nLeyMiQxzeEhyz8LmnT4uq1q2zAIvcjqg9JUQhPiFQwSOj//iRC2WqlkdggALdv3GGB26p4JZRKEoo7h/biKkvgJO/Jv6bmMPvochrBydkJ5gjB/65ek2KzjsA37xAoLwr3jkTAELbF+qBXpSQIvbsf/4bz7Xm5qiXyFmyNpXdDYWpuRrqPJBiXz5yWortG8D3ce6hXE4LxQMoPH/agEfIIt+68RvD15ViwPwhZ28/BkDIk1IfiodcULLwRsZchyGcwKjVZyK5UzPvLmN55CA5EMNAbwFQ+gwahj3H/vr5eCcGj4//heeZWmDmvM7IYB+LAUi/cCLFG0ZqVkeobbic9tzVq1uBgO/QekWvcGq+1nx07Gq+KgZ7oX7m4hSqJeXPnsQWBLcPyIu7avRsTJ07A8uXL8c7fn+oEJEpkw4lG6GWMTyhSAt1QtmbEEblz54YNRWyS502/RRmhR44ciSlTp2DGjOmYM3s2K1CUcGWenOiTv8+dy92kixcvxspVK7Ft+3acPHWSfS0pEyRN5A9JCV+oi5gmjqAgP8mqRm5bFPqNBuvRJ/l80voUuo22pcFdlOBm7tw5nA6fhP1mzZuhUaNGqFS5EsqULY1ixYuicJFC8ntFecwjOEPmX3/3xczZMzFbTrt278Thw4dw6NBh+Bw5wuHfjh714aR1pEWfP3cOa9as5kqeamhdZeyiXRlFfEGp3gnKK6JQxCV65aBI4cKgUKajZN1HCsKXKgdUd5KQ9zmXDkXUkKB87txZnre0sET1atV5PjYIE/L1n0S4WcolYGpmyhZ4M1MzDit6+cqVKF0wKFxo/wH9UbRoEdkWNeToL0TGjBlhncAKXl5SuQknhHX8409uN0nmCI+3tzdecThJAWsraxQrWky3IBx58+XjiITkKkQySYoUySOMMSAoChK1ZzF5Xj+l7HwNNuXaoFXOZEiZKplOsExQBh161YVnxWJIQ6KTYVIktTWEePEMz6J4LUydnGBvRON3z+GSdvjGRkZ8ayggysfYoqzcd8KQKziw/96H3oCAAATQywdT5O/YHcUT0LyA7+kTmoIiCXiER2E+/sG4Idv+SLZ9+RJL5eEx70gKizlRs25hVGlYVSeovzuIpUsvRFQmpEIWdkWlrEinHHRhGrqPPf5BIZGljqlTwTD0Kc6cvKltbwSXjttw02caaqSWFyDkAc5cfAiRojJa1nL8ZiE9oXVCVKxYkZVWSthLuS7IVe6TyJXjjbt374pMrpmERQILkcDKUqxevVpb8n3ZsWOHSJ3GSZhbmAtzSws+HprMLc1FsuTJxJw5c7Q144fg4GBx7949Ua16NWFmZiqksC5kxaktjX1q1a7F526RwJI/zczNwiZzC5rkdfrEZCGvIW1nyfc1gbBOaCUS2iQUie1shb19CpEufTqRPkM6kS17NjnvIrJkzSJc0rkI18yZRMZMGUTmzK7CKbWTsEtiJxLZJuLtE9CxaPvnY5HHQRMfJ98zy3DTh/tH69vK382YKaPInSe3aN6iuVi0eLFYu3Zt2LR+/Xqe5s+bJ1KmSilMzU1Fhgzpxbz588X79++1q6KILwYMGMD3cvmKFVqJQhG3PHjwQBQrXozrD0tZp4wYOVJI4URb+nkmTJzA9VPt2rVVHfIV7N27V9gmTsR1e8GCBYQUwLUl386IESO4jq9StaoIDAwU/v7+LIfkyJGd73vz5s1FGufU4vr16yJALmvQsAG3OW3btRWPHj0Sz549Ew8fPhSrVq0SBQsV4LrJytpKdOvWLexev337VnhW9Ayrt6SCyOVRcfXqVZHDLbuuvZJTp06dtCUR2bx5M8tJhw8fZnkgs2wv69SprS0V/BvDhg3jtlYqKFpp1EglR5QoWYKvbyqHVCxjxDnBN8XYYmbCJGl94fVWKwtHyK1xooSlkVzeQHj568r8NzQRKUyNhGX5meKJrigCIfdmCc/ExsKqwkzxKERXFuDdUaQ3MxLGFrnFoNN3xDQPS2FsIr9bVxCztJWCLw4XBSxkGZXLydSlvdgTwIs+ELhfdHU15eXm+YaKC3SJAg6LXtnNdGV5B4oz4V/tAG/RKaNufYuiTUSjzLr1jBPmE4NOfDhh/y0tRCpTY2HfYoPQTjMiIXfF8k71xMDtD4R2St/M0qVLZV1mxnUZyWUnT/6nLYmaeO0xoNCfNCpfHgdPn/OLiyuo63jrlm2oX78BZxWkLj/KWuie0x1zZs/hQU/fE7oW5AdP1ocVK1egfYf28ChfDlu3bUUCKyt47/NGnbp1IqREj01KligpNV/SfXVdqKRl6iapvRsacVcluVhFN5ElRtf1p+tODQ4J5fER/gGBePn6FYd/u3f/AXe93n/wEDdv3cKDhw9x+85d3P3fPdy+ewdPnz3jHhuyFND2pNvr9q8dj5wP8w2V/+mayT8ceo0sLsmTJkOZ0qU5xvSGdRtw/tx5HD92nK2BjRo2RLVq1cKmKlWq8NS0WTPIyhfTpk7Dpk2b0axp03jvJVLo4sIT4RMJKRRxib29PZYsXgI3NzdZrYRi6LAhmDRpUtjA1c+RxM6O66cbN2/AV0tCpYg51Db4+wfwtc+aLXtYHRAbkCsRtRNHjx6JaFmX7Qjd39t3biFVKgd2XTIzN0eP7j3YOk9hU/PkzQ2pMMItZw40btoEJ0+dQlIpK/wzegyGDh0a1l5QaNOePXrCSLaXFIloz549H8k31JNw9tw5NGhYH1c43KkBUiRPzmFMo8LJyZHj05/TfMQ1W3YEgjVf8s+hby/pnL8bRonke2EG8eYWrv5P34sShNePb+Py6f1Y5+WDR3RYfl5onacdNvoBxmld4GQEhPo9x7MovF8M7cugdA5jBJ7wxn7N/8jEOS37+RumyI2CmVIgVy4XsNt/0DmcOKW7B4HXr+J2iAFHZqJLEPrABwcuR3q3Dc1gzkM9jJC6YFGko52Y5UWbFoVAo96Czy7D3IPaiGTCrADq18jIvyUMs6PH9C7ISZ7I/icwqllv7NZCHxkmSQJbQ4GXT5+H60kIh6Ej6k5YhgEe9rHm0lOpUiVYWFjKZ0Y3LoU8Yz5FvCoG9JA7yheQHlISIJ/FYwWaOXNmKTTOwaWLl3D1Krm/3MChg4f4gsYldO5UOZE7DbnKkOtO37592e89W7asaNasKRYtWoSbsoGhF57SwFOUlgMHDuDWrYjdiLFF/fr10a5dOzindkbiRLY8gIUSv5nJifzjyAWLPsMm03ATLzfmY+T6iZLJyMoqVJuoMqSxEqEhweE+I04f1gkJ29ZINrK0XzoO6lq2T2GPNE5pULhQYc4M+fdff2H6tOlYsmQpKwBXrlzFxg2bpHDfDEWKFImxgJ/TLSdaNG+BDPGZ4VoRgWQUiUQ2GA/u39NKFIq4h6K2rFyxUrYNWbhOGjJkMKZPnx4j9yATEylRsOxFybQUX8quXbuk0CobEDmVjuVogE6pU+uMTHoBWv/JN0r3mxQBiNo9ghSJLVu2wbNCBdmOmODhg4estNinSIHOnTrD23sfWrZqxYaLrVu34uDBg+xiRLky+vTuzVGOKletjBYtmrOLMkU6XLduHfr1+5tdYNl1VZLIJiG7NutdJyPDYwekvHD50mWt5GP0Av/nnlFqw3mAvFyXBh9TII64JyFy58oE4+CTGFMmHdI4JEYCiwRI7JgO2fKWRN0+XrjGsvl7vDVLilRWUjFInQYOJvKUXj7D86jc4g1Twt3NCYavzuO0JtgbJs+MjMkMYZjMASmNTZEldw4kolsc+hiH9p6k2Eg4tvsAfE3c0XHan8hJokHwRezeeTNi7oFQuSbrEQmQI68bdMPBjeDkWR0FbeQOQ25i6aj5+DDUwBRulSsgvdQMyF3KP//fGNcuC8gBNujyHPw16RQPqjays4Ot3Dz02WM8juqc4gAywjs7O/M8GVNpPOannhED+WDEa71F8aO91q7hF7Vrly4YOmSYtuTXhvzmjx49ivOyUqCeAPKlp/jFdDOowtINyta94GHhGuX3okWKcsIT8usnixalh49L6PdpcC9VHqS8hYboH6Zwjw0dr/zgEq1SovjdNH6AfNmowiRrCZWHyoaSfHeF3A9Z/mnegLbUKmf6ayDLaY90HWiAFQn1GdKnR3JZEVOEGnrI9QNSFb8+FJ2Exo2QUrxCCmoKxfeEAhtUq14NFy5ehJmpCQYPHoJOHTtpS6NmhRQAm7dsAVfXTNwbHRthNn8n8ubNg/MXLrCxaf++Axz5J7agaHu58+aWgrgNrl65xolDc7q7wdzUDLNnz0GTpo3Z8LR79x5ti4g8fvIEfi9eIK1LWs6FROMhhg0fhtmzZsFftnvUlFFPQcZMmTBxwkSp5OzE6DFjZNP4QUnk1k6uSMI+KZ2UE2HpkqWfPE8ad0eKREXPSugiZaWycp6yHevrRBLlJkyciF69emDTxs3w8PDg8uj4+++/MWbsGJYvTp44+VHI1bggcO+fyFJ+Ou58Um+xRKlJF7C1rSMMg09hQL4CGH63GpbfWY6aEXPMSQKxp0MmVJjti8oLH2B1vQQ0Chi9cxXDJPtxuL69A1L6LUftTI2xzk9IPaIxVh+qgc2Fq2Fx8v44sa8mtpR2R9+jQTBxH4CjB/shm96GGHQYPd1LYPxNNww8cRh9M3O/g+QNdrbPgUpz7iBUKiaNVp7GvCpaj1bgDrTLVAlzA+th9bWFqBL8L7oUroApV6TSYp4DPbbtw/Ccu9E0XS0sM2mKDVdno7yZbtO4ZsCA/hj9zxiWq7JmycL1EkWxihJSDOKTBg0asC8m+YT/9VcfrfTnRwrB7JP65u1bsWHDBvZX79a9myhatAj72dP56v329T7xev94uh7ks1i3Xl3Rq1cv4eDo8GE9zZ+efBG9vLy0X1Mofl2OHTsmkiZLIqrXqK6VKBTflxs3bggptHG9a5PIRkyZMllbEjXLli7juto9V072S1fEHCkoC2fnNHz9HJ0c2Ac/Njl77hy3pfYpU4jXr1/rxhhkziTccrqxH39iu8Q8ni8mBAQEiEaNG+lkGHm8+nFw+rF4GTNmYFng6NGjomWrlsLFJa2wlm07rWttYy2y58guRo4cGaMxg7SfUqVKirJlywipJPCYvDp16mhLdaxavUqYmBqLdevWaSXR069fPx5rQdfi/PnzWmkc47dU1LT74NtPk6l1MpE+b3nRsv84MaiWszA1MRPFxt0UulEP/mJTC3thYllWTHsYhcd94DHR1418+c1F2Rnae/b+pBiQS96PctN14w5CHot5VWy037MS2Qu6C1tTE5H2jz0iQP7KrcmlhDUtM00pGqx6ptsHEbBH/JnORJbbCKfMWUWOXHlE/kJFRPHihUX+zMmFuf4czB1E07XamI6QR2KWp5Xcxl40WfeKi/z2dhJZtPEMlm49xP5Xd8WUMhbC2KKYGHvzO4zt0Ji/YAHXXyQ/ppAyKNVp0RGvrkSEVQIrbQ64EWmEfVxA2v2RI0dw6NAh7vIj37+VK1dizpw5mCU1fp5mhvsMN82cOfOj7+EnCm1XtWoVFC1WBLly54KDQyqkcU6Neg3qoX2Hdhwb+/h/J+DH0QfAPvs0kdWcrAZkaUjvkg69e/Zmn/jFixaza9GVy1dYu3dydELJkiVRo3p1dO/WHSVKlOD9KBS/MpTMh3x+Hz96FKPkLApFbEPPICWlyuyamcNT/t2/H8ZPGK8t/Rhy1eDeT1mps3VYEWM4n4zmj588eQpORhqb2CVOzNGG/KQscO36Na1Ug6z4RoYoXqy4VvBpNm3ahHXr1/F8/vz5cfDAQdy8cRPr1q7n3vy+ff/mZyBv3ryYMX0Gzsl2ncbRURLN61ev46jPUfTo0YMTqn4O2g/5d1CvO1n5ya02MvzckSARQ777s2nlBrf0xoBFcfTb4YNTl+/D98VjXD26FbMHdcGfVdxhBYHH9+5pbj2myFswNyxDzsHnSOS4QaH43/JRmEehSg2TwTmN/jmhsYjyg949+pTLqjWtAnuWdv1x8fgZvDbKgJr1CsKMXINqNkJp8jUSj7Fp3ir8L6w3Q3MlEm/w4NolXDh7EieOHcbBQ0dw4tqzDxGJQp7i2rUnuuM1tEOePBlgLJ5h/25d/gabov0wslEaHnsQdGEK2vY+hayFssA45BouXow47iQuIdc3csmme07RrWiKFk1BiDcmT56sRZex4AhAg4cMERcvXvzkKP7ooJH4t27dEl5r14oVK1eIvn/3Fa1atxJlPTx0kXDk5OjkyJFuEtnaCBs50Qh+GqnNxxDFROW649NFDOApquU0kTbGE0XE+TDpegNoXre9fhuK2OPqmknUb1BfjB49Spw9e5YtB2QxiQyV+fn5sXUjKCjo+0QR+IWhaBTqGv4ckFWuQMECIlv2rBwNRKGILy5fvixyuufkepzaj3/G/qMticjixYu5HchfIJ94+vSpVqqICTt37hTWCa35GteqUzvK9vBboPbT0dGB90+WfH9Zv5D1PWdON+7dT5Q4kZgwYYK29qfx9PTk3vzadeqIx48fa6U66z79ztfIMZ+iZEldjwFFaSpStIio4FlBW6KDouyZmpnEuMfA7Hv3GAg/saCqpTA2zyx6+QRqZR8IvjxSFLIwElaV5wp9HKqQO5NEKStjkaTmYvE43KMQfHeZqJvahC3xJg5NxcbX2oKA3aKDi4mwKD1J3NWvH3BI9MyqixhkbGIpsnXeKXy1RdQrcaC7qzCjZZa5xID/tOPyXy+a2hsLY1MzYW1nKxJaWwvbJMmFU7pMIlep6qJ5u8rCVesJMM/aVex7o9vMb0kNkYjKcv4tjmtRi0IebxCtMmpRikyTiAJFMgtzEzNRePQVrWck7rlz+7ZIkjRJmDxKkb+iI957DBwdHXXRZaR29/rNawwbPhTt27djbYZi+1ICj8iRIGiw7j2pUe7evRtz5s7B3/36oXCRIsiXPx+KFi+Gxo0bcYz7cePHYfGSJThwYB/u3b+H/8ltnjx5DP8Af/YFJD/498HvWQPXHYM20bycWOPU/kWAykkVlZ+0HW/L28v1aKJVdKvB1MQYyZMlZ22tVMlSnNykX99+HB3n7Jmz2LdvP+bPm48ePXoiW7ZsbDmg/UWGyshyQgOiyCqgG3eg+Fro+slKW/um+JEhy1iypEk5fjf1+CkU8QXFpydf8KxZsiIwIBBDhgzhZIqReeHnC4oAYmubGAkScCB1RQwJCKRoRDpvfCNukyO1v7EA7Z9bdtq3nKefkwI+ywMkF9C9+xx37t7BpcuXYJsoEXr16sURFvXQfr/Ueh8TKNPyrdu3uFeF/MNfR2P11edT+BxhZxkH1zhqzJHa0R6GIdfgtWA3Ih+lkWM6OFsZ4P31i2G5DAwdqqJBmUR4tWMs+szaiAPHD2PLzO6oXKY11jygNtwQKT1roaTe+eTVDdx8FIrQezdxSy86muVDq9ZFYGVojWwtF2LDmDL4MErRHAXatEYhGr/w/gymD1uG+3K3oX4P8EBe3qSNVuPJM1/OI+X79BHuXLuEE7u9MHfKZHQsrvvR4Cuz8ffU89yLYF2oMHKaUBqEW7ir/b5hssoYO6838lrT8/YCx32uyHWDcf7wYXwmo0CsQYPuTSkogoSef3p+oyPeFQOKBqQ/WHqJSACmEF4e5TxQvUY1eHpWQK1ataSw3xiNpMBft15dFC5aGCVLlUTNWjU50dW48WPx38kTuH3nDr8wIRTFRgp+lhYWsmJOhPz5C/CgXRqM065de3Ro/4ecOuCv3n9hwfwF2LN7D7z/3Qvvvd7YLwX1fd775Pw+/ty3T85LBcX7X2/+vnePXE/O//vvv9i9czc2rt+I5cuWY+7suZg2ZRomTZyMRYsWQ2pjvP7hQ0dY+Kf5VStXsUJAUYca1G/A3dOUUCeqLkFF3ELPB1Xcih8fqhcS2dri6dOnnPxOoYhPXF1dOVKce86cbKQa889o9P3rLw5XWadOHRbKDA0oNIngCGqqfv9CSFrV5FQ2usWR0ErCESsg2v7Z2KdJyjH5TTJU+Pu/Q073nMgi5ZjvQYIElvB74cfBQKwTWMM3kgKgNyo+9/18hEd9JnkRGgo/v5gpEt+OGXIWIHehUNxe0BZ/rHjwITEZYZYZmdMZIeR/N3BDH53a0BGNRgxGqQTnsahjdZQsVBRV/5yAnTd1KxgkrYSBfTwQpn7L8yKzacid/3AsLCyqEdK1X47DJ87g8LSacI4UpNAoXTN0q0PJxAR8t47C2IPvEHz1slQsDJE0efKoBWVDJ9RrXRUp+FF5h+Or1+CCVAQMkzoghVQyRFAgAsOdnHXB/vBa1BZZwg2gfnf6EI5/R+9YcpMj6LmnCJzREe+KAWUAzJIlC8/TO0qQRf80pa8ODMSLl37YvnM7VnutxhqvNdiwYT3OnT2Lu/+7q1kWQmGX2A5pndOikmdFdOvSFVOnTMWWTZulQL+fBfn169ZjrddarFi+AuPHjcfYf/6R01j0798ftWvVRsECBZE3bz72A6TMv3ly50HePDTl5SmfXJYvn1wu58mPkObz58uPQoUKoXTp0qhSuQrq1auHpk2bomWLFqhZowZvQ/uhc3NydISDgyPHNlYoFF8ORcygHh6y5ikUMYHGAlBENQod+ez5M54nw9GJEyd4fBmPMzt0UE6RP/VT1N9pu+fPfdG8eQsW+um5HD9xAkZLBWHDxg04c+YMbGwSceNLy1Xv7lcir5+JaRwZbzS5nxUDCSkCrCjIfzql4POKgV6JoBCmMbnHMc2B8SnoWeNcPqQwyU8K5R0Vr15+wn9cI4ElBdmnMQsCV69QHoXvg3Wh4shNolDIE1y8+DCiYmDkgmKFnWEk7wHpaXqMM7bB0jXD4OmSIOKdMU6NhpOnojFlDNZjkQzJOT7pO6lAaTeJMEoK16xOnIPgY2zg0aUjClMHQOgrqdyHIFjWFb6hBjAzM49WULYp4oGC/Fv0DGmPRIIyaNexGNK4uiJtBAXEECk8x2Pl6ApIpp1E6JNruPL0O8UslVD+Dv1z+6lHPN7DldLL0uGPDli4aKF82I1YeyWBmipyTtssD15//DRIl7rPKPmMc+o0sE9pDw+Pcpz8hNKXU9zpuLIuKKIiEDdPXoGNW3bYxZOKGfriMk4+SQ73jLYx1nJfP34Mg6TJYRXvarEipmzbvh3VqlfFxPET0aZNG61U8atBgg9NNMj8/v37WinYdZSs89RcsRCntW7BwSHwOXIEDx8+CKv79U3aCz8/7mEiIYrXl/+pN/l/d/8nlQZSMGl9Wjfyp57ovus+KWAECVV6yOJMghoNMqWgGo0aNUTNmrWwePFibQ1FTNiwcSMaNmzA4btrVK+JJUuWaEtiBwqd7ZzWmRVGCoWcLWs2tvpTXqVu3bqxZ8LIESM/G5L2woULHD40d568bHg0/oRysHbdWvZOoGSpnp6eMc6rE5nlK1aguzxGSsQ5ceJEHDt+FBcvfLD8UnmNmtXRuWNnjBo9WiuNmqVLl6JlqxYsV00YP569Kb4Pr7GvVxFUnPQWzbedw8TiEUX14DMjULaNLwbtH4MikTvbQvxwZc8arFjvjYtvEiNPnQ5o55nxQ28BE4BjI8uj2sLMWPTfVJSKsT02FC/ObsbGK8lRvkY+JLm/Cq0r9sLr7j5Y3iiaXgME4crynvhrzXtU6DsSLdyttfJPEPoY27qVR71pF5C4/jIcmVsDyb+TLJI6tROeStma6tg/OvyBf8b8oy2JSLwrBgS9nJTJl/yHKUb9urXrWMgnC08Ysi4W8gEmPz6HVFIBkNqyIp4J2o8uOdvAYMYZjNO/wa/XokNNb5SZNwFVU8mn/d0BDKg8CEbDtqJ/vk90qb89hikdOmOiT2r037MUjWhbIvAuTpwLQdbczlFo+hTDOCM8V2fHlOPr0TJ1uLcr9Dm8x/XCkvd1MbxXaSTTFoXenopyOfvCcMRZbG3rFP9dZooYQa55FTzLo2ePXhg0aJBWqvhZIcs9CWgvX71EyPtgHPHx4YSNDx8+wvMXz9ld4jpHjNFZcskCKiLYFj/U/2FNmCzSiezg6BtkxdVbf51kg0jZ2FmsjwXjEeUzoDaK4tXT/t/5v4P3vn1s2MqUKSPq12uAAQMHSMG2BrsdKWIOJQBr1LghgqXiVbVqNSxfukxbEjvQc+eW042zUs+cPpPdv0gxoLEg3bp2Q/OWzTFi+AhOXvYpKDtzqVIlYG+fEps3bY42Jjy5lmXNmkU+175ImiSpVGR9OKtyZEjRvHTpEpYvX8aeCMWLl/joWaWerkqVK0mhfhlWrVz5kWKwfft2VK1WBR3/6ITRYz6tGGyUChjJXSQkDhs2jCMdfjdCfXH57AukcnNBDETpryBUXk9ZD2iuMz8ewQh4HQgD+cyZfcdDZMVAytV0z9u2aYsJEyZoSyLyQygG1GtAyb4OHz7MWWrJXUfxExCwAc3SNsLrfx5hTX1NLX+9CS2z1caZZkdxZEB2hB7tBffSe1HnyGH0y2rM2vK6jlUw0v8PrJzVEGk0I0vA1lZIX20+HomEqDTnCtY0TiqF9gAc6OEOj5l2GHTMGz0yhbPIvPOF7/vLGFW4BMZdMUDWXgdxfEhuhNlhgg6gm1tpTLrtjPZbTmBiCW1kUqAsz1kOB+v54FC/bB/WV/zQUIjhcuU90LJlK3YDVESEqnFKJBi+OidXy9evXkcoIyhR0v/u/U8nQUv0y8Ms8ZHKicjW+Kj41DqBQUE4KoV/apDoB86cOcvCNCVBDAoMlM24/GW5nU6MN+CkUwkTWvOhmBgbI6V9OEFKLyvJ9Wlwb568eXkdKuegEbI8l3su9qHmVeVxueXI8cHdQ36nctp32K60T325nvDf9esSZPGlXmo9dOwjRo6UwtgoBPgHcJAIuv5169RlS7Ei5pDA2oB6DEKC2U2XxvDFhjKnh57Brt26YfqMaejZvSf6/v03ckpF4aF8Frv36MkBUEaNGIWOHTtqW0QN9RZVr15dCuNb8ecfHdG7d29OvEk9VCTTUDZhSqZGCuL+Awd4GwpCQiFNU6ZMyd/Dc+3aVQ6iQsoyGUgfPXj0kYvSAbkfz4oVsGjhYlagIisGPvIdKymVlT/a//lZxYBc4sqULcO9aEMHD+WwqYpfm/CKQZvWbbjXKSp+CMVA8ZMSsBHN0/0B49nXMEufvi/0f5jskRGDki3CnaU1YeBVH05NX2LknS1oyckBQ/FkU2sUrn8JzU/sR++MRgi5vR3jenZBv/XXECLVAftm63FtZgWYBZ/CwPwFMOysAYqNv46dHVJpFv5gnOiXB9W3GcLoqUBinMd5s5bYdHIaymptdcitjehUpz5mng6Ahfvf2OM9EHm4y+EF5lZywrjMO3FqVAEtzbniR+fMmdMcPIDG7OzZ869W+vNB1S1XuJGqXaqoaWxVUKDOXUYPlT/39WXhWQ8J9if++w/B72ldXRkJ2ZQ9nayOJMFS+fNnT7UynTBOC2hMFsWIj5DBPCqhi3ZA5brNPkDf9VC5/nt06xC8nk7w12HAvvckQFlJASiBpSUSS4HKwdER6dOlh5ubG1tv9Sn8ad306dPz/I/OokUL0btPb7zwe8nXumKFiuxKZGGh8+dWfJ5NmzehfoP6LFzHhWJAz2HnLp0xY+YM9O7ZCwMGDES5cuXgc/QIRwekfEQjh4/8rGJAHD12FLVr18KTJ085a3GuXLlhLRXGZ/Ldo+hBJ078J9+3IPnEGyCFVArIqFG1alV+9iNz5coVFCpciN9l6ony9X2hU3jDcfv2bXiU90DfPn05AEpkxeA/WS9QHqUO7f74rGJAvXSlSpdESLBUDIYoxeB3II1zGjx5+kSnGLRSioEiLgjchfaZm8B//E3Mr6x39AnAxuZpUPdCO/gcGoB0XnWQqsUbjLmrVwwkwcfxd56yONnuIja3Tobb40oiS+8jSJErJ0JO/YenOfrj2KH+yBa8ES1camDRUwM4t9+JcxOKQ6d+vMOaho6ot+otsvb6F2PfNEOFac9QYdYFrGmSgpWHlwurwqHVZnk0hCXyDzmIPb2yS0UgAOubOKHJixG4vrEFkvJyxY/O+fPn4VGuLJIlTc4NIlnmvjdUVVKFSgILCeD0nf3MZZkeclMgK/jVq1fh+8I3TEimbSiKCbkVUKjkkJBgncwt5R1ykSSL+vVr19ivnpdp29H+yFeeq2maNGGchE5eRVuRBCedsKEToCwszNnqrsfaOiFsE9roXDB5Fd2OjIyM4ZbDTf5+IMykAB4gFROKfHKNj//Fh1XDkF/0B/fxQt0yKqJVWJgjhQDIli07u1PQcZJPczoXF5iZmSFjpkxwTpOGtvxl+O/ECdSqXRuPHlMELYE6tetixIgRLBj+itAzSu8A3c/YYMuWLahbvy4LrKQkbtywCUmS2GlLvx16l/SKQa8evTB48GBUr1Ed23dsl4qcJzZv3YKR1GPw55/aFp9m27Zt+KvvX+yaRAo8Pe+G8j2jZ91EvlMUrrxhg4Zo3rw5u59Fx7nz51C6dCm8kvVEtixZ4eNz9CMFgsZFeHiUhUu6dBzx6sDB/Th18jT3MBDHjx9H8RLF0L5de4yJxn9czzFtXVYMBg9Bj549tSWKX5U0aVLjiVRalWKgiDuCz2BQgSI42OwKdrS3D7Pmnx6YFwVnpsVUn0Wod6ET0te+iD/+249eGfXdooHY3yU7qt/rh2urG8JkWU04ND+EqotnwapPDcx8VgGzb6xH09BZKO/cHruDAON8w3HGuycy8C7eYVW9lGiw3gk995/AIJPhKFhoGK6Xmo4L61tyhsOQq/+gpHtvHHerjFJ3NmH7u0IY+u929MphjPNDCyK/VxnsPT4MeZQv0U8BWb7LlS+HN29eY/OmLciVK5e2JHah6pAqTZponmJXX7xwga15JPCTsH/jxnU8e/acB8OSZdDvhc46zNvLf7y93Jb8zXW164cqVi/A0yd/1wvW8oPCNltYWshlH4QBEjDc3HJywAXajvat24cRjI2NkCZ1Gg55zC40GuRfT9bL5MmT83HQ+mSRV+F5vx89evbA1KlT+c7TgGS37DmwYMFCjq6lv/e/AuQTP3LUSM47NEkKGY6OTtqSr4f2RUrkM9/nsDC3gLf3PmTLmlVb+u3Qe921W1dMmz4tTDGggeKrObO1K65eu4rOnbpw+NmYQhGwyP+fBsnr7y/9ThpnZxTIn/+zIWvpnMnfn0KjE5TbqG7dujwfHlIMykrFIL1UDKi3beeunfA57BPmmkTKRMlSxWPkSnT02DGUKFmcjRtDBg1BT6UY/PLQoPvHTx5zO9K29Q8+xkDxs/ICi2u6oM/Lhmhb2AovpJD09MldnDuwD+efhSBpwzW40vMiyuVZgsK7TmFU/g+V47sNTZGhiznmXZqBkuf/Ru6SB9D41BrYdUuHltts0XLjZYxHZ2RudgHOyU5g/80SmHJ5M9pwXnOpGNRPhUYHa2Dd1TmoYHITEzyyo4dPZvQ7dBj9pfBPLk1Ty7uiR+hwHGhxFNWbroSvWz947+8HxwWeSDs0FVbRtlHHLlP8YJBV0rOiJ44cPow1a7zYrehboIqRo55Jrl+/jnPnzrHVnNx0yGpPisCdO7fx7p0//zZb6LWqkvzL2ZInBQASAmwS2iCFFMLJYkprmJqawDaRLbJIYYY+CVYA5H8Kz0y9HTRQMUxBkBuZmpmy8E+T4udn5uzZ6NK5I+wSJ4HfSz/2l7e1SSQb4omoXbu2ttbPz8xZM9nlhhTTwgULom3bdqhZs6a29OvJnTsXLkilg967cf+MQ/v2sRcxh97jLl27YPqM6ejT+y8MHDAAa7280LBxQ1haJGCXvty5crHL4tdGD/oSqC6aNGkievfpw/UBhU7fpykIkaG6qGKlijyo1sUlHVasWI7t23aEGUq+SjEIlorBYKUY/A44OTnimVQuKanvH+3/wD//RNOrRIqBQvF1BIsrowsJc04zHmkycxKtt70R4o2XaGSfTDRe569toyNge2vhZFVGTH0QIkLuThSlElcRC14Fi1sTS4oEJsYiVaNFYlmr1CJVMy9xbnwJYWWaSJSbcVvoMpy/FctrJxSWpcaLm4FUEiKeraovUpkai2SVp4rLnJr8vTg/NI9IkLWnOOx/TyyqZS9MTG1F0REnhV+431b8PHh6enIK/3Xr14sHDx6I1WvWiKlTp4rhI0eIYSOGi+EjRogRo0bKz+Fi8JDBol2HdqJy5coih1sOkTlLZuGa2ZWndOnTCSmYiwRWCYRlAku5T12qehP5/NC8haWFSJosqXBO6yxKlS4pOnRoLwYOGihmzZolVq1aJS5evChev34tZCPNU3BwcIQpJEQ+03KSDb525IrfDbr/GzZsEM+fPxezZs8SyZInE2YW5sLKOoHo0rkzPz+/Ai9fvhQDBw7kd8bc0lyYW5jxezN02FBx69Ytba0vp/+A/nJf5nzNSpYqJV69eqUt+XbovezUuRMfb6VKFcW7d+/Exk2bZH1gKZKnSC5sE9uKFPYpxH///adtEbcsX75cWCe0ksdjIeySJBZnzp7VlkRNgwYNRP4C+cWcuXN4ux07dmhLhDhy+LC8F+aiR/ceWkn0HD9+XFgksBCmZqZi5MiRWqniV4Wee/uU9rp3Vb5X06ZN1ZZ8jFIMvoH3b56LZ68CtG+/J4H7O4kMFsmEW4WaolG7nmLotNXiwNExorR1Up0yEHJHTCqdSJSafFcT6onXYneHdLLSLybG3pSC1KPpwsOuuljyVqoa18eLkgmlYmGRUCSyTiJqLX0ugh/MFhUTGwmzLN3EQb7cr8SCKhZhSoipbIzMzfRKiZkoMua6VFmk8rG7nXC2dBP9/nsvD2O+qJ7SWBjb5BeDds8UVZO4iD/3/t737mejUeNGrBjMXzBfFC9RnBtAE1MT2bCFm+RyqvgSJrQWiWwTyclGJEpkIxLb2YpUDqmEe66cwqNcOVG5SmU5VRGt27RhwWb48OFi3rx54tixY+LOnTssuL1580YEBARIIS9YCfmKr4aUhFOnTgl3d3dWPEkgLVS44GcFwJ+FGzdusCJtIZVsEjRJwKVztLNLLJo1ayauX7+urRlzSNi1SZSQ95lQfu7evVtb8u3Quzx9+nSuS6geoXf99JnTwj6VvUhok1A4Ojryferatat4+vSpWLJkiQgMjJu24sCBA8IptRNfM0upmIwbP05bEj0NGzZkxWD+/PkfKQaHpWJAyllMFIMTJ06wYYTqzBEjRmilil+Vo7Jts5FtIb2jNO3bt09b8jEfHFN/Nd49wqX/DmHfv7vhfeQsbvsFaQtigcCrWNGhAJySJkOK5A7I13cvvmNW6x8K47Tp4Ghsg+K9lmLRtFHo264mCrsXQz4Xf9y7+wShhqlQqkRGnNqwDne0BH+vD49An0W3YJCpCIo5GkFKYPAPfY8geYuMnBugVQU7GAS/g0GOzuhZPTGM7GuhXU1HiOsrMXsrpW4PQlCw/O2EyZEypT1SpEyNDG4lUMUjO2wMgnF+x2bckL9l4poV6Qyu4MC+uxBOjfDPkIpI5n8cI9rMwh3jh7h44VmEyOiKHxc/Slb18CHPv38fzMmIypergLlz5mL5spVYtnS5nFZgy6YtOHXyFK5du44rl6/I6SquXLmKy5eu4MzpM9j7rzcnI1q5YqWcVrAfOGVA79OnD6QQgzx58sDJyYlDUVJkHHIPIn/+X8kvXPF9IZcxGkS7YcMGNKhfn5+l/06eRJkypTFmzBh2D/kZoQg5CxYsQNt2bTk0px56N2mcy1t/fyxfsRxlPcpwgkIpb2hrfJ7ChQvzeAVyJaJIXZMnT4rwG98CXX9L+W6Tbx8dE313zeQKh5QOPFaAcgzQ+7902VLUqiXbnvbt8O/eqF17vgUK0d62fVvO6QF5ntWrVedBw5+D3EBevXrJ4XDp2MPXTWHXOAbVFYVCpTFRBI0zUPza3Lh+TcpYFN3OABbm5jwGLVpIO/jlCL4oxhSzDrMo82RqIZKkzyPK1v9DDF18SNyLxgAQcN9HrPyni2jVa7m4TmbnyITcE6uapGX3GQunoqJJtWzC0r6J2PBWW/67EbBVtE5tJhxqLhA3w66Xr1hQ1UY4tdkq6DIH35otKqdyFEWbdhJdW3uKzHbG8p5Yi8Ijz4r3cjn3OiTIJvoep29C+B8bIxo2GSm8H33oY3h/ZojIb2UkEuQbIE68PSUG5rYV1RdF6l5+s1O0T2cijM0cRLMNfnLHh0TPLOYifae9fBwi5KHY/Ec2Yc3PhLFI2nCNYK8jxQ/PmTNnRMpU9sI+ZQpx6NAhIRUF8fbt7/rSKX5WyG1l5syZIpVjKnaTIYttqdKl2CJObmk/MuQm5+PjI0aPGS1KliopUqdJzZZH7gWR50ITuedNnTZVrFy5Ur6vKfkcyRpOrlReXl7anmLGqFGjuPePeg2sra3EsmXLtCXfzsJFi/i4ixUrxj2DBLsXyePNlj2bkMqOPHZd7w71PFL9ExOoTiLXsbVrP32uW7duFRkzZeDfo9+h6/n48WNt6aeZNHky94AOGzaUewy2b9+uLRFin7e3rsegx+d7DK5fv8a9FHSObeT50v1V/LrQM0H3mt5Z6jn/1PP2ayoGwk8cnd1KFLQ3E66tF4o9u9aKeSM7i/pl3UUaW1MWChNlriaG7LrHgqmO9+LWmvYiNwutJDhaCde6U8UJKV+GJ+BgV+FqbiySlRkmDj8JFu8vzRENS3cWW35bCfOZWFTDVhhb5BVDL+grlmBxYVg+YVd7udCJbiHi3vrOomBKnS83Xf/EJUaJ09qwg/en+gt3C1tRd9WnBL1nYm1TR2FqWUiMPLNGNE6RTDSKNG5BagJif9eMwszEXBQefUV+9xM7uuYRJQaf+nCf398QC2rJ/cjjMMvWUxwJ1MoVPzSBgfLeHjggTp8+rRowxU8NuRZdunyZ3dlIKCThmfzaGzdpLE6ePMnLfxRojMT+/fvFsOHDROHChdlliIRZcj8hJSBzFldRv0EDHoMzfvw4VhxI+SHIVaVI0SI6n2Y5ubpmFLe/YNwBjVHIkCE9b0sCDQns3zJuITyLNMWgqDw+/XiPXbt2seshCcvTZ0xnBahw4UKic5fOIigoiNchLl26yOOdDh48qJV84OSpkyKBdQKRNWtWrSQily5dEr169+IxDHqloGixouLatWu8nNyc6BxpfEN07osbN27k52XAwIFSsbQQXmvXakvCjTGIgWLw4OEDYSUVLhIUGzRsEOEcFb8WQUGBwjltGp0iL5+5Nm1af7Ke+UUVA+KVWFEnsXBsvVmEFx9DXl0TO6b3EDVyJxPmVllEpx2+XP7+3BhRXCoF1rk6iHUn9ovFw9uKshltRNIi/YT3M/0FfCu2tHYQZkk8xNQbSjjR8/b4aFGt2khxMpyQHXxrpRg5V9cjEMabm2Lf0klizNTV4uSTcA9l8A2xoldvsfzWZ66p3N7H55p4HfJAbBnSSyy69PH6IQ/+FdPHLhUnX2gFURDiu1+MalhRtJp9XqoSCoVC8f2hAbXTpk8TLulcWDkgQdXRyUF07dZVnD9/Pl4UYPpNEkzXrV8nOnXqKHLlcmdhmRQBmmi8Dvm3d+veTXjv8xZ3796NsqfjxYsXPK5i06ZNIrl9chZISLgnwfVLmDhxAg/Ypl4D2r5U6dLiohTMvxUKIkCCeWIpYOstp6TQeHh4sOCULXtWcVkqb3QeJFSFZ+HChfJemYqWLVt+JEzTOdPxUi9DhQrlRbPmzVjhq1WrpqgglQkSzvSKDk3lypfj39FDSkqevLl5EPSMGTOifAZIISFf8aLFivA50BgIPaTc0LH17t1bK4keOreENtZ8bWvVrqUUg1+YDevX8/PG76GsZ+j5/xS/sGIQKHx6ZxFWxceGc3EJR/Bdsb1/KZG25FhxLThQ7OuSQZglyCX6Hw+nRvhfENMqpxLJSw4TPuS1EnhE9M5mJhyar5dqh0KhUCgU38bVq1dFl65dhINDqjArMrnptGnblgenvnwZqds6lvH392dL9oaNG0S9+vVEJtdMbIkmAZOs/WTdLlO2jBgydAgPbn327Jm25ceQFZJ6GKingNyHeLCj1mPAEXdi6JKjh5SnatWrseJEAix9ps+YXixYsIB7Eb8WckUkodjKKoF49OiRVioFqA0bOHABueNQRLOorPYkmNtKwT9psiTiyJEjWqkOUi66yntJ+yZFT+9mpesZ0vUO0bXIkDGDGDJkMA9uDg8J63SdSIAjdyFf+T0yZ8+d43tC7keOjg7cg6CH7iEFYRg8eLBWEj10DWwTJ2J3tipVKn/T9VT8uJB7W8WKnmGKAb3fn3Nb+4UVAyGezKssEmfsJLyjed5frGsiHBNVEfN9X4h5lS2EaYaOwjvS2IOQuwtEjZRmIk2T1eLB66WihrW5KDXlnhZhx0+cWztW/N2rnxi76qQI61hQKBQKheILOHPmtPjjjw7C2dmZhUcSzEmwLlGqhOg/YIA4etSHw/R+q2WX3INIGdm5c6fo06ePqOBZQTcegAVZU2GX1E7kyJFdHssfPFaA3FooOldMuH//nkjlkJKFYRLkSRAhdxVXKYyMHj06xvsJD0U9yl8wf5hyQNfGWgrvs2bN1Nb4ct5KAT4qxeC1VESqVq3CQnyBggWiPd6WrVqyoOWey53DF4eHtiG/f+pRIAUpW/bsIluObCK7vKbUQ0ARkW7evKmt/QG6r7oeEl3oUgqrHNU4KlIMkqdIJmrWrMGulXrXLYLuF4Vdnjt3rlYSPaQYJJH3mhSDCp7lv0gxIIWJQtWSYhOdy5MifqH7Qop8lSpV+FmlZ4rc5GbMmP5Zd8VfWjF4f/wvkSNxNbEwCoPLm4sLRWNXC2HCA4cDxf4uGYR58gbC66OxAn5iQVVLYWyRSww8ulI0SGIlalBcTREojg7IpQ1kpclMOHkMEwd0nkkKhUKhUHwx5FpCeQDc3XOyGw9Zr/U+/VmzZRH1G9QXXbp25fj3O3buEFeuXOEQu+TWE3miUKEkpG7ZukUMGzZMtGvXjgVeEgjJF52sy/Qb5M5Uvnx5HhhNvRRkuf4aaOwE9TaQEMKTFOZ79OohHty/r63xdZAAnC9/vjCFg/adJWsWbemX887fn5ULUgzo2oWHrtvkyZPFoUMfjyHQ8/DhQz4eUiBojADdg6gg4czX15cnuqbRCdEP5P569erF95iEOHJF2rpta5TrX712jV2SChYsqJXooHVp3AEpBjQI+XOQYkC9HnQ9y1eIuWJAv0PPVOkypUWefHnEosWLfviB878jdJ/ILZFCeuufKXrGYqKc/9KKgXi1XNRO7i4GnNI9tO9f3RHHN80QA1qUFC4UK58SXo08yRFr3p/oL3JZpxL1Vz4OF29f8v6MGJTXjBN2tdvuI/rnshHlZj6U67wV+0Y2FM16jRYzZo4Uf3pmErZmZiJD++1SlVAoFAqF4ushazH5jA8aNIgt0+Q+Qkm42CVFKgosJMsGnyzMdkns2HWHBgfTp36eehx01kI5ye1IaHdwcmClo3qN6mL27Nli7969LOjGBiQg9uzZg3OGkJ987Tp1hN/Ll9rSb4MEdhLC6TzofNxz5dKWfDnBwSEijXMa7iWhCEVfAykD1LNC+8idJxf3rAR/oYBM95giGOXNl5fvKyk8ie0Si8WLF0erRLyR25QtW1aUKFFCK9FB4xGoh6JgoQLi5cvPOzuTxZ+ivJFi4FHOI8aKwUu/l8LJyVF7/iyEtY01P6eKHw9y3aP3vG7dOtxDGNNxSwb0R4tc+svx7vJCNK/4B47YZEOStzdw9fZzBGiB6w0s0qBs91mY27ckknM2h7c4NqICKk4RqNu7LUpntofl23s4vmoMRq26CH/HZlh7YjocphdBsUnGaDd3KQZ5OsGU90a8xL7uhVF+YQbMvOiFRkm1YoVCoVAovgEpJOLmzZuQDT2uXr8Gf39/XDh/HlevXpHLom/CjY2NUaJ4CUjlAZkyZoK1tTWKFCnCuQYov0JcQCLFo0eP8Pr1a6RLly5Wf8fb2xvNmjdFSEgopkyegsqVK2tLvpx8+fPJ63kaU6dOR4vmzbXSL+PWrVuoWbMGLl66xNe2bZu2aNeuHZIkSQITExNtrY+RQjiOHTuGMf+Mwb//7kGIvL8UX942kQ2mT5uBKlWq6FaMBsqBQPt3d3fXSnTQc0H5CUxNP0gm0fHq1Stkcs0Iv5evULhgIWzevDlG2126dBFSKYOBdl+lBoPatWpDKpkx2l7x4/PrKgahjzGvWka02RYu9ZhxIrjkLo6yFWuiQaPqyGcf6SEOfYFjs7ui3d9Lcfblh9RXBtbZ0HruZkyqmgqGgecxtaYHuu18DYeiddC4dim4uzjCzjwQ93ePRqdxBuh/aQva2P+6ueMUCoVCoYgPfF/4wsjQCDY2NlrJ15E3X16cPXsGM6bPRNOmTbXSL+f+gwdo1bIl9nr/y+nCKDFiqZKlUCB/AU7URsnUDA0pmZpOiN6/fz/WrvXC4SNHOFmZgfxHYljmzK5YumQZMmXKpNtxHEOKgatrJrx4+RIFCxTA1i1bYyTYBwQESMXAHbfv3OHvlEstp1tObNq0Cba2tlym+Ln5hXsMgnBzx2QM7T8Gp7IPxpCmhZA7pytSWH5eYA99fQP/Lp6FVadeInHmkqhWpwrypTTTlkoCb2Dt3y3QaepBPArWyhgDJKk6H/+taIiUSi9QKBQKheKHJG++PFIxOIu2bdthwvgJWunXQZb6efPmYcTIEXj67CkMDQy5l8fQyDBCZmIiJDhEK5frhIRwTwNlPO7WrRsSJkyorRX36HoMMsFPKgZ58+TBju07ONP75wgKCoJHubI4euy4VgK4ZsqIHTt2IoldEq1E8TPzS7sSMQFv8MbQClZx0MMVcP84du3wxrGzV3HP7z3MUuRGnT/boUQqI20NhUKhUCgUPxpNmjbBypUr0LJFK0yZMkUr/XpIlHru+xzz5s7DuvXrcOHCBbx//57L5VLdSlJJoH/GxkbsZlWrZi00adIU9vb2cebaFR3cY5A5E174vUQ6Fxcc9TkKCwsLbWn0kGJQrpwHfI4d00qALJkzY/u27bCzs9NKFD8zv75ioFAoFAqFQhGO8RMmoHfvnmjVqjWPV4gtSKQidxuyxF+/fh0XpYLw+MkThAQHI1mypMjhlhN2iRMjderULIhH7lH4XtAYkCxZMuOZry9c0qbFsaPHYqQYvHv3jl2Qnj5/rpUI5HLPhY0bNipXol8EpRgoFAqFQqH4rZg4aSJ69eqJHDncsG3rNiSWwvrvBCkGNK7h+YsXSJkiBc6ePQdLS0ttafTQIOVatWvC0MiIx02QO1TLli0xaeKk797roYgb1F1UKBQKhULxW0EuPeTa4+fnh+Dg91rp74U+spCRsTF/fg4aN3Ho8GFWCAjq6zC3MEfjxo2VUvALoe6kQqFQKBSK35KXL1/C3z9A+/b7QM4iFCWJCPD318ZCfBpyjVqyZBEPnqZhE6GhIejZvSfcc0YMm6r4uVGKgUKhUCgUit8Osni/fPWSB+L+juiVAYpGFJOxDrt278KTJ094OxpA3af3X+jSpQvny1D8OijFQKFQKBQKxW8F+diTWEwC8e/qBqNXBt6+fRujHoNyHuWQN28+uGXPwfkf/v777xgNWFb8XCjFQKFQKBQKxW/Ds2fPMH/BfFYISCB++OiRtuT3gs6ddAMj45iFWHdxceHoQ7t27Ua9evXUuIJfFHVXFQqFQqFQ/DYcP34c9+/f53kRKnDwwAGe/90IlYoBdRQEBgRCzmmln4ZCklpZWWnfFL8iSjFQKBQKhULx21CyZEmYm5tr34AQbRDu7wQlXwsMDOR5dqniERcKhVIMFAqFQqFQ/EbQYFtnZ2e2lhOUzTcmPvY/C3QuFFo0ODg4yikkJAR37tyBv7+/zpXIKGauRIrfA5XgTKFQKBQKxW9F5SqVsWvXLhgYGqBwocLwWuMFa2trbemPh15U03/SgGEaQE15GCgqELn3bNm6hXsBnj1/hufPnsPvpR9CQz70htC29M/SMgFnK+7eoxsPQE5smxiXL11GggQJtDUVvzNKMVAoFAqFQvFbMX3GDHTt2lkqBkYwMzXF0CFDuReBsv+ayu8kbHMYT0NDzu5LkBWeXJD0n5Qt2cbGJtYt7g8fPsSlS5dY+H/16iUeP36Md/7+OH/uPC5fucy5F54+fYpQEdEFinoCyC+IhH2aRKTlemhZqFyPj1uKgFmyZMH+fftVhCEFoxQDhUKhUCgUvxU3btxA3nx54R/gz8I0WdLJz97QUCdUyz+6z2jQC99GUrEwpHmpQJiYmCChtTXMpYBNvQ+kcOiVBhK0aG9hAhdZ7+UUEBgIvxcv8Py5L4JDglkJCZZTUFAgrcLHRQOkaWP9b0aFXnkhZYYUlhzZ3ZAte3YkkooLQ9tpv7l79y7s3efNxQ4pU2HevPkoWrRotPtW/F4oxUChUCgUCsVvBYk+JDjfuHkjgkBMcySMR0d4iSlKOZqW68ujmw+Hfn/6fdF3/bxUAyIcCfcAyAKKJkSrkBuUmakZ3NzcULBgIeSXik6hQoVZQSEFgXo+ohL2fX19MXrMaIRKhePvvn1ZiVFKgUKPUgwUCoVCoVD8dqxfvx59+/6FJ0+f4t27txGE8BghNyBhnaUovVytzUclaFNZRJFLc/fRby8/aTPqfdAtNeCxA+S2ZG5uhuzZcyBhwoQcMtTJ0RH5CxSAQyoHFuy/dHwEuR3R8ahcBIrIKMVAoVAoFArFb8mjR48QEBDAVnTy6SeBmaIUESQ00zxZ3wMCA2BiYsrjC0JCgvHm1Rv4B/rj4YOHePX6FYICg3RRf+Qymqd9vn8fhBAp+Ae/D+Z90byxobHcRwiMTehTsOsRCf+GBoZs4af5okWLyN80598lJYB6AMgliVyEaJ4EemXhV8QVSjFQKBQKhUKhiEVIgaCJRCz61PcWUG8A9RIYGtLA31Ap8Bsrq73ih0IpBgqFQqFQKBQKhUIlOFMoFAqFQqFQKBRKMVAoFAqFQqFQKBQSpRgoFAqFQqFQKBS/PcD/AQ/PVgrcoPp0AAAAAElFTkSuQmCC)"
      ],
      "metadata": {
        "id": "wo075oc9GHto"
      }
    },
    {
      "cell_type": "code",
      "source": [
        "len(cifar10)\n",
        "# if Python object is equipped with __len__ method, can use len(*) function"
      ],
      "metadata": {
        "colab": {
          "base_uri": "https://localhost:8080/"
        },
        "id": "GBdcVyLbE1J2",
        "outputId": "f8b38732-4810-4b35-9bb4-caaac6b0d802"
      },
      "execution_count": 3,
      "outputs": [
        {
          "output_type": "execute_result",
          "data": {
            "text/plain": [
              "50000"
            ]
          },
          "metadata": {},
          "execution_count": 3
        }
      ]
    },
    {
      "cell_type": "code",
      "source": [
        "class_names = ['airplane','automobile','bird','cat','deer',\n",
        "               'dog','frog','horse','ship','truck']\n",
        "\n",
        "img, label = cifar10[99]\n",
        "img, label, class_names[label]\n",
        "# if python object is equipped with __getitem__ method, can use index to access individual items"
      ],
      "metadata": {
        "colab": {
          "base_uri": "https://localhost:8080/"
        },
        "id": "VRHnWpIUF5Kw",
        "outputId": "94f8fb4f-7f3f-4b98-c7fb-48860f90a2de"
      },
      "execution_count": 4,
      "outputs": [
        {
          "output_type": "execute_result",
          "data": {
            "text/plain": [
              "(<PIL.Image.Image image mode=RGB size=32x32 at 0x7FF5C8378BE0>,\n",
              " 1,\n",
              " 'automobile')"
            ]
          },
          "metadata": {},
          "execution_count": 4
        }
      ]
    },
    {
      "cell_type": "code",
      "source": [
        "plt.imshow(img)"
      ],
      "metadata": {
        "colab": {
          "base_uri": "https://localhost:8080/",
          "height": 283
        },
        "id": "2wh7e0b-GjNS",
        "outputId": "179a3b83-18fe-4964-a926-e9eb71775783"
      },
      "execution_count": 5,
      "outputs": [
        {
          "output_type": "execute_result",
          "data": {
            "text/plain": [
              "<matplotlib.image.AxesImage at 0x7ff5c7c73ee0>"
            ]
          },
          "metadata": {},
          "execution_count": 5
        },
        {
          "output_type": "display_data",
          "data": {
            "text/plain": [
              "<Figure size 432x288 with 1 Axes>"
            ],
            "image/png": "[encoded data removed]"
          },
          "metadata": {
            "needs_background": "light"
          }
        }
      ]
    },
    {
      "cell_type": "markdown",
      "source": [
        "## Image Preprocessing"
      ],
      "metadata": {
        "id": "M5Av7Q_MHG84"
      }
    },
    {
      "cell_type": "markdown",
      "source": [
        "Use torchvision.transforms to transform data after it is loaded but before it is returned by \\_\\_getitem__."
      ],
      "metadata": {
        "id": "5xJ2d5fZHRhe"
      }
    },
    {
      "cell_type": "code",
      "source": [
        "from torchvision import transforms\n",
        "dir(transforms)"
      ],
      "metadata": {
        "id": "xBTLUZgpHAUP",
        "colab": {
          "base_uri": "https://localhost:8080/"
        },
        "outputId": "bdcfa405-00d3-46ca-a6f6-08f336e2d0ff"
      },
      "execution_count": 6,
      "outputs": [
        {
          "output_type": "execute_result",
          "data": {
            "text/plain": [
              "['AugMix',\n",
              " 'AutoAugment',\n",
              " 'AutoAugmentPolicy',\n",
              " 'CenterCrop',\n",
              " 'ColorJitter',\n",
              " 'Compose',\n",
              " 'ConvertImageDtype',\n",
              " 'ElasticTransform',\n",
              " 'FiveCrop',\n",
              " 'GaussianBlur',\n",
              " 'Grayscale',\n",
              " 'InterpolationMode',\n",
              " 'Lambda',\n",
              " 'LinearTransformation',\n",
              " 'Normalize',\n",
              " 'PILToTensor',\n",
              " 'Pad',\n",
              " 'RandAugment',\n",
              " 'RandomAdjustSharpness',\n",
              " 'RandomAffine',\n",
              " 'RandomApply',\n",
              " 'RandomAutocontrast',\n",
              " 'RandomChoice',\n",
              " 'RandomCrop',\n",
              " 'RandomEqualize',\n",
              " 'RandomErasing',\n",
              " 'RandomGrayscale',\n",
              " 'RandomHorizontalFlip',\n",
              " 'RandomInvert',\n",
              " 'RandomOrder',\n",
              " 'RandomPerspective',\n",
              " 'RandomPosterize',\n",
              " 'RandomResizedCrop',\n",
              " 'RandomRotation',\n",
              " 'RandomSolarize',\n",
              " 'RandomVerticalFlip',\n",
              " 'Resize',\n",
              " 'TenCrop',\n",
              " 'ToPILImage',\n",
              " 'ToTensor',\n",
              " 'TrivialAugmentWide',\n",
              " '__builtins__',\n",
              " '__cached__',\n",
              " '__doc__',\n",
              " '__file__',\n",
              " '__loader__',\n",
              " '__name__',\n",
              " '__package__',\n",
              " '__path__',\n",
              " '__spec__',\n",
              " '_pil_constants',\n",
              " '_presets',\n",
              " 'autoaugment',\n",
              " 'functional',\n",
              " 'functional_pil',\n",
              " 'functional_tensor',\n",
              " 'transforms']"
            ]
          },
          "metadata": {},
          "execution_count": 6
        }
      ]
    },
    {
      "cell_type": "code",
      "source": [
        "# turns Numpy arrays and PIL images to pytorch tensors. Automatically lay out the output tensor dimension to C*H*W.\n",
        "img_t = transforms.ToTensor()(img)\n",
        "img_t.shape"
      ],
      "metadata": {
        "colab": {
          "base_uri": "https://localhost:8080/"
        },
        "id": "jERgk7EYHkM4",
        "outputId": "392cbafd-1701-4211-e38b-24ba13210ff0"
      },
      "execution_count": 7,
      "outputs": [
        {
          "output_type": "execute_result",
          "data": {
            "text/plain": [
              "torch.Size([3, 32, 32])"
            ]
          },
          "metadata": {},
          "execution_count": 7
        }
      ]
    },
    {
      "cell_type": "code",
      "source": [
        "# transform entire picture set into tensors\n",
        "tensor_cifar10 = datasets.CIFAR10(data_path, train=True, download=False,\n",
        "                                  transform=transforms.ToTensor())"
      ],
      "metadata": {
        "id": "S099bvW2H68o"
      },
      "execution_count": 8,
      "outputs": []
    },
    {
      "cell_type": "code",
      "source": [
        "# accessing dataset element returns tensor rather than image\n",
        "img_t, _ = tensor_cifar10[99]\n",
        "img_t.shape, img_t.dtype"
      ],
      "metadata": {
        "colab": {
          "base_uri": "https://localhost:8080/"
        },
        "id": "dYPSzkDSILro",
        "outputId": "e99082db-770c-4c43-863e-c00ac49cdbde"
      },
      "execution_count": 9,
      "outputs": [
        {
          "output_type": "execute_result",
          "data": {
            "text/plain": [
              "(torch.Size([3, 32, 32]), torch.float32)"
            ]
          },
          "metadata": {},
          "execution_count": 9
        }
      ]
    },
    {
      "cell_type": "code",
      "source": [
        "# ToTensor also scaling the color range 0-255 to floating point from 0.0 to 1.0\n",
        "img_t.min(), img_t.max()"
      ],
      "metadata": {
        "colab": {
          "base_uri": "https://localhost:8080/"
        },
        "id": "5YUpAIS5IQi4",
        "outputId": "52c3c55c-d590-47a0-9af3-a061c0640b12"
      },
      "execution_count": 10,
      "outputs": [
        {
          "output_type": "execute_result",
          "data": {
            "text/plain": [
              "(tensor(0.), tensor(1.))"
            ]
          },
          "metadata": {},
          "execution_count": 10
        }
      ]
    },
    {
      "cell_type": "code",
      "source": [
        "plt.imshow(img_t.permute(1, 2, 0)) # changes the order of the axes from C*H*W to H*W*C to match what matplotlib expects\n",
        "plt.show()"
      ],
      "metadata": {
        "colab": {
          "base_uri": "https://localhost:8080/",
          "height": 266
        },
        "id": "dHmw7c_OIp0R",
        "outputId": "0a87e648-4b34-4d89-b403-550a40b3579e"
      },
      "execution_count": 11,
      "outputs": [
        {
          "output_type": "display_data",
          "data": {
            "text/plain": [
              "<Figure size 432x288 with 1 Axes>"
            ],
            "image/png": "[encoded data removed]"
          },
          "metadata": {
            "needs_background": "light"
          }
        }
      ]
    },
    {
      "cell_type": "code",
      "source": [
        "imgs = torch.stack([img_t for img_t, _ in tensor_cifar10], dim=3)\n",
        "imgs.shape"
      ],
      "metadata": {
        "id": "ORsi4TjUIsFg",
        "colab": {
          "base_uri": "https://localhost:8080/"
        },
        "outputId": "ce0f4e72-4c11-4dab-e9ce-60ff7b318e4d"
      },
      "execution_count": 12,
      "outputs": [
        {
          "output_type": "execute_result",
          "data": {
            "text/plain": [
              "torch.Size([3, 32, 32, 50000])"
            ]
          },
          "metadata": {},
          "execution_count": 12
        }
      ]
    },
    {
      "cell_type": "code",
      "source": [
        "imgs.view(3, -1).mean(dim=1), imgs.view(3, -1).std(dim=1)\n",
        "# view(3, -1) keeps one 3 element dimension, and merges all the remaining dimensions into one\n",
        "# the resulting mean and std are the for each color channel RGB"
      ],
      "metadata": {
        "colab": {
          "base_uri": "https://localhost:8080/"
        },
        "id": "1mikSelPbe_y",
        "outputId": "0c5b79ce-d58c-49a9-a724-0df82811d438"
      },
      "execution_count": 17,
      "outputs": [
        {
          "output_type": "execute_result",
          "data": {
            "text/plain": [
              "(tensor([0.4914, 0.4822, 0.4465]), tensor([0.2470, 0.2435, 0.2616]))"
            ]
          },
          "metadata": {},
          "execution_count": 17
        }
      ]
    },
    {
      "cell_type": "code",
      "source": [
        "transforms.Normalize((0.4915, 0.4823, 0.4468), (0.2470, 0.2435, 0.2616))"
      ],
      "metadata": {
        "colab": {
          "base_uri": "https://localhost:8080/"
        },
        "id": "cYHfJnh9bzC8",
        "outputId": "670320c8-024b-41d7-f3cf-621b05df6571"
      },
      "execution_count": 18,
      "outputs": [
        {
          "output_type": "execute_result",
          "data": {
            "text/plain": [
              "Normalize(mean=(0.4915, 0.4823, 0.4468), std=(0.247, 0.2435, 0.2616))"
            ]
          },
          "metadata": {},
          "execution_count": 18
        }
      ]
    },
    {
      "cell_type": "code",
      "source": [
        "transformed_cifar10 = datasets.CIFAR10(\n",
        "    data_path, train=True, download=False,\n",
        "    transform=transforms.Compose([\n",
        "        transforms.ToTensor(),\n",
        "        transforms.Normalize((0.4915, 0.4823, 0.4468),\n",
        "                            (0.2470, 0.2435, 0.2616))\n",
        "    ])\n",
        ")"
      ],
      "metadata": {
        "id": "AVj4a_Pqiwol"
      },
      "execution_count": 19,
      "outputs": []
    },
    {
      "cell_type": "code",
      "source": [
        "img_t, _ = transformed_cifar10[99]\n",
        "plt.imshow(img_t.permute(1, 2, 0))\n",
        "plt.show()"
      ],
      "metadata": {
        "colab": {
          "base_uri": "https://localhost:8080/",
          "height": 303
        },
        "id": "sgjbx-P6jj9b",
        "outputId": "70cf9e17-2a42-4743-c907-d4c5601a7489"
      },
      "execution_count": 20,
      "outputs": [
        {
          "output_type": "stream",
          "name": "stderr",
          "text": [
            "WARNING:matplotlib.image:Clipping input data to the valid range for imshow with RGB data ([0..1] for floats or [0..255] for integers).\n"
          ]
        },
        {
          "output_type": "display_data",
          "data": {
            "text/plain": [
              "<Figure size 432x288 with 1 Axes>"
            ],
            "image/png": "[encoded data removed]"
          },
          "metadata": {
            "needs_background": "light"
          }
        }
      ]
    },
    {
      "cell_type": "code",
      "source": [
        "transformed_cifar10_val = datasets.CIFAR10(\n",
        "    data_path, train=False, download=False,\n",
        "    transform=transforms.Compose([\n",
        "        transforms.ToTensor(),\n",
        "        transforms.Normalize((0.4915, 0.4823, 0.4468),\n",
        "                            (0.2470, 0.2435, 0.2616))\n",
        "    ])\n",
        ")"
      ],
      "metadata": {
        "id": "9DRKKC_Q1Xoy"
      },
      "execution_count": 45,
      "outputs": []
    },
    {
      "cell_type": "code",
      "source": [
        "# Reduce the dataset to only 2 labels\n",
        "label_map = {0: 0, 2: 1}\n",
        "class_names = ['airplane', 'bird']\n",
        "cifar2 = [(img, label_map[label])\n",
        "          for img, label in transformed_cifar10 \n",
        "          if label in [0, 2]]\n",
        "cifar2_val = [(img, label_map[label])\n",
        "              for img, label in transformed_cifar10_val\n",
        "              if label in [0, 2]]"
      ],
      "metadata": {
        "id": "HJJZNYpvjryG"
      },
      "execution_count": 46,
      "outputs": []
    },
    {
      "cell_type": "code",
      "source": [
        "def softmax(x):\n",
        "  return torch.exp(x) / torch.exp(x).sum()"
      ],
      "metadata": {
        "id": "umFunfj6rLt6"
      },
      "execution_count": 34,
      "outputs": []
    },
    {
      "cell_type": "code",
      "source": [
        "# elements of the output must be in the 0-1 range\n",
        "# elements of the output must add up to 1\n",
        "softmax = nn.Softmax(dim=1) # can specify the dimension to encode probabilities along\n",
        "x = torch.tensor([[1.0, 2.0, 3.0],\n",
        "                  [1.0, 2.0, 3.0]])\n",
        "softmax(x)"
      ],
      "metadata": {
        "colab": {
          "base_uri": "https://localhost:8080/"
        },
        "id": "gcj4LXjjuW5u",
        "outputId": "bfaae7f1-0cf0-459c-a1cd-e2ad17d0f764"
      },
      "execution_count": 35,
      "outputs": [
        {
          "output_type": "execute_result",
          "data": {
            "text/plain": [
              "tensor([[0.0900, 0.2447, 0.6652],\n",
              "        [0.0900, 0.2447, 0.6652]])"
            ]
          },
          "metadata": {},
          "execution_count": 35
        }
      ]
    },
    {
      "cell_type": "code",
      "source": [
        "import torch.nn as nn\n",
        "\n",
        "model = nn.Sequential(\n",
        "  nn.Linear(3072, 512), # 32*32*3\n",
        "  nn.Tanh(),\n",
        "  nn.Linear(512, 2),\n",
        "  nn.Softmax(dim=1) # represent the classification output as probabilities\n",
        ")"
      ],
      "metadata": {
        "id": "2JIX9KNsy5FL"
      },
      "execution_count": 36,
      "outputs": []
    },
    {
      "cell_type": "code",
      "source": [
        "img, _ = cifar2[0]\n",
        "plt.imshow(img.permute(1, 2, 0))\n",
        "plt.show()"
      ],
      "metadata": {
        "colab": {
          "base_uri": "https://localhost:8080/",
          "height": 303
        },
        "id": "AU-yfaWWzdEj",
        "outputId": "47f6bf5f-1ce9-4f6c-ac46-0453b4f45aa3"
      },
      "execution_count": 48,
      "outputs": [
        {
          "output_type": "stream",
          "name": "stderr",
          "text": [
            "WARNING:matplotlib.image:Clipping input data to the valid range for imshow with RGB data ([0..1] for floats or [0..255] for integers).\n"
          ]
        },
        {
          "output_type": "display_data",
          "data": {
            "text/plain": [
              "<Figure size 432x288 with 1 Axes>"
            ],
            "image/png": "[encoded data removed]"
          },
          "metadata": {
            "needs_background": "light"
          }
        }
      ]
    },
    {
      "cell_type": "code",
      "source": [
        "img_batch = img.view(-1).unsqueeze(0) # change 3*32*32 to 3072\n",
        "out = model(img_batch)\n",
        "out\n",
        "# at this point the model is not trained, it is the result after random parameterization"
      ],
      "metadata": {
        "colab": {
          "base_uri": "https://localhost:8080/"
        },
        "id": "LkUOS0qN0g3D",
        "outputId": "8beb7b85-4f5f-4dc0-d105-356e0d266b1e"
      },
      "execution_count": 49,
      "outputs": [
        {
          "output_type": "execute_result",
          "data": {
            "text/plain": [
              "tensor([[0.5139, 0.4861]], grad_fn=<SoftmaxBackward0>)"
            ]
          },
          "metadata": {},
          "execution_count": 49
        }
      ]
    },
    {
      "cell_type": "code",
      "source": [
        "_, index = torch.max(out, dim=1) # return the dimension largest probability\n",
        "index"
      ],
      "metadata": {
        "colab": {
          "base_uri": "https://localhost:8080/"
        },
        "id": "wcZPxurX3g3U",
        "outputId": "73eefb16-90bc-4d71-8f22-835eb3fd3e0a"
      },
      "execution_count": 51,
      "outputs": [
        {
          "output_type": "execute_result",
          "data": {
            "text/plain": [
              "tensor([0])"
            ]
          },
          "metadata": {},
          "execution_count": 51
        }
      ]
    },
    {
      "cell_type": "code",
      "source": [
        "# Update parameter with each individual samples\n",
        "# import torch\n",
        "# import torch.nn as nn\n",
        "# from torch import optim\n",
        "\n",
        "# model = nn.Sequential(\n",
        "#   nn.Linear(3072, 512), # 32*32*3\n",
        "#   nn.Tanh(),\n",
        "#   nn.Linear(512, 2),\n",
        "#   nn.LogSoftmax(dim=1)) # log of probability + softmax (log is tricky when prob goes to 0)\n",
        "# learning_rate = 1e-2\n",
        "# optimizer = optim.SGD(model.parameters(), lr=learning_rate)\n",
        "\n",
        "# loss_fn = nn.NLLLoss() # negative log likelihood function NLL=-sum(log(out[class]))\n",
        "# n_epochs = 100\n",
        "\n",
        "# for epoch in range(n_epochs):\n",
        "#   for img, label in cifar2:\n",
        "#     out = model(img.view(-1).unsqueeze(0))\n",
        "#     loss = loss_fn(out, torch.tensor([label]))\n",
        "\n",
        "#     optimizer.zero_grad()\n",
        "#     loss.backward()\n",
        "#     optimizer.step()\n",
        "\n",
        "#   print(\"Epoch: %d, Loss: %f\" % (epoch, float(loss)))"
      ],
      "metadata": {
        "id": "oLmI6KwO59e2"
      },
      "execution_count": null,
      "outputs": []
    },
    {
      "cell_type": "code",
      "source": [
        "import torch\n",
        "import torch.nn as nn\n",
        "from torch import optim\n",
        "from torch.utils.data import DataLoader\n",
        "\n",
        "train_loader = DataLoader(cifar2, batch_size=64, shuffle=True)\n",
        "\n",
        "model = nn.Sequential(\n",
        "  nn.Linear(3072, 512),\n",
        "  nn.Tanh(),\n",
        "  nn.Linear(512, 2),\n",
        "  nn.LogSoftmax(dim=1)) \n",
        "learning_rate = 1e-2\n",
        "optimizer = optim.SGD(model.parameters(), lr=learning_rate)\n",
        "\n",
        "loss_fn = nn.NLLLoss() # negative log likelihood function NLL=-sum(log(out[class]))\n",
        "n_epochs = 100\n",
        "\n",
        "for epoch in range(n_epochs):\n",
        "  for imgs, labels in train_loader:\n",
        "    # in each iteration, imgs is a tensor of size 64*3*32*32\n",
        "    batch_size = imgs.shape[0]\n",
        "    outputs = model(imgs.view(batch_size, -1))\n",
        "    loss = loss_fn(outputs, labels)\n",
        "\n",
        "    optimizer.zero_grad()\n",
        "    loss.backward()\n",
        "    optimizer.step()\n",
        "\n",
        "  print(\"Epoch: %d, Loss: %f\" % (epoch, float(loss)))"
      ],
      "metadata": {
        "colab": {
          "base_uri": "https://localhost:8080/"
        },
        "id": "wa3UBP11_CYl",
        "outputId": "e6069f81-09d8-43ca-a83e-87668e4cfe06"
      },
      "execution_count": 55,
      "outputs": [
        {
          "output_type": "stream",
          "name": "stdout",
          "text": [
            "Epoch: 0, Loss: 0.485658\n",
            "Epoch: 1, Loss: 0.265207\n",
            "Epoch: 2, Loss: 0.437404\n",
            "Epoch: 3, Loss: 0.393062\n",
            "Epoch: 4, Loss: 0.473155\n",
            "Epoch: 5, Loss: 0.737306\n",
            "Epoch: 6, Loss: 0.343948\n",
            "Epoch: 7, Loss: 0.313953\n",
            "Epoch: 8, Loss: 0.386073\n",
            "Epoch: 9, Loss: 0.289813\n",
            "Epoch: 10, Loss: 0.499714\n",
            "Epoch: 11, Loss: 0.226387\n",
            "Epoch: 12, Loss: 0.286299\n",
            "Epoch: 13, Loss: 0.219172\n",
            "Epoch: 14, Loss: 0.301390\n",
            "Epoch: 15, Loss: 0.485989\n",
            "Epoch: 16, Loss: 0.179715\n",
            "Epoch: 17, Loss: 0.473475\n",
            "Epoch: 18, Loss: 0.647575\n",
            "Epoch: 19, Loss: 0.522589\n",
            "Epoch: 20, Loss: 0.195739\n",
            "Epoch: 21, Loss: 0.353944\n",
            "Epoch: 22, Loss: 0.153703\n",
            "Epoch: 23, Loss: 0.224586\n",
            "Epoch: 24, Loss: 0.196112\n",
            "Epoch: 25, Loss: 0.181548\n",
            "Epoch: 26, Loss: 0.171194\n",
            "Epoch: 27, Loss: 0.285247\n",
            "Epoch: 28, Loss: 0.101336\n",
            "Epoch: 29, Loss: 0.122701\n",
            "Epoch: 30, Loss: 0.179166\n",
            "Epoch: 31, Loss: 0.107057\n",
            "Epoch: 32, Loss: 0.092623\n",
            "Epoch: 33, Loss: 0.178853\n",
            "Epoch: 34, Loss: 0.305233\n",
            "Epoch: 35, Loss: 0.134123\n",
            "Epoch: 36, Loss: 0.276705\n",
            "Epoch: 37, Loss: 0.205938\n",
            "Epoch: 38, Loss: 0.139086\n",
            "Epoch: 39, Loss: 0.302598\n",
            "Epoch: 40, Loss: 0.031715\n",
            "Epoch: 41, Loss: 0.132948\n",
            "Epoch: 42, Loss: 0.094313\n",
            "Epoch: 43, Loss: 0.076476\n",
            "Epoch: 44, Loss: 0.036585\n",
            "Epoch: 45, Loss: 0.134002\n",
            "Epoch: 46, Loss: 0.244409\n",
            "Epoch: 47, Loss: 0.064329\n",
            "Epoch: 48, Loss: 0.125321\n",
            "Epoch: 49, Loss: 0.069151\n",
            "Epoch: 50, Loss: 0.061570\n",
            "Epoch: 51, Loss: 0.154980\n",
            "Epoch: 52, Loss: 0.043021\n",
            "Epoch: 53, Loss: 0.142780\n",
            "Epoch: 54, Loss: 0.094481\n",
            "Epoch: 55, Loss: 0.085050\n",
            "Epoch: 56, Loss: 0.022106\n",
            "Epoch: 57, Loss: 0.028832\n",
            "Epoch: 58, Loss: 0.068377\n",
            "Epoch: 59, Loss: 0.017917\n",
            "Epoch: 60, Loss: 0.082839\n",
            "Epoch: 61, Loss: 0.043539\n",
            "Epoch: 62, Loss: 0.029727\n",
            "Epoch: 63, Loss: 0.041702\n",
            "Epoch: 64, Loss: 0.029883\n",
            "Epoch: 65, Loss: 0.038853\n",
            "Epoch: 66, Loss: 0.044826\n",
            "Epoch: 67, Loss: 0.029209\n",
            "Epoch: 68, Loss: 0.031818\n",
            "Epoch: 69, Loss: 0.023683\n",
            "Epoch: 70, Loss: 0.083790\n",
            "Epoch: 71, Loss: 0.026989\n",
            "Epoch: 72, Loss: 0.018363\n",
            "Epoch: 73, Loss: 0.010970\n",
            "Epoch: 74, Loss: 0.059745\n",
            "Epoch: 75, Loss: 0.028746\n",
            "Epoch: 76, Loss: 0.056444\n",
            "Epoch: 77, Loss: 0.017126\n",
            "Epoch: 78, Loss: 0.095637\n",
            "Epoch: 79, Loss: 0.031857\n",
            "Epoch: 80, Loss: 0.020168\n",
            "Epoch: 81, Loss: 0.019211\n",
            "Epoch: 82, Loss: 0.030606\n",
            "Epoch: 83, Loss: 0.018172\n",
            "Epoch: 84, Loss: 0.022231\n",
            "Epoch: 85, Loss: 0.028147\n",
            "Epoch: 86, Loss: 0.010972\n",
            "Epoch: 87, Loss: 0.022635\n",
            "Epoch: 88, Loss: 0.029519\n",
            "Epoch: 89, Loss: 0.034060\n",
            "Epoch: 90, Loss: 0.017297\n",
            "Epoch: 91, Loss: 0.050976\n",
            "Epoch: 92, Loss: 0.021114\n",
            "Epoch: 93, Loss: 0.003835\n",
            "Epoch: 94, Loss: 0.030310\n",
            "Epoch: 95, Loss: 0.017940\n",
            "Epoch: 96, Loss: 0.013933\n",
            "Epoch: 97, Loss: 0.012509\n",
            "Epoch: 98, Loss: 0.010736\n",
            "Epoch: 99, Loss: 0.008450\n"
          ]
        }
      ]
    },
    {
      "cell_type": "code",
      "source": [
        "val_loader = DataLoader(cifar2_val, batch_size=64, shuffle=False)\n",
        "correct = 0\n",
        "total = 0\n",
        "\n",
        "with torch.no_grad():\n",
        "  for imgs, labels in val_loader:\n",
        "    batch_size = imgs.shape[0]\n",
        "    outputs = model(imgs.view(batch_size, -1))\n",
        "    _, predicted = torch.max(outputs, dim=1)\n",
        "    total += labels.shape[0]\n",
        "    correct += int((predicted == labels).sum())\n",
        "print(\"Accuracy: %f\", correct / total)"
      ],
      "metadata": {
        "colab": {
          "base_uri": "https://localhost:8080/"
        },
        "id": "bgz-l31f_0LP",
        "outputId": "992a2c6d-652c-44d0-975b-a060cb9ca689"
      },
      "execution_count": 56,
      "outputs": [
        {
          "output_type": "stream",
          "name": "stdout",
          "text": [
            "Accuracy: %f 0.8165\n"
          ]
        }
      ]
    },
    {
      "cell_type": "code",
      "source": [
        "import torch\n",
        "import torch.nn as nn\n",
        "import torch.optim as optim\n",
        "\n",
        "train_loader = torch.utils.data.DataLoader(cifar2, batch_size=64,\n",
        "                                           shuffle=True)\n",
        "\n",
        "model = nn.Sequential(\n",
        "            nn.Linear(3072, 1024),\n",
        "            nn.Tanh(),\n",
        "            nn.Linear(1024, 512),\n",
        "            nn.Tanh(),\n",
        "            nn.Linear(512, 128),\n",
        "            nn.Tanh(),\n",
        "            nn.Linear(128, 2))\n",
        "\n",
        "learning_rate = 1e-2\n",
        "\n",
        "optimizer = optim.SGD(model.parameters(), lr=learning_rate)\n",
        "\n",
        "loss_fn = nn.CrossEntropyLoss()\n",
        "\n",
        "n_epochs = 100\n",
        "\n",
        "for epoch in range(n_epochs):\n",
        "    for imgs, labels in train_loader:\n",
        "        outputs = model(imgs.view(imgs.shape[0], -1))\n",
        "        loss = loss_fn(outputs, labels)\n",
        "\n",
        "        optimizer.zero_grad()\n",
        "        loss.backward()\n",
        "        optimizer.step()\n",
        "\n",
        "    print(\"Epoch: %d, Loss: %f\" % (epoch, float(loss)))"
      ],
      "metadata": {
        "colab": {
          "base_uri": "https://localhost:8080/"
        },
        "id": "TgRYBayyO_IZ",
        "outputId": "faed216b-ad66-425b-c1de-6f8ad4ea6dcb"
      },
      "execution_count": 66,
      "outputs": [
        {
          "output_type": "stream",
          "name": "stdout",
          "text": [
            "Epoch: 0, Loss: 0.490328\n",
            "Epoch: 1, Loss: 0.622316\n",
            "Epoch: 2, Loss: 0.540501\n",
            "Epoch: 3, Loss: 0.376723\n",
            "Epoch: 4, Loss: 0.390589\n",
            "Epoch: 5, Loss: 0.487945\n",
            "Epoch: 6, Loss: 0.243674\n",
            "Epoch: 7, Loss: 0.328772\n",
            "Epoch: 8, Loss: 0.346514\n",
            "Epoch: 9, Loss: 0.558839\n",
            "Epoch: 10, Loss: 0.445842\n",
            "Epoch: 11, Loss: 0.223532\n",
            "Epoch: 12, Loss: 0.431945\n",
            "Epoch: 13, Loss: 0.478797\n",
            "Epoch: 14, Loss: 0.288486\n",
            "Epoch: 15, Loss: 0.415954\n",
            "Epoch: 16, Loss: 0.344930\n",
            "Epoch: 17, Loss: 0.149925\n",
            "Epoch: 18, Loss: 0.464428\n",
            "Epoch: 19, Loss: 0.105365\n",
            "Epoch: 20, Loss: 0.148880\n",
            "Epoch: 21, Loss: 0.260261\n",
            "Epoch: 22, Loss: 0.354884\n",
            "Epoch: 23, Loss: 0.197338\n",
            "Epoch: 24, Loss: 0.405397\n",
            "Epoch: 25, Loss: 0.307265\n",
            "Epoch: 26, Loss: 0.216252\n",
            "Epoch: 27, Loss: 0.377882\n",
            "Epoch: 28, Loss: 0.055613\n",
            "Epoch: 29, Loss: 0.248415\n",
            "Epoch: 30, Loss: 0.048558\n",
            "Epoch: 31, Loss: 0.127236\n",
            "Epoch: 32, Loss: 0.188101\n",
            "Epoch: 33, Loss: 0.045827\n",
            "Epoch: 34, Loss: 0.041671\n",
            "Epoch: 35, Loss: 0.153856\n",
            "Epoch: 36, Loss: 0.128427\n",
            "Epoch: 37, Loss: 0.039943\n",
            "Epoch: 38, Loss: 0.481261\n",
            "Epoch: 39, Loss: 0.218454\n",
            "Epoch: 40, Loss: 0.111074\n",
            "Epoch: 41, Loss: 0.224310\n",
            "Epoch: 42, Loss: 0.042524\n",
            "Epoch: 43, Loss: 0.193437\n",
            "Epoch: 44, Loss: 0.053585\n",
            "Epoch: 45, Loss: 0.252006\n",
            "Epoch: 46, Loss: 0.079047\n",
            "Epoch: 47, Loss: 0.072657\n",
            "Epoch: 48, Loss: 0.040942\n",
            "Epoch: 49, Loss: 0.129008\n",
            "Epoch: 50, Loss: 0.149294\n",
            "Epoch: 51, Loss: 0.003670\n",
            "Epoch: 52, Loss: 0.027801\n",
            "Epoch: 53, Loss: 0.023683\n",
            "Epoch: 54, Loss: 0.012886\n",
            "Epoch: 55, Loss: 0.062348\n",
            "Epoch: 56, Loss: 0.001843\n",
            "Epoch: 57, Loss: 0.036198\n",
            "Epoch: 58, Loss: 0.013081\n",
            "Epoch: 59, Loss: 0.048865\n",
            "Epoch: 60, Loss: 0.012474\n",
            "Epoch: 61, Loss: 0.002461\n",
            "Epoch: 62, Loss: 0.007544\n",
            "Epoch: 63, Loss: 0.147223\n",
            "Epoch: 64, Loss: 0.013419\n",
            "Epoch: 65, Loss: 0.004313\n",
            "Epoch: 66, Loss: 0.000999\n",
            "Epoch: 67, Loss: 0.006522\n",
            "Epoch: 68, Loss: 0.003158\n",
            "Epoch: 69, Loss: 0.028969\n",
            "Epoch: 70, Loss: 0.003285\n",
            "Epoch: 71, Loss: 0.004141\n",
            "Epoch: 72, Loss: 0.042877\n",
            "Epoch: 73, Loss: 0.009847\n",
            "Epoch: 74, Loss: 0.001505\n",
            "Epoch: 75, Loss: 0.010567\n",
            "Epoch: 76, Loss: 0.001547\n",
            "Epoch: 77, Loss: 0.010880\n",
            "Epoch: 78, Loss: 0.000877\n",
            "Epoch: 79, Loss: 0.009825\n",
            "Epoch: 80, Loss: 0.005926\n",
            "Epoch: 81, Loss: 0.011344\n",
            "Epoch: 82, Loss: 0.007542\n",
            "Epoch: 83, Loss: 0.008736\n",
            "Epoch: 84, Loss: 0.012025\n",
            "Epoch: 85, Loss: 0.000958\n",
            "Epoch: 86, Loss: 0.000847\n",
            "Epoch: 87, Loss: 0.002337\n",
            "Epoch: 88, Loss: 0.001091\n",
            "Epoch: 89, Loss: 0.000838\n",
            "Epoch: 90, Loss: 0.000682\n",
            "Epoch: 91, Loss: 0.000175\n",
            "Epoch: 92, Loss: 0.000506\n",
            "Epoch: 93, Loss: 0.002746\n",
            "Epoch: 94, Loss: 0.029446\n",
            "Epoch: 95, Loss: 0.003831\n",
            "Epoch: 96, Loss: 0.004247\n",
            "Epoch: 97, Loss: 0.001569\n",
            "Epoch: 98, Loss: 0.004174\n",
            "Epoch: 99, Loss: 0.000681\n"
          ]
        }
      ]
    },
    {
      "cell_type": "code",
      "source": [
        "val_loader = DataLoader(cifar2_val, batch_size=64, shuffle=False)\n",
        "correct = 0\n",
        "total = 0\n",
        "\n",
        "with torch.no_grad():\n",
        "  for imgs, labels in val_loader:\n",
        "    batch_size = imgs.shape[0]\n",
        "    outputs = model(imgs.view(batch_size, -1))\n",
        "    _, predicted = torch.max(outputs, dim=1)\n",
        "    total += labels.shape[0]\n",
        "    correct += int((predicted == labels).sum())\n",
        "print(\"Accuracy: %f\", correct / total)"
      ],
      "metadata": {
        "colab": {
          "base_uri": "https://localhost:8080/"
        },
        "id": "_kJKpuleMhIO",
        "outputId": "546a7d73-8b3f-4f00-fcf3-d311f46cedbe"
      },
      "execution_count": 69,
      "outputs": [
        {
          "output_type": "stream",
          "name": "stdout",
          "text": [
            "Accuracy: %f 0.8025\n"
          ]
        }
      ]
    },
    {
      "cell_type": "code",
      "source": [
        "numel_list = [p.numel() for p in model.parameters() if p.requires_grad == True]\n",
        "sum(numel_list), numel_list"
      ],
      "metadata": {
        "colab": {
          "base_uri": "https://localhost:8080/"
        },
        "id": "9IbAFGOMMkuC",
        "outputId": "b69dc805-80f2-42a8-aa2c-487576a2a674"
      },
      "execution_count": 63,
      "outputs": [
        {
          "output_type": "execute_result",
          "data": {
            "text/plain": [
              "(3737474, [3145728, 1024, 524288, 512, 65536, 128, 256, 2])"
            ]
          },
          "metadata": {},
          "execution_count": 63
        }
      ]
    }
  ]
}