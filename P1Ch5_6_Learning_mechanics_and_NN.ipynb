{
  "nbformat": 4,
  "nbformat_minor": 0,
  "metadata": {
    "colab": {
      "provenance": [],
      "toc_visible": true,
      "authorship_tag": "ABX9TyOo36BXMMU3OUD36RbVfImb",
      "include_colab_link": true
    },
    "kernelspec": {
      "name": "python3",
      "display_name": "Python 3"
    },
    "language_info": {
      "name": "python"
    }
  },
  "cells": [
    {
      "cell_type": "markdown",
      "metadata": {
        "id": "view-in-github",
        "colab_type": "text"
      },
      "source": [
        "<a href=\"https://colab.research.google.com/github/youtlh/DeepLearningPytorch/blob/main/P1Ch5_6_Learning_mechanics_and_NN.ipynb\" target=\"_parent\"><img src=\"https://colab.research.google.com/assets/colab-badge.svg\" alt=\"Open In Colab\"/></a>"
      ]
    },
    {
      "cell_type": "markdown",
      "source": [
        "# Deep Learning Mechanics"
      ],
      "metadata": {
        "id": "AcmGuDrSkAAd"
      }
    },
    {
      "cell_type": "code",
      "source": [
        "import torch\n",
        "\n",
        "t_c = [0.5, 14.0, 15.0, 28.0, 11.0, 8.0, 3.0, -4.0, 6.0, 13.0, 21.0] # ground truth\n",
        "t_u = [35.7, 55.9, 58.2, 81.9, 56.3, 48.9, 33.9, 21.8, 48.4, 60.4, 68.4] # observations\n",
        "t_c = torch.tensor(t_c)\n",
        "t_u = torch.tensor(t_u)"
      ],
      "metadata": {
        "id": "E_LOKio7jm9Q"
      },
      "execution_count": 1,
      "outputs": []
    },
    {
      "cell_type": "code",
      "source": [
        "# build a simple linear model with two parameters to fit, w and b\n",
        "def model(t_u, w, b):\n",
        "  return w * t_u + b"
      ],
      "metadata": {
        "id": "sE1U5WT3j3he"
      },
      "execution_count": 2,
      "outputs": []
    },
    {
      "cell_type": "code",
      "source": [
        "# initialize the tensor for parameters\n",
        "w = torch.ones(())\n",
        "b = torch.zeros(())\n",
        "t_p = model(t_u, w, b)\n",
        "t_p"
      ],
      "metadata": {
        "colab": {
          "base_uri": "https://localhost:8080/"
        },
        "id": "iGErOFirjxl6",
        "outputId": "638d0308-995f-40e7-cf22-10cfd3154565"
      },
      "execution_count": 3,
      "outputs": [
        {
          "output_type": "execute_result",
          "data": {
            "text/plain": [
              "tensor([35.7000, 55.9000, 58.2000, 81.9000, 56.3000, 48.9000, 33.9000, 21.8000,\n",
              "        48.4000, 60.4000, 68.4000])"
            ]
          },
          "metadata": {},
          "execution_count": 3
        }
      ]
    },
    {
      "cell_type": "markdown",
      "source": [
        "## Loss and Gradient"
      ],
      "metadata": {
        "id": "wD_lmPyokg5e"
      }
    },
    {
      "cell_type": "code",
      "source": [
        "# simple mean square error loss function\n",
        "def loss_fn(t_p, t_c):\n",
        "  squared_diffs = (t_p - t_c)**2\n",
        "  return squared_diffs.mean()"
      ],
      "metadata": {
        "id": "VZ8hfi5TkE8Q"
      },
      "execution_count": 4,
      "outputs": []
    },
    {
      "cell_type": "code",
      "source": [
        "# compute the loss\n",
        "loss = loss_fn(t_p, t_c)\n",
        "loss"
      ],
      "metadata": {
        "colab": {
          "base_uri": "https://localhost:8080/"
        },
        "id": "tCKG6MmlkCno",
        "outputId": "87d187bf-5476-4612-d9f0-29441e2610c2"
      },
      "execution_count": 5,
      "outputs": [
        {
          "output_type": "execute_result",
          "data": {
            "text/plain": [
              "tensor(1763.8848)"
            ]
          },
          "metadata": {},
          "execution_count": 5
        }
      ]
    },
    {
      "cell_type": "code",
      "source": [
        "# estimate the rate of change (local derivative) by adding a small number to w and b and seeing how much the loss changes in that neighborhood\n",
        "# shift the parameter by derivative * learning rate\n",
        "delta = 0.1\n",
        "learning_rate = 1e-2\n",
        "\n",
        "loss_rate_of_change_w = \\\n",
        "  (loss_fn(model(t_u, w + delta, b), t_c) -\n",
        "  loss_fn(model(t_u, w - delta, b), t_c)) / (2.0 * delta)\n",
        "w = w - learning_rate * loss_rate_of_change_w\n",
        "\n",
        "loss_rate_of_change_b = \\\n",
        "  (loss_fn(model(t_u, w, b + delta), t_c) -\n",
        "  loss_fn(model(t_u, w, b - delta), t_c)) / (2.0 * delta)\n",
        "b = b - learning_rate * loss_rate_of_change_b"
      ],
      "metadata": {
        "id": "RvoNn7WukQf0"
      },
      "execution_count": 6,
      "outputs": []
    },
    {
      "cell_type": "code",
      "source": [
        "# to compute the derivative analytically dx^2/dx = 2x\n",
        "def dloss_fn(t_p, t_c):\n",
        "  dsq_diffs = 2 * (t_p - t_c) / t_p.size(0) # division comes from the derivative of mean\n",
        "  return dsq_diffs"
      ],
      "metadata": {
        "id": "gt9hGP2Vkjux"
      },
      "execution_count": 7,
      "outputs": []
    },
    {
      "cell_type": "code",
      "source": [
        "# applying the derivatives to the model\n",
        "def dmodel_dw(t_u, w, b):\n",
        "  return t_u\n",
        "\n",
        "def dmodel_db(t_u, w, b):\n",
        "  return 1.0"
      ],
      "metadata": {
        "id": "pmCiQ8Xnkwgz"
      },
      "execution_count": 8,
      "outputs": []
    },
    {
      "cell_type": "code",
      "source": [
        "# Define the gradient function\n",
        "def grad_fn(t_u, t_c, t_p, w, b):\n",
        "  dloss_dtp = dloss_fn(t_p, t_c)\n",
        "  dloss_dw = dloss_dtp * dmodel_dw(t_u, w, b)\n",
        "  dloss_db = dloss_dtp * dmodel_db(t_u, w, b)\n",
        "  return torch.stack([dloss_dw.sum(), dloss_db.sum()])"
      ],
      "metadata": {
        "id": "jXr-vHhyk6rr"
      },
      "execution_count": 9,
      "outputs": []
    },
    {
      "cell_type": "code",
      "source": [
        "# Define the iterative training loop\n",
        "def training_loop(n_epochs, learning_rate, params, t_u, t_c):\n",
        "  for epoch in range(1, n_epochs + 1):\n",
        "    w, b = params\n",
        "\n",
        "    t_p = model(t_u, w, b) # forward pass\n",
        "    loss = loss_fn(t_p, t_c)\n",
        "    grad = grad_fn(t_u, t_c, t_p, w, b) # backward pass\n",
        "\n",
        "    params = params - learning_rate * grad\n",
        "    print('Epoch %d, Loss %f' % (epoch, float(loss)))\n",
        "  return params"
      ],
      "metadata": {
        "id": "gw-7yMfZlANX"
      },
      "execution_count": 10,
      "outputs": []
    },
    {
      "cell_type": "code",
      "source": [
        "def training_loop(n_epochs, learning_rate, params, t_u, t_c,\n",
        "                  print_params=True):\n",
        "    for epoch in range(1, n_epochs + 1):\n",
        "        w, b = params\n",
        "\n",
        "        t_p = model(t_u, w, b)  # forward pass\n",
        "        loss = loss_fn(t_p, t_c)\n",
        "        grad = grad_fn(t_u, t_c, t_p, w, b)  # backward pass\n",
        "\n",
        "        params = params - learning_rate * grad\n",
        "\n",
        "        if epoch in {1, 2, 3, 10, 11, 99, 100, 4000, 5000}:  # <3>\n",
        "            print('Epoch %d, Loss %f' % (epoch, float(loss)))\n",
        "            if print_params:\n",
        "                print('    Params:', params)\n",
        "                print('    Grad:  ', grad)\n",
        "        if epoch in {4, 12, 101}:\n",
        "            print('...')\n",
        "\n",
        "        if not torch.isfinite(loss).all():\n",
        "            break  # <3>\n",
        "            \n",
        "    return params"
      ],
      "metadata": {
        "id": "-5Mmawz_iV8L"
      },
      "execution_count": 11,
      "outputs": []
    },
    {
      "cell_type": "code",
      "source": [
        "training_loop(\n",
        "  n_epochs = 100,\n",
        "  learning_rate = 1e-2,\n",
        "  params = torch.tensor([1.0, 0.0]),\n",
        "  t_u = t_u,\n",
        "  t_c = t_c)\n",
        "# training blow up due to large learning rate"
      ],
      "metadata": {
        "colab": {
          "base_uri": "https://localhost:8080/"
        },
        "id": "LkOZIplHlGkA",
        "outputId": "6e8a7dc1-7df0-4cfa-822b-b192f89333c6"
      },
      "execution_count": 12,
      "outputs": [
        {
          "output_type": "stream",
          "name": "stdout",
          "text": [
            "Epoch 1, Loss 1763.884766\n",
            "    Params: tensor([-44.1730,  -0.8260])\n",
            "    Grad:   tensor([4517.2964,   82.6000])\n",
            "Epoch 2, Loss 5802484.500000\n",
            "    Params: tensor([2568.4011,   45.1637])\n",
            "    Grad:   tensor([-261257.4062,   -4598.9702])\n",
            "Epoch 3, Loss 19408029696.000000\n",
            "    Params: tensor([-148527.7344,   -2616.3931])\n",
            "    Grad:   tensor([15109614.0000,   266155.6875])\n",
            "...\n",
            "Epoch 10, Loss 90901105189019073810297959556841472.000000\n",
            "    Params: tensor([3.2144e+17, 5.6621e+15])\n",
            "    Grad:   tensor([-3.2700e+19, -5.7600e+17])\n",
            "Epoch 11, Loss inf\n",
            "    Params: tensor([-1.8590e+19, -3.2746e+17])\n",
            "    Grad:   tensor([1.8912e+21, 3.3313e+19])\n"
          ]
        },
        {
          "output_type": "execute_result",
          "data": {
            "text/plain": [
              "tensor([-1.8590e+19, -3.2746e+17])"
            ]
          },
          "metadata": {},
          "execution_count": 12
        }
      ]
    },
    {
      "cell_type": "code",
      "source": [
        "training_loop(\n",
        "  n_epochs = 100,\n",
        "  learning_rate = 1e-4,\n",
        "  params = torch.tensor([1.0, 0.0]),\n",
        "  t_u = t_u,\n",
        "  t_c = t_c)\n",
        "# reduce learning rate, behaviour stable\n",
        "# however because update are small, loss decreases very slowly and evantualy stalls\n",
        "# note that the gradient for w is much larger than that for b"
      ],
      "metadata": {
        "colab": {
          "base_uri": "https://localhost:8080/"
        },
        "id": "zupBBzRllMDb",
        "outputId": "82796857-87d0-45d2-d026-e0b7876d42fe"
      },
      "execution_count": 13,
      "outputs": [
        {
          "output_type": "stream",
          "name": "stdout",
          "text": [
            "Epoch 1, Loss 1763.884766\n",
            "    Params: tensor([ 0.5483, -0.0083])\n",
            "    Grad:   tensor([4517.2964,   82.6000])\n",
            "Epoch 2, Loss 323.090515\n",
            "    Params: tensor([ 0.3623, -0.0118])\n",
            "    Grad:   tensor([1859.5493,   35.7843])\n",
            "Epoch 3, Loss 78.929634\n",
            "    Params: tensor([ 0.2858, -0.0135])\n",
            "    Grad:   tensor([765.4666,  16.5122])\n",
            "...\n",
            "Epoch 10, Loss 29.105247\n",
            "    Params: tensor([ 0.2324, -0.0166])\n",
            "    Grad:   tensor([1.4803, 3.0544])\n",
            "Epoch 11, Loss 29.104168\n",
            "    Params: tensor([ 0.2323, -0.0169])\n",
            "    Grad:   tensor([0.5781, 3.0384])\n",
            "...\n",
            "Epoch 99, Loss 29.023582\n",
            "    Params: tensor([ 0.2327, -0.0435])\n",
            "    Grad:   tensor([-0.0533,  3.0226])\n",
            "Epoch 100, Loss 29.022667\n",
            "    Params: tensor([ 0.2327, -0.0438])\n",
            "    Grad:   tensor([-0.0532,  3.0226])\n"
          ]
        },
        {
          "output_type": "execute_result",
          "data": {
            "text/plain": [
              "tensor([ 0.2327, -0.0438])"
            ]
          },
          "metadata": {},
          "execution_count": 13
        }
      ]
    },
    {
      "cell_type": "code",
      "source": [
        "# normalize the gradient, instead of setting up different learning rate for different parameter, we change the inputs so that the gradients aren't quite so different.\n",
        "# why this normalization works? need to keep the range of input within range of -1.0 to 1.0.\n",
        "t_un = 0.1 * t_u\n",
        "training_loop(\n",
        "  n_epochs = 100,\n",
        "  learning_rate = 1e-2,\n",
        "  params = torch.tensor([1.0, 0.0]),\n",
        "  t_u = t_un,\n",
        "  t_c = t_c)"
      ],
      "metadata": {
        "colab": {
          "base_uri": "https://localhost:8080/"
        },
        "id": "ces889UmlT1s",
        "outputId": "08f78a55-0e32-42fe-acd2-18c06b319c01"
      },
      "execution_count": 14,
      "outputs": [
        {
          "output_type": "stream",
          "name": "stdout",
          "text": [
            "Epoch 1, Loss 80.364342\n",
            "    Params: tensor([1.7761, 0.1064])\n",
            "    Grad:   tensor([-77.6140, -10.6400])\n",
            "Epoch 2, Loss 37.574913\n",
            "    Params: tensor([2.0848, 0.1303])\n",
            "    Grad:   tensor([-30.8623,  -2.3864])\n",
            "Epoch 3, Loss 30.871077\n",
            "    Params: tensor([2.2094, 0.1217])\n",
            "    Grad:   tensor([-12.4631,   0.8587])\n",
            "...\n",
            "Epoch 10, Loss 29.030489\n",
            "    Params: tensor([ 2.3232, -0.0710])\n",
            "    Grad:   tensor([-0.5355,  2.9295])\n",
            "Epoch 11, Loss 28.941877\n",
            "    Params: tensor([ 2.3284, -0.1003])\n",
            "    Grad:   tensor([-0.5240,  2.9264])\n",
            "...\n",
            "Epoch 99, Loss 22.214186\n",
            "    Params: tensor([ 2.7508, -2.4910])\n",
            "    Grad:   tensor([-0.4453,  2.5208])\n",
            "Epoch 100, Loss 22.148710\n",
            "    Params: tensor([ 2.7553, -2.5162])\n",
            "    Grad:   tensor([-0.4446,  2.5165])\n"
          ]
        },
        {
          "output_type": "execute_result",
          "data": {
            "text/plain": [
              "tensor([ 2.7553, -2.5162])"
            ]
          },
          "metadata": {},
          "execution_count": 14
        }
      ]
    },
    {
      "cell_type": "code",
      "source": [
        "# increase the number of epoch\n",
        "params = training_loop(\n",
        "  n_epochs = 5000,\n",
        "  learning_rate = 1e-2,\n",
        "  params = torch.tensor([1.0, 0.0]),\n",
        "  t_u = t_un,\n",
        "  t_c = t_c)\n",
        "\n",
        "params"
      ],
      "metadata": {
        "colab": {
          "base_uri": "https://localhost:8080/"
        },
        "id": "VmdOpWD6lb_4",
        "outputId": "e3a28d12-1e08-4555-8da4-c729f7c02ce8"
      },
      "execution_count": 15,
      "outputs": [
        {
          "output_type": "stream",
          "name": "stdout",
          "text": [
            "Epoch 1, Loss 80.364342\n",
            "    Params: tensor([1.7761, 0.1064])\n",
            "    Grad:   tensor([-77.6140, -10.6400])\n",
            "Epoch 2, Loss 37.574913\n",
            "    Params: tensor([2.0848, 0.1303])\n",
            "    Grad:   tensor([-30.8623,  -2.3864])\n",
            "Epoch 3, Loss 30.871077\n",
            "    Params: tensor([2.2094, 0.1217])\n",
            "    Grad:   tensor([-12.4631,   0.8587])\n",
            "...\n",
            "Epoch 10, Loss 29.030489\n",
            "    Params: tensor([ 2.3232, -0.0710])\n",
            "    Grad:   tensor([-0.5355,  2.9295])\n",
            "Epoch 11, Loss 28.941877\n",
            "    Params: tensor([ 2.3284, -0.1003])\n",
            "    Grad:   tensor([-0.5240,  2.9264])\n",
            "...\n",
            "Epoch 99, Loss 22.214186\n",
            "    Params: tensor([ 2.7508, -2.4910])\n",
            "    Grad:   tensor([-0.4453,  2.5208])\n",
            "Epoch 100, Loss 22.148710\n",
            "    Params: tensor([ 2.7553, -2.5162])\n",
            "    Grad:   tensor([-0.4446,  2.5165])\n",
            "...\n",
            "Epoch 4000, Loss 2.927680\n",
            "    Params: tensor([  5.3643, -17.2853])\n",
            "    Grad:   tensor([-0.0006,  0.0033])\n",
            "Epoch 5000, Loss 2.927648\n",
            "    Params: tensor([  5.3671, -17.3012])\n",
            "    Grad:   tensor([-0.0001,  0.0006])\n"
          ]
        },
        {
          "output_type": "execute_result",
          "data": {
            "text/plain": [
              "tensor([  5.3671, -17.3012])"
            ]
          },
          "metadata": {},
          "execution_count": 15
        }
      ]
    },
    {
      "cell_type": "code",
      "source": [
        "# visualize the data\n",
        "%matplotlib inline\n",
        "from matplotlib import pyplot as plt\n",
        "t_p = model(t_un, *params) # *params: argument unpacking, will pass the elements of params as individual arguments\n",
        "fig = plt.figure(dpi=100)\n",
        "plt.xlabel(\"Temperature (°Fahrenheit)\")\n",
        "plt.ylabel(\"Temperature (°Celsius)\")\n",
        "plt.plot(t_u.numpy(), t_p.detach().numpy())\n",
        "plt.plot(t_u.numpy(), t_c.numpy(), 'o')"
      ],
      "metadata": {
        "colab": {
          "base_uri": "https://localhost:8080/",
          "height": 399
        },
        "id": "HMLrSYn7liKx",
        "outputId": "5254c3a1-7232-4474-fcf1-8b963cffbbbc"
      },
      "execution_count": 16,
      "outputs": [
        {
          "output_type": "execute_result",
          "data": {
            "text/plain": [
              "[<matplotlib.lines.Line2D at 0x7f2a53bf5ca0>]"
            ]
          },
          "metadata": {},
          "execution_count": 16
        },
        {
          "output_type": "display_data",
          "data": {
            "text/plain": [
              "<Figure size 600x400 with 1 Axes>"
            ],
            "image/png": "[encoded data removed]"
          },
          "metadata": {
            "needs_background": "light"
          }
        }
      ]
    },
    {
      "cell_type": "markdown",
      "source": [
        "## Backpropagation"
      ],
      "metadata": {
        "id": "PU4IB3xokcvW"
      }
    },
    {
      "cell_type": "code",
      "source": [
        "params = torch.tensor([1.0, 0.0], requires_grad=True)\n",
        "# requires_grad tells pytorch to track the entire family tree of tensors resulting from operations on params."
      ],
      "metadata": {
        "id": "0_9zltC7lyzh"
      },
      "execution_count": 17,
      "outputs": []
    },
    {
      "cell_type": "code",
      "source": [
        "params.grad is None\n",
        "# normally the .gard attribute is None"
      ],
      "metadata": {
        "colab": {
          "base_uri": "https://localhost:8080/"
        },
        "id": "0_La6pC_l1Qw",
        "outputId": "a7b279aa-c79c-41d3-fee5-09bacc2453a5"
      },
      "execution_count": 18,
      "outputs": [
        {
          "output_type": "execute_result",
          "data": {
            "text/plain": [
              "True"
            ]
          },
          "metadata": {},
          "execution_count": 18
        }
      ]
    },
    {
      "cell_type": "code",
      "source": [
        "loss = loss_fn(model(t_u, *params), t_c)\n",
        "loss.backward() # this will calcualte the derivatives using autograd\n",
        "params.grad"
      ],
      "metadata": {
        "colab": {
          "base_uri": "https://localhost:8080/"
        },
        "id": "6y7-pIfgl4AC",
        "outputId": "bca5e477-ca05-4a39-9462-fcd20015a33e"
      },
      "execution_count": 19,
      "outputs": [
        {
          "output_type": "execute_result",
          "data": {
            "text/plain": [
              "tensor([4517.2969,   82.6000])"
            ]
          },
          "metadata": {},
          "execution_count": 19
        }
      ]
    },
    {
      "cell_type": "code",
      "source": [
        "# NOTE! every time after we compute the derivative using backward, we need to zero the gradient explicitly at each iteration to avoid the derivatives accumulate at leaf nodes.\n",
        "if params.grad is not None:\n",
        "  params.grad.zero_()"
      ],
      "metadata": {
        "id": "vFI2y6oJl6-p"
      },
      "execution_count": 20,
      "outputs": []
    },
    {
      "cell_type": "code",
      "source": [
        "# combining the autogard into training loop coding\n",
        "def training_loop(n_epochs, learning_rate, params, t_u, t_c):\n",
        "  for epoch in range(1, n_epochs + 1):\n",
        "    if params.grad is not None: # this should be done any point in the loop prior to calling loss.backward()\n",
        "      params.grad.zero_()\n",
        "    \n",
        "    t_p = model(t_u, *params)\n",
        "    loss = loss_fn(t_p, t_c)\n",
        "    loss.backward()\n",
        "\n",
        "    with torch.no_grad():\n",
        "      params -= learning_rate * params.grad\n",
        "    if epoch % 500 == 0:\n",
        "      print('Epoch %d, Loss %f' % (epoch, float(loss)))\n",
        "  return params"
      ],
      "metadata": {
        "id": "cymJJX72l-PE"
      },
      "execution_count": 21,
      "outputs": []
    },
    {
      "cell_type": "code",
      "source": [
        "training_loop(\n",
        "  n_epochs = 5000,\n",
        "  learning_rate = 1e-2,\n",
        "  params = torch.tensor([1.0, 0.0], requires_grad=True), # make sure we are calculating the gradient\n",
        "  t_u = t_un,\n",
        "  t_c = t_c)"
      ],
      "metadata": {
        "colab": {
          "base_uri": "https://localhost:8080/"
        },
        "id": "k_NJHWwGmHWQ",
        "outputId": "f90f1917-4c96-45d1-b5c9-b19d3ae5ffd7"
      },
      "execution_count": 22,
      "outputs": [
        {
          "output_type": "stream",
          "name": "stdout",
          "text": [
            "Epoch 500, Loss 7.860115\n",
            "Epoch 1000, Loss 3.828538\n",
            "Epoch 1500, Loss 3.092191\n",
            "Epoch 2000, Loss 2.957698\n",
            "Epoch 2500, Loss 2.933134\n",
            "Epoch 3000, Loss 2.928648\n",
            "Epoch 3500, Loss 2.927830\n",
            "Epoch 4000, Loss 2.927679\n",
            "Epoch 4500, Loss 2.927652\n",
            "Epoch 5000, Loss 2.927647\n"
          ]
        },
        {
          "output_type": "execute_result",
          "data": {
            "text/plain": [
              "tensor([  5.3671, -17.3012], requires_grad=True)"
            ]
          },
          "metadata": {},
          "execution_count": 22
        }
      ]
    },
    {
      "cell_type": "markdown",
      "source": [
        "## Optimization"
      ],
      "metadata": {
        "id": "xseHEkrwnFtF"
      }
    },
    {
      "cell_type": "markdown",
      "source": [
        "Every optimizer constructor takes a list of parameters as the first input. All parameters passed to the optimizer are retained inside the optimizer object so the optimizer can update their values and access their grad attribute.\n",
        "\n",
        "Each optimizer exposes two methods: .zero_grad() and .step().\n",
        ".zero_grad() zeroes the grad attribute of all the parameters passed to the optimizer upon construction. .step() updates the value of those parameters according to the optimization strategy implemented by the specific optimizer."
      ],
      "metadata": {
        "id": "Ygp4pKepnxi-"
      }
    },
    {
      "cell_type": "code",
      "source": [
        "# different optimization methods provided by pytorch\n",
        "import torch.optim as optim\n",
        "dir(optim)"
      ],
      "metadata": {
        "colab": {
          "base_uri": "https://localhost:8080/"
        },
        "id": "c_TYYHK2mK9c",
        "outputId": "85f6fceb-0add-4175-b216-89ad52ad05f3"
      },
      "execution_count": 23,
      "outputs": [
        {
          "output_type": "execute_result",
          "data": {
            "text/plain": [
              "['ASGD',\n",
              " 'Adadelta',\n",
              " 'Adagrad',\n",
              " 'Adam',\n",
              " 'AdamW',\n",
              " 'Adamax',\n",
              " 'LBFGS',\n",
              " 'NAdam',\n",
              " 'Optimizer',\n",
              " 'RAdam',\n",
              " 'RMSprop',\n",
              " 'Rprop',\n",
              " 'SGD',\n",
              " 'SparseAdam',\n",
              " '__builtins__',\n",
              " '__cached__',\n",
              " '__doc__',\n",
              " '__file__',\n",
              " '__loader__',\n",
              " '__name__',\n",
              " '__package__',\n",
              " '__path__',\n",
              " '__spec__',\n",
              " '_functional',\n",
              " '_multi_tensor',\n",
              " 'lr_scheduler',\n",
              " 'swa_utils']"
            ]
          },
          "metadata": {},
          "execution_count": 23
        }
      ]
    },
    {
      "cell_type": "code",
      "source": [
        "params = torch.tensor([1.0, 0.0], requires_grad=True)\n",
        "learning_rate = 1e-5\n",
        "optimizer = optim.SGD([params], lr=learning_rate)\n",
        "# stochastic gradient descent is the vanilla gradient descent.\n",
        "# the word stochastic comes from the fact that the gtradient is typically obtained by averaging over a random subset of all input samples called minibatch."
      ],
      "metadata": {
        "id": "kfqklFcImNz1"
      },
      "execution_count": 24,
      "outputs": []
    },
    {
      "cell_type": "code",
      "source": [
        "t_p = model(t_u, *params)\n",
        "loss = loss_fn(t_p, t_c)\n",
        "loss.backward()\n",
        "optimizer.step()\n",
        "params"
      ],
      "metadata": {
        "colab": {
          "base_uri": "https://localhost:8080/"
        },
        "id": "khPZMLbhmQF-",
        "outputId": "e8279cda-e9a2-409b-c38d-19374d21905e"
      },
      "execution_count": 25,
      "outputs": [
        {
          "output_type": "execute_result",
          "data": {
            "text/plain": [
              "tensor([ 9.5483e-01, -8.2600e-04], requires_grad=True)"
            ]
          },
          "metadata": {},
          "execution_count": 25
        }
      ]
    },
    {
      "cell_type": "code",
      "source": [
        "params = torch.tensor([1.0, 0.0], requires_grad=True)\n",
        "learning_rate = 1e-2\n",
        "optimizer = optim.SGD([params], lr=learning_rate)\n",
        "\n",
        "t_p = model(t_un, *params)\n",
        "loss = loss_fn(t_p, t_c)\n",
        "\n",
        "optimizer.zero_grad() # always need to zeroes out previous gradient anywhere in the loop earlier than the .backward()\n",
        "loss.backward()\n",
        "optimizer.step()\n",
        "\n",
        "params"
      ],
      "metadata": {
        "colab": {
          "base_uri": "https://localhost:8080/"
        },
        "id": "mvm2wfUpmSah",
        "outputId": "17bc40f0-dd96-4c15-c4f7-1d35b55f3dfa"
      },
      "execution_count": 26,
      "outputs": [
        {
          "output_type": "execute_result",
          "data": {
            "text/plain": [
              "tensor([1.7761, 0.1064], requires_grad=True)"
            ]
          },
          "metadata": {},
          "execution_count": 26
        }
      ]
    },
    {
      "cell_type": "code",
      "source": [
        "def training_loop(n_epochs, optimizer, params, t_u, t_c):\n",
        "  for epoch in range(1, n_epochs + 1):\n",
        "    t_p = model(t_u, *params)\n",
        "    loss = loss_fn(t_p, t_c)\n",
        "\n",
        "    optimizer.zero_grad()\n",
        "    loss.backward()\n",
        "    optimizer.step()\n",
        "\n",
        "    if epoch % 500 == 0:\n",
        "      print('Epoch %d, Loss %f' % (epoch, float(loss)))\n",
        "  return params"
      ],
      "metadata": {
        "id": "C3o_rMKzmXFo"
      },
      "execution_count": 27,
      "outputs": []
    },
    {
      "cell_type": "code",
      "source": [
        "params = torch.tensor([1.0, 0.0], requires_grad=True)\n",
        "learning_rate = 1e-2\n",
        "optimizer = optim.SGD([params], lr=learning_rate) # important that this params\n",
        "\n",
        "training_loop(\n",
        "  n_epochs = 5000,\n",
        "  optimizer = optimizer,\n",
        "  params = params,  # and this params are the same object, otherwise the model don't know what to optimize\n",
        "  t_u = t_un,\n",
        "  t_c = t_c)"
      ],
      "metadata": {
        "colab": {
          "base_uri": "https://localhost:8080/"
        },
        "id": "Uc1q6flPmdVc",
        "outputId": "21fab3e2-7e79-4e71-98fb-b2e5a7ccf375"
      },
      "execution_count": 28,
      "outputs": [
        {
          "output_type": "stream",
          "name": "stdout",
          "text": [
            "Epoch 500, Loss 7.860120\n",
            "Epoch 1000, Loss 3.828538\n",
            "Epoch 1500, Loss 3.092191\n",
            "Epoch 2000, Loss 2.957698\n",
            "Epoch 2500, Loss 2.933134\n",
            "Epoch 3000, Loss 2.928648\n",
            "Epoch 3500, Loss 2.927830\n",
            "Epoch 4000, Loss 2.927679\n",
            "Epoch 4500, Loss 2.927652\n",
            "Epoch 5000, Loss 2.927647\n"
          ]
        },
        {
          "output_type": "execute_result",
          "data": {
            "text/plain": [
              "tensor([  5.3671, -17.3012], requires_grad=True)"
            ]
          },
          "metadata": {},
          "execution_count": 28
        }
      ]
    },
    {
      "cell_type": "code",
      "source": [
        "# trying using different optimization function\n",
        "# Adam is more sophisticated optimizier and the learning rate is set adaptively.\n",
        "# It is less sensitive to the parameter scaling, so that we can use the original t_u rather than t_un\n",
        "params = torch.tensor([1.0, 0.0], requires_grad=True)\n",
        "learning_rate = 1e-1\n",
        "optimizer = optim.Adam([params], lr=learning_rate)\n",
        "\n",
        "training_loop(\n",
        "  n_epochs = 2000,\n",
        "  optimizer = optimizer,\n",
        "  params = params,\n",
        "  t_u = t_u,\n",
        "  t_c = t_c)"
      ],
      "metadata": {
        "colab": {
          "base_uri": "https://localhost:8080/"
        },
        "id": "npvGABbNmg5n",
        "outputId": "1f23a0e0-64ee-47d1-ac91-2fad97fb1dcc"
      },
      "execution_count": 29,
      "outputs": [
        {
          "output_type": "stream",
          "name": "stdout",
          "text": [
            "Epoch 500, Loss 7.612900\n",
            "Epoch 1000, Loss 3.086700\n",
            "Epoch 1500, Loss 2.928579\n",
            "Epoch 2000, Loss 2.927644\n"
          ]
        },
        {
          "output_type": "execute_result",
          "data": {
            "text/plain": [
              "tensor([  0.5367, -17.3021], requires_grad=True)"
            ]
          },
          "metadata": {},
          "execution_count": 29
        }
      ]
    },
    {
      "cell_type": "markdown",
      "source": [
        "## Train, Validation and Overfitting"
      ],
      "metadata": {
        "id": "nBg9Oyy_tOIk"
      }
    },
    {
      "cell_type": "code",
      "source": [
        "n_samples = t_u.shape[0]\n",
        "n_val = int(0.2 * n_samples)\n",
        "\n",
        "shuffled_indices = torch.randperm(n_samples) # generate a random permutation of the tensor elements\n",
        "\n",
        "train_indices = shuffled_indices[:-n_val]\n",
        "val_indices = shuffled_indices[-n_val:]\n",
        "\n",
        "train_indices, val_indices"
      ],
      "metadata": {
        "colab": {
          "base_uri": "https://localhost:8080/"
        },
        "id": "Qtdl6mCUmkhp",
        "outputId": "12629715-a62d-40f3-91ae-76aad2467dc7"
      },
      "execution_count": 30,
      "outputs": [
        {
          "output_type": "execute_result",
          "data": {
            "text/plain": [
              "(tensor([5, 1, 7, 2, 8, 6, 9, 0, 3]), tensor([ 4, 10]))"
            ]
          },
          "metadata": {},
          "execution_count": 30
        }
      ]
    },
    {
      "cell_type": "code",
      "source": [
        "# building the training and validation set using the random index\n",
        "train_t_u = t_u[train_indices]\n",
        "train_t_c = t_c[train_indices]\n",
        "\n",
        "val_t_u = t_u[val_indices]\n",
        "val_t_c = t_c[val_indices]\n",
        "\n",
        "train_t_un = 0.1 * train_t_u\n",
        "val_t_un = 0.1 * val_t_u"
      ],
      "metadata": {
        "id": "7oxvvHnYmokL"
      },
      "execution_count": 31,
      "outputs": []
    },
    {
      "cell_type": "code",
      "source": [
        "def training_loop(n_epochs, optimizer, params, train_t_u, val_t_u, train_t_c, val_t_c):\n",
        "  for epoch in range(1, n_epochs + 1):\n",
        "    train_t_p = model(train_t_u, *params)\n",
        "    train_loss = loss_fn(train_t_p, train_t_c)\n",
        "\n",
        "    val_t_p = model(val_t_u, *params) \n",
        "    val_loss = loss_fn(val_t_p, val_t_c) # calculate the loss for validation to monitor the progress\n",
        "\n",
        "    optimizer.zero_grad()\n",
        "    train_loss.backward()\n",
        "    optimizer.step()\n",
        "    # no val_loss.backward() since we don't want to train the model on the validation set\n",
        "\n",
        "    if epoch <= 3 or epoch % 500 == 0:\n",
        "      print(f\"Epoch {epoch}, Training loss {train_loss.item():.4f},\"\n",
        "            f\" Validation loss {val_loss.item():.4f}\")\n",
        "  return params"
      ],
      "metadata": {
        "id": "j5LlrgDQmq6s"
      },
      "execution_count": 32,
      "outputs": []
    },
    {
      "cell_type": "code",
      "source": [
        "params = torch.tensor([1.0, 0.0], requires_grad=True)\n",
        "learning_rate = 1e-2\n",
        "optimizer = optim.SGD([params], lr=learning_rate)\n",
        "\n",
        "training_loop(\n",
        "  n_epochs = 3000,\n",
        "  optimizer = optimizer,\n",
        "  params = params,\n",
        "  train_t_u = train_t_un,\n",
        "  val_t_u = val_t_un, \n",
        "  train_t_c = train_t_c,\n",
        "  val_t_c = val_t_c)"
      ],
      "metadata": {
        "colab": {
          "base_uri": "https://localhost:8080/"
        },
        "id": "CcvLzWJbm1C8",
        "outputId": "784391be-7210-40f2-b923-89dc69e7ee16"
      },
      "execution_count": 33,
      "outputs": [
        {
          "output_type": "stream",
          "name": "stdout",
          "text": [
            "Epoch 1, Training loss 72.7406, Validation loss 114.6712\n",
            "Epoch 2, Training loss 40.2682, Validation loss 46.4569\n",
            "Epoch 3, Training loss 33.9582, Validation loss 27.9884\n",
            "Epoch 500, Training loss 7.0645, Validation loss 6.8510\n",
            "Epoch 1000, Training loss 3.4611, Validation loss 4.2858\n",
            "Epoch 1500, Training loss 2.9574, Validation loss 3.5832\n",
            "Epoch 2000, Training loss 2.8870, Validation loss 3.3564\n",
            "Epoch 2500, Training loss 2.8772, Validation loss 3.2767\n",
            "Epoch 3000, Training loss 2.8758, Validation loss 3.2475\n"
          ]
        },
        {
          "output_type": "execute_result",
          "data": {
            "text/plain": [
              "tensor([  5.2908, -16.8837], requires_grad=True)"
            ]
          },
          "metadata": {},
          "execution_count": 33
        }
      ]
    },
    {
      "cell_type": "code",
      "source": [
        "def training_loop(n_epochs, optimizer, params, train_t_u, val_t_u,\n",
        "                  train_t_c, val_t_c):\n",
        "  for epoch in range(1, n_epochs + 1):\n",
        "    train_t_p = model(train_t_u, *params)\n",
        "    train_loss = loss_fn(train_t_p, train_t_c)\n",
        "\n",
        "    with torch.no_grad():\n",
        "      val_t_p = model(val_t_u, *params)\n",
        "      val_loss = loss_fn(val_t_p, val_t_c)\n",
        "      assert val_loss.requires_grad == False # manually switch off grad calculation for validation set\n",
        "\n",
        "    optimizer.zero_grad()\n",
        "    train_loss.backward()\n",
        "    optimizer.step()"
      ],
      "metadata": {
        "id": "TKqI7g67m5ki"
      },
      "execution_count": 34,
      "outputs": []
    },
    {
      "cell_type": "code",
      "source": [
        "def calc_forward(t_u, t_c, is_train): # alternatively, we could also pass in whether to construct the autograd as parameter\n",
        "  with torch.set_grad_enabled(is_train):\n",
        "    t_p = model(t_u, *params)\n",
        "    loss = loss_fn(t_p, t_c)\n",
        "  return loss"
      ],
      "metadata": {
        "id": "sO7BRMIYnATs"
      },
      "execution_count": 35,
      "outputs": []
    },
    {
      "cell_type": "markdown",
      "source": [
        "# Using NN network"
      ],
      "metadata": {
        "id": "S2WWNahbv0uT"
      }
    },
    {
      "cell_type": "markdown",
      "source": [
        "Pytorch has a whole submodule dedicated to neural networks, called torch.nn. It contains the building blocks needed to create all sorts of neural network architectures. Those building blocks are called modulus (layers in other frameworks)."
      ],
      "metadata": {
        "id": "Wul1nRuug8d_"
      }
    },
    {
      "cell_type": "code",
      "source": [
        "t_c = [0.5,  14.0, 15.0, 28.0, 11.0,  8.0,  3.0, -4.0,  6.0, 13.0, 21.0]\n",
        "t_u = [35.7, 55.9, 58.2, 81.9, 56.3, 48.9, 33.9, 21.8, 48.4, 60.4, 68.4]\n",
        "t_c = torch.tensor(t_c).unsqueeze(1) # <1>\n",
        "t_u = torch.tensor(t_u).unsqueeze(1) # <1>\n",
        "\n",
        "t_u.shape"
      ],
      "metadata": {
        "colab": {
          "base_uri": "https://localhost:8080/"
        },
        "id": "40VROaPrjT8Y",
        "outputId": "6ba37c0d-869f-4766-b74c-ad478047474b"
      },
      "execution_count": 40,
      "outputs": [
        {
          "output_type": "execute_result",
          "data": {
            "text/plain": [
              "torch.Size([11, 1])"
            ]
          },
          "metadata": {},
          "execution_count": 40
        }
      ]
    },
    {
      "cell_type": "code",
      "source": [
        "n_samples = t_u.shape[0]\n",
        "n_val = int(0.2 * n_samples)\n",
        "\n",
        "shuffled_indices = torch.randperm(n_samples)\n",
        "\n",
        "train_indices = shuffled_indices[:-n_val]\n",
        "val_indices = shuffled_indices[-n_val:]\n",
        "\n",
        "train_indices, val_indices"
      ],
      "metadata": {
        "colab": {
          "base_uri": "https://localhost:8080/"
        },
        "id": "zZHvWtfMjXVz",
        "outputId": "07952347-ad25-4365-d707-38095d12b3cd"
      },
      "execution_count": 41,
      "outputs": [
        {
          "output_type": "execute_result",
          "data": {
            "text/plain": [
              "(tensor([ 1,  3,  7,  6,  8,  5, 10,  4,  9]), tensor([2, 0]))"
            ]
          },
          "metadata": {},
          "execution_count": 41
        }
      ]
    },
    {
      "cell_type": "code",
      "source": [
        "t_u_train = t_u[train_indices]\n",
        "t_c_train = t_c[train_indices]\n",
        "\n",
        "t_u_val = t_u[val_indices]\n",
        "t_c_val = t_c[val_indices]\n",
        "\n",
        "t_un_train = 0.1 * t_u_train\n",
        "t_un_val = 0.1 * t_u_val"
      ],
      "metadata": {
        "id": "1oCz5UaZjaMr"
      },
      "execution_count": 42,
      "outputs": []
    },
    {
      "cell_type": "code",
      "execution_count": 47,
      "metadata": {
        "colab": {
          "base_uri": "https://localhost:8080/"
        },
        "id": "_3sG7_anr04u",
        "outputId": "9ac78e45-5911-48dc-e043-cf6b1ab0bd02"
      },
      "outputs": [
        {
          "output_type": "execute_result",
          "data": {
            "text/plain": [
              "tensor([[ 0.0682],\n",
              "        [-0.2397]], grad_fn=<AddmmBackward0>)"
            ]
          },
          "metadata": {},
          "execution_count": 47
        }
      ],
      "source": [
        "import torch.nn as nn\n",
        "\n",
        "linear_model = nn.Linear(1, 1) # the number of input features, and number of output features. There's a potential key, whether the linear model includes a bias or not, default is True\n",
        "linear_model(t_un_val)"
      ]
    },
    {
      "cell_type": "markdown",
      "source": [
        "Calling any module (layer) from nn.Module is equal to calling a method named forward in that module. It executes the forward computation."
      ],
      "metadata": {
        "id": "CV8RZ40fmB6r"
      }
    },
    {
      "cell_type": "code",
      "source": [
        "linear_model.weight, linear_model.bias"
      ],
      "metadata": {
        "colab": {
          "base_uri": "https://localhost:8080/"
        },
        "id": "NKtX3lKrigDA",
        "outputId": "95df9fe4-207a-4c21-ce87-82a37fcf1f9c"
      },
      "execution_count": 49,
      "outputs": [
        {
          "output_type": "execute_result",
          "data": {
            "text/plain": [
              "(Parameter containing:\n",
              " tensor([[0.1369]], requires_grad=True), Parameter containing:\n",
              " tensor([-0.7284], requires_grad=True))"
            ]
          },
          "metadata": {},
          "execution_count": 49
        }
      ]
    },
    {
      "cell_type": "code",
      "source": [
        "linear_model(torch.ones(1))"
      ],
      "metadata": {
        "colab": {
          "base_uri": "https://localhost:8080/"
        },
        "id": "j-nT1TxcotYS",
        "outputId": "94cdbd2d-86b2-4cad-bcfa-42b1be5c2cd0"
      },
      "execution_count": 50,
      "outputs": [
        {
          "output_type": "execute_result",
          "data": {
            "text/plain": [
              "tensor([-0.5915], grad_fn=<AddBackward0>)"
            ]
          },
          "metadata": {},
          "execution_count": 50
        }
      ]
    },
    {
      "cell_type": "markdown",
      "source": [
        "## Model design and optimization"
      ],
      "metadata": {
        "id": "X3zij6002qL7"
      }
    },
    {
      "cell_type": "code",
      "source": [
        "import torch.optim as optim\n",
        "\n",
        "linear_model = nn.Linear(1,1)\n",
        "optimizer = optim.SGD(\n",
        "  linear_model.parameters(), # replaces [params]\n",
        "  lr=1e-2\n",
        ")"
      ],
      "metadata": {
        "id": "sjAAZi9eo3o6"
      },
      "execution_count": 51,
      "outputs": []
    },
    {
      "cell_type": "code",
      "source": [
        "list(linear_model.parameters())"
      ],
      "metadata": {
        "colab": {
          "base_uri": "https://localhost:8080/"
        },
        "id": "8_RYcVyJrxeF",
        "outputId": "bc4b9f69-9360-487b-b454-ddf8bd12a2cc"
      },
      "execution_count": 52,
      "outputs": [
        {
          "output_type": "execute_result",
          "data": {
            "text/plain": [
              "[Parameter containing:\n",
              " tensor([[0.7073]], requires_grad=True), Parameter containing:\n",
              " tensor([-0.2451], requires_grad=True)]"
            ]
          },
          "metadata": {},
          "execution_count": 52
        }
      ]
    },
    {
      "cell_type": "code",
      "source": [
        "def training_loop(n_epochs, optimizer, model, loss_fn, t_u_train, t_u_val,\n",
        "                  t_c_train, t_c_val):\n",
        "  for epoch in range(1, n_epochs+1):\n",
        "    t_p_train = model(t_u_train)\n",
        "    loss_train = loss_fn(t_p_train, t_c_train)\n",
        "\n",
        "    t_p_val = model(t_u_val)\n",
        "    loss_val = loss_fn(t_p_val, t_c_val)\n",
        "\n",
        "    optimizer.zero_grad()\n",
        "    loss_train.backward()\n",
        "    optimizer.step()\n",
        "\n",
        "    if epoch == 1 or epoch%1000 == 0:\n",
        "      print(f\"Epoch {epoch}, Training loss {loss_train.item():.4f},\"\n",
        "            f\" Validation loss {loss_val.item():.4f}\")"
      ],
      "metadata": {
        "id": "SlMH2_Aar1bT"
      },
      "execution_count": 54,
      "outputs": []
    },
    {
      "cell_type": "code",
      "source": [
        "linear_model = nn.Linear(1,1)\n",
        "optimizer = optim.SGD(linear_model.parameters(), lr=1e-2)\n",
        "\n",
        "training_loop(\n",
        "    n_epochs = 3000,\n",
        "    optimizer = optimizer,\n",
        "    model = linear_model,\n",
        "    loss_fn = nn.MSELoss(),\n",
        "    t_u_train = t_un_train,\n",
        "    t_u_val = t_un_val,\n",
        "    t_c_train = t_c_train,\n",
        "    t_c_val = t_c_val\n",
        ")\n",
        "\n",
        "linear_model.weight, linear_model.bias"
      ],
      "metadata": {
        "colab": {
          "base_uri": "https://localhost:8080/"
        },
        "id": "BW5gd9gstBBP",
        "outputId": "8d804e63-5bb7-4db6-f7ca-40f755711be1"
      },
      "execution_count": 58,
      "outputs": [
        {
          "output_type": "stream",
          "name": "stdout",
          "text": [
            "Epoch 1, Training loss 309.9214, Validation loss 179.2974\n",
            "Epoch 1000, Training loss 3.9721, Validation loss 4.2551\n",
            "Epoch 2000, Training loss 3.2314, Validation loss 2.1787\n",
            "Epoch 3000, Training loss 3.2099, Validation loss 1.9104\n"
          ]
        },
        {
          "output_type": "execute_result",
          "data": {
            "text/plain": [
              "(Parameter containing:\n",
              " tensor([[5.2384]], requires_grad=True), Parameter containing:\n",
              " tensor([-16.5808], requires_grad=True))"
            ]
          },
          "metadata": {},
          "execution_count": 58
        }
      ]
    },
    {
      "cell_type": "markdown",
      "source": [
        "## Sequencing the model"
      ],
      "metadata": {
        "id": "I4GaKVlp4Pum"
      }
    },
    {
      "cell_type": "code",
      "source": [
        "# nn provides a simple way to concatenate models\n",
        "seq_model = nn.Sequential(\n",
        "    nn.Linear(1, 13), # this number is arbitrary\n",
        "    nn.Tanh(),\n",
        "    nn.Linear(13, 1) # as long as this number match the previous one\n",
        ")\n",
        "\n",
        "seq_model"
      ],
      "metadata": {
        "colab": {
          "base_uri": "https://localhost:8080/"
        },
        "id": "MIYz4Bo3tzof",
        "outputId": "4b9b3aab-cbfe-40ac-8cba-110c65c4a9c3"
      },
      "execution_count": 61,
      "outputs": [
        {
          "output_type": "execute_result",
          "data": {
            "text/plain": [
              "Sequential(\n",
              "  (0): Linear(in_features=1, out_features=13, bias=True)\n",
              "  (1): Tanh()\n",
              "  (2): Linear(in_features=13, out_features=1, bias=True)\n",
              ")"
            ]
          },
          "metadata": {},
          "execution_count": 61
        }
      ]
    },
    {
      "cell_type": "code",
      "source": [
        "[param.shape for param in seq_model.parameters()]\n",
        "# once model.backward() is called, all the parameter will get their derivatives\n",
        "# optimizers will then updates their values accordingly during optimizer.step()"
      ],
      "metadata": {
        "colab": {
          "base_uri": "https://localhost:8080/"
        },
        "id": "leZGIpej5D6J",
        "outputId": "7778576e-08ac-4060-d25f-573de98cec05"
      },
      "execution_count": 64,
      "outputs": [
        {
          "output_type": "execute_result",
          "data": {
            "text/plain": [
              "[torch.Size([13, 1]), torch.Size([13]), torch.Size([1, 13]), torch.Size([1])]"
            ]
          },
          "metadata": {},
          "execution_count": 64
        }
      ]
    },
    {
      "cell_type": "code",
      "source": [
        "for name, param in seq_model.named_parameters():\n",
        "  print(name, param.shape)"
      ],
      "metadata": {
        "colab": {
          "base_uri": "https://localhost:8080/"
        },
        "id": "_9gCSalI5Izm",
        "outputId": "1c6dd742-732f-4eae-c4ac-19d40d864855"
      },
      "execution_count": 65,
      "outputs": [
        {
          "output_type": "stream",
          "name": "stdout",
          "text": [
            "0.weight torch.Size([13, 1])\n",
            "0.bias torch.Size([13])\n",
            "2.weight torch.Size([1, 13])\n",
            "2.bias torch.Size([1])\n"
          ]
        }
      ]
    },
    {
      "cell_type": "code",
      "source": [
        "# name the submodules to better differentiate them\n",
        "from collections import OrderedDict\n",
        "\n",
        "seq_model = nn.Sequential(OrderedDict([\n",
        "    ('hidden_linear', nn.Linear(1,8)),\n",
        "    ('hidden_activation', nn.Tanh()),\n",
        "    ('output_linear', nn.Linear(8,1))\n",
        "]))\n",
        "\n",
        "seq_model"
      ],
      "metadata": {
        "colab": {
          "base_uri": "https://localhost:8080/"
        },
        "id": "qQMqZml454-u",
        "outputId": "f583ad21-bbe8-4b9c-f150-b57600c2d5f8"
      },
      "execution_count": 66,
      "outputs": [
        {
          "output_type": "execute_result",
          "data": {
            "text/plain": [
              "Sequential(\n",
              "  (hidden_linear): Linear(in_features=1, out_features=8, bias=True)\n",
              "  (hidden_activation): Tanh()\n",
              "  (output_linear): Linear(in_features=8, out_features=1, bias=True)\n",
              ")"
            ]
          },
          "metadata": {},
          "execution_count": 66
        }
      ]
    },
    {
      "cell_type": "code",
      "source": [
        "for name, param in seq_model.named_parameters():\n",
        "  print(name, param.shape)"
      ],
      "metadata": {
        "colab": {
          "base_uri": "https://localhost:8080/"
        },
        "id": "op1jKgbq6ZC1",
        "outputId": "6f999d4d-c3b3-4e2f-d277-82e1b8f7778b"
      },
      "execution_count": 67,
      "outputs": [
        {
          "output_type": "stream",
          "name": "stdout",
          "text": [
            "hidden_linear.weight torch.Size([8, 1])\n",
            "hidden_linear.bias torch.Size([8])\n",
            "output_linear.weight torch.Size([1, 8])\n",
            "output_linear.bias torch.Size([1])\n"
          ]
        }
      ]
    },
    {
      "cell_type": "code",
      "source": [
        "optimizer = optim.SGD(seq_model.parameters(), lr=1e-3)\n",
        "\n",
        "training_loop(\n",
        "    n_epochs = 5000,\n",
        "    optimizer = optimizer,\n",
        "    model = seq_model,\n",
        "    loss_fn = nn.MSELoss(),\n",
        "    t_u_train = t_un_train,\n",
        "    t_u_val = t_un_val,\n",
        "    t_c_train = t_c_train,\n",
        "    t_c_val = t_c_val\n",
        ")\n",
        "\n",
        "print('output', seq_model(t_un_val))\n",
        "print('answer', t_c_val)\n",
        "print('hidden', seq_model.hidden_linear.weight.grad)"
      ],
      "metadata": {
        "colab": {
          "base_uri": "https://localhost:8080/"
        },
        "id": "aZNy9yb06jzm",
        "outputId": "4c140a14-d91d-4054-d6dd-5a0a8b6d78f0"
      },
      "execution_count": 70,
      "outputs": [
        {
          "output_type": "stream",
          "name": "stdout",
          "text": [
            "Epoch 1, Training loss 1.5545, Validation loss 4.4465\n",
            "Epoch 1000, Training loss 1.5154, Validation loss 3.7678\n",
            "Epoch 2000, Training loss 1.4892, Validation loss 4.0569\n",
            "Epoch 3000, Training loss 1.4676, Validation loss 4.2991\n",
            "Epoch 4000, Training loss 1.4495, Validation loss 4.5063\n",
            "Epoch 5000, Training loss 1.4342, Validation loss 4.6859\n",
            "output tensor([[12.6090],\n",
            "        [ 2.8929]], grad_fn=<AddmmBackward0>)\n",
            "answer tensor([[15.0000],\n",
            "        [ 0.5000]])\n",
            "hidden tensor([[ 0.1569],\n",
            "        [ 0.1680],\n",
            "        [-0.2100],\n",
            "        [ 7.9316],\n",
            "        [ 0.1618],\n",
            "        [ 8.2613],\n",
            "        [ 7.8252],\n",
            "        [-8.3325]])\n"
          ]
        }
      ]
    },
    {
      "cell_type": "code",
      "source": [
        "# visualize and compare with linear model\n",
        "from matplotlib import pyplot as plt\n",
        "\n",
        "t_range = torch.arange(20., 90.).unsqueeze(1)\n",
        "fig = plt.figure(dpi=100)\n",
        "plt.xlabel(\"Fahrenheit\")\n",
        "plt.ylabel(\"Celsius\")\n",
        "plt.plot(t_u.numpy(), t_c.numpy(), 'o')\n",
        "plt.plot(t_range.numpy(), seq_model(0.1 * t_range).detach().numpy(), 'c-')\n",
        "plt.plot(t_u.numpy(), seq_model(0.1 * t_u).detach().numpy(), 'kx')"
      ],
      "metadata": {
        "colab": {
          "base_uri": "https://localhost:8080/",
          "height": 399
        },
        "id": "RLH7Z6Kd7iYm",
        "outputId": "b15a357a-8f54-46e9-ea39-b2f04206126e"
      },
      "execution_count": 72,
      "outputs": [
        {
          "output_type": "execute_result",
          "data": {
            "text/plain": [
              "[<matplotlib.lines.Line2D at 0x7f2a4891f280>]"
            ]
          },
          "metadata": {},
          "execution_count": 72
        },
        {
          "output_type": "display_data",
          "data": {
            "text/plain": [
              "<Figure size 600x400 with 1 Axes>"
            ],
            "image/png": "[encoded data removed]"
          },
          "metadata": {
            "needs_background": "light"
          }
        }
      ]
    }
  ]
}